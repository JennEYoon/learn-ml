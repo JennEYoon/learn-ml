{
  "nbformat": 4,
  "nbformat_minor": 0,
  "metadata": {
    "kernelspec": {
      "display_name": "Python 3",
      "language": "python",
      "name": "python3"
    },
    "language_info": {
      "codemirror_mode": {
        "name": "ipython",
        "version": 3
      },
      "file_extension": ".py",
      "mimetype": "text/x-python",
      "name": "python",
      "nbconvert_exporter": "python",
      "pygments_lexer": "ipython3",
      "version": "3.5.6"
    },
    "colab": {
      "name": "Template2-py35.ipynb",
      "provenance": [],
      "include_colab_link": true
    }
  },
  "cells": [
    {
      "cell_type": "markdown",
      "metadata": {
        "id": "view-in-github",
        "colab_type": "text"
      },
      "source": [
        "<a href=\"https://colab.research.google.com/github/JennEYoon/learn-coding/blob/main/fluent-py/exercises/Template3-py36.ipynb\" target=\"_parent\"><img src=\"https://colab.research.google.com/assets/colab-badge.svg\" alt=\"Open In Colab\"/></a>"
      ]
    },
    {
      "cell_type": "markdown",
      "metadata": {
        "id": "03rGTv-KPSDf"
      },
      "source": [
        "# Title  \n",
        "   \n",
        "Date: June 4, 2020  \n",
        "Author: Jennifer E Yoon  \n",
        "Purpose: To be used with Python version 3.5, for Fluent Python book.  \n",
        "***env: fluentpy***"
      ]
    },
    {
      "cell_type": "code",
      "metadata": {
        "id": "Iinfsm7APSEE"
      },
      "source": [
        "# imports in alphabetical order, built-ins, 3rd party, my custom.  \n",
        "\n",
        "import array as ar \n",
        "import datetime as dt \n",
        "import random as rd\n",
        "import sys"
      ],
      "execution_count": null,
      "outputs": []
    },
    {
      "cell_type": "code",
      "metadata": {
        "id": "RP2iyTX5PSEL",
        "outputId": "d51a597e-e4b0-4e62-8980-7984242d1fe7"
      },
      "source": [
        "# Check version of Python, working directory, conda env. \n",
        "!python --version \n",
        "!pwd\n",
        "print(sys.executable)"
      ],
      "execution_count": null,
      "outputs": [
        {
          "output_type": "stream",
          "text": [
            "Python 3.5.6 :: Anaconda, Inc.\n",
            "/home/jyoon/work/fluentpy/exercises\n",
            "/home/jyoon/conda3/envs/fluentpy/bin/python\n"
          ],
          "name": "stdout"
        }
      ]
    },
    {
      "cell_type": "code",
      "metadata": {
        "id": "eJ2zMP7bPSEO",
        "outputId": "8ce7e90f-dce5-4382-fc1c-2786cb64d352"
      },
      "source": [
        "5+7"
      ],
      "execution_count": null,
      "outputs": [
        {
          "output_type": "execute_result",
          "data": {
            "text/plain": [
              "12"
            ]
          },
          "metadata": {
            "tags": []
          },
          "execution_count": 13
        }
      ]
    },
    {
      "cell_type": "code",
      "metadata": {
        "id": "Svwv6-dLPSER",
        "outputId": "8b700560-996f-4b9e-d628-538e80e315f1"
      },
      "source": [
        "x = 10\n",
        "x += 5\n",
        "x"
      ],
      "execution_count": null,
      "outputs": [
        {
          "output_type": "execute_result",
          "data": {
            "text/plain": [
              "15"
            ]
          },
          "metadata": {
            "tags": []
          },
          "execution_count": 14
        }
      ]
    },
    {
      "cell_type": "code",
      "metadata": {
        "id": "69uU-woCPSEU"
      },
      "source": [
        "# Basic function format with docstring. \n",
        "def myfunc(x, y):  \n",
        "    \"\"\"Return x * y\"\"\" \n",
        "    return x*y"
      ],
      "execution_count": null,
      "outputs": []
    },
    {
      "cell_type": "code",
      "metadata": {
        "id": "1X1z4ajGPSEZ",
        "outputId": "b7e1cbaa-549a-4940-a7f4-1277eef2bacf"
      },
      "source": [
        "print(\"x=5\", \"y=10\", \"myfunc result: \", myfunc(5, 10))"
      ],
      "execution_count": null,
      "outputs": [
        {
          "output_type": "stream",
          "text": [
            "x=5 y=10 myfunc result:  50\n"
          ],
          "name": "stdout"
        }
      ]
    },
    {
      "cell_type": "markdown",
      "metadata": {
        "id": "Eg7VLhiJP_7X"
      },
      "source": [
        "### Dec 29 Session, Fluent Python, iPad Air "
      ]
    },
    {
      "cell_type": "code",
      "metadata": {
        "id": "BomHqdFzPSEe",
        "outputId": "48a4ef3c-038f-42e7-e495-b19e71d778ad",
        "colab": {
          "base_uri": "https://localhost:8080/"
        }
      },
      "source": [
        "### Dec 29 Tu session  \r\n",
        "import numpy as np\r\n",
        "import pandas as pd \r\n",
        "import matplotlib.pyplot as plt\r\n",
        "%matplotlib inline  \r\n",
        "np, pd, plt"
      ],
      "execution_count": 2,
      "outputs": [
        {
          "output_type": "execute_result",
          "data": {
            "text/plain": [
              "(<module 'numpy' from '/usr/local/lib/python3.6/dist-packages/numpy/__init__.py'>,\n",
              " <module 'pandas' from '/usr/local/lib/python3.6/dist-packages/pandas/__init__.py'>,\n",
              " <module 'matplotlib.pyplot' from '/usr/local/lib/python3.6/dist-packages/matplotlib/pyplot.py'>)"
            ]
          },
          "metadata": {
            "tags": []
          },
          "execution_count": 2
        }
      ]
    },
    {
      "cell_type": "code",
      "metadata": {
        "id": "JN4Qp7UuPSEg",
        "outputId": "b0a58ab4-d18f-49d4-925f-253beb94712c",
        "colab": {
          "base_uri": "https://localhost:8080/"
        }
      },
      "source": [
        "# @ as infix operator matrix multiply  \r\n",
        "va = np.array([1,2,3]) \r\n",
        "vb = np.array([5,6,7])\r\n",
        "va @ vb "
      ],
      "execution_count": 4,
      "outputs": [
        {
          "output_type": "execute_result",
          "data": {
            "text/plain": [
              "38"
            ]
          },
          "metadata": {
            "tags": []
          },
          "execution_count": 4
        }
      ]
    },
    {
      "cell_type": "code",
      "metadata": {
        "id": "rDYiU0mfPnGf",
        "outputId": "8405b282-a2c1-4bea-8077-7f8b78d9c4fc",
        "colab": {
          "base_uri": "https://localhost:8080/"
        }
      },
      "source": [
        "z = va * 3\r\n",
        "print(z, type(z))\r\n",
        "y = [10,20,30] * vb\r\n",
        "print(y, type(y))\r\n",
        "\r\n"
      ],
      "execution_count": 8,
      "outputs": [
        {
          "output_type": "stream",
          "text": [
            "[3 6 9] <class 'numpy.ndarray'>\n",
            "[ 50 120 210] <class 'numpy.ndarray'>\n"
          ],
          "name": "stdout"
        }
      ]
    },
    {
      "cell_type": "code",
      "metadata": {
        "id": "BckxnDbpWrBs",
        "outputId": "b234b5c0-f095-4480-9414-94af6b4e34f5",
        "colab": {
          "base_uri": "https://localhost:8080/"
        }
      },
      "source": [
        "# @ infix operator matrix multiply, without numpy up conversion  \r\n",
        "import array as ar\r\n",
        "xa = ar.array('i', [1,2,3])\r\n",
        "xb = ar.array('i', [5,6,7]) \r\n",
        "print(xa + xb)  \r\n",
        "# Not what I was expecting.  Behaves just like list.  \r\n",
        "# + appends list, * and @ are not allowed.  \r\n",
        "print(xa * 3)  \r\n",
        "# Also does not multiply 3 to each element, just appends 3x.  "
      ],
      "execution_count": 20,
      "outputs": [
        {
          "output_type": "execute_result",
          "data": {
            "text/plain": [
              "array('i', [1, 2, 3, 1, 2, 3, 1, 2, 3])"
            ]
          },
          "metadata": {
            "tags": []
          },
          "execution_count": 20
        }
      ]
    },
    {
      "cell_type": "code",
      "metadata": {
        "id": "xP6ff5eQat2q"
      },
      "source": [
        ""
      ],
      "execution_count": null,
      "outputs": []
    }
  ]
}