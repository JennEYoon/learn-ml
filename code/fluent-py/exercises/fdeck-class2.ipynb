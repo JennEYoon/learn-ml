{
  "nbformat": 4,
  "nbformat_minor": 0,
  "metadata": {
    "colab": {
      "name": "frenchdeck.ipynb",
      "provenance": [],
      "include_colab_link": true
    },
    "kernelspec": {
      "display_name": "Python 3",
      "language": "python",
      "name": "python3"
    },
    "language_info": {
      "codemirror_mode": {
        "name": "ipython",
        "version": 3
      },
      "file_extension": ".py",
      "mimetype": "text/x-python",
      "name": "python",
      "nbconvert_exporter": "python",
      "pygments_lexer": "ipython3",
      "version": "3.7.3"
    }
  },
  "cells": [
    {
      "cell_type": "markdown",
      "metadata": {
        "id": "view-in-github",
        "colab_type": "text"
      },
      "source": [
        "<a href=\"https://colab.research.google.com/github/JennEYoon/FluentPy/blob/master/exercises/fdeck-class2.ipynb\" target=\"_parent\"><img src=\"https://colab.research.google.com/assets/colab-badge.svg\" alt=\"Open In Colab\"/></a>"
      ]
    },
    {
      "cell_type": "markdown",
      "metadata": {
        "colab_type": "text",
        "id": "kFTVv9C7vZzO"
      },
      "source": [
        "# Fluent Python book, chp 1    \n",
        "### Can't rename book on CoLab once created.  Does save updated Github versions.  \n",
        "special method, french deck, class, getitem.   \n",
        "module collections, namedtuple(name, tuple)# New Section  \n",
        "\n"
      ]
    },
    {
      "cell_type": "code",
      "metadata": {
        "colab_type": "code",
        "id": "fz_ENUX_uMZl",
        "colab": {}
      },
      "source": [
        "import collections\n",
        "\n",
        "Card = collections.namedtuple('Card', ['rank', 'suit'])\n",
        "\n",
        "class FrenchDeck:\n",
        "    ranks = [str(n) for n in range(2, 11)] + list('JQKA')\n",
        "    suits = 'spades diamonds clubs hearts'.split()\n",
        "\n",
        "    def __init__(self):\n",
        "        self._cards = [Card(rank, suit) for suit in self.suits\n",
        "                                        for rank in self.ranks]\n",
        "\n",
        "    def __len__(self):\n",
        "        return len(self._cards)\n",
        "\n",
        "    def __getitem__(self, position):\n",
        "        return self._cards[position]"
      ],
      "execution_count": null,
      "outputs": []
    },
    {
      "cell_type": "code",
      "metadata": {
        "colab_type": "code",
        "id": "i5An1NMDpyhH",
        "colab": {
          "base_uri": "https://localhost:8080/",
          "height": 34
        },
        "outputId": "74970f01-663d-401d-b75d-de1740c4b307"
      },
      "source": [
        "mycard = Card('hello', \"hearts\")\n",
        "mycard"
      ],
      "execution_count": null,
      "outputs": [
        {
          "output_type": "execute_result",
          "data": {
            "text/plain": [
              "Card(rank='hello', suit='hearts')"
            ]
          },
          "metadata": {
            "tags": []
          },
          "execution_count": 2
        }
      ]
    },
    {
      "cell_type": "code",
      "metadata": {
        "colab_type": "code",
        "id": "saNiFvvqP7Id",
        "colab": {
          "base_uri": "https://localhost:8080/",
          "height": 890
        },
        "outputId": "e430f217-d487-47f0-f451-926fcbc8358a"
      },
      "source": [
        "mydeck = FrenchDeck()\n",
        "mydeck[:]"
      ],
      "execution_count": null,
      "outputs": [
        {
          "output_type": "execute_result",
          "data": {
            "text/plain": [
              "[Card(rank='2', suit='spades'),\n",
              " Card(rank='3', suit='spades'),\n",
              " Card(rank='4', suit='spades'),\n",
              " Card(rank='5', suit='spades'),\n",
              " Card(rank='6', suit='spades'),\n",
              " Card(rank='7', suit='spades'),\n",
              " Card(rank='8', suit='spades'),\n",
              " Card(rank='9', suit='spades'),\n",
              " Card(rank='10', suit='spades'),\n",
              " Card(rank='J', suit='spades'),\n",
              " Card(rank='Q', suit='spades'),\n",
              " Card(rank='K', suit='spades'),\n",
              " Card(rank='A', suit='spades'),\n",
              " Card(rank='2', suit='diamonds'),\n",
              " Card(rank='3', suit='diamonds'),\n",
              " Card(rank='4', suit='diamonds'),\n",
              " Card(rank='5', suit='diamonds'),\n",
              " Card(rank='6', suit='diamonds'),\n",
              " Card(rank='7', suit='diamonds'),\n",
              " Card(rank='8', suit='diamonds'),\n",
              " Card(rank='9', suit='diamonds'),\n",
              " Card(rank='10', suit='diamonds'),\n",
              " Card(rank='J', suit='diamonds'),\n",
              " Card(rank='Q', suit='diamonds'),\n",
              " Card(rank='K', suit='diamonds'),\n",
              " Card(rank='A', suit='diamonds'),\n",
              " Card(rank='2', suit='clubs'),\n",
              " Card(rank='3', suit='clubs'),\n",
              " Card(rank='4', suit='clubs'),\n",
              " Card(rank='5', suit='clubs'),\n",
              " Card(rank='6', suit='clubs'),\n",
              " Card(rank='7', suit='clubs'),\n",
              " Card(rank='8', suit='clubs'),\n",
              " Card(rank='9', suit='clubs'),\n",
              " Card(rank='10', suit='clubs'),\n",
              " Card(rank='J', suit='clubs'),\n",
              " Card(rank='Q', suit='clubs'),\n",
              " Card(rank='K', suit='clubs'),\n",
              " Card(rank='A', suit='clubs'),\n",
              " Card(rank='2', suit='hearts'),\n",
              " Card(rank='3', suit='hearts'),\n",
              " Card(rank='4', suit='hearts'),\n",
              " Card(rank='5', suit='hearts'),\n",
              " Card(rank='6', suit='hearts'),\n",
              " Card(rank='7', suit='hearts'),\n",
              " Card(rank='8', suit='hearts'),\n",
              " Card(rank='9', suit='hearts'),\n",
              " Card(rank='10', suit='hearts'),\n",
              " Card(rank='J', suit='hearts'),\n",
              " Card(rank='Q', suit='hearts'),\n",
              " Card(rank='K', suit='hearts'),\n",
              " Card(rank='A', suit='hearts')]"
            ]
          },
          "metadata": {
            "tags": []
          },
          "execution_count": 3
        }
      ]
    },
    {
      "cell_type": "code",
      "metadata": {
        "colab_type": "code",
        "id": "gZ8dYznsP7VL",
        "colab": {
          "base_uri": "https://localhost:8080/",
          "height": 67
        },
        "outputId": "4303044c-01e0-4cfe-9920-43527f495e56"
      },
      "source": [
        "print(mydeck[0])\n",
        "print(mydeck[-1])\n",
        "print(mydeck[12::13])"
      ],
      "execution_count": null,
      "outputs": [
        {
          "output_type": "stream",
          "text": [
            "Card(rank='2', suit='spades')\n",
            "Card(rank='A', suit='hearts')\n",
            "[Card(rank='A', suit='spades'), Card(rank='A', suit='diamonds'), Card(rank='A', suit='clubs'), Card(rank='A', suit='hearts')]\n"
          ],
          "name": "stdout"
        }
      ]
    },
    {
      "cell_type": "markdown",
      "metadata": {
        "colab_type": "text",
        "id": "18Fv_8UgRQpt"
      },
      "source": [
        "# make a deck class w/o namedtuple, collections  \n",
        "Use list, dict, tuple, set"
      ]
    },
    {
      "cell_type": "code",
      "metadata": {
        "colab_type": "code",
        "id": "wXE5GtkpP7bt",
        "colab": {
          "base_uri": "https://localhost:8080/",
          "height": 67
        },
        "outputId": "1773eb9b-c714-43d0-9cc4-f3ffe46377c9"
      },
      "source": [
        "card_ahearts = ['A', 'hearts']\n",
        "print(card_ahearts)\n",
        "card_2diamonds = ['2', 'diamonds']\n",
        "print(card_2diamonds)\n",
        "two_deck = [card_2diamonds, card_ahearts]\n",
        "print(two_deck)\n",
        "\n"
      ],
      "execution_count": null,
      "outputs": [
        {
          "output_type": "stream",
          "text": [
            "['A', 'hearts']\n",
            "['2', 'diamonds']\n",
            "[['2', 'diamonds'], ['A', 'hearts']]\n"
          ],
          "name": "stdout"
        }
      ]
    },
    {
      "cell_type": "code",
      "metadata": {
        "colab_type": "code",
        "id": "rx2bUg76P7YP",
        "colab": {
          "base_uri": "https://localhost:8080/",
          "height": 34
        },
        "outputId": "63dcbbf6-f418-49bd-9955-c34d72f0633f"
      },
      "source": [
        "class MyDeck:  \n",
        "\n",
        "\n",
        "    def __init(self):  \n",
        "        self._cards = [card_2diamonds, card_ahearts]\n",
        "        return __repr__(self._cards)\n",
        "\n",
        "# Test card object  \n",
        "deck_2 = MyDeck()\n",
        "print(deck_2)"
      ],
      "execution_count": null,
      "outputs": [
        {
          "output_type": "stream",
          "text": [
            "<__main__.MyDeck object at 0x7ffbfc261240>\n"
          ],
          "name": "stdout"
        }
      ]
    },
    {
      "cell_type": "code",
      "metadata": {
        "colab_type": "code",
        "id": "Dui-nPq8P7gZ",
        "colab": {},
        "outputId": "fb60dcab-a9bb-4bfb-c113-521f4a5d7881"
      },
      "source": [
        "class SimpleDeck:  \n",
        "    \"\"deck w/o namedtuple\"\"\"\n",
        "\n",
        "    # Define initial values\n",
        "    ranks = [str(n) for n in range(2, 11)] + list('JQKA')\n",
        "    suits = 'spades diamonds clubs hearts'.split()\n",
        "\n",
        "\n",
        "    def __init__(self):  \n",
        "        self.cards = [Card(rank, suit) for suit in self.suits                                 \n",
        "                                       for rank in self.ranks]"
      ],
      "execution_count": null,
      "outputs": [
        {
          "output_type": "error",
          "ename": "SyntaxError",
          "evalue": "invalid syntax (<ipython-input-7-b8b4bff61be3>, line 2)",
          "traceback": [
            "\u001b[0;36m  File \u001b[0;32m\"<ipython-input-7-b8b4bff61be3>\"\u001b[0;36m, line \u001b[0;32m2\u001b[0m\n\u001b[0;31m    \"\"deck w/o namedtuple\"\"\"\u001b[0m\n\u001b[0m         ^\u001b[0m\n\u001b[0;31mSyntaxError\u001b[0m\u001b[0;31m:\u001b[0m invalid syntax\n"
          ]
        }
      ]
    },
    {
      "cell_type": "markdown",
      "metadata": {
        "id": "nkyh1LYhJaLm",
        "colab_type": "text"
      },
      "source": [
        "## Class Documentation  \n",
        "\n",
        "https://docs.python.org/3/tutorial/classes.html  "
      ]
    },
    {
      "cell_type": "code",
      "metadata": {
        "id": "njUiT_RqJaLn",
        "colab_type": "code",
        "colab": {}
      },
      "source": [
        "class MyClass:\n",
        "    \"\"\"A simple example class\"\"\"\n",
        "    i = 12345\n",
        "\n",
        "    def f(self):\n",
        "        return 'hello world'\n",
        "        "
      ],
      "execution_count": null,
      "outputs": []
    },
    {
      "cell_type": "markdown",
      "metadata": {
        "id": "7xOoeyEjJaLp",
        "colab_type": "raw"
      },
      "source": [
        "MyClass.i and MyClass.f are valid attribute references, returning an integer and a function object, respectively. Class attributes can also be assigned to, so you can change the value of MyClass.i by assignment. __doc__ is also a valid attribute, returning the docstring belonging to the class: \"A simple example class\".\n",
        "\n",
        "Class instantiation uses function notation. Just pretend that the class object is a parameterless function that returns a new instance of the class. For example (assuming the above class):"
      ]
    },
    {
      "cell_type": "markdown",
      "metadata": {
        "id": "ZFdrQfTAJaLp",
        "colab_type": "raw"
      },
      "source": [
        "x = MyClass()\n",
        "creates a new instance of the class and assigns this object to the local variable x."
      ]
    },
    {
      "cell_type": "code",
      "metadata": {
        "id": "KddLIKCDJaLq",
        "colab_type": "code",
        "colab": {},
        "outputId": "536b1196-4fbe-4611-b465-9d00c05490f7"
      },
      "source": [
        "x = MyClass()\n",
        "print(x)"
      ],
      "execution_count": null,
      "outputs": [
        {
          "output_type": "stream",
          "text": [
            "<__main__.MyClass object at 0x7ffbfc261f28>\n"
          ],
          "name": "stdout"
        }
      ]
    },
    {
      "cell_type": "markdown",
      "metadata": {
        "id": "ezW1M3vrJaLs",
        "colab_type": "raw"
      },
      "source": [
        "def __init__(self):\n",
        "    self.data = []\n",
        "    \n",
        "When a class defines an __init__() method, class instantiation automatically invokes __init__() for the newly-created class instance. So in this example, a new, initialized instance can be obtained by: \n",
        "\n",
        "x = MyClass()  # no arguments passed    \n",
        "    \n",
        "Of course, the __init__() method may have arguments for greater flexibility. In that case, arguments given to the class instantiation operator are passed on to __init__(). For example,\n",
        "\n",
        ">>> class Complex:\n",
        "...     def __init__(self, realpart, imagpart):\n",
        "...         self.r = realpart\n",
        "...         self.i = imagpart\n",
        "...\n",
        ">>> x = Complex(3.0, -4.5)\n",
        ">>> x.r, x.i\n",
        "(3.0, -4.5)"
      ]
    },
    {
      "cell_type": "code",
      "metadata": {
        "id": "atEDYiMvJaLt",
        "colab_type": "code",
        "colab": {},
        "outputId": "c8690051-0216-402e-b6a3-ee932bb1c856"
      },
      "source": [
        "class MyClass2: \n",
        "    \"\"\"A simple class with parameters passed at init\"\"\"\n",
        "    def __init__(self, realpart, imagpart): \n",
        "        self.r = realpart\n",
        "        self.i = imagpart\n",
        "        \n",
        "y = MyClass2(3.0, -4.5)\n",
        "y.r, y.i"
      ],
      "execution_count": null,
      "outputs": [
        {
          "output_type": "execute_result",
          "data": {
            "text/plain": [
              "(3.0, -4.5)"
            ]
          },
          "metadata": {
            "tags": []
          },
          "execution_count": 13
        }
      ]
    },
    {
      "cell_type": "code",
      "metadata": {
        "id": "uQq7L18lJaLv",
        "colab_type": "code",
        "colab": {},
        "outputId": "96191e6e-b462-454d-e16c-ffa345caa506"
      },
      "source": [
        "x = MyClass()\n",
        "print(x)\n",
        "print(x.i, x.f)\n",
        "print(x.f())  # function needs () when called"
      ],
      "execution_count": null,
      "outputs": [
        {
          "output_type": "stream",
          "text": [
            "<__main__.MyClass object at 0x7ffbfc261978>\n",
            "12345 <bound method MyClass.f of <__main__.MyClass object at 0x7ffbfc261978>>\n",
            "hello world\n"
          ],
          "name": "stdout"
        }
      ]
    },
    {
      "cell_type": "markdown",
      "metadata": {
        "id": "Q-om19ZDJaLy",
        "colab_type": "raw"
      },
      "source": [
        "9.3.5. Class and Instance Variables\n",
        "Generally speaking, instance variables are for data unique to each instance and class variables are for attributes and methods shared by all instances of the class:"
      ]
    },
    {
      "cell_type": "markdown",
      "metadata": {
        "id": "xg73Oe6BJaLz",
        "colab_type": "text"
      },
      "source": [
        "class Dog:\n",
        "\n",
        "    kind = 'canine'         # class variable shared by all instances\n",
        "\n",
        "    def __init__(self, name):\n",
        "        self.name = name    # instance variable unique to each instance\n",
        "\n",
        ">>> d = Dog('Fido')\n",
        ">>> e = Dog('Buddy')\n",
        ">>> d.kind                  # shared by all dogs\n",
        "'canine'\n",
        ">>> e.kind                  # shared by all dogs\n",
        "'canine'\n",
        ">>> d.name                  # unique to d\n",
        "'Fido'\n",
        ">>> e.name                  # unique to e\n",
        "'Buddy'"
      ]
    },
    {
      "cell_type": "markdown",
      "metadata": {
        "id": "RWjkhTsoJaL0",
        "colab_type": "raw"
      },
      "source": [
        "As discussed in A Word About Names and Objects, shared data can have possibly surprising effects with involving mutable objects such as lists and dictionaries. For example, the tricks list in the following code should not be used as a class variable because just a single list would be shared by all Dog instances: \n",
        "\n",
        "class Dog:\n",
        "\n",
        "    tricks = []             # mistaken use of a class variable\n",
        "\n",
        "    def __init__(self, name):\n",
        "        self.name = name\n",
        "\n",
        "    def add_trick(self, trick):\n",
        "        self.tricks.append(trick)\n",
        "\n",
        ">>> d = Dog('Fido')\n",
        ">>> e = Dog('Buddy')\n",
        ">>> d.add_trick('roll over')\n",
        ">>> e.add_trick('play dead')\n",
        ">>> d.tricks                # unexpectedly shared by all dogs\n",
        "['roll over', 'play dead']"
      ]
    },
    {
      "cell_type": "markdown",
      "metadata": {
        "id": "n0JwXAHIJaL0",
        "colab_type": "raw"
      },
      "source": [
        "Correct design of the class should use an instance variable instead:\n",
        "    \n",
        "class Dog:\n",
        "\n",
        "    def __init__(self, name):\n",
        "        self.name = name\n",
        "        self.tricks = []    # creates a new empty list for each dog\n",
        "\n",
        "    def add_trick(self, trick):\n",
        "        self.tricks.append(trick)\n",
        "\n",
        ">>> d = Dog('Fido')\n",
        ">>> e = Dog('Buddy')\n",
        ">>> d.add_trick('roll over')\n",
        ">>> e.add_trick('play dead')\n",
        ">>> d.tricks\n",
        "['roll over']\n",
        ">>> e.tricks\n",
        "['play dead']"
      ]
    },
    {
      "cell_type": "code",
      "metadata": {
        "id": "cNimRKbAJaL0",
        "colab_type": "code",
        "colab": {}
      },
      "source": [
        "# me try\n",
        "class Dog:\n",
        "    # Class does not have () or passed parameters.\n",
        "    type = 'canine'  # Attribute common to all instances of dogs.   \n",
        "    # tricks = [] is wrong.  Tricks added will apply to all dog instances.  \n",
        "    \n",
        "    def __init__(self, name):  # separate name for each dog, unpon init\n",
        "        self.name = name     # self.param is on left, param with value input is on right\n",
        "        self.tricklst = []   # empty list for each dog at start\n",
        "        \n",
        "    def add_trick(self, trick):\n",
        "        self.tricklst.append(trick)"
      ],
      "execution_count": null,
      "outputs": []
    },
    {
      "cell_type": "code",
      "metadata": {
        "id": "KVGEuzUOJaL2",
        "colab_type": "code",
        "colab": {},
        "outputId": "c36fcfdd-c670-4078-bad0-48e4713f5535"
      },
      "source": [
        "my_dog = Dog('Pierre')\n",
        "your_dog = Dog('Lucy')\n",
        "print(my_dog, your_dog)\n",
        "print(my_dog.name, your_dog.name)\n",
        "print(my_dog.tricklst, your_dog.tricklst)\n",
        "print(my_dog.type, your_dog.type)"
      ],
      "execution_count": null,
      "outputs": [
        {
          "output_type": "stream",
          "text": [
            "<__main__.Dog object at 0x7ffbfc26bcc0> <__main__.Dog object at 0x7ffbfc26bc88>\n",
            "Pierre Lucy\n",
            "[] []\n",
            "canine canine\n"
          ],
          "name": "stdout"
        }
      ]
    },
    {
      "cell_type": "code",
      "metadata": {
        "id": "1WIp7EFFJaL5",
        "colab_type": "code",
        "colab": {},
        "outputId": "e0aefdf3-b87a-4164-e692-0f93677cef7a"
      },
      "source": [
        "my_dog.tricklst = []\n",
        "my_dog.add_trick('roll over')\n",
        "my_dog.add_trick('catch freesbee')\n",
        "print(my_dog.tricklst)"
      ],
      "execution_count": null,
      "outputs": [
        {
          "output_type": "stream",
          "text": [
            "['roll over', 'catch freesbee']\n"
          ],
          "name": "stdout"
        }
      ]
    },
    {
      "cell_type": "code",
      "metadata": {
        "id": "pM6aL6F1JaL7",
        "colab_type": "code",
        "colab": {},
        "outputId": "1e5eac9f-2e59-4c3f-db38-8fe8fb7bed53"
      },
      "source": [
        "your_dog.tricklst\n",
        "your_dog.add_trick('sing hello')\n",
        "print(your_dog.tricklst, your_dog.name)"
      ],
      "execution_count": null,
      "outputs": [
        {
          "output_type": "stream",
          "text": [
            "['sing hello'] Lucy\n"
          ],
          "name": "stdout"
        }
      ]
    },
    {
      "cell_type": "code",
      "metadata": {
        "id": "34t90vj5JaL9",
        "colab_type": "code",
        "colab": {},
        "outputId": "644c91a4-6da0-4b0f-ba34-06d9482d6aa9"
      },
      "source": [
        "print(my_dog.type, my_dog.name, my_dog.tricklst)\n",
        "print(your_dog.type, your_dog.name, your_dog.tricklst)"
      ],
      "execution_count": null,
      "outputs": [
        {
          "output_type": "stream",
          "text": [
            "canine Pierre ['roll over', 'catch freesbee']\n",
            "canine Lucy ['sing hello']\n"
          ],
          "name": "stdout"
        }
      ]
    },
    {
      "cell_type": "markdown",
      "metadata": {
        "id": "r3ONpTwFJaL_",
        "colab_type": "raw"
      },
      "source": [
        "9.5. Inheritance\n",
        "Of course, a language feature would not be worthy of the name “class” without supporting inheritance. The syntax for a derived class definition looks like this:\n",
        "\n",
        "class Name(ParentClass):  # Parenthesis only used for inheritance"
      ]
    },
    {
      "cell_type": "code",
      "metadata": {
        "id": "tJAV6sJhJaMA",
        "colab_type": "code",
        "colab": {},
        "outputId": "dd5a0f83-6a1e-4295-8039-7e0b2dcf3cf0"
      },
      "source": [
        "# test versions\n",
        "!python --version"
      ],
      "execution_count": null,
      "outputs": [
        {
          "output_type": "stream",
          "text": [
            "Python 3.7.3\r\n"
          ],
          "name": "stdout"
        }
      ]
    },
    {
      "cell_type": "code",
      "metadata": {
        "id": "mv7mKAVsJaMC",
        "colab_type": "code",
        "colab": {},
        "outputId": "7a75fb3e-6cfa-4a82-bf63-48c064cbbce2"
      },
      "source": [
        "!pwd"
      ],
      "execution_count": null,
      "outputs": [
        {
          "output_type": "stream",
          "text": [
            "/mnt/c/python/repos/fluentpy/exercises\r\n"
          ],
          "name": "stdout"
        }
      ]
    },
    {
      "cell_type": "code",
      "metadata": {
        "id": "oudwGFXKJaMF",
        "colab_type": "code",
        "colab": {}
      },
      "source": [
        ""
      ],
      "execution_count": null,
      "outputs": []
    },
    {
      "cell_type": "code",
      "metadata": {
        "id": "t_o4ceH7JaMH",
        "colab_type": "code",
        "colab": {}
      },
      "source": [
        ""
      ],
      "execution_count": null,
      "outputs": []
    }
  ]
}