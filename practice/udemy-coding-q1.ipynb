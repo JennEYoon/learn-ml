{
 "cells": [
  {
   "cell_type": "code",
   "execution_count": 1,
   "id": "disciplinary-fortune",
   "metadata": {},
   "outputs": [
    {
     "data": {
      "text/plain": [
       "\"\\n# Python Interview Prep - Coding Q1\\n# 3/28, 2021 Sunday 11:00 pm start - 3/29 Monday  \\n# Jennifer E Yoon  \\n\\nQ1) Given an array of integers (positibe and negative numbers), \\nwrite a program that can find the largest continuous sum.  \\nReturn the sum amount, don't need to return the sequence.  \\n\\nex: \\nA = [7, 8, 9]           = 24\\nB = [-1, 7, 8, 9, -10]  = 24 \\nC = [2, 3, -10, 9, 2]   = 11 \\nD = [2, 11, -10, 9, 2]  = 14\\nE = [12, -10, 7, -8, 4, 6] = 12\\n\\nPossible answer cases:  \\n1) Max number, 1 digit  \\n2) Sum of all digits  \\n3) Largest valued continuous segment composed of all positive numbers, \\n   length is >1 but less than all.\\n4) Combination of positive and negative number segments, \\n   length is >1 but less than all.\\n5) Other cases?  Empty list should return NaN.  \\n\""
      ]
     },
     "execution_count": 1,
     "metadata": {},
     "output_type": "execute_result"
    }
   ],
   "source": [
    "\"\"\"\n",
    "# Python Interview Prep - Coding Q1\n",
    "# 3/28, 2021 Sunday 11:00 pm start - 3/29 Monday  \n",
    "# Jennifer E Yoon  \n",
    "\n",
    "Q1) Given an array of integers (positibe and negative numbers), \n",
    "write a program that can find the largest continuous sum.  \n",
    "Return the sum amount, don't need to return the sequence.  \n",
    "\n",
    "ex: \n",
    "A = [7, 8, 9]           = 24\n",
    "B = [-1, 7, 8, 9, -10]  = 24 \n",
    "C = [2, 3, -10, 9, 2]   = 11 \n",
    "D = [2, 11, -10, 9, 2]  = 14\n",
    "E = [12, -10, 7, -8, 4, 6] = 12\n",
    "\n",
    "Possible answer cases:  \n",
    "1) Max number, 1 digit  \n",
    "2) Sum of all digits  \n",
    "3) Largest valued continuous segment composed of all positive numbers, \n",
    "   length is >1 but less than all.\n",
    "4) Combination of positive and negative number segments, \n",
    "   length is >1 but less than all.\n",
    "5) Other cases?  Empty list should return NaN.  \n",
    "\"\"\""
   ]
  },
  {
   "cell_type": "code",
   "execution_count": 3,
   "id": "thorough-czech",
   "metadata": {},
   "outputs": [],
   "source": [
    "def calc(lst):  \n",
    "    if len(lst)==0: \n",
    "        return \"NaN\" \n",
    "    else:      \n",
    "        a = max(lst)\n",
    "        b = sum(lst)\n",
    "        c = 0  # test \n",
    "        d = 0  # test\n",
    "\n",
    "    return max(a, b, c, d)"
   ]
  },
  {
   "cell_type": "code",
   "execution_count": 4,
   "id": "alive-kennedy",
   "metadata": {},
   "outputs": [
    {
     "name": "stdout",
     "output_type": "stream",
     "text": [
      "NaN\n",
      "0\n"
     ]
    }
   ],
   "source": [
    "# Test 1st set:  \n",
    "A0 = [] \n",
    "largest = calc(A0)\n",
    "print(largest)\n",
    "\n",
    "A1 = [0, 0, -1, -12. -5] \n",
    "largest = calc(A1)\n",
    "print(largest)"
   ]
  },
  {
   "cell_type": "code",
   "execution_count": 7,
   "id": "median-dollar",
   "metadata": {},
   "outputs": [],
   "source": [
    "# Correctly returned NaN for empty list, \n",
    "# 0 for max value of zero list."
   ]
  },
  {
   "cell_type": "code",
   "execution_count": 5,
   "id": "previous-dimension",
   "metadata": {},
   "outputs": [
    {
     "name": "stdout",
     "output_type": "stream",
     "text": [
      "24\n",
      "13\n",
      "9\n",
      "14\n",
      "12\n"
     ]
    }
   ],
   "source": [
    "# example, test cases \n",
    "A = [7, 8, 9] \n",
    "largest = calc(A)  # expect 24  \n",
    "print(largest)\n",
    "\n",
    "B = [-1, 7, 8, 9, -10]  \n",
    "largest = calc(B)  # expect 24\n",
    "print(largest)\n",
    "\n",
    "\n",
    "C = [2, 3, -10, 9, 2]   \n",
    "largest = calc(C)  # expect 11  \n",
    "print(largest)\n",
    "\n",
    "D = [2, 11, -10, 9, 2]   \n",
    "largest = calc(D)  # expect 14\n",
    "print(largest)\n",
    "\n",
    "E = [12, -10, 7, -8, 4, 6]   \n",
    "largest = calc(E)  # expect 12\n",
    "print(largest) "
   ]
  },
  {
   "cell_type": "code",
   "execution_count": 8,
   "id": "forward-darwin",
   "metadata": {},
   "outputs": [],
   "source": [
    "# Only max and sum are working at this stage. A, D, E depend only on \n",
    "# max and sum, correct returned vaues."
   ]
  },
  {
   "cell_type": "markdown",
   "id": "scheduled-instrumentation",
   "metadata": {},
   "source": [
    "#### Add C and D cases  \n",
    "Crawl through numbers from left to right positions.  \n",
    "Limit cases to 3 sequences, first positive seq, 1st negative seq, and second positive seq.  \n",
    "If 1st number is positive, add to seq1, if first number is negative, ignore and got to next number. \n",
    "Keep adding positive numbers in a row to seq 1, until negative number is hit.\n",
    "Add negative numbers to seq3 until another positive number is hit.  \n",
    "Add positive numbers in a row to seq3.  \n",
    "D = seq1 + seq2 + seq3  \n",
    "C = max(seq1, seq3) The larger if two positive segments broken by a negative segment.  \n",
    "\n"
   ]
  },
  {
   "cell_type": "code",
   "execution_count": 9,
   "id": "express-alloy",
   "metadata": {},
   "outputs": [],
   "source": [
    "# Add C and D cases. \n",
    "# Outcomes limited at this point to 3 segments maximum.  \n",
    "\n",
    "def calc(lst):  \n",
    "    if len(lst)==0: \n",
    "        return \"NaN\" \n",
    "    else:      \n",
    "        a = max(lst)\n",
    "        b = sum(lst)\n",
    "        c = 0\n",
    "        d = 0\n",
    "        \n",
    "        # C and D cases, initialize\n",
    "        index = 0 \n",
    "        seq1 = 0 \n",
    "        seq2 = 0\n",
    "        seq3 = 0\n",
    "        while index < len(lst)-1: \n",
    "            # Accumulates value while ith digit is a positive number\n",
    "            if lst[index] <= 0: \n",
    "                index += 1  # ignore starting negative numbers\n",
    "                print(index, lst[index], \"beginning negatives\")\n",
    "            elif lst[index]>0: \n",
    "                # first positive number\n",
    "                seq1 += lst[index]\n",
    "                index += 1\n",
    "            else:  # negative value hit  \n",
    "                # start another sequence at the next positive number \n",
    "                seq3 += lst[index]\n",
    "                index += 1  \n",
    "                if lst[index]>0:  \n",
    "                    seq2 += lst[index]\n",
    "                    index += 1 \n",
    "                else: \n",
    "                    # Next negative number hit\n",
    "                    seq3 += list[index]\n",
    "                    c = max(seq1, seq2)\n",
    "                    d = (seq1 + seq2 + seq3)\n",
    "                    index += 1  \n",
    "                \n",
    "    return max(a, b, c, d)"
   ]
  },
  {
   "cell_type": "code",
   "execution_count": 10,
   "id": "deadly-innocent",
   "metadata": {},
   "outputs": [
    {
     "name": "stdout",
     "output_type": "stream",
     "text": [
      "24\n",
      "1 7 beginning negatives\n",
      "13\n",
      "3 9 beginning negatives\n",
      "9\n",
      "3 9 beginning negatives\n",
      "14\n",
      "2 7 beginning negatives\n",
      "4 4 beginning negatives\n",
      "12\n"
     ]
    }
   ],
   "source": [
    "# example, test cases \n",
    "A = [7, 8, 9] \n",
    "largest = calc(A)  # expect 24  \n",
    "print(largest)\n",
    "\n",
    "B = [-1, 7, 8, 9, -10]  \n",
    "largest = calc(B)  # expect 24\n",
    "print(largest)\n",
    "\n",
    "\n",
    "C = [2, 3, -10, 9, 2]   \n",
    "largest = calc(C)  # expect 11  \n",
    "print(largest)\n",
    "\n",
    "D = [2, 11, -10, 9, 2]   \n",
    "largest = calc(D)  # expect 14\n",
    "print(largest)\n",
    "\n",
    "E = [12, -10, 7, -8, 4, 6]   \n",
    "largest = calc(E)  # expect 12\n",
    "print(largest) "
   ]
  },
  {
   "cell_type": "markdown",
   "id": "retired-reason",
   "metadata": {},
   "source": [
    "#### 2) Try using registers"
   ]
  },
  {
   "cell_type": "code",
   "execution_count": 23,
   "id": "outside-steering",
   "metadata": {},
   "outputs": [],
   "source": [
    "def calc2(lst):  \n",
    "   \n",
    "    a = max(lst)\n",
    "    b = sum(lst)\n",
    "    c = 0 \n",
    "    d = 0 \n",
    "    i = 0  \n",
    "    end = len(lst)-1 \n",
    "    seq1, seq2, seq3 = 0, 0, 0\n",
    "    \n",
    "    \n",
    "    for i in range(end):\n",
    "        if lst[i]<= 0 and c==0: \n",
    "            i += 1\n",
    "            print(\"C=\", c, \"index=\", i)\n",
    "            # Leading negatives, ignore, index increment \n",
    "            \n",
    "        elif lst[i]>0 and c==0: \n",
    "            # start first positive sequence\n",
    "            seq1 = lst[i]\n",
    "            i += 1  # next item\n",
    "            while lst[i]>0 and i < end: \n",
    "                seq1 += lst[i]\n",
    "                i += 1  \n",
    "            # End of positive sequence.\n",
    "            c = max(c, seq1)\n",
    "            print(\"C=\", c, \"index=\", i)\n",
    "\n",
    "        elif lst[i] <= 0:  \n",
    "            # Non-leading negative seq. \n",
    "            while lst[i] < 0 and i < end: \n",
    "                seq2 += lst[i]\n",
    "                i += 1\n",
    "            # Calc seq3, positive seq \n",
    "            while lst[i]> 0 and i < end:  \n",
    "                seq3 += lst[i]\n",
    "                i += 1\n",
    "            # End of next positive sequence. \n",
    "            d = seq1 + seq2 + seq3\n",
    "            c = max(c, seq3)\n",
    "            print(\"D=\", d, \"index=\", i)\n",
    "    \n",
    "    return max(a, b, c, d)"
   ]
  },
  {
   "cell_type": "code",
   "execution_count": 24,
   "id": "legislative-terror",
   "metadata": {},
   "outputs": [
    {
     "name": "stdout",
     "output_type": "stream",
     "text": [
      "C= 0 index= 1\n",
      "C= 0 index= 2\n",
      "C= 24 index= 5\n",
      "D= 14 index= 6\n"
     ]
    },
    {
     "data": {
      "text/plain": [
       "24"
      ]
     },
     "execution_count": 24,
     "metadata": {},
     "output_type": "execute_result"
    }
   ],
   "source": [
    "\n",
    "calc2([-1, -3, 7, 8, 9, -10, -2])  # Expect 24 [7, 8, 9] middle sequence."
   ]
  },
  {
   "cell_type": "code",
   "execution_count": 25,
   "id": "electrical-demand",
   "metadata": {},
   "outputs": [
    {
     "name": "stdout",
     "output_type": "stream",
     "text": [
      "C= 0 index= 1\n",
      "C= 0 index= 2\n",
      "C= 24 index= 5\n",
      "D= 11 index= 9\n",
      "D= 8 index= 9\n"
     ]
    },
    {
     "data": {
      "text/plain": [
       "42"
      ]
     },
     "execution_count": 25,
     "metadata": {},
     "output_type": "execute_result"
    }
   ],
   "source": [
    "calc2([-1, -3, 7, 8, 9, -10, -24, 10, 11, 12])  # Expect 33 [10, 11, 12] ending sequence."
   ]
  },
  {
   "cell_type": "code",
   "execution_count": null,
   "id": "filled-nightmare",
   "metadata": {},
   "outputs": [],
   "source": []
  }
 ],
 "metadata": {
  "kernelspec": {
   "display_name": "Python 3",
   "language": "python",
   "name": "python3"
  },
  "language_info": {
   "codemirror_mode": {
    "name": "ipython",
    "version": 3
   },
   "file_extension": ".py",
   "mimetype": "text/x-python",
   "name": "python",
   "nbconvert_exporter": "python",
   "pygments_lexer": "ipython3",
   "version": "3.7.3"
  }
 },
 "nbformat": 4,
 "nbformat_minor": 5
}
