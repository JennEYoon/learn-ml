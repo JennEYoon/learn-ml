{
  "nbformat": 4,
  "nbformat_minor": 0,
  "metadata": {
    "colab": {
      "name": "loop_numpy.ipynb",
      "provenance": [],
      "collapsed_sections": [],
      "authorship_tag": "ABX9TyPrd0Vx9RIgovWa1No46oDc",
      "include_colab_link": true
    },
    "kernelspec": {
      "name": "python3",
      "display_name": "Python 3"
    },
    "language_info": {
      "name": "python"
    }
  },
  "cells": [
    {
      "cell_type": "markdown",
      "metadata": {
        "id": "view-in-github",
        "colab_type": "text"
      },
      "source": [
        "<a href=\"https://colab.research.google.com/github/JennEYoon/learn-ml/blob/main/practice/loop_numpy.ipynb\" target=\"_parent\"><img src=\"https://colab.research.google.com/assets/colab-badge.svg\" alt=\"Open In Colab\"/></a>"
      ]
    },
    {
      "cell_type": "markdown",
      "metadata": {
        "id": "Qn6HgYi2o7Vq"
      },
      "source": [
        "# Short Practice, loop_numpy.ipynb   \n",
        "Google Drive Colab Notebooks folder, GitHub learn-ml/practice repo folder, private-dev/code folder  "
      ]
    },
    {
      "cell_type": "markdown",
      "metadata": {
        "id": "qjAseJqe3dHf"
      },
      "source": [
        "First practice Nov 26, 2021"
      ]
    },
    {
      "cell_type": "code",
      "metadata": {
        "colab": {
          "base_uri": "https://localhost:8080/"
        },
        "id": "678NpktXoFgm",
        "outputId": "59765ba4-a4ce-4fe7-b73f-5570ff7b39b3"
      },
      "source": [
        "\"\"\"\n",
        "# short practice \n",
        "# Nov 29, 2021 practice  \n",
        "# Dec 5, 2021 continue  \n",
        "#  \n",
        "# 1) loop list a and list b with zip  \n",
        "# 2) then use numpy to do the same  \n",
        "\"\"\"\n",
        "\n",
        "# Create data\n",
        "a_list = [11, 12, 13, 14, 15]\n",
        "b_list = [1, 2, 3, 4, 5]\n",
        "\n",
        "# test len(a)==len(b)\n",
        "print(\"length test a==b ?\", len(a_list), len(b_list), bool(len(a_list)==len(b_list)))\n",
        "\n",
        "\n",
        "result = []\n",
        "for i in a_list:  \n",
        "    for j in b_list:\n",
        "        result = [i+j for i, j in zip(a_list, b_list)]\n",
        "        #print(result)\n",
        "# does this return a list or one element summed?  \n",
        "# do I need to append each item to list?\n",
        "print(\"element wise sum of a and b?\", result)\n",
        "\n",
        "# try again without looping. \n",
        "result = []\n",
        "result = [i+j for i, j in zip(a_list, b_list)]\n",
        "print(\"result\", result) \n",
        "# works!\n",
        "# output\n",
        "#>> length test a==b ? 5 5 True\n",
        "#>> result [12, 14, 16, 18, 20]"
      ],
      "execution_count": 2,
      "outputs": [
        {
          "output_type": "stream",
          "name": "stdout",
          "text": [
            "length test a==b ? 5 5 True\n",
            "element wise sum of a and b? [12, 14, 16, 18, 20]\n",
            "result [12, 14, 16, 18, 20]\n"
          ]
        }
      ]
    },
    {
      "cell_type": "markdown",
      "metadata": {
        "id": "lxYf0crDn-PH"
      },
      "source": [
        "**Dec 5, 2021 Sunday practice  **"
      ]
    },
    {
      "cell_type": "code",
      "metadata": {
        "colab": {
          "base_uri": "https://localhost:8080/"
        },
        "id": "jgP4n-Dpn-r5",
        "outputId": "e3d65fa3-3746-41ea-c664-11b5b2918de9"
      },
      "source": [
        "import numpy as np  \n",
        "a_array = np.arange(11, 16, dtype=float)\n",
        "print(\"first array\", a_array, type(a_array), a_list, type(a_list))\n",
        "\n",
        "b_array = np.arange(1, 6, dtype=float)\n",
        "print(\"second array\", b_array, type(b_array), b_list, type(b_list))\n",
        "\n",
        "result2 = a_array * b_array\n",
        "print(\"result of multiplication \", result2) \n",
        "# Expect [11, 24, 39, 56, 75]  \n",
        "temp = np.array([11., 24., 39., 56., 75.])\n",
        "print(\"Expected value ? \", np.array_equal(result2, temp))"
      ],
      "execution_count": null,
      "outputs": [
        {
          "output_type": "stream",
          "name": "stdout",
          "text": [
            "first array [11. 12. 13. 14. 15.] <class 'numpy.ndarray'> [11, 12, 13, 14, 15] <class 'list'>\n",
            "second array [1. 2. 3. 4. 5.] <class 'numpy.ndarray'> [1. 2. 3. 4. 5.] <class 'numpy.ndarray'>\n",
            "result of multiplication  [11. 24. 39. 56. 75.]\n",
            "Expected value ?  True\n"
          ]
        }
      ]
    },
    {
      "cell_type": "markdown",
      "metadata": {
        "id": "TF5n65ROwTAC"
      },
      "source": [
        "Documentation on creating numpy arrays.  Directly convert Python list and other iterables to numpy arrays.  \n",
        "Don't need any fancy function. use **np.array([list])**.  \n",
        "\n",
        "np.zeros()  \n",
        "np.ones()  \n",
        "np.linspace()  # linear spaced interval  \n",
        "np.diag()  \n",
        "np.random() and np.randint()  \n",
        "  \n",
        "Other common diagnolal matrix, filled matrix  \n",
        "np.array_equal(first array, second array, NA=False )  "
      ]
    },
    {
      "cell_type": "code",
      "metadata": {
        "id": "Zoq5fGEKq338"
      },
      "source": [
        ""
      ],
      "execution_count": null,
      "outputs": []
    }
  ]
}