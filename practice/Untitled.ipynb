{
 "cells": [
  {
   "cell_type": "code",
   "execution_count": 1,
   "id": "meaning-electron",
   "metadata": {},
   "outputs": [
    {
     "data": {
      "text/plain": [
       "'\\nWrite a function to add the number of repeating characters as letter + num, case sensitive.  \\n\\nEx: AAABCCC should be A3B1C3  \\nEx: DDDaaBBBb should be D3a2B3b1\\n\\n-----  \\n\\nMy steps:  \\nTake the first item of array  \\nSee if the next item is the same character (case sensitive).  \\nWhile same character, add to running total of number of same characters. \\nWhen it changes to another number, add letter + number to a results list to return.  \\nWith the new character, repeat steps.  \\nWhen end of array is reached, return final string.\\n\\n'"
      ]
     },
     "execution_count": 1,
     "metadata": {},
     "output_type": "execute_result"
    }
   ],
   "source": [
    "\"\"\"\n",
    "Write a function to add the number of repeating characters as letter + num, case sensitive.  \n",
    "\n",
    "Ex: AAABCCC should be A3B1C3  \n",
    "Ex: DDDaaBBBb should be D3a2B3b1\n",
    "\n",
    "-----  \n",
    "\n",
    "My steps:  \n",
    "Take the first item of array  \n",
    "See if the next item is the same character (case sensitive).  \n",
    "While same character, add to running total of number of same characters. \n",
    "When it changes to another number, add letter + number to a results list to return.  \n",
    "With the new character, repeat steps.  \n",
    "When end of array is reached, return final string.\n",
    "\n",
    "\"\"\""
   ]
  },
  {
   "cell_type": "code",
   "execution_count": 8,
   "id": "romance-brake",
   "metadata": {},
   "outputs": [],
   "source": [
    "def compress(input): \n",
    "    \n",
    "    result = ''  # empty string  \n",
    "    if len(input) < 1:  \n",
    "        return result  \n",
    "    \n",
    "    # initialize char and count variables  \n",
    "    char = input[0]\n",
    "    count = 1 \n",
    "    result = char + str(count)\n",
    "\n",
    "    if len(input) < 2: \n",
    "        return result\n",
    "\n",
    "    for i in range(1, len(input)): \n",
    "\n",
    "        if input[i] == char: \n",
    "            count += 1\n",
    "            result = char + str(count)\n",
    "        \n",
    "        else:  \n",
    "            # A different character encountered. \n",
    "            # write to result  \n",
    "            # reset char and count variables\n",
    "            result = result + char + str(count)\n",
    "            print(result, \"else loop\")\n",
    "            char = input[i]\n",
    "            count = 1\n",
    "\n",
    "    print(\"result\", result)\n",
    "    return result\n",
    "\n",
    "\n",
    "\n",
    "\n"
   ]
  },
  {
   "cell_type": "code",
   "execution_count": 9,
   "id": "scenic-soundtrack",
   "metadata": {},
   "outputs": [
    {
     "data": {
      "text/plain": [
       "''"
      ]
     },
     "execution_count": 9,
     "metadata": {},
     "output_type": "execute_result"
    }
   ],
   "source": [
    "compress('')"
   ]
  },
  {
   "cell_type": "code",
   "execution_count": 10,
   "id": "editorial-invalid",
   "metadata": {},
   "outputs": [
    {
     "data": {
      "text/plain": [
       "'b1'"
      ]
     },
     "execution_count": 10,
     "metadata": {},
     "output_type": "execute_result"
    }
   ],
   "source": [
    "compress('b')"
   ]
  },
  {
   "cell_type": "code",
   "execution_count": 11,
   "id": "annual-thinking",
   "metadata": {},
   "outputs": [
    {
     "name": "stdout",
     "output_type": "stream",
     "text": [
      "result C2\n"
     ]
    },
    {
     "data": {
      "text/plain": [
       "'C2'"
      ]
     },
     "execution_count": 11,
     "metadata": {},
     "output_type": "execute_result"
    }
   ],
   "source": [
    "compress('CC')"
   ]
  },
  {
   "cell_type": "code",
   "execution_count": 12,
   "id": "approximate-clinic",
   "metadata": {},
   "outputs": [
    {
     "name": "stdout",
     "output_type": "stream",
     "text": [
      "D2D2 else loop\n",
      "result b2\n"
     ]
    },
    {
     "data": {
      "text/plain": [
       "'b2'"
      ]
     },
     "execution_count": 12,
     "metadata": {},
     "output_type": "execute_result"
    }
   ],
   "source": [
    "compress('DDbb')"
   ]
  },
  {
   "cell_type": "code",
   "execution_count": null,
   "id": "optical-thriller",
   "metadata": {},
   "outputs": [],
   "source": []
  },
  {
   "cell_type": "code",
   "execution_count": null,
   "id": "constitutional-disclosure",
   "metadata": {},
   "outputs": [],
   "source": []
  },
  {
   "cell_type": "code",
   "execution_count": null,
   "id": "cordless-bronze",
   "metadata": {},
   "outputs": [],
   "source": []
  },
  {
   "cell_type": "code",
   "execution_count": null,
   "id": "smooth-hybrid",
   "metadata": {},
   "outputs": [],
   "source": [
    "# Test cases  \n",
    "# Ex: AAABCCC should be A3B1C3  \n",
    "# Ex: DDDaaBBBb should be D3a2B3b1\n",
    "\n",
    "\n",
    "\n",
    "# Call function with test cases  \n",
    "print(compress('A'))\n",
    "\n",
    "result1 = compress('AAABCCC') \n",
    "print(result1)\n",
    "\n",
    "result2 = compress('DDDaaBBBb') \n",
    "print(result2)\n"
   ]
  },
  {
   "cell_type": "code",
   "execution_count": null,
   "id": "nutritional-court",
   "metadata": {},
   "outputs": [],
   "source": []
  },
  {
   "cell_type": "code",
   "execution_count": null,
   "id": "altered-smooth",
   "metadata": {},
   "outputs": [],
   "source": []
  }
 ],
 "metadata": {
  "kernelspec": {
   "display_name": "Python [conda env:root] *",
   "language": "python",
   "name": "conda-root-py"
  },
  "language_info": {
   "codemirror_mode": {
    "name": "ipython",
    "version": 3
   },
   "file_extension": ".py",
   "mimetype": "text/x-python",
   "name": "python",
   "nbconvert_exporter": "python",
   "pygments_lexer": "ipython3",
   "version": "3.7.3"
  }
 },
 "nbformat": 4,
 "nbformat_minor": 5
}
