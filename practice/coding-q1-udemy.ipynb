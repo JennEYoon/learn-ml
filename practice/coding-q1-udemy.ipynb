{
 "cells": [
  {
   "cell_type": "code",
   "execution_count": 1,
   "id": "athletic-entity",
   "metadata": {},
   "outputs": [
    {
     "data": {
      "text/plain": [
       "''"
      ]
     },
     "execution_count": 1,
     "metadata": {},
     "output_type": "execute_result"
    }
   ],
   "source": [
    "\"\"\"\n",
    "# Udemy - Data Science Interview Prep - Coding Q1\n",
    "# 3/28/2021 Sunday 11:00 pm start - 3/29 Monday 3 am \n",
    "#   continue 3/29 Monday 2 pm. \n",
    "# Jennifer E Yoon  \n",
    "\n",
    "Q1) Given an array of integers (positibe and negative numbers), \n",
    "write a program that can find the largest continuous sum.  \n",
    "Return the sum amount, don't need to return the sequence.  \n",
    "\n",
    "ex: \n",
    "A = [7, 8, 9]           = 24\n",
    "B = [-1, 7, 8, 9, -10]  = 24 \n",
    "C = [2, 3, -10, 9, 2]   = 11 \n",
    "D = [2, 11, -10, 9, 2]  = 14\n",
    "E = [12, -10, 7, -8, 4, 6] = 12\n",
    "\n",
    "Possible answer cases:  \n",
    "1) Max number, 1 digit  \n",
    "2) Sum of all digits  \n",
    "3) Largest valued 1 continuous positive number sequence, \n",
    "   length >1 but less than all.\n",
    "4) Combination of 2 or more positive number sequences with negative numbers in the middle, \n",
    "   length is >1 but less than all.  \n",
    "   Ignore beginning negative sequence, ending negative sequence.  \n",
    "5) Other cases?  Empty list should return NaN.  \n",
    "   Infinite array should time out and return the best answer found thus far.  \n",
    "   Try probabilistic model if time permits, if it is a pattern can be determined.  \n",
    "\"\"\"\n",
    ";"
   ]
  },
  {
   "cell_type": "code",
   "execution_count": 1,
   "id": "strong-disaster",
   "metadata": {},
   "outputs": [],
   "source": [
    "import numpy as np"
   ]
  },
  {
   "cell_type": "code",
   "execution_count": 2,
   "id": "coordinated-matthew",
   "metadata": {},
   "outputs": [
    {
     "name": "stdout",
     "output_type": "stream",
     "text": [
      "Python 3.7.3\r\n"
     ]
    },
    {
     "data": {
      "text/plain": [
       "<module 'numpy' from '/home/jyoon/conda3/lib/python3.7/site-packages/numpy/__init__.py'>"
      ]
     },
     "execution_count": 2,
     "metadata": {},
     "output_type": "execute_result"
    }
   ],
   "source": [
    "!python --version\n",
    "np"
   ]
  },
  {
   "cell_type": "markdown",
   "id": "crude-canvas",
   "metadata": {},
   "source": [
    "### 1) Test simple cases first"
   ]
  },
  {
   "cell_type": "code",
   "execution_count": 33,
   "id": "retained-harvard",
   "metadata": {},
   "outputs": [],
   "source": [
    "\n",
    "def calc(lst):  \n",
    "    partial = False\n",
    "    if len(lst)==0: \n",
    "        return \"NaN\" \n",
    "    if len(lst) > 1024: \n",
    "        lst = lst[:1024]\n",
    "        partial = True\n",
    "        print(\"Calculating result from the first 1024 items in array.\")\n",
    "    # start calc\n",
    "    a = max(lst)\n",
    "    b = sum(lst)\n",
    "    c = 0  # test \n",
    "    d = 0  # test\n",
    "\n",
    "    if partial:\n",
    "        msg = (\"Partial Result=\", partial)\n",
    "        # print(msg)\n",
    "        return max(a, b, c, d), msg\n",
    "    else: \n",
    "        return max(a, b, c, d)"
   ]
  },
  {
   "cell_type": "code",
   "execution_count": 34,
   "id": "postal-manual",
   "metadata": {},
   "outputs": [
    {
     "name": "stdout",
     "output_type": "stream",
     "text": [
      "NaN\n",
      "5\n",
      "24\n"
     ]
    }
   ],
   "source": [
    "# Test simple cases:  \n",
    "A0 = [] \n",
    "largest = calc(A0) # expect 'NaN'\n",
    "print(largest)\n",
    "\n",
    "A1 = [0, 0, -1, 5, -12. -5] \n",
    "largest = calc(A1)  # expect 5\n",
    "print(largest)\n",
    "\n",
    "A2 = [7, 8, 9]  \n",
    "largest = calc(A2)  # expect 24\n",
    "print(largest)\n",
    "\n",
    "# Note: no test cases for >1024 array length yet."
   ]
  },
  {
   "cell_type": "code",
   "execution_count": 35,
   "id": "requested-alexandria",
   "metadata": {},
   "outputs": [
    {
     "name": "stdout",
     "output_type": "stream",
     "text": [
      "1027\n",
      "[-1, 3, 0] [0, 0, 10]\n"
     ]
    }
   ],
   "source": [
    "# Build test case for >1024 items in array.\n",
    "B0 = [-1, 3] + [0] * 1024 + [10]  # leading -1, 3, 0's 1024 items, final 10\n",
    "print(len(B0))  # expect 1027\n",
    "#print(B0)  # expect [-1, 3, 0..., 10]\n",
    "print(B0[0:3], B0[-3:])  "
   ]
  },
  {
   "cell_type": "code",
   "execution_count": 36,
   "id": "controlled-intention",
   "metadata": {},
   "outputs": [
    {
     "name": "stdout",
     "output_type": "stream",
     "text": [
      "Calculating result from the first 1024 items in array.\n",
      "(3, ('Partial Result=', True))\n",
      "10\n"
     ]
    }
   ],
   "source": [
    "# test > 1024 items, proxy for infinite array \n",
    "largest = calc(B0)\n",
    "print(largest)  # expect 3, largest from first 1024 items.\n",
    "\n",
    "# test length !> 1024 items, not partial calc.\n",
    "B1 = B0[3:]\n",
    "#print(len(B1), B1[-3:])\n",
    "largest = calc(B1) \n",
    "print(largest)  # expect 10"
   ]
  },
  {
   "cell_type": "code",
   "execution_count": 39,
   "id": "infinite-passage",
   "metadata": {},
   "outputs": [
    {
     "name": "stdout",
     "output_type": "stream",
     "text": [
      "24\n",
      "13\n",
      "9\n",
      "14\n",
      "12\n"
     ]
    }
   ],
   "source": [
    "# original example, test cases \n",
    "A = [7, 8, 9] \n",
    "largest = calc(A)  # expect 24  \n",
    "print(largest)\n",
    "\n",
    "B = [-1, 7, 8, 9, -10]  \n",
    "largest = calc(B)  # expect 24\n",
    "print(largest)\n",
    "\n",
    "\n",
    "C = [2, 3, -10, 9, 2]   \n",
    "largest = calc(C)  # expect 11  \n",
    "print(largest)\n",
    "\n",
    "D = [2, 11, -10, 9, 2]   \n",
    "largest = calc(D)  # expect 14\n",
    "print(largest)\n",
    "\n",
    "E = [12, -10, 7, -8, 4, 6]   \n",
    "largest = calc(E)  # expect 12\n",
    "print(largest) "
   ]
  },
  {
   "cell_type": "code",
   "execution_count": 38,
   "id": "alert-tracker",
   "metadata": {},
   "outputs": [],
   "source": [
    "# Only max and sum are working at this stage. A, D, E depend only on \n",
    "# max and sum, correctly returned vaues."
   ]
  },
  {
   "cell_type": "markdown",
   "id": "expanded-employment",
   "metadata": {},
   "source": [
    "### 2. Add C and D cases  \n",
    "Crawl through numbers from left to right positions.  \n",
    "First limit case to C with single positive sequence.  \n",
    "First limit D to 3 consecutive sequences, pos, neg, pos.  \n",
    "\n",
    "C = max(pos seq1, pos seq2, ...) \n",
    "    Largest sum of 1 or more positive sequences. \n",
    "\n",
    "D = max(sum(pos seq1 + neg seq2 + pos seq3), sum(pos seq4, neg seq5, pos seq 6), sum(beg seq1 to end seq6),...)\n",
    "    Largest sum of 3 or more consecutive sequences, starting with a positive seq and ending with positive seq. "
   ]
  },
  {
   "cell_type": "code",
   "execution_count": 11,
   "id": "hired-myanmar",
   "metadata": {},
   "outputs": [],
   "source": [
    "# Calculate C and D only, add back Non and >1024 cases later.  \n",
    "\n",
    "def calc3(lst):  \n",
    "    # start calc\n",
    "    a = max(lst)\n",
    "    b = sum(lst)\n",
    "    c = 0  # test \n",
    "    d = 0  # test\n",
    "    \n",
    "    end = len(lst)\n",
    "    seq1 = 0\n",
    "    seq2 = 0\n",
    "    seq3 = 0\n",
    "    negloop = False\n",
    "    posloop = False\n",
    "    i = 0\n",
    "    \n",
    "    while i < end:\n",
    "        print(\"i\", i)\n",
    "        # pass\n",
    "        if lst[i] > 0:  \n",
    "            # start of positive seq  \n",
    "            seq1 = lst[i]  \n",
    "            posloop = True\n",
    "            i += 1\n",
    "            while i < end and lst[i] > 0:  \n",
    "                seq1 += lst[i]\n",
    "                i += 1  \n",
    "                # while next item is positive, and not last item, add value\n",
    "            # end of positive seq \n",
    "            c = max(c, seq1)\n",
    "            print(\"pos loop\", c, d, seq1, seq2)\n",
    "            \n",
    "                # toggle false for 3 sequence pos, neg, pos.  \n",
    "                # not implemented case where 5 or more sequences are largest.  \n",
    "                # save beginning pos index, ending last pos loop index, sum over all in interval. \n",
    "                # Test for maximum sum, combinations of lengths.    \n",
    "        else: \n",
    "            # negative number seq start \n",
    "            seq2 = lst[i]\n",
    "            print(\"neg loop beg\", c, d, seq1, seq2)\n",
    "            negloop = True\n",
    "            i += 1\n",
    "            while i < end and lst[i] <= 0: \n",
    "                seq2 += lst[i]\n",
    "                i += 1\n",
    "                # while negative seq, add values to seq2\n",
    "                # end of neg seq. \n",
    "            if posloop == True:\n",
    "                # Add to d only if part of pos seq.\n",
    "                d = d + seq2\n",
    "                posloop = False\n",
    "                print(\"neg loop end\", c, d, seq1, seq2)\n",
    "                \n",
    "                # continue with next pos seq, repetition, but fix later.\n",
    "                # start next pos loop, in consequtive order, pos, neg, pos.  \n",
    "                seq3 = lst[i]\n",
    "                i += 1 \n",
    "                while i < end and lst[i] > 0:  \n",
    "                    seq3 += lst[i]\n",
    "                    i += 1  \n",
    "                    # while next item is positive, and not last item, add value\n",
    "                    # end 2nd positive seq \n",
    "                    c = max(c, seq3)\n",
    "                    d = d + seq3 + seq1\n",
    "            \n",
    "    return max(a, b, c, d)"
   ]
  },
  {
   "cell_type": "code",
   "execution_count": 12,
   "id": "heard-thesaurus",
   "metadata": {},
   "outputs": [],
   "source": [
    "B0 = [-1, 7, 8, 9, -10]  # expect 24 \n",
    "C0 = [2, 3, -10, 9, 2]   # expect 11 \n",
    "D0 = [2, 11, -10, 9, 2]  # expect 14\n",
    "D1 = [2, 11, -10, 10, 5, -3, -7]\n",
    "D2 = [2, 11, -10, 10, 5, -8]"
   ]
  },
  {
   "cell_type": "code",
   "execution_count": 13,
   "id": "oriented-projection",
   "metadata": {},
   "outputs": [
    {
     "name": "stdout",
     "output_type": "stream",
     "text": [
      "i 0\n",
      "pos loop 13 0 13 0\n",
      "i 2\n",
      "neg loop beg 13 0 13 -10\n",
      "neg loop end 13 -10 13 -10\n",
      "i 5\n",
      "neg loop beg 15 18 13 -8\n",
      "18\n"
     ]
    }
   ],
   "source": [
    "#print(calc3(B0))  # expect 24, one pos seq\n",
    "#print(calc3(C0))  # expect 11, 2nd pos seq\n",
    "#print(calc3(D0))  # expect 14, sum of all items\n",
    "#print(calc3(D1)) # expect 15, but should be 18, 1st to 5th items\n",
    "print(calc3(D2)) # expect 18"
   ]
  },
  {
   "cell_type": "code",
   "execution_count": 111,
   "id": "different-variety",
   "metadata": {},
   "outputs": [
    {
     "name": "stdout",
     "output_type": "stream",
     "text": [
      "i 0\n",
      "neg loop beg 0 0 0 -1\n",
      "d 0\n",
      "i 1\n",
      "end seq triple 24 24 24 -1\n",
      "pos loop 24 24 24 -1\n",
      "i 4\n",
      "neg loop beg 24 24 24 -10\n",
      "neg loop end 24 38 24 -10\n",
      "38\n",
      "i 0\n",
      "pos loop 5 0 5 0\n",
      "i 2\n",
      "neg loop beg 5 0 5 -10\n",
      "neg loop end 5 -5 5 -10\n",
      "i 3\n",
      "end seq triple 11 6 11 -10\n",
      "pos loop 11 6 11 -10\n",
      "11\n",
      "i 0\n",
      "pos loop 13 0 13 0\n",
      "i 2\n",
      "neg loop beg 13 0 13 -10\n",
      "neg loop end 13 3 13 -10\n",
      "i 3\n",
      "end seq triple 13 14 11 -10\n",
      "pos loop 13 14 11 -10\n",
      "14\n"
     ]
    }
   ],
   "source": [
    "largest = calc3(B0)  \n",
    "print(largest)\n",
    "largest = calc3(C0)\n",
    "print(largest)\n",
    "largest = calc3(D0)\n",
    "print(largest)"
   ]
  },
  {
   "cell_type": "code",
   "execution_count": null,
   "id": "likely-actress",
   "metadata": {},
   "outputs": [],
   "source": []
  },
  {
   "cell_type": "markdown",
   "id": "solved-seminar",
   "metadata": {},
   "source": [
    "### 2-a - Yesterday, Try adding C and D"
   ]
  },
  {
   "cell_type": "code",
   "execution_count": 41,
   "id": "public-watson",
   "metadata": {},
   "outputs": [],
   "source": [
    "# Add C and D cases. \n",
    "# Outcomes limited at this point to 3 segments maximum.  \n",
    "\n",
    "def calc(lst):  \n",
    "    if len(lst)==0: \n",
    "        return \"NaN\" \n",
    "    else:      \n",
    "        a = max(lst)\n",
    "        b = sum(lst)\n",
    "        c = 0\n",
    "        d = 0\n",
    "        \n",
    "        # C and D cases, initialize\n",
    "        index = 0 \n",
    "        seq1 = 0 \n",
    "        seq2 = 0\n",
    "        seq3 = 0\n",
    "        while index < len(lst)-1: \n",
    "            # Accumulates value while ith digit is a positive number\n",
    "            if lst[index] <= 0: \n",
    "                index += 1  # ignore starting negative numbers\n",
    "                print(index, lst[index], \"beginning negatives\")\n",
    "            elif lst[index]>0: \n",
    "                # first positive number\n",
    "                seq1 += lst[index]\n",
    "                index += 1\n",
    "            else:  # negative value hit  \n",
    "                # start another sequence at the next positive number \n",
    "                seq3 += lst[index]\n",
    "                index += 1  \n",
    "                if lst[index]>0:  \n",
    "                    seq2 += lst[index]\n",
    "                    index += 1 \n",
    "                else: \n",
    "                    # Next negative number hit\n",
    "                    seq3 += list[index]\n",
    "                    c = max(seq1, seq2)\n",
    "                    d = (seq1 + seq2 + seq3)\n",
    "                    index += 1  \n",
    "                \n",
    "    return max(a, b, c, d)"
   ]
  },
  {
   "cell_type": "code",
   "execution_count": 42,
   "id": "searching-footwear",
   "metadata": {},
   "outputs": [
    {
     "name": "stdout",
     "output_type": "stream",
     "text": [
      "24\n",
      "1 7 beginning negatives\n",
      "13\n",
      "3 9 beginning negatives\n",
      "9\n",
      "3 9 beginning negatives\n",
      "14\n",
      "2 7 beginning negatives\n",
      "4 4 beginning negatives\n",
      "12\n"
     ]
    }
   ],
   "source": [
    "# example, test cases \n",
    "A = [7, 8, 9] \n",
    "largest = calc(A)  # expect 24  \n",
    "print(largest)\n",
    "\n",
    "B = [-1, 7, 8, 9, -10]  \n",
    "largest = calc(B)  # expect 24\n",
    "print(largest)\n",
    "\n",
    "\n",
    "C = [2, 3, -10, 9, 2]   \n",
    "largest = calc(C)  # expect 11  \n",
    "print(largest)\n",
    "\n",
    "D = [2, 11, -10, 9, 2]   \n",
    "largest = calc(D)  # expect 14\n",
    "print(largest)\n",
    "\n",
    "E = [12, -10, 7, -8, 4, 6]   \n",
    "largest = calc(E)  # expect 12\n",
    "print(largest) "
   ]
  },
  {
   "cell_type": "markdown",
   "id": "continental-period",
   "metadata": {},
   "source": [
    "### 2-b) Try using position index  \n",
    "Yesterday"
   ]
  },
  {
   "cell_type": "code",
   "execution_count": 43,
   "id": "organizational-parks",
   "metadata": {},
   "outputs": [],
   "source": [
    "def calc2(lst):  \n",
    "   \n",
    "    a = max(lst)\n",
    "    b = sum(lst)\n",
    "    c = 0 \n",
    "    d = 0 \n",
    "    i = 0  \n",
    "    end = len(lst)-1 \n",
    "    seq1, seq2, seq3 = 0, 0, 0\n",
    "    \n",
    "    \n",
    "    for i in range(end):\n",
    "        if lst[i]<= 0 and c==0: \n",
    "            i += 1\n",
    "            print(\"C=\", c, \"index=\", i)\n",
    "            # Leading negatives, ignore, index increment \n",
    "            \n",
    "        elif lst[i]>0 and c==0: \n",
    "            # start first positive sequence\n",
    "            seq1 = lst[i]\n",
    "            i += 1  # next item\n",
    "            while lst[i]>0 and i < end: \n",
    "                seq1 += lst[i]\n",
    "                i += 1  \n",
    "            # End of positive sequence.\n",
    "            c = max(c, seq1)\n",
    "            print(\"C=\", c, \"index=\", i)\n",
    "\n",
    "        elif lst[i] <= 0:  \n",
    "            # Non-leading negative seq. \n",
    "            while lst[i] < 0 and i < end: \n",
    "                seq2 += lst[i]\n",
    "                i += 1\n",
    "            # Calc seq3, positive seq \n",
    "            while lst[i]> 0 and i < end:  \n",
    "                seq3 += lst[i]\n",
    "                i += 1\n",
    "            # End of next positive sequence. \n",
    "            d = seq1 + seq2 + seq3\n",
    "            c = max(c, seq3)\n",
    "            print(\"D=\", d, \"index=\", i)\n",
    "    \n",
    "    return max(a, b, c, d)"
   ]
  },
  {
   "cell_type": "code",
   "execution_count": 24,
   "id": "treated-japan",
   "metadata": {},
   "outputs": [
    {
     "name": "stdout",
     "output_type": "stream",
     "text": [
      "C= 0 index= 1\n",
      "C= 0 index= 2\n",
      "C= 24 index= 5\n",
      "D= 14 index= 6\n"
     ]
    },
    {
     "data": {
      "text/plain": [
       "24"
      ]
     },
     "execution_count": 24,
     "metadata": {},
     "output_type": "execute_result"
    }
   ],
   "source": [
    "\n",
    "calc2([-1, -3, 7, 8, 9, -10, -2])  # Expect 24 [7, 8, 9] middle sequence."
   ]
  },
  {
   "cell_type": "code",
   "execution_count": 44,
   "id": "governmental-welcome",
   "metadata": {},
   "outputs": [
    {
     "name": "stdout",
     "output_type": "stream",
     "text": [
      "C= 0 index= 1\n",
      "C= 0 index= 2\n",
      "C= 24 index= 5\n",
      "D= 11 index= 9\n",
      "D= 8 index= 9\n"
     ]
    },
    {
     "data": {
      "text/plain": [
       "42"
      ]
     },
     "execution_count": 44,
     "metadata": {},
     "output_type": "execute_result"
    }
   ],
   "source": [
    "calc2([-1, -3, 7, 8, 9, -10, -24, 10, 11, 12])  # Expect 33 [10, 11, 12] ending sequence."
   ]
  },
  {
   "cell_type": "markdown",
   "id": "missing-lecture",
   "metadata": {},
   "source": [
    "### 3. Try cominatorix  \n",
    "First sum like numbers together, create shorter list  \n",
    "Drop leading neg number, ending neg number.  \n",
    "Create combinations, sum over 1st to end, -1, -2  etc  \n",
    "sum over 2nd to end, -1, -2, etc  \n",
    "until all comginations exhausted  \n",
    "Does it need to be repeated from the last number?  "
   ]
  },
  {
   "cell_type": "code",
   "execution_count": 113,
   "id": "floating-wagner",
   "metadata": {},
   "outputs": [
    {
     "name": "stdout",
     "output_type": "stream",
     "text": [
      "<module 'numpy' from '/home/jyoon/conda3/lib/python3.7/site-packages/numpy/__init__.py'>\n"
     ]
    }
   ],
   "source": [
    "import numpy as np  \n",
    "print(np)\n",
    "# Use numpy arrays to make indexing easier, masking maybe"
   ]
  },
  {
   "cell_type": "code",
   "execution_count": null,
   "id": "original-drawing",
   "metadata": {},
   "outputs": [],
   "source": [
    "# stopped 3/29/2021 7:14 pm.  break. "
   ]
  },
  {
   "cell_type": "code",
   "execution_count": null,
   "id": "appointed-turkish",
   "metadata": {},
   "outputs": [],
   "source": []
  },
  {
   "cell_type": "code",
   "execution_count": null,
   "id": "ordered-glucose",
   "metadata": {},
   "outputs": [],
   "source": []
  }
 ],
 "metadata": {
  "kernelspec": {
   "display_name": "Python 3",
   "language": "python",
   "name": "python3"
  },
  "language_info": {
   "codemirror_mode": {
    "name": "ipython",
    "version": 3
   },
   "file_extension": ".py",
   "mimetype": "text/x-python",
   "name": "python",
   "nbconvert_exporter": "python",
   "pygments_lexer": "ipython3",
   "version": "3.6.10"
  }
 },
 "nbformat": 4,
 "nbformat_minor": 5
}
