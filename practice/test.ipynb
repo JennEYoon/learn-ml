{
  "nbformat": 4,
  "nbformat_minor": 0,
  "metadata": {
    "colab": {
      "name": "text.ipynb",
      "provenance": [],
      "authorship_tag": "ABX9TyNbAVmyaF0suIgwM2/5bE9/",
      "include_colab_link": true
    },
    "kernelspec": {
      "name": "python3",
      "display_name": "Python 3"
    }
  },
  "cells": [
    {
      "cell_type": "markdown",
      "metadata": {
        "id": "view-in-github",
        "colab_type": "text"
      },
      "source": [
        "<a href=\"https://colab.research.google.com/github/JennEYoon/learn-coding/blob/main/test.ipynb\" target=\"_parent\"><img src=\"https://colab.research.google.com/assets/colab-badge.svg\" alt=\"Open In Colab\"/></a>"
      ]
    },
    {
      "cell_type": "code",
      "metadata": {
        "colab": {
          "base_uri": "https://localhost:8080/"
        },
        "id": "SXIbhrVV9eWb",
        "outputId": "da347499-320b-4be8-8145-5011e6331692"
      },
      "source": [
        "def func(*args, **kwargs):\n",
        "    name = args\n",
        "    adict = kwargs  \n",
        "    return name, adict\n",
        "\n",
        "result = func('Bill', age=20, weight=150, school='Linden Elementary')\n",
        "print(result)\n",
        "# **kwargs come last?  key word arguments, dictionary.  "
      ],
      "execution_count": 1,
      "outputs": [
        {
          "output_type": "stream",
          "text": [
            "(('Bill',), {'age': 20, 'weight': 150, 'school': 'Linden Elementary'})\n"
          ],
          "name": "stdout"
        }
      ]
    }
  ]
}