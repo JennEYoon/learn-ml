{
  "nbformat": 4,
  "nbformat_minor": 0,
  "metadata": {
    "colab": {
      "name": "frenchdeck.ipynb",
      "provenance": [],
      "authorship_tag": "ABX9TyM8S16lzxzelb+jiwop8iOn",
      "include_colab_link": true
    },
    "kernelspec": {
      "name": "python3",
      "display_name": "Python 3"
    }
  },
  "cells": [
    {
      "cell_type": "markdown",
      "metadata": {
        "id": "view-in-github",
        "colab_type": "text"
      },
      "source": [
        "<a href=\"https://colab.research.google.com/github/JennEYoon/notebooks-hosted/blob/master/frenchdeck.ipynb\" target=\"_parent\"><img src=\"https://colab.research.google.com/assets/colab-badge.svg\" alt=\"Open In Colab\"/></a>"
      ]
    },
    {
      "cell_type": "markdown",
      "metadata": {
        "id": "kFTVv9C7vZzO",
        "colab_type": "text"
      },
      "source": [
        "# Fluent Python book, chp 1    \n",
        "special method, french deck, class, getitem.   \n",
        "module collections, namedtuple(name, tuple)# New Section  \n",
        "\n"
      ]
    },
    {
      "cell_type": "code",
      "metadata": {
        "id": "fz_ENUX_uMZl",
        "colab_type": "code",
        "colab": {}
      },
      "source": [
        "import collections\n",
        "\n",
        "Card = collections.namedtuple('Card', ['rank', 'suit'])\n",
        "\n",
        "class FrenchDeck:\n",
        "    ranks = [str(n) for n in range(2, 11)] + list('JQKA')\n",
        "    suits = 'spades diamonds clubs hearts'.split()\n",
        "\n",
        "    def __init__(self):\n",
        "        self._cards = [Card(rank, suit) for suit in self.suits\n",
        "                                        for rank in self.ranks]\n",
        "\n",
        "    def __len__(self):\n",
        "        return len(self._cards)\n",
        "\n",
        "    def __getitem__(self, position):\n",
        "        return self._cards[position]"
      ],
      "execution_count": 2,
      "outputs": []
    },
    {
      "cell_type": "code",
      "metadata": {
        "id": "i5An1NMDpyhH",
        "colab_type": "code",
        "colab": {
          "base_uri": "https://localhost:8080/",
          "height": 34
        },
        "outputId": "74970f01-663d-401d-b75d-de1740c4b307"
      },
      "source": [
        "mycard = Card('hello', \"hearts\")\n",
        "mycard"
      ],
      "execution_count": 3,
      "outputs": [
        {
          "output_type": "execute_result",
          "data": {
            "text/plain": [
              "Card(rank='hello', suit='hearts')"
            ]
          },
          "metadata": {
            "tags": []
          },
          "execution_count": 3
        }
      ]
    },
    {
      "cell_type": "code",
      "metadata": {
        "id": "saNiFvvqP7Id",
        "colab_type": "code",
        "colab": {
          "base_uri": "https://localhost:8080/",
          "height": 890
        },
        "outputId": "e430f217-d487-47f0-f451-926fcbc8358a"
      },
      "source": [
        "mydeck = FrenchDeck()\n",
        "mydeck[:]"
      ],
      "execution_count": 4,
      "outputs": [
        {
          "output_type": "execute_result",
          "data": {
            "text/plain": [
              "[Card(rank='2', suit='spades'),\n",
              " Card(rank='3', suit='spades'),\n",
              " Card(rank='4', suit='spades'),\n",
              " Card(rank='5', suit='spades'),\n",
              " Card(rank='6', suit='spades'),\n",
              " Card(rank='7', suit='spades'),\n",
              " Card(rank='8', suit='spades'),\n",
              " Card(rank='9', suit='spades'),\n",
              " Card(rank='10', suit='spades'),\n",
              " Card(rank='J', suit='spades'),\n",
              " Card(rank='Q', suit='spades'),\n",
              " Card(rank='K', suit='spades'),\n",
              " Card(rank='A', suit='spades'),\n",
              " Card(rank='2', suit='diamonds'),\n",
              " Card(rank='3', suit='diamonds'),\n",
              " Card(rank='4', suit='diamonds'),\n",
              " Card(rank='5', suit='diamonds'),\n",
              " Card(rank='6', suit='diamonds'),\n",
              " Card(rank='7', suit='diamonds'),\n",
              " Card(rank='8', suit='diamonds'),\n",
              " Card(rank='9', suit='diamonds'),\n",
              " Card(rank='10', suit='diamonds'),\n",
              " Card(rank='J', suit='diamonds'),\n",
              " Card(rank='Q', suit='diamonds'),\n",
              " Card(rank='K', suit='diamonds'),\n",
              " Card(rank='A', suit='diamonds'),\n",
              " Card(rank='2', suit='clubs'),\n",
              " Card(rank='3', suit='clubs'),\n",
              " Card(rank='4', suit='clubs'),\n",
              " Card(rank='5', suit='clubs'),\n",
              " Card(rank='6', suit='clubs'),\n",
              " Card(rank='7', suit='clubs'),\n",
              " Card(rank='8', suit='clubs'),\n",
              " Card(rank='9', suit='clubs'),\n",
              " Card(rank='10', suit='clubs'),\n",
              " Card(rank='J', suit='clubs'),\n",
              " Card(rank='Q', suit='clubs'),\n",
              " Card(rank='K', suit='clubs'),\n",
              " Card(rank='A', suit='clubs'),\n",
              " Card(rank='2', suit='hearts'),\n",
              " Card(rank='3', suit='hearts'),\n",
              " Card(rank='4', suit='hearts'),\n",
              " Card(rank='5', suit='hearts'),\n",
              " Card(rank='6', suit='hearts'),\n",
              " Card(rank='7', suit='hearts'),\n",
              " Card(rank='8', suit='hearts'),\n",
              " Card(rank='9', suit='hearts'),\n",
              " Card(rank='10', suit='hearts'),\n",
              " Card(rank='J', suit='hearts'),\n",
              " Card(rank='Q', suit='hearts'),\n",
              " Card(rank='K', suit='hearts'),\n",
              " Card(rank='A', suit='hearts')]"
            ]
          },
          "metadata": {
            "tags": []
          },
          "execution_count": 4
        }
      ]
    },
    {
      "cell_type": "code",
      "metadata": {
        "id": "gZ8dYznsP7VL",
        "colab_type": "code",
        "colab": {
          "base_uri": "https://localhost:8080/",
          "height": 67
        },
        "outputId": "4303044c-01e0-4cfe-9920-43527f495e56"
      },
      "source": [
        "print(mydeck[0])\n",
        "print(mydeck[-1])\n",
        "print(mydeck[12::13])"
      ],
      "execution_count": 6,
      "outputs": [
        {
          "output_type": "stream",
          "text": [
            "Card(rank='2', suit='spades')\n",
            "Card(rank='A', suit='hearts')\n",
            "[Card(rank='A', suit='spades'), Card(rank='A', suit='diamonds'), Card(rank='A', suit='clubs'), Card(rank='A', suit='hearts')]\n"
          ],
          "name": "stdout"
        }
      ]
    },
    {
      "cell_type": "markdown",
      "metadata": {
        "id": "18Fv_8UgRQpt",
        "colab_type": "text"
      },
      "source": [
        "# make a deck class w/o namedtuple, collections  \n",
        "Use list, dict, tuple, set"
      ]
    },
    {
      "cell_type": "code",
      "metadata": {
        "id": "wXE5GtkpP7bt",
        "colab_type": "code",
        "colab": {
          "base_uri": "https://localhost:8080/",
          "height": 67
        },
        "outputId": "1773eb9b-c714-43d0-9cc4-f3ffe46377c9"
      },
      "source": [
        "card_ahearts = ['A', 'hearts']\n",
        "print(card_ahearts)\n",
        "card_2diamonds = ['2', 'diamonds']\n",
        "print(card_2diamonds)\n",
        "two_deck = [card_2diamonds, card_ahearts]\n",
        "print(two_deck)\n",
        "\n"
      ],
      "execution_count": 3,
      "outputs": [
        {
          "output_type": "stream",
          "text": [
            "['A', 'hearts']\n",
            "['2', 'diamonds']\n",
            "[['2', 'diamonds'], ['A', 'hearts']]\n"
          ],
          "name": "stdout"
        }
      ]
    },
    {
      "cell_type": "code",
      "metadata": {
        "id": "rx2bUg76P7YP",
        "colab_type": "code",
        "colab": {
          "base_uri": "https://localhost:8080/",
          "height": 34
        },
        "outputId": "63dcbbf6-f418-49bd-9955-c34d72f0633f"
      },
      "source": [
        "class MyDeck:  \n",
        "\n",
        "\n",
        "    def __init(self):  \n",
        "        self._cards = [card_2diamonds, card_ahearts]\n",
        "        return __repr__(self._cards)\n",
        "\n",
        "# Test card object  \n",
        "deck_2 = MyDeck()\n",
        "print(deck_2)"
      ],
      "execution_count": 10,
      "outputs": [
        {
          "output_type": "stream",
          "text": [
            "<__main__.MyDeck object at 0x7ff7a5304668>\n"
          ],
          "name": "stdout"
        }
      ]
    },
    {
      "cell_type": "code",
      "metadata": {
        "id": "Dui-nPq8P7gZ",
        "colab_type": "code",
        "colab": {}
      },
      "source": [
        "class SimpleDeck:  \n",
        "    \"\"deck w/o namedtuple\"\"\"\n",
        "\n",
        "    # Define initial values\n",
        "    ranks = [str(n) for n in range(2, 11)] + list('JQKA')\n",
        "    suits = 'spades diamonds clubs hearts'.split()\n",
        "\n",
        "\n",
        "    def __init__(self):  \n",
        "        self.cards = [Card(rank, suit) for suit in self.suits                                 \n",
        "                                       for rank in self.ranks]"
      ],
      "execution_count": null,
      "outputs": []
    }
  ]
}