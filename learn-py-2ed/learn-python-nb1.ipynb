{
 "cells": [
  {
   "cell_type": "markdown",
   "metadata": {},
   "source": [
    "# Learn-Python, 2018, 2nd ed  \n",
    "practice, \\*Param, \\*\\*param, enum, ...  \n",
    "Date: Feb 23, 2021, Tuesday night  "
   ]
  },
  {
   "cell_type": "code",
   "execution_count": 104,
   "metadata": {},
   "outputs": [
    {
     "name": "stdout",
     "output_type": "stream",
     "text": [
      "Hello, Jane\n",
      " adds= 9 avg= 3.0\n"
     ]
    }
   ],
   "source": [
    "# func(*args) = flexible number of parameters.  \n",
    "# *args can be zero ore more inputs.  \n",
    "\n",
    "def func(name, *args):  \n",
    "    msg = \"Hello, \" + name + '\\n'\n",
    "    \n",
    "    if len(args) > 0: \n",
    "        adds = 0\n",
    "        for n in args:  \n",
    "            adds += n \n",
    "        average = adds/len(args)    \n",
    "    else:  \n",
    "        average = 'n/a'\n",
    "        adds = 'n/a'\n",
    "    print(msg, \"adds=\", adds, \"avg=\", average)       \n",
    "    \n",
    "# run function  \n",
    "#func('Mary', 10, 12, -2, 0)\n",
    "#func('Davie', 3, 6, -3)\n",
    "#func(\"Hope\")  \n",
    "# get an error if name is skipped  \n",
    "func('Jane', 3, 4, 2)"
   ]
  },
  {
   "cell_type": "code",
   "execution_count": null,
   "metadata": {},
   "outputs": [],
   "source": []
  },
  {
   "cell_type": "code",
   "execution_count": 11,
   "metadata": {
    "scrolled": true
   },
   "outputs": [
    {
     "ename": "TypeError",
     "evalue": "can only concatenate tuple (not \"int\") to tuple",
     "output_type": "error",
     "traceback": [
      "\u001b[0;31m---------------------------------------------------------------------------\u001b[0m",
      "\u001b[0;31mTypeError\u001b[0m                                 Traceback (most recent call last)",
      "\u001b[0;32m<ipython-input-11-b15aee1f8010>\u001b[0m in \u001b[0;36m<module>\u001b[0;34m\u001b[0m\n\u001b[1;32m     10\u001b[0m \u001b[0;34m\u001b[0m\u001b[0m\n\u001b[1;32m     11\u001b[0m \u001b[0mnums\u001b[0m \u001b[0;34m=\u001b[0m \u001b[0;36m2\u001b[0m\u001b[0;34m,\u001b[0m \u001b[0;36m3\u001b[0m\u001b[0;34m,\u001b[0m \u001b[0;36m4\u001b[0m\u001b[0;34m,\u001b[0m \u001b[0;36m5\u001b[0m\u001b[0;34m\u001b[0m\u001b[0;34m\u001b[0m\u001b[0m\n\u001b[0;32m---> 12\u001b[0;31m \u001b[0mprint\u001b[0m\u001b[0;34m(\u001b[0m\u001b[0mparams\u001b[0m\u001b[0;34m(\u001b[0m\u001b[0mnums\u001b[0m\u001b[0;34m)\u001b[0m\u001b[0;34m)\u001b[0m\u001b[0;34m\u001b[0m\u001b[0;34m\u001b[0m\u001b[0m\n\u001b[0m",
      "\u001b[0;32m<ipython-input-11-b15aee1f8010>\u001b[0m in \u001b[0;36mparams\u001b[0;34m(*nums)\u001b[0m\n\u001b[1;32m      6\u001b[0m     \u001b[0;31m# Returns input is list wrapper, format.\u001b[0m\u001b[0;34m\u001b[0m\u001b[0;34m\u001b[0m\u001b[0;34m\u001b[0m\u001b[0m\n\u001b[1;32m      7\u001b[0m     \u001b[0;32mfor\u001b[0m \u001b[0mn\u001b[0m \u001b[0;32min\u001b[0m \u001b[0mnums\u001b[0m\u001b[0;34m:\u001b[0m\u001b[0;34m\u001b[0m\u001b[0;34m\u001b[0m\u001b[0m\n\u001b[0;32m----> 8\u001b[0;31m         \u001b[0mn\u001b[0m \u001b[0;34m=\u001b[0m \u001b[0mn\u001b[0m \u001b[0;34m+\u001b[0m \u001b[0;36m2\u001b[0m\u001b[0;34m\u001b[0m\u001b[0;34m\u001b[0m\u001b[0m\n\u001b[0m\u001b[1;32m      9\u001b[0m     \u001b[0;32mreturn\u001b[0m \u001b[0mnums\u001b[0m\u001b[0;34m\u001b[0m\u001b[0;34m\u001b[0m\u001b[0m\n\u001b[1;32m     10\u001b[0m \u001b[0;34m\u001b[0m\u001b[0m\n",
      "\u001b[0;31mTypeError\u001b[0m: can only concatenate tuple (not \"int\") to tuple"
     ]
    }
   ],
   "source": [
    "\n",
    "\n",
    "def params(*nums):\n",
    "    # Returns input is list wrapper, format.  \n",
    "    for n in nums: \n",
    "        n = n + 2\n",
    "    return nums\n",
    "\n",
    "nums = 2, 3, 4, 5\n",
    "print(params(nums))"
   ]
  },
  {
   "cell_type": "code",
   "execution_count": 42,
   "metadata": {},
   "outputs": [
    {
     "name": "stdout",
     "output_type": "stream",
     "text": [
      "n= 3\n",
      "n= 4\n",
      "n= 5\n",
      "n= 2\n",
      "var3= 2\n",
      "n= 1\n",
      "var3= 1\n",
      "n= 0\n",
      "var3= 0\n",
      "(3, 4, 5, 2, 1, 0) 15 [9, 16, 25, 4, 1, 0] 0\n",
      "n= 1.5\n",
      "n= 2.5\n",
      "n= 3.0\n",
      "n= -1.0\n",
      "var3= -1.0\n",
      "n= 0.5\n",
      "(1.5, 2.5, 3.0, -1.0, 0.5) 6.5 [2.25, 6.25, 9.0, 1.0, 0.25] -1.0\n"
     ]
    }
   ],
   "source": [
    "def func2(*nums): \n",
    "```\n",
    "*args, variable number of positional arguments.  \n",
    "Calling func(*args) forms a tuple of 0 or more length.\n",
    "\n",
    "```    \n",
    "    # Use int type, tuple going in.\n",
    "    var = 0    \n",
    "    # initialize to int zero. \n",
    "    for n in nums:  \n",
    "        var = n + var\n",
    "        \n",
    "    # Use list type, tuple going in.    \n",
    "    var2 = []   \n",
    "    # initialize to empty list\n",
    "    for n in nums: \n",
    "        var2.append(n*n)\n",
    "        \n",
    "    # Minimum  \n",
    "    var3 = nums[0]   \n",
    "    # initialize to first item. \n",
    "    for n in nums: \n",
    "        if n < var3:\n",
    "            var3 = n\n",
    "            \n",
    "    print(nums, var, var2, var3)\n",
    "    \n",
    "func2(3, 4, 5, 2, 1)\n",
    "func2(1.5, 3.0, -1., 0.5)\n"
   ]
  },
  {
   "cell_type": "code",
   "execution_count": 77,
   "metadata": {},
   "outputs": [
    {
     "name": "stdout",
     "output_type": "stream",
     "text": [
      "('hello', {'name': 'Mary Williams', 'age': '3', 'state': 'VA'})\n",
      "Averge of inputs= 2.75\n"
     ]
    }
   ],
   "source": [
    "\n",
    "def func3(*nums):    \n",
    "    var4 = nums[0] \n",
    "    for n in range(len(nums)-1):  \n",
    "        var4 = var4 + nums[n+1]\n",
    "    var4 = var4/len(nums)    \n",
    "    print(\"Averge of inputs=\", var4)\n",
    "    \n",
    "func3(3, 5, 2, 1, name=\"Mary Williams\", age=\"3\", state=\"VA\")\n"
   ]
  },
  {
   "cell_type": "code",
   "execution_count": 49,
   "metadata": {},
   "outputs": [
    {
     "data": {
      "text/plain": [
       "2.75"
      ]
     },
     "execution_count": 49,
     "metadata": {},
     "output_type": "execute_result"
    }
   ],
   "source": [
    "def func4(**info): \n",
    "    msg = (\"hello\", info)  \n",
    "    print(msg)"
   ]
  },
  {
   "cell_type": "code",
   "execution_count": null,
   "metadata": {},
   "outputs": [],
   "source": [
    "# L_ alias for built-in function \"list.\"  \n",
    "\n",
    "L_ = list  \n",
    "# alias for list() function, without parenthesis.  \n",
    "\n"
   ]
  },
  {
   "cell_type": "code",
   "execution_count": null,
   "metadata": {},
   "outputs": [],
   "source": []
  },
  {
   "cell_type": "code",
   "execution_count": null,
   "metadata": {},
   "outputs": [],
   "source": []
  },
  {
   "cell_type": "code",
   "execution_count": null,
   "metadata": {},
   "outputs": [],
   "source": []
  },
  {
   "cell_type": "code",
   "execution_count": null,
   "metadata": {},
   "outputs": [],
   "source": []
  },
  {
   "cell_type": "code",
   "execution_count": null,
   "metadata": {},
   "outputs": [],
   "source": []
  }
 ],
 "metadata": {
  "kernelspec": {
   "display_name": "Python 3",
   "language": "python",
   "name": "python3"
  },
  "language_info": {
   "codemirror_mode": {
    "name": "ipython",
    "version": 3
   },
   "file_extension": ".py",
   "mimetype": "text/x-python",
   "name": "python",
   "nbconvert_exporter": "python",
   "pygments_lexer": "ipython3",
   "version": "3.7.3"
  }
 },
 "nbformat": 4,
 "nbformat_minor": 2
}
