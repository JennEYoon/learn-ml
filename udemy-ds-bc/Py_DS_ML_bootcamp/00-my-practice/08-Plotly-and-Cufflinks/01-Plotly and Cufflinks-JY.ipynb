{
 "cells": [
  {
   "cell_type": "markdown",
   "metadata": {},
   "source": [
    "___\n",
    "\n",
    "<a href='http://www.pieriandata.com'> <img src='../Pierian_Data_Logo.png' /></a>\n",
    "___\n",
    "# Plotly and Cufflinks"
   ]
  },
  {
   "cell_type": "markdown",
   "metadata": {},
   "source": [
    "Plotly is a library that allows you to create interactive plots that you can use in dashboards or websites (you can save them as html files or static images).\n",
    "\n",
    "## Installation\n",
    "\n",
    "In order for this all to work, you'll need to install plotly and cufflinks to call plots directly off of a pandas dataframe. These libraries are not currently available through **conda** but are available through **pip**. Install the libraries at your command line/terminal using:\n",
    "\n",
    "    pip install plotly\n",
    "    pip install cufflinks\n",
    "\n",
    "** NOTE: Make sure you only have one installation of Python on your computer when you do this, otherwise the installation may not work. **\n",
    "\n",
    "## Imports and Set-up"
   ]
  },
  {
   "cell_type": "code",
   "execution_count": 1,
   "metadata": {},
   "outputs": [
    {
     "name": "stderr",
     "output_type": "stream",
     "text": [
      "Python 3.6.10 :: Anaconda, Inc.\n"
     ]
    }
   ],
   "source": [
    "%%bash \n",
    "python --version"
   ]
  },
  {
   "cell_type": "code",
   "execution_count": 3,
   "metadata": {},
   "outputs": [
    {
     "name": "stdout",
     "output_type": "stream",
     "text": [
      "plotly 4.14.3\n",
      "cufflinks 0.17.3\n"
     ]
    }
   ],
   "source": [
    "from plotly import __version__\n",
    "print(\"plotly\", __version__)\n",
    "from cufflinks import __version__\n",
    "print(\"cufflinks\", __version__)  "
   ]
  },
  {
   "cell_type": "code",
   "execution_count": 4,
   "metadata": {},
   "outputs": [],
   "source": [
    "import pandas as pd\n",
    "import numpy as np\n",
    "%matplotlib inline"
   ]
  },
  {
   "cell_type": "code",
   "execution_count": 5,
   "metadata": {},
   "outputs": [
    {
     "data": {
      "text/plain": [
       "(<module 'pandas' from '/home/jyoon/conda3/envs/fastai20/lib/python3.6/site-packages/pandas/__init__.py'>,\n",
       " <module 'numpy' from '/home/jyoon/conda3/envs/fastai20/lib/python3.6/site-packages/numpy/__init__.py'>)"
      ]
     },
     "execution_count": 5,
     "metadata": {},
     "output_type": "execute_result"
    }
   ],
   "source": [
    "pd, np"
   ]
  },
  {
   "cell_type": "code",
   "execution_count": 6,
   "metadata": {},
   "outputs": [
    {
     "name": "stdout",
     "output_type": "stream",
     "text": [
      "4.14.3\n"
     ]
    }
   ],
   "source": [
    "from plotly import __version__\n",
    "from plotly.offline import download_plotlyjs, init_notebook_mode, plot, iplot\n",
    "\n",
    "print(__version__) # requires version >= 1.9.0"
   ]
  },
  {
   "cell_type": "code",
   "execution_count": 7,
   "metadata": {},
   "outputs": [
    {
     "data": {
      "text/plain": [
       "(<function plotly.offline.offline.plot(figure_or_data, show_link=False, link_text='Export to plot.ly', validate=True, output_type='file', include_plotlyjs=True, filename='temp-plot.html', auto_open=True, image=None, image_filename='plot_image', image_width=800, image_height=600, config=None, include_mathjax=False, auto_play=True, animation_opts=None)>,\n",
       " <function plotly.offline.offline.iplot(figure_or_data, show_link=False, link_text='Export to plot.ly', validate=True, image=None, filename='plot_image', image_width=800, image_height=600, config=None, auto_play=True, animation_opts=None)>)"
      ]
     },
     "execution_count": 7,
     "metadata": {},
     "output_type": "execute_result"
    }
   ],
   "source": [
    "plot, iplot"
   ]
  },
  {
   "cell_type": "code",
   "execution_count": 8,
   "metadata": {},
   "outputs": [],
   "source": [
    "import cufflinks as cf"
   ]
  },
  {
   "cell_type": "code",
   "execution_count": 9,
   "metadata": {},
   "outputs": [
    {
     "data": {
      "text/html": [
       "        <script type=\"text/javascript\">\n",
       "        window.PlotlyConfig = {MathJaxConfig: 'local'};\n",
       "        if (window.MathJax) {MathJax.Hub.Config({SVG: {font: \"STIX-Web\"}});}\n",
       "        if (typeof require !== 'undefined') {\n",
       "        require.undef(\"plotly\");\n",
       "        requirejs.config({\n",
       "            paths: {\n",
       "                'plotly': ['https://cdn.plot.ly/plotly-latest.min']\n",
       "            }\n",
       "        });\n",
       "        require(['plotly'], function(Plotly) {\n",
       "            window._Plotly = Plotly;\n",
       "        });\n",
       "        }\n",
       "        </script>\n",
       "        "
      ]
     },
     "metadata": {},
     "output_type": "display_data"
    }
   ],
   "source": [
    "# For Notebooks\n",
    "init_notebook_mode(connected=True)"
   ]
  },
  {
   "cell_type": "code",
   "execution_count": 10,
   "metadata": {},
   "outputs": [
    {
     "data": {
      "text/html": [
       "        <script type=\"text/javascript\">\n",
       "        window.PlotlyConfig = {MathJaxConfig: 'local'};\n",
       "        if (window.MathJax) {MathJax.Hub.Config({SVG: {font: \"STIX-Web\"}});}\n",
       "        if (typeof require !== 'undefined') {\n",
       "        require.undef(\"plotly\");\n",
       "        requirejs.config({\n",
       "            paths: {\n",
       "                'plotly': ['https://cdn.plot.ly/plotly-latest.min']\n",
       "            }\n",
       "        });\n",
       "        require(['plotly'], function(Plotly) {\n",
       "            window._Plotly = Plotly;\n",
       "        });\n",
       "        }\n",
       "        </script>\n",
       "        "
      ]
     },
     "metadata": {},
     "output_type": "display_data"
    }
   ],
   "source": [
    "# For offline use\n",
    "cf.go_offline()"
   ]
  },
  {
   "cell_type": "markdown",
   "metadata": {},
   "source": [
    "### Fake Data"
   ]
  },
  {
   "cell_type": "code",
   "execution_count": 11,
   "metadata": {},
   "outputs": [
    {
     "data": {
      "text/html": [
       "<div>\n",
       "<style scoped>\n",
       "    .dataframe tbody tr th:only-of-type {\n",
       "        vertical-align: middle;\n",
       "    }\n",
       "\n",
       "    .dataframe tbody tr th {\n",
       "        vertical-align: top;\n",
       "    }\n",
       "\n",
       "    .dataframe thead th {\n",
       "        text-align: right;\n",
       "    }\n",
       "</style>\n",
       "<table border=\"1\" class=\"dataframe\">\n",
       "  <thead>\n",
       "    <tr style=\"text-align: right;\">\n",
       "      <th></th>\n",
       "      <th>A</th>\n",
       "      <th>B</th>\n",
       "      <th>C</th>\n",
       "      <th>D</th>\n",
       "    </tr>\n",
       "  </thead>\n",
       "  <tbody>\n",
       "    <tr>\n",
       "      <th>0</th>\n",
       "      <td>1.624345</td>\n",
       "      <td>-0.611756</td>\n",
       "      <td>-0.528172</td>\n",
       "      <td>-1.072969</td>\n",
       "    </tr>\n",
       "    <tr>\n",
       "      <th>1</th>\n",
       "      <td>0.865408</td>\n",
       "      <td>-2.301539</td>\n",
       "      <td>1.744812</td>\n",
       "      <td>-0.761207</td>\n",
       "    </tr>\n",
       "    <tr>\n",
       "      <th>2</th>\n",
       "      <td>0.319039</td>\n",
       "      <td>-0.249370</td>\n",
       "      <td>1.462108</td>\n",
       "      <td>-2.060141</td>\n",
       "    </tr>\n",
       "    <tr>\n",
       "      <th>3</th>\n",
       "      <td>-0.322417</td>\n",
       "      <td>-0.384054</td>\n",
       "      <td>1.133769</td>\n",
       "      <td>-1.099891</td>\n",
       "    </tr>\n",
       "    <tr>\n",
       "      <th>4</th>\n",
       "      <td>-0.172428</td>\n",
       "      <td>-0.877858</td>\n",
       "      <td>0.042214</td>\n",
       "      <td>0.582815</td>\n",
       "    </tr>\n",
       "  </tbody>\n",
       "</table>\n",
       "</div>"
      ],
      "text/plain": [
       "          A         B         C         D\n",
       "0  1.624345 -0.611756 -0.528172 -1.072969\n",
       "1  0.865408 -2.301539  1.744812 -0.761207\n",
       "2  0.319039 -0.249370  1.462108 -2.060141\n",
       "3 -0.322417 -0.384054  1.133769 -1.099891\n",
       "4 -0.172428 -0.877858  0.042214  0.582815"
      ]
     },
     "execution_count": 11,
     "metadata": {},
     "output_type": "execute_result"
    }
   ],
   "source": [
    "np.random.seed(1)\n",
    "df = pd.DataFrame(np.random.randn(100,4),columns='A B C D'.split())\n",
    "df.head()"
   ]
  },
  {
   "cell_type": "code",
   "execution_count": 12,
   "metadata": {},
   "outputs": [
    {
     "data": {
      "text/plain": [
       "0    1.624345\n",
       "1    0.865408\n",
       "2    0.319039\n",
       "3   -0.322417\n",
       "4   -0.172428\n",
       "Name: A, dtype: float64"
      ]
     },
     "execution_count": 12,
     "metadata": {},
     "output_type": "execute_result"
    }
   ],
   "source": [
    "df['A'].head()"
   ]
  },
  {
   "cell_type": "code",
   "execution_count": 13,
   "metadata": {},
   "outputs": [
    {
     "data": {
      "text/plain": [
       "0    1.624345\n",
       "1    0.865408\n",
       "2    0.319039\n",
       "3   -0.322417\n",
       "4   -0.172428\n",
       "Name: A, dtype: float64"
      ]
     },
     "execution_count": 13,
     "metadata": {},
     "output_type": "execute_result"
    }
   ],
   "source": [
    "df.A.head()"
   ]
  },
  {
   "cell_type": "code",
   "execution_count": 14,
   "metadata": {},
   "outputs": [
    {
     "data": {
      "text/html": [
       "<div>\n",
       "<style scoped>\n",
       "    .dataframe tbody tr th:only-of-type {\n",
       "        vertical-align: middle;\n",
       "    }\n",
       "\n",
       "    .dataframe tbody tr th {\n",
       "        vertical-align: top;\n",
       "    }\n",
       "\n",
       "    .dataframe thead th {\n",
       "        text-align: right;\n",
       "    }\n",
       "</style>\n",
       "<table border=\"1\" class=\"dataframe\">\n",
       "  <thead>\n",
       "    <tr style=\"text-align: right;\">\n",
       "      <th></th>\n",
       "      <th>A</th>\n",
       "      <th>B</th>\n",
       "    </tr>\n",
       "  </thead>\n",
       "  <tbody>\n",
       "    <tr>\n",
       "      <th>0</th>\n",
       "      <td>1.624345</td>\n",
       "      <td>-0.611756</td>\n",
       "    </tr>\n",
       "    <tr>\n",
       "      <th>1</th>\n",
       "      <td>0.865408</td>\n",
       "      <td>-2.301539</td>\n",
       "    </tr>\n",
       "    <tr>\n",
       "      <th>2</th>\n",
       "      <td>0.319039</td>\n",
       "      <td>-0.249370</td>\n",
       "    </tr>\n",
       "    <tr>\n",
       "      <th>3</th>\n",
       "      <td>-0.322417</td>\n",
       "      <td>-0.384054</td>\n",
       "    </tr>\n",
       "    <tr>\n",
       "      <th>4</th>\n",
       "      <td>-0.172428</td>\n",
       "      <td>-0.877858</td>\n",
       "    </tr>\n",
       "  </tbody>\n",
       "</table>\n",
       "</div>"
      ],
      "text/plain": [
       "          A         B\n",
       "0  1.624345 -0.611756\n",
       "1  0.865408 -2.301539\n",
       "2  0.319039 -0.249370\n",
       "3 -0.322417 -0.384054\n",
       "4 -0.172428 -0.877858"
      ]
     },
     "execution_count": 14,
     "metadata": {},
     "output_type": "execute_result"
    }
   ],
   "source": [
    "df[['A', 'B']].head()"
   ]
  },
  {
   "cell_type": "code",
   "execution_count": 15,
   "metadata": {},
   "outputs": [
    {
     "data": {
      "text/plain": [
       "0   -0.611756\n",
       "1   -2.301539\n",
       "2   -0.249370\n",
       "3   -0.384054\n",
       "4   -0.877858\n",
       "Name: B, dtype: float64"
      ]
     },
     "execution_count": 15,
     "metadata": {},
     "output_type": "execute_result"
    }
   ],
   "source": [
    "df.B.head()  # Can't use dot call for more than 1 column"
   ]
  },
  {
   "cell_type": "code",
   "execution_count": 16,
   "metadata": {},
   "outputs": [
    {
     "data": {
      "text/html": [
       "<div>\n",
       "<style scoped>\n",
       "    .dataframe tbody tr th:only-of-type {\n",
       "        vertical-align: middle;\n",
       "    }\n",
       "\n",
       "    .dataframe tbody tr th {\n",
       "        vertical-align: top;\n",
       "    }\n",
       "\n",
       "    .dataframe thead th {\n",
       "        text-align: right;\n",
       "    }\n",
       "</style>\n",
       "<table border=\"1\" class=\"dataframe\">\n",
       "  <thead>\n",
       "    <tr style=\"text-align: right;\">\n",
       "      <th></th>\n",
       "      <th>A</th>\n",
       "      <th>B</th>\n",
       "      <th>C</th>\n",
       "      <th>D</th>\n",
       "      <th>Sum</th>\n",
       "    </tr>\n",
       "  </thead>\n",
       "  <tbody>\n",
       "    <tr>\n",
       "      <th>0</th>\n",
       "      <td>1.624345</td>\n",
       "      <td>-0.611756</td>\n",
       "      <td>-0.528172</td>\n",
       "      <td>-1.072969</td>\n",
       "      <td>-0.588551</td>\n",
       "    </tr>\n",
       "    <tr>\n",
       "      <th>1</th>\n",
       "      <td>0.865408</td>\n",
       "      <td>-2.301539</td>\n",
       "      <td>1.744812</td>\n",
       "      <td>-0.761207</td>\n",
       "      <td>-0.452526</td>\n",
       "    </tr>\n",
       "    <tr>\n",
       "      <th>2</th>\n",
       "      <td>0.319039</td>\n",
       "      <td>-0.249370</td>\n",
       "      <td>1.462108</td>\n",
       "      <td>-2.060141</td>\n",
       "      <td>-0.528364</td>\n",
       "    </tr>\n",
       "    <tr>\n",
       "      <th>3</th>\n",
       "      <td>-0.322417</td>\n",
       "      <td>-0.384054</td>\n",
       "      <td>1.133769</td>\n",
       "      <td>-1.099891</td>\n",
       "      <td>-0.672593</td>\n",
       "    </tr>\n",
       "    <tr>\n",
       "      <th>4</th>\n",
       "      <td>-0.172428</td>\n",
       "      <td>-0.877858</td>\n",
       "      <td>0.042214</td>\n",
       "      <td>0.582815</td>\n",
       "      <td>-0.425258</td>\n",
       "    </tr>\n",
       "  </tbody>\n",
       "</table>\n",
       "</div>"
      ],
      "text/plain": [
       "          A         B         C         D       Sum\n",
       "0  1.624345 -0.611756 -0.528172 -1.072969 -0.588551\n",
       "1  0.865408 -2.301539  1.744812 -0.761207 -0.452526\n",
       "2  0.319039 -0.249370  1.462108 -2.060141 -0.528364\n",
       "3 -0.322417 -0.384054  1.133769 -1.099891 -0.672593\n",
       "4 -0.172428 -0.877858  0.042214  0.582815 -0.425258"
      ]
     },
     "execution_count": 16,
     "metadata": {},
     "output_type": "execute_result"
    }
   ],
   "source": [
    "df['Sum'] = df.sum(axis=1)  # 1 is rows.  \n",
    "df.head()"
   ]
  },
  {
   "cell_type": "code",
   "execution_count": 17,
   "metadata": {},
   "outputs": [
    {
     "data": {
      "text/html": [
       "<div>\n",
       "<style scoped>\n",
       "    .dataframe tbody tr th:only-of-type {\n",
       "        vertical-align: middle;\n",
       "    }\n",
       "\n",
       "    .dataframe tbody tr th {\n",
       "        vertical-align: top;\n",
       "    }\n",
       "\n",
       "    .dataframe thead th {\n",
       "        text-align: right;\n",
       "    }\n",
       "</style>\n",
       "<table border=\"1\" class=\"dataframe\">\n",
       "  <thead>\n",
       "    <tr style=\"text-align: right;\">\n",
       "      <th></th>\n",
       "      <th>A</th>\n",
       "      <th>B</th>\n",
       "      <th>C</th>\n",
       "      <th>D</th>\n",
       "      <th>Sum</th>\n",
       "      <th>A-B</th>\n",
       "    </tr>\n",
       "  </thead>\n",
       "  <tbody>\n",
       "    <tr>\n",
       "      <th>0</th>\n",
       "      <td>1.624345</td>\n",
       "      <td>-0.611756</td>\n",
       "      <td>-0.528172</td>\n",
       "      <td>-1.072969</td>\n",
       "      <td>-0.588551</td>\n",
       "      <td>2.236102</td>\n",
       "    </tr>\n",
       "    <tr>\n",
       "      <th>1</th>\n",
       "      <td>0.865408</td>\n",
       "      <td>-2.301539</td>\n",
       "      <td>1.744812</td>\n",
       "      <td>-0.761207</td>\n",
       "      <td>-0.452526</td>\n",
       "      <td>3.166946</td>\n",
       "    </tr>\n",
       "    <tr>\n",
       "      <th>2</th>\n",
       "      <td>0.319039</td>\n",
       "      <td>-0.249370</td>\n",
       "      <td>1.462108</td>\n",
       "      <td>-2.060141</td>\n",
       "      <td>-0.528364</td>\n",
       "      <td>0.568409</td>\n",
       "    </tr>\n",
       "    <tr>\n",
       "      <th>3</th>\n",
       "      <td>-0.322417</td>\n",
       "      <td>-0.384054</td>\n",
       "      <td>1.133769</td>\n",
       "      <td>-1.099891</td>\n",
       "      <td>-0.672593</td>\n",
       "      <td>0.061637</td>\n",
       "    </tr>\n",
       "    <tr>\n",
       "      <th>4</th>\n",
       "      <td>-0.172428</td>\n",
       "      <td>-0.877858</td>\n",
       "      <td>0.042214</td>\n",
       "      <td>0.582815</td>\n",
       "      <td>-0.425258</td>\n",
       "      <td>0.705430</td>\n",
       "    </tr>\n",
       "  </tbody>\n",
       "</table>\n",
       "</div>"
      ],
      "text/plain": [
       "          A         B         C         D       Sum       A-B\n",
       "0  1.624345 -0.611756 -0.528172 -1.072969 -0.588551  2.236102\n",
       "1  0.865408 -2.301539  1.744812 -0.761207 -0.452526  3.166946\n",
       "2  0.319039 -0.249370  1.462108 -2.060141 -0.528364  0.568409\n",
       "3 -0.322417 -0.384054  1.133769 -1.099891 -0.672593  0.061637\n",
       "4 -0.172428 -0.877858  0.042214  0.582815 -0.425258  0.705430"
      ]
     },
     "execution_count": 17,
     "metadata": {},
     "output_type": "execute_result"
    }
   ],
   "source": [
    "df['A-B'] = df['A']-df['B']\n",
    "df.head()"
   ]
  },
  {
   "cell_type": "code",
   "execution_count": 18,
   "metadata": {},
   "outputs": [
    {
     "data": {
      "text/html": [
       "<div>\n",
       "<style scoped>\n",
       "    .dataframe tbody tr th:only-of-type {\n",
       "        vertical-align: middle;\n",
       "    }\n",
       "\n",
       "    .dataframe tbody tr th {\n",
       "        vertical-align: top;\n",
       "    }\n",
       "\n",
       "    .dataframe thead th {\n",
       "        text-align: right;\n",
       "    }\n",
       "</style>\n",
       "<table border=\"1\" class=\"dataframe\">\n",
       "  <thead>\n",
       "    <tr style=\"text-align: right;\">\n",
       "      <th></th>\n",
       "      <th>A</th>\n",
       "      <th>B</th>\n",
       "      <th>C</th>\n",
       "      <th>D</th>\n",
       "      <th>Sum</th>\n",
       "      <th>A-B</th>\n",
       "    </tr>\n",
       "  </thead>\n",
       "  <tbody>\n",
       "    <tr>\n",
       "      <th>0</th>\n",
       "      <td>1.624345</td>\n",
       "      <td>-0.611756</td>\n",
       "      <td>-0.528172</td>\n",
       "      <td>-1.072969</td>\n",
       "      <td>-0.588551</td>\n",
       "      <td>2.236102</td>\n",
       "    </tr>\n",
       "    <tr>\n",
       "      <th>1</th>\n",
       "      <td>0.865408</td>\n",
       "      <td>-2.301539</td>\n",
       "      <td>1.744812</td>\n",
       "      <td>-0.761207</td>\n",
       "      <td>-0.452526</td>\n",
       "      <td>3.166946</td>\n",
       "    </tr>\n",
       "    <tr>\n",
       "      <th>6</th>\n",
       "      <td>0.900856</td>\n",
       "      <td>-0.683728</td>\n",
       "      <td>-0.122890</td>\n",
       "      <td>-0.935769</td>\n",
       "      <td>-0.841532</td>\n",
       "      <td>1.584584</td>\n",
       "    </tr>\n",
       "    <tr>\n",
       "      <th>14</th>\n",
       "      <td>0.838983</td>\n",
       "      <td>0.931102</td>\n",
       "      <td>0.285587</td>\n",
       "      <td>0.885141</td>\n",
       "      <td>2.940814</td>\n",
       "      <td>-0.092119</td>\n",
       "    </tr>\n",
       "    <tr>\n",
       "      <th>16</th>\n",
       "      <td>0.488518</td>\n",
       "      <td>-0.075572</td>\n",
       "      <td>1.131629</td>\n",
       "      <td>1.519817</td>\n",
       "      <td>3.064393</td>\n",
       "      <td>0.564090</td>\n",
       "    </tr>\n",
       "  </tbody>\n",
       "</table>\n",
       "</div>"
      ],
      "text/plain": [
       "           A         B         C         D       Sum       A-B\n",
       "0   1.624345 -0.611756 -0.528172 -1.072969 -0.588551  2.236102\n",
       "1   0.865408 -2.301539  1.744812 -0.761207 -0.452526  3.166946\n",
       "6   0.900856 -0.683728 -0.122890 -0.935769 -0.841532  1.584584\n",
       "14  0.838983  0.931102  0.285587  0.885141  2.940814 -0.092119\n",
       "16  0.488518 -0.075572  1.131629  1.519817  3.064393  0.564090"
      ]
     },
     "execution_count": 18,
     "metadata": {},
     "output_type": "execute_result"
    }
   ],
   "source": [
    "df[df['A'] > .4].head()  # filter is temporary, returns subset of rows."
   ]
  },
  {
   "cell_type": "code",
   "execution_count": 19,
   "metadata": {},
   "outputs": [
    {
     "data": {
      "text/html": [
       "<div>\n",
       "<style scoped>\n",
       "    .dataframe tbody tr th:only-of-type {\n",
       "        vertical-align: middle;\n",
       "    }\n",
       "\n",
       "    .dataframe tbody tr th {\n",
       "        vertical-align: top;\n",
       "    }\n",
       "\n",
       "    .dataframe thead th {\n",
       "        text-align: right;\n",
       "    }\n",
       "</style>\n",
       "<table border=\"1\" class=\"dataframe\">\n",
       "  <thead>\n",
       "    <tr style=\"text-align: right;\">\n",
       "      <th></th>\n",
       "      <th>A</th>\n",
       "      <th>B</th>\n",
       "      <th>C</th>\n",
       "      <th>D</th>\n",
       "      <th>Sum</th>\n",
       "      <th>A-B</th>\n",
       "    </tr>\n",
       "  </thead>\n",
       "  <tbody>\n",
       "    <tr>\n",
       "      <th>0</th>\n",
       "      <td>1.624345</td>\n",
       "      <td>-0.611756</td>\n",
       "      <td>-0.528172</td>\n",
       "      <td>-1.072969</td>\n",
       "      <td>-0.588551</td>\n",
       "      <td>2.236102</td>\n",
       "    </tr>\n",
       "    <tr>\n",
       "      <th>1</th>\n",
       "      <td>0.865408</td>\n",
       "      <td>-2.301539</td>\n",
       "      <td>1.744812</td>\n",
       "      <td>-0.761207</td>\n",
       "      <td>-0.452526</td>\n",
       "      <td>3.166946</td>\n",
       "    </tr>\n",
       "    <tr>\n",
       "      <th>2</th>\n",
       "      <td>0.319039</td>\n",
       "      <td>-0.249370</td>\n",
       "      <td>1.462108</td>\n",
       "      <td>-2.060141</td>\n",
       "      <td>-0.528364</td>\n",
       "      <td>0.568409</td>\n",
       "    </tr>\n",
       "    <tr>\n",
       "      <th>3</th>\n",
       "      <td>-0.322417</td>\n",
       "      <td>-0.384054</td>\n",
       "      <td>1.133769</td>\n",
       "      <td>-1.099891</td>\n",
       "      <td>-0.672593</td>\n",
       "      <td>0.061637</td>\n",
       "    </tr>\n",
       "    <tr>\n",
       "      <th>4</th>\n",
       "      <td>-0.172428</td>\n",
       "      <td>-0.877858</td>\n",
       "      <td>0.042214</td>\n",
       "      <td>0.582815</td>\n",
       "      <td>-0.425258</td>\n",
       "      <td>0.705430</td>\n",
       "    </tr>\n",
       "  </tbody>\n",
       "</table>\n",
       "</div>"
      ],
      "text/plain": [
       "          A         B         C         D       Sum       A-B\n",
       "0  1.624345 -0.611756 -0.528172 -1.072969 -0.588551  2.236102\n",
       "1  0.865408 -2.301539  1.744812 -0.761207 -0.452526  3.166946\n",
       "2  0.319039 -0.249370  1.462108 -2.060141 -0.528364  0.568409\n",
       "3 -0.322417 -0.384054  1.133769 -1.099891 -0.672593  0.061637\n",
       "4 -0.172428 -0.877858  0.042214  0.582815 -0.425258  0.705430"
      ]
     },
     "execution_count": 19,
     "metadata": {},
     "output_type": "execute_result"
    }
   ],
   "source": [
    "df.head()  # df is back to before, without filter. "
   ]
  },
  {
   "cell_type": "code",
   "execution_count": null,
   "metadata": {},
   "outputs": [],
   "source": []
  },
  {
   "cell_type": "code",
   "execution_count": null,
   "metadata": {},
   "outputs": [],
   "source": []
  },
  {
   "cell_type": "code",
   "execution_count": 20,
   "metadata": {},
   "outputs": [],
   "source": [
    "df = pd.DataFrame(np.random.randn(100,4),columns='A B C D'.split())"
   ]
  },
  {
   "cell_type": "code",
   "execution_count": 21,
   "metadata": {},
   "outputs": [
    {
     "data": {
      "text/html": [
       "<div>\n",
       "<style scoped>\n",
       "    .dataframe tbody tr th:only-of-type {\n",
       "        vertical-align: middle;\n",
       "    }\n",
       "\n",
       "    .dataframe tbody tr th {\n",
       "        vertical-align: top;\n",
       "    }\n",
       "\n",
       "    .dataframe thead th {\n",
       "        text-align: right;\n",
       "    }\n",
       "</style>\n",
       "<table border=\"1\" class=\"dataframe\">\n",
       "  <thead>\n",
       "    <tr style=\"text-align: right;\">\n",
       "      <th></th>\n",
       "      <th>A</th>\n",
       "      <th>B</th>\n",
       "      <th>C</th>\n",
       "      <th>D</th>\n",
       "    </tr>\n",
       "  </thead>\n",
       "  <tbody>\n",
       "    <tr>\n",
       "      <th>0</th>\n",
       "      <td>-1.306534</td>\n",
       "      <td>0.076380</td>\n",
       "      <td>0.367232</td>\n",
       "      <td>1.232899</td>\n",
       "    </tr>\n",
       "    <tr>\n",
       "      <th>1</th>\n",
       "      <td>-0.422857</td>\n",
       "      <td>0.086464</td>\n",
       "      <td>-2.142467</td>\n",
       "      <td>-0.830169</td>\n",
       "    </tr>\n",
       "    <tr>\n",
       "      <th>2</th>\n",
       "      <td>0.451616</td>\n",
       "      <td>1.104174</td>\n",
       "      <td>-0.281736</td>\n",
       "      <td>2.056356</td>\n",
       "    </tr>\n",
       "    <tr>\n",
       "      <th>3</th>\n",
       "      <td>1.760249</td>\n",
       "      <td>-0.060652</td>\n",
       "      <td>-2.413503</td>\n",
       "      <td>-1.777566</td>\n",
       "    </tr>\n",
       "    <tr>\n",
       "      <th>4</th>\n",
       "      <td>-0.777859</td>\n",
       "      <td>1.115841</td>\n",
       "      <td>0.310272</td>\n",
       "      <td>-2.094248</td>\n",
       "    </tr>\n",
       "  </tbody>\n",
       "</table>\n",
       "</div>"
      ],
      "text/plain": [
       "          A         B         C         D\n",
       "0 -1.306534  0.076380  0.367232  1.232899\n",
       "1 -0.422857  0.086464 -2.142467 -0.830169\n",
       "2  0.451616  1.104174 -0.281736  2.056356\n",
       "3  1.760249 -0.060652 -2.413503 -1.777566\n",
       "4 -0.777859  1.115841  0.310272 -2.094248"
      ]
     },
     "execution_count": 21,
     "metadata": {},
     "output_type": "execute_result"
    }
   ],
   "source": [
    "df.head()"
   ]
  },
  {
   "cell_type": "code",
   "execution_count": 22,
   "metadata": {},
   "outputs": [],
   "source": [
    "df2 = pd.DataFrame({'Category':['A','B','C'],'Values':[32,43,50]})"
   ]
  },
  {
   "cell_type": "code",
   "execution_count": 23,
   "metadata": {},
   "outputs": [
    {
     "data": {
      "text/html": [
       "<div>\n",
       "<style scoped>\n",
       "    .dataframe tbody tr th:only-of-type {\n",
       "        vertical-align: middle;\n",
       "    }\n",
       "\n",
       "    .dataframe tbody tr th {\n",
       "        vertical-align: top;\n",
       "    }\n",
       "\n",
       "    .dataframe thead th {\n",
       "        text-align: right;\n",
       "    }\n",
       "</style>\n",
       "<table border=\"1\" class=\"dataframe\">\n",
       "  <thead>\n",
       "    <tr style=\"text-align: right;\">\n",
       "      <th></th>\n",
       "      <th>Category</th>\n",
       "      <th>Values</th>\n",
       "    </tr>\n",
       "  </thead>\n",
       "  <tbody>\n",
       "    <tr>\n",
       "      <th>0</th>\n",
       "      <td>A</td>\n",
       "      <td>32</td>\n",
       "    </tr>\n",
       "    <tr>\n",
       "      <th>1</th>\n",
       "      <td>B</td>\n",
       "      <td>43</td>\n",
       "    </tr>\n",
       "    <tr>\n",
       "      <th>2</th>\n",
       "      <td>C</td>\n",
       "      <td>50</td>\n",
       "    </tr>\n",
       "  </tbody>\n",
       "</table>\n",
       "</div>"
      ],
      "text/plain": [
       "  Category  Values\n",
       "0        A      32\n",
       "1        B      43\n",
       "2        C      50"
      ]
     },
     "execution_count": 23,
     "metadata": {},
     "output_type": "execute_result"
    }
   ],
   "source": [
    "df2.head()"
   ]
  },
  {
   "cell_type": "markdown",
   "metadata": {},
   "source": [
    "## Using Cufflinks and iplot()\n",
    "\n",
    "* scatter\n",
    "* bar\n",
    "* box\n",
    "* spread\n",
    "* ratio\n",
    "* heatmap\n",
    "* surface\n",
    "* histogram\n",
    "* bubble"
   ]
  },
  {
   "cell_type": "markdown",
   "metadata": {},
   "source": [
    "## Scatter"
   ]
  },
  {
   "cell_type": "code",
   "execution_count": 35,
   "metadata": {},
   "outputs": [
    {
     "data": {
      "application/vnd.plotly.v1+json": {
       "config": {
        "linkText": "Export to plot.ly",
        "plotlyServerURL": "https://plot.ly",
        "showLink": true
       },
       "data": [
        {
         "line": {
          "color": "rgba(0, 128, 0, 1.0)",
          "dash": "solid",
          "shape": "linear",
          "width": 1.3
         },
         "marker": {
          "size": 10,
          "symbol": "circle"
         },
         "mode": "markers",
         "name": "B",
         "text": "",
         "type": "scatter",
         "x": [
          -1.3065340728440185,
          -0.4228569613907754,
          0.45161595055524156,
          1.7602492264490932,
          -0.7778588266274128,
          -0.22876582887016242,
          2.054624102518116,
          0.017164726374088564,
          0.8408615581411037,
          0.46664326722884075,
          0.4512840160401709,
          -0.3312831699326283,
          -0.38483224883279044,
          0.6743961048208689,
          -0.8224671889042517,
          -0.3439007092103924,
          -0.06932869669048287,
          0.8709698025322423,
          -0.19899818380372442,
          -1.9521052872452325,
          0.515413801783241,
          1.460892380463078,
          1.0400891531540952,
          -0.4148469012882354,
          0.528879745585174,
          -1.719394474619523,
          -0.25898285340053234,
          -0.6011568006493835,
          0.1698692553475717,
          -0.8088471964721285,
          1.4428769284963092,
          0.9665392502290573,
          0.6365834094146309,
          -0.2516742076314244,
          0.684001328181953,
          -0.4244927905709274,
          -2.2271126318500145,
          1.3097059056826534,
          1.0112070637749084,
          -0.22241402852990858,
          0.8532821858237332,
          -1.6374495930083417,
          -1.3988128186664763,
          0.37167029121186534,
          0.3724568515114425,
          0.7800271353386294,
          1.1614399816743937,
          0.14164053766580517,
          0.5109377744920892,
          0.6616810764659825,
          -1.072964278711645,
          -1.4614036047221062,
          -1.3477649412536636,
          0.7852269196346882,
          1.2251558492732308,
          0.3931092448539835,
          0.8858257989659072,
          0.7433565435138623,
          -0.039178256209496685,
          -0.593343754242419,
          0.9849516717192109,
          -1.039182322034903,
          -0.5089722778228615,
          1.5754679085723808,
          1.0689716222012626,
          -0.10646012155553987,
          0.6925743475393558,
          -1.0490677451686161,
          0.41026574539684446,
          0.31815419967868935,
          0.39788042488185116,
          1.9197922864280879,
          0.7513372351604846,
          -0.49112513779081807,
          1.018552474767882,
          -0.7907999537751678,
          -0.4775808546567209,
          -0.36261208757725877,
          -0.03181717269879145,
          -0.30097615395533844,
          -2.076802021923554,
          -1.2704607763854796,
          -0.13479312929572362,
          3.3210787561703645,
          0.43598619629640983,
          0.07225189915588459,
          -0.13935180545092124,
          0.3212659144838316,
          1.2935496206633084,
          -0.9509092510507696,
          1.5392070096550627,
          0.6087836589081088,
          -2.1444440467284505,
          0.9544956665476875,
          -0.857496824739772,
          0.6778075711198115,
          1.2179409008013473,
          -0.596086334587662,
          0.425920176502816,
          1.108616757989675
         ],
         "y": [
          0.076380480159592,
          0.08646440652428741,
          1.1041743263032135,
          -0.06065249177480989,
          1.1158411079241686,
          1.6133613745631155,
          0.05340953679834792,
          -0.42914227823509377,
          -0.1028872175735376,
          1.033686867939501,
          -1.6840599858682372,
          0.3865391451330911,
          1.4581082386095199,
          -0.7223919054141509,
          0.7217112921126926,
          -1.0001691898725158,
          -0.10839206717353982,
          -0.5084571342754007,
          1.8664713751521251,
          -1.4023291454531368,
          -1.1148710523659369,
          0.5924728014240198,
          -0.918440038300026,
          0.45194603732122307,
          -2.2370865111124707,
          0.057120996082092076,
          0.1892931975586576,
          0.5560735100773853,
          -1.1640079711612021,
          0.5574394528580334,
          -0.5396815622024924,
          0.7130490503032691,
          1.4092533893640082,
          0.3827151737243639,
          -0.35340998286701436,
          -0.7315309817303334,
          -1.6993336047222958,
          -1.1549826349293644,
          -1.4765626605201803,
          1.4701603438257402,
          -0.13971173044107246,
          3.9586027040379634,
          0.08176781880561644,
          1.853009485069379,
          -0.14848980305939366,
          -0.62944160405378,
          -0.027529386267978004,
          -2.516303860965749,
          1.7106618386711354,
          0.9863521802120643,
          0.49515861120031657,
          -0.5163479086460222,
          1.470739856691369,
          -0.6648677669672133,
          -1.053546073700315,
          -1.8239198526251938,
          0.18986164938309566,
          -1.5095726842240433,
          -0.22875417122021255,
          0.5103075967452559,
          1.0712524278458908,
          0.7330232317190783,
          -0.16648595488595935,
          1.2066078980355681,
          0.040371431022839264,
          -2.7909964066938464,
          -0.4786723564156615,
          0.31665889515665435,
          0.8598709717969121,
          -0.01923163409763723,
          -0.9960108890883996,
          -1.3916938760540336,
          0.14039543644735017,
          0.1343731160397544,
          1.2305581999547246,
          1.2237222119601092,
          0.025999994185658175,
          -1.4851564513254543,
          0.11248774241419583,
          0.8074559170052702,
          0.9475011673456759,
          0.2829955338110016,
          1.0492182907525678,
          -0.6002253303773148,
          -0.6874873930601744,
          1.0097873349475586,
          -0.7285374894247015,
          -0.7252149257453662,
          -0.43899766366627757,
          -0.7043503315234588,
          -1.1487042296369459,
          -1.8814108671660597,
          -0.3695624253374333,
          0.09574677111013467,
          -0.934181843147949,
          -1.1065730673918852,
          -1.9406809643648932,
          0.8616231013412039,
          0.049080397141630476,
          -0.7029204029101687
         ]
        }
       ],
       "layout": {
        "legend": {
         "bgcolor": "#F5F6F9",
         "font": {
          "color": "#4D5663"
         }
        },
        "paper_bgcolor": "#F5F6F9",
        "plot_bgcolor": "#F5F6F9",
        "template": {
         "data": {
          "bar": [
           {
            "error_x": {
             "color": "#2a3f5f"
            },
            "error_y": {
             "color": "#2a3f5f"
            },
            "marker": {
             "line": {
              "color": "#E5ECF6",
              "width": 0.5
             }
            },
            "type": "bar"
           }
          ],
          "barpolar": [
           {
            "marker": {
             "line": {
              "color": "#E5ECF6",
              "width": 0.5
             }
            },
            "type": "barpolar"
           }
          ],
          "carpet": [
           {
            "aaxis": {
             "endlinecolor": "#2a3f5f",
             "gridcolor": "white",
             "linecolor": "white",
             "minorgridcolor": "white",
             "startlinecolor": "#2a3f5f"
            },
            "baxis": {
             "endlinecolor": "#2a3f5f",
             "gridcolor": "white",
             "linecolor": "white",
             "minorgridcolor": "white",
             "startlinecolor": "#2a3f5f"
            },
            "type": "carpet"
           }
          ],
          "choropleth": [
           {
            "colorbar": {
             "outlinewidth": 0,
             "ticks": ""
            },
            "type": "choropleth"
           }
          ],
          "contour": [
           {
            "colorbar": {
             "outlinewidth": 0,
             "ticks": ""
            },
            "colorscale": [
             [
              0,
              "#0d0887"
             ],
             [
              0.1111111111111111,
              "#46039f"
             ],
             [
              0.2222222222222222,
              "#7201a8"
             ],
             [
              0.3333333333333333,
              "#9c179e"
             ],
             [
              0.4444444444444444,
              "#bd3786"
             ],
             [
              0.5555555555555556,
              "#d8576b"
             ],
             [
              0.6666666666666666,
              "#ed7953"
             ],
             [
              0.7777777777777778,
              "#fb9f3a"
             ],
             [
              0.8888888888888888,
              "#fdca26"
             ],
             [
              1,
              "#f0f921"
             ]
            ],
            "type": "contour"
           }
          ],
          "contourcarpet": [
           {
            "colorbar": {
             "outlinewidth": 0,
             "ticks": ""
            },
            "type": "contourcarpet"
           }
          ],
          "heatmap": [
           {
            "colorbar": {
             "outlinewidth": 0,
             "ticks": ""
            },
            "colorscale": [
             [
              0,
              "#0d0887"
             ],
             [
              0.1111111111111111,
              "#46039f"
             ],
             [
              0.2222222222222222,
              "#7201a8"
             ],
             [
              0.3333333333333333,
              "#9c179e"
             ],
             [
              0.4444444444444444,
              "#bd3786"
             ],
             [
              0.5555555555555556,
              "#d8576b"
             ],
             [
              0.6666666666666666,
              "#ed7953"
             ],
             [
              0.7777777777777778,
              "#fb9f3a"
             ],
             [
              0.8888888888888888,
              "#fdca26"
             ],
             [
              1,
              "#f0f921"
             ]
            ],
            "type": "heatmap"
           }
          ],
          "heatmapgl": [
           {
            "colorbar": {
             "outlinewidth": 0,
             "ticks": ""
            },
            "colorscale": [
             [
              0,
              "#0d0887"
             ],
             [
              0.1111111111111111,
              "#46039f"
             ],
             [
              0.2222222222222222,
              "#7201a8"
             ],
             [
              0.3333333333333333,
              "#9c179e"
             ],
             [
              0.4444444444444444,
              "#bd3786"
             ],
             [
              0.5555555555555556,
              "#d8576b"
             ],
             [
              0.6666666666666666,
              "#ed7953"
             ],
             [
              0.7777777777777778,
              "#fb9f3a"
             ],
             [
              0.8888888888888888,
              "#fdca26"
             ],
             [
              1,
              "#f0f921"
             ]
            ],
            "type": "heatmapgl"
           }
          ],
          "histogram": [
           {
            "marker": {
             "colorbar": {
              "outlinewidth": 0,
              "ticks": ""
             }
            },
            "type": "histogram"
           }
          ],
          "histogram2d": [
           {
            "colorbar": {
             "outlinewidth": 0,
             "ticks": ""
            },
            "colorscale": [
             [
              0,
              "#0d0887"
             ],
             [
              0.1111111111111111,
              "#46039f"
             ],
             [
              0.2222222222222222,
              "#7201a8"
             ],
             [
              0.3333333333333333,
              "#9c179e"
             ],
             [
              0.4444444444444444,
              "#bd3786"
             ],
             [
              0.5555555555555556,
              "#d8576b"
             ],
             [
              0.6666666666666666,
              "#ed7953"
             ],
             [
              0.7777777777777778,
              "#fb9f3a"
             ],
             [
              0.8888888888888888,
              "#fdca26"
             ],
             [
              1,
              "#f0f921"
             ]
            ],
            "type": "histogram2d"
           }
          ],
          "histogram2dcontour": [
           {
            "colorbar": {
             "outlinewidth": 0,
             "ticks": ""
            },
            "colorscale": [
             [
              0,
              "#0d0887"
             ],
             [
              0.1111111111111111,
              "#46039f"
             ],
             [
              0.2222222222222222,
              "#7201a8"
             ],
             [
              0.3333333333333333,
              "#9c179e"
             ],
             [
              0.4444444444444444,
              "#bd3786"
             ],
             [
              0.5555555555555556,
              "#d8576b"
             ],
             [
              0.6666666666666666,
              "#ed7953"
             ],
             [
              0.7777777777777778,
              "#fb9f3a"
             ],
             [
              0.8888888888888888,
              "#fdca26"
             ],
             [
              1,
              "#f0f921"
             ]
            ],
            "type": "histogram2dcontour"
           }
          ],
          "mesh3d": [
           {
            "colorbar": {
             "outlinewidth": 0,
             "ticks": ""
            },
            "type": "mesh3d"
           }
          ],
          "parcoords": [
           {
            "line": {
             "colorbar": {
              "outlinewidth": 0,
              "ticks": ""
             }
            },
            "type": "parcoords"
           }
          ],
          "pie": [
           {
            "automargin": true,
            "type": "pie"
           }
          ],
          "scatter": [
           {
            "marker": {
             "colorbar": {
              "outlinewidth": 0,
              "ticks": ""
             }
            },
            "type": "scatter"
           }
          ],
          "scatter3d": [
           {
            "line": {
             "colorbar": {
              "outlinewidth": 0,
              "ticks": ""
             }
            },
            "marker": {
             "colorbar": {
              "outlinewidth": 0,
              "ticks": ""
             }
            },
            "type": "scatter3d"
           }
          ],
          "scattercarpet": [
           {
            "marker": {
             "colorbar": {
              "outlinewidth": 0,
              "ticks": ""
             }
            },
            "type": "scattercarpet"
           }
          ],
          "scattergeo": [
           {
            "marker": {
             "colorbar": {
              "outlinewidth": 0,
              "ticks": ""
             }
            },
            "type": "scattergeo"
           }
          ],
          "scattergl": [
           {
            "marker": {
             "colorbar": {
              "outlinewidth": 0,
              "ticks": ""
             }
            },
            "type": "scattergl"
           }
          ],
          "scattermapbox": [
           {
            "marker": {
             "colorbar": {
              "outlinewidth": 0,
              "ticks": ""
             }
            },
            "type": "scattermapbox"
           }
          ],
          "scatterpolar": [
           {
            "marker": {
             "colorbar": {
              "outlinewidth": 0,
              "ticks": ""
             }
            },
            "type": "scatterpolar"
           }
          ],
          "scatterpolargl": [
           {
            "marker": {
             "colorbar": {
              "outlinewidth": 0,
              "ticks": ""
             }
            },
            "type": "scatterpolargl"
           }
          ],
          "scatterternary": [
           {
            "marker": {
             "colorbar": {
              "outlinewidth": 0,
              "ticks": ""
             }
            },
            "type": "scatterternary"
           }
          ],
          "surface": [
           {
            "colorbar": {
             "outlinewidth": 0,
             "ticks": ""
            },
            "colorscale": [
             [
              0,
              "#0d0887"
             ],
             [
              0.1111111111111111,
              "#46039f"
             ],
             [
              0.2222222222222222,
              "#7201a8"
             ],
             [
              0.3333333333333333,
              "#9c179e"
             ],
             [
              0.4444444444444444,
              "#bd3786"
             ],
             [
              0.5555555555555556,
              "#d8576b"
             ],
             [
              0.6666666666666666,
              "#ed7953"
             ],
             [
              0.7777777777777778,
              "#fb9f3a"
             ],
             [
              0.8888888888888888,
              "#fdca26"
             ],
             [
              1,
              "#f0f921"
             ]
            ],
            "type": "surface"
           }
          ],
          "table": [
           {
            "cells": {
             "fill": {
              "color": "#EBF0F8"
             },
             "line": {
              "color": "white"
             }
            },
            "header": {
             "fill": {
              "color": "#C8D4E3"
             },
             "line": {
              "color": "white"
             }
            },
            "type": "table"
           }
          ]
         },
         "layout": {
          "annotationdefaults": {
           "arrowcolor": "#2a3f5f",
           "arrowhead": 0,
           "arrowwidth": 1
          },
          "autotypenumbers": "strict",
          "coloraxis": {
           "colorbar": {
            "outlinewidth": 0,
            "ticks": ""
           }
          },
          "colorscale": {
           "diverging": [
            [
             0,
             "#8e0152"
            ],
            [
             0.1,
             "#c51b7d"
            ],
            [
             0.2,
             "#de77ae"
            ],
            [
             0.3,
             "#f1b6da"
            ],
            [
             0.4,
             "#fde0ef"
            ],
            [
             0.5,
             "#f7f7f7"
            ],
            [
             0.6,
             "#e6f5d0"
            ],
            [
             0.7,
             "#b8e186"
            ],
            [
             0.8,
             "#7fbc41"
            ],
            [
             0.9,
             "#4d9221"
            ],
            [
             1,
             "#276419"
            ]
           ],
           "sequential": [
            [
             0,
             "#0d0887"
            ],
            [
             0.1111111111111111,
             "#46039f"
            ],
            [
             0.2222222222222222,
             "#7201a8"
            ],
            [
             0.3333333333333333,
             "#9c179e"
            ],
            [
             0.4444444444444444,
             "#bd3786"
            ],
            [
             0.5555555555555556,
             "#d8576b"
            ],
            [
             0.6666666666666666,
             "#ed7953"
            ],
            [
             0.7777777777777778,
             "#fb9f3a"
            ],
            [
             0.8888888888888888,
             "#fdca26"
            ],
            [
             1,
             "#f0f921"
            ]
           ],
           "sequentialminus": [
            [
             0,
             "#0d0887"
            ],
            [
             0.1111111111111111,
             "#46039f"
            ],
            [
             0.2222222222222222,
             "#7201a8"
            ],
            [
             0.3333333333333333,
             "#9c179e"
            ],
            [
             0.4444444444444444,
             "#bd3786"
            ],
            [
             0.5555555555555556,
             "#d8576b"
            ],
            [
             0.6666666666666666,
             "#ed7953"
            ],
            [
             0.7777777777777778,
             "#fb9f3a"
            ],
            [
             0.8888888888888888,
             "#fdca26"
            ],
            [
             1,
             "#f0f921"
            ]
           ]
          },
          "colorway": [
           "#636efa",
           "#EF553B",
           "#00cc96",
           "#ab63fa",
           "#FFA15A",
           "#19d3f3",
           "#FF6692",
           "#B6E880",
           "#FF97FF",
           "#FECB52"
          ],
          "font": {
           "color": "#2a3f5f"
          },
          "geo": {
           "bgcolor": "white",
           "lakecolor": "white",
           "landcolor": "#E5ECF6",
           "showlakes": true,
           "showland": true,
           "subunitcolor": "white"
          },
          "hoverlabel": {
           "align": "left"
          },
          "hovermode": "closest",
          "mapbox": {
           "style": "light"
          },
          "paper_bgcolor": "white",
          "plot_bgcolor": "#E5ECF6",
          "polar": {
           "angularaxis": {
            "gridcolor": "white",
            "linecolor": "white",
            "ticks": ""
           },
           "bgcolor": "#E5ECF6",
           "radialaxis": {
            "gridcolor": "white",
            "linecolor": "white",
            "ticks": ""
           }
          },
          "scene": {
           "xaxis": {
            "backgroundcolor": "#E5ECF6",
            "gridcolor": "white",
            "gridwidth": 2,
            "linecolor": "white",
            "showbackground": true,
            "ticks": "",
            "zerolinecolor": "white"
           },
           "yaxis": {
            "backgroundcolor": "#E5ECF6",
            "gridcolor": "white",
            "gridwidth": 2,
            "linecolor": "white",
            "showbackground": true,
            "ticks": "",
            "zerolinecolor": "white"
           },
           "zaxis": {
            "backgroundcolor": "#E5ECF6",
            "gridcolor": "white",
            "gridwidth": 2,
            "linecolor": "white",
            "showbackground": true,
            "ticks": "",
            "zerolinecolor": "white"
           }
          },
          "shapedefaults": {
           "line": {
            "color": "#2a3f5f"
           }
          },
          "ternary": {
           "aaxis": {
            "gridcolor": "white",
            "linecolor": "white",
            "ticks": ""
           },
           "baxis": {
            "gridcolor": "white",
            "linecolor": "white",
            "ticks": ""
           },
           "bgcolor": "#E5ECF6",
           "caxis": {
            "gridcolor": "white",
            "linecolor": "white",
            "ticks": ""
           }
          },
          "title": {
           "x": 0.05
          },
          "xaxis": {
           "automargin": true,
           "gridcolor": "white",
           "linecolor": "white",
           "ticks": "",
           "title": {
            "standoff": 15
           },
           "zerolinecolor": "white",
           "zerolinewidth": 2
          },
          "yaxis": {
           "automargin": true,
           "gridcolor": "white",
           "linecolor": "white",
           "ticks": "",
           "title": {
            "standoff": 15
           },
           "zerolinecolor": "white",
           "zerolinewidth": 2
          }
         }
        },
        "title": {
         "font": {
          "color": "#4D5663"
         }
        },
        "xaxis": {
         "gridcolor": "#E1E5ED",
         "showgrid": true,
         "tickfont": {
          "color": "#4D5663"
         },
         "title": {
          "font": {
           "color": "#4D5663"
          },
          "text": ""
         },
         "zerolinecolor": "#E1E5ED"
        },
        "yaxis": {
         "gridcolor": "#E1E5ED",
         "showgrid": true,
         "tickfont": {
          "color": "#4D5663"
         },
         "title": {
          "font": {
           "color": "#4D5663"
          },
          "text": ""
         },
         "zerolinecolor": "#E1E5ED"
        }
       }
      },
      "text/html": [
       "<div>                            <div id=\"157cb470-05ce-4040-87c5-f40332d10764\" class=\"plotly-graph-div\" style=\"height:525px; width:100%;\"></div>            <script type=\"text/javascript\">                require([\"plotly\"], function(Plotly) {                    window.PLOTLYENV=window.PLOTLYENV || {};\n",
       "                    window.PLOTLYENV.BASE_URL='https://plot.ly';                                    if (document.getElementById(\"157cb470-05ce-4040-87c5-f40332d10764\")) {                    Plotly.newPlot(                        \"157cb470-05ce-4040-87c5-f40332d10764\",                        [{\"line\": {\"color\": \"rgba(0, 128, 0, 1.0)\", \"dash\": \"solid\", \"shape\": \"linear\", \"width\": 1.3}, \"marker\": {\"size\": 10, \"symbol\": \"circle\"}, \"mode\": \"markers\", \"name\": \"B\", \"text\": \"\", \"type\": \"scatter\", \"x\": [-1.3065340728440185, -0.4228569613907754, 0.45161595055524156, 1.7602492264490932, -0.7778588266274128, -0.22876582887016242, 2.054624102518116, 0.017164726374088564, 0.8408615581411037, 0.46664326722884075, 0.4512840160401709, -0.3312831699326283, -0.38483224883279044, 0.6743961048208689, -0.8224671889042517, -0.3439007092103924, -0.06932869669048287, 0.8709698025322423, -0.19899818380372442, -1.9521052872452325, 0.515413801783241, 1.460892380463078, 1.0400891531540952, -0.4148469012882354, 0.528879745585174, -1.719394474619523, -0.25898285340053234, -0.6011568006493835, 0.1698692553475717, -0.8088471964721285, 1.4428769284963092, 0.9665392502290573, 0.6365834094146309, -0.2516742076314244, 0.684001328181953, -0.4244927905709274, -2.2271126318500145, 1.3097059056826534, 1.0112070637749084, -0.22241402852990858, 0.8532821858237332, -1.6374495930083417, -1.3988128186664763, 0.37167029121186534, 0.3724568515114425, 0.7800271353386294, 1.1614399816743937, 0.14164053766580517, 0.5109377744920892, 0.6616810764659825, -1.072964278711645, -1.4614036047221062, -1.3477649412536636, 0.7852269196346882, 1.2251558492732308, 0.3931092448539835, 0.8858257989659072, 0.7433565435138623, -0.039178256209496685, -0.593343754242419, 0.9849516717192109, -1.039182322034903, -0.5089722778228615, 1.5754679085723808, 1.0689716222012626, -0.10646012155553987, 0.6925743475393558, -1.0490677451686161, 0.41026574539684446, 0.31815419967868935, 0.39788042488185116, 1.9197922864280879, 0.7513372351604846, -0.49112513779081807, 1.018552474767882, -0.7907999537751678, -0.4775808546567209, -0.36261208757725877, -0.03181717269879145, -0.30097615395533844, -2.076802021923554, -1.2704607763854796, -0.13479312929572362, 3.3210787561703645, 0.43598619629640983, 0.07225189915588459, -0.13935180545092124, 0.3212659144838316, 1.2935496206633084, -0.9509092510507696, 1.5392070096550627, 0.6087836589081088, -2.1444440467284505, 0.9544956665476875, -0.857496824739772, 0.6778075711198115, 1.2179409008013473, -0.596086334587662, 0.425920176502816, 1.108616757989675], \"y\": [0.076380480159592, 0.08646440652428741, 1.1041743263032135, -0.06065249177480989, 1.1158411079241686, 1.6133613745631155, 0.05340953679834792, -0.42914227823509377, -0.1028872175735376, 1.033686867939501, -1.6840599858682372, 0.3865391451330911, 1.4581082386095199, -0.7223919054141509, 0.7217112921126926, -1.0001691898725158, -0.10839206717353982, -0.5084571342754007, 1.8664713751521251, -1.4023291454531368, -1.1148710523659369, 0.5924728014240198, -0.918440038300026, 0.45194603732122307, -2.2370865111124707, 0.057120996082092076, 0.1892931975586576, 0.5560735100773853, -1.1640079711612021, 0.5574394528580334, -0.5396815622024924, 0.7130490503032691, 1.4092533893640082, 0.3827151737243639, -0.35340998286701436, -0.7315309817303334, -1.6993336047222958, -1.1549826349293644, -1.4765626605201803, 1.4701603438257402, -0.13971173044107246, 3.9586027040379634, 0.08176781880561644, 1.853009485069379, -0.14848980305939366, -0.62944160405378, -0.027529386267978004, -2.516303860965749, 1.7106618386711354, 0.9863521802120643, 0.49515861120031657, -0.5163479086460222, 1.470739856691369, -0.6648677669672133, -1.053546073700315, -1.8239198526251938, 0.18986164938309566, -1.5095726842240433, -0.22875417122021255, 0.5103075967452559, 1.0712524278458908, 0.7330232317190783, -0.16648595488595935, 1.2066078980355681, 0.040371431022839264, -2.7909964066938464, -0.4786723564156615, 0.31665889515665435, 0.8598709717969121, -0.01923163409763723, -0.9960108890883996, -1.3916938760540336, 0.14039543644735017, 0.1343731160397544, 1.2305581999547246, 1.2237222119601092, 0.025999994185658175, -1.4851564513254543, 0.11248774241419583, 0.8074559170052702, 0.9475011673456759, 0.2829955338110016, 1.0492182907525678, -0.6002253303773148, -0.6874873930601744, 1.0097873349475586, -0.7285374894247015, -0.7252149257453662, -0.43899766366627757, -0.7043503315234588, -1.1487042296369459, -1.8814108671660597, -0.3695624253374333, 0.09574677111013467, -0.934181843147949, -1.1065730673918852, -1.9406809643648932, 0.8616231013412039, 0.049080397141630476, -0.7029204029101687]}],                        {\"legend\": {\"bgcolor\": \"#F5F6F9\", \"font\": {\"color\": \"#4D5663\"}}, \"paper_bgcolor\": \"#F5F6F9\", \"plot_bgcolor\": \"#F5F6F9\", \"template\": {\"data\": {\"bar\": [{\"error_x\": {\"color\": \"#2a3f5f\"}, \"error_y\": {\"color\": \"#2a3f5f\"}, \"marker\": {\"line\": {\"color\": \"#E5ECF6\", \"width\": 0.5}}, \"type\": \"bar\"}], \"barpolar\": [{\"marker\": {\"line\": {\"color\": \"#E5ECF6\", \"width\": 0.5}}, \"type\": \"barpolar\"}], \"carpet\": [{\"aaxis\": {\"endlinecolor\": \"#2a3f5f\", \"gridcolor\": \"white\", \"linecolor\": \"white\", \"minorgridcolor\": \"white\", \"startlinecolor\": \"#2a3f5f\"}, \"baxis\": {\"endlinecolor\": \"#2a3f5f\", \"gridcolor\": \"white\", \"linecolor\": \"white\", \"minorgridcolor\": \"white\", \"startlinecolor\": \"#2a3f5f\"}, \"type\": \"carpet\"}], \"choropleth\": [{\"colorbar\": {\"outlinewidth\": 0, \"ticks\": \"\"}, \"type\": \"choropleth\"}], \"contour\": [{\"colorbar\": {\"outlinewidth\": 0, \"ticks\": \"\"}, \"colorscale\": [[0.0, \"#0d0887\"], [0.1111111111111111, \"#46039f\"], [0.2222222222222222, \"#7201a8\"], [0.3333333333333333, \"#9c179e\"], [0.4444444444444444, \"#bd3786\"], [0.5555555555555556, \"#d8576b\"], [0.6666666666666666, \"#ed7953\"], [0.7777777777777778, \"#fb9f3a\"], [0.8888888888888888, \"#fdca26\"], [1.0, \"#f0f921\"]], \"type\": \"contour\"}], \"contourcarpet\": [{\"colorbar\": {\"outlinewidth\": 0, \"ticks\": \"\"}, \"type\": \"contourcarpet\"}], \"heatmap\": [{\"colorbar\": {\"outlinewidth\": 0, \"ticks\": \"\"}, \"colorscale\": [[0.0, \"#0d0887\"], [0.1111111111111111, \"#46039f\"], [0.2222222222222222, \"#7201a8\"], [0.3333333333333333, \"#9c179e\"], [0.4444444444444444, \"#bd3786\"], [0.5555555555555556, \"#d8576b\"], [0.6666666666666666, \"#ed7953\"], [0.7777777777777778, \"#fb9f3a\"], [0.8888888888888888, \"#fdca26\"], [1.0, \"#f0f921\"]], \"type\": \"heatmap\"}], \"heatmapgl\": [{\"colorbar\": {\"outlinewidth\": 0, \"ticks\": \"\"}, \"colorscale\": [[0.0, \"#0d0887\"], [0.1111111111111111, \"#46039f\"], [0.2222222222222222, \"#7201a8\"], [0.3333333333333333, \"#9c179e\"], [0.4444444444444444, \"#bd3786\"], [0.5555555555555556, \"#d8576b\"], [0.6666666666666666, \"#ed7953\"], [0.7777777777777778, \"#fb9f3a\"], [0.8888888888888888, \"#fdca26\"], [1.0, \"#f0f921\"]], \"type\": \"heatmapgl\"}], \"histogram\": [{\"marker\": {\"colorbar\": {\"outlinewidth\": 0, \"ticks\": \"\"}}, \"type\": \"histogram\"}], \"histogram2d\": [{\"colorbar\": {\"outlinewidth\": 0, \"ticks\": \"\"}, \"colorscale\": [[0.0, \"#0d0887\"], [0.1111111111111111, \"#46039f\"], [0.2222222222222222, \"#7201a8\"], [0.3333333333333333, \"#9c179e\"], [0.4444444444444444, \"#bd3786\"], [0.5555555555555556, \"#d8576b\"], [0.6666666666666666, \"#ed7953\"], [0.7777777777777778, \"#fb9f3a\"], [0.8888888888888888, \"#fdca26\"], [1.0, \"#f0f921\"]], \"type\": \"histogram2d\"}], \"histogram2dcontour\": [{\"colorbar\": {\"outlinewidth\": 0, \"ticks\": \"\"}, \"colorscale\": [[0.0, \"#0d0887\"], [0.1111111111111111, \"#46039f\"], [0.2222222222222222, \"#7201a8\"], [0.3333333333333333, \"#9c179e\"], [0.4444444444444444, \"#bd3786\"], [0.5555555555555556, \"#d8576b\"], [0.6666666666666666, \"#ed7953\"], [0.7777777777777778, \"#fb9f3a\"], [0.8888888888888888, \"#fdca26\"], [1.0, \"#f0f921\"]], \"type\": \"histogram2dcontour\"}], \"mesh3d\": [{\"colorbar\": {\"outlinewidth\": 0, \"ticks\": \"\"}, \"type\": \"mesh3d\"}], \"parcoords\": [{\"line\": {\"colorbar\": {\"outlinewidth\": 0, \"ticks\": \"\"}}, \"type\": \"parcoords\"}], \"pie\": [{\"automargin\": true, \"type\": \"pie\"}], \"scatter\": [{\"marker\": {\"colorbar\": {\"outlinewidth\": 0, \"ticks\": \"\"}}, \"type\": \"scatter\"}], \"scatter3d\": [{\"line\": {\"colorbar\": {\"outlinewidth\": 0, \"ticks\": \"\"}}, \"marker\": {\"colorbar\": {\"outlinewidth\": 0, \"ticks\": \"\"}}, \"type\": \"scatter3d\"}], \"scattercarpet\": [{\"marker\": {\"colorbar\": {\"outlinewidth\": 0, \"ticks\": \"\"}}, \"type\": \"scattercarpet\"}], \"scattergeo\": [{\"marker\": {\"colorbar\": {\"outlinewidth\": 0, \"ticks\": \"\"}}, \"type\": \"scattergeo\"}], \"scattergl\": [{\"marker\": {\"colorbar\": {\"outlinewidth\": 0, \"ticks\": \"\"}}, \"type\": \"scattergl\"}], \"scattermapbox\": [{\"marker\": {\"colorbar\": {\"outlinewidth\": 0, \"ticks\": \"\"}}, \"type\": \"scattermapbox\"}], \"scatterpolar\": [{\"marker\": {\"colorbar\": {\"outlinewidth\": 0, \"ticks\": \"\"}}, \"type\": \"scatterpolar\"}], \"scatterpolargl\": [{\"marker\": {\"colorbar\": {\"outlinewidth\": 0, \"ticks\": \"\"}}, \"type\": \"scatterpolargl\"}], \"scatterternary\": [{\"marker\": {\"colorbar\": {\"outlinewidth\": 0, \"ticks\": \"\"}}, \"type\": \"scatterternary\"}], \"surface\": [{\"colorbar\": {\"outlinewidth\": 0, \"ticks\": \"\"}, \"colorscale\": [[0.0, \"#0d0887\"], [0.1111111111111111, \"#46039f\"], [0.2222222222222222, \"#7201a8\"], [0.3333333333333333, \"#9c179e\"], [0.4444444444444444, \"#bd3786\"], [0.5555555555555556, \"#d8576b\"], [0.6666666666666666, \"#ed7953\"], [0.7777777777777778, \"#fb9f3a\"], [0.8888888888888888, \"#fdca26\"], [1.0, \"#f0f921\"]], \"type\": \"surface\"}], \"table\": [{\"cells\": {\"fill\": {\"color\": \"#EBF0F8\"}, \"line\": {\"color\": \"white\"}}, \"header\": {\"fill\": {\"color\": \"#C8D4E3\"}, \"line\": {\"color\": \"white\"}}, \"type\": \"table\"}]}, \"layout\": {\"annotationdefaults\": {\"arrowcolor\": \"#2a3f5f\", \"arrowhead\": 0, \"arrowwidth\": 1}, \"autotypenumbers\": \"strict\", \"coloraxis\": {\"colorbar\": {\"outlinewidth\": 0, \"ticks\": \"\"}}, \"colorscale\": {\"diverging\": [[0, \"#8e0152\"], [0.1, \"#c51b7d\"], [0.2, \"#de77ae\"], [0.3, \"#f1b6da\"], [0.4, \"#fde0ef\"], [0.5, \"#f7f7f7\"], [0.6, \"#e6f5d0\"], [0.7, \"#b8e186\"], [0.8, \"#7fbc41\"], [0.9, \"#4d9221\"], [1, \"#276419\"]], \"sequential\": [[0.0, \"#0d0887\"], [0.1111111111111111, \"#46039f\"], [0.2222222222222222, \"#7201a8\"], [0.3333333333333333, \"#9c179e\"], [0.4444444444444444, \"#bd3786\"], [0.5555555555555556, \"#d8576b\"], [0.6666666666666666, \"#ed7953\"], [0.7777777777777778, \"#fb9f3a\"], [0.8888888888888888, \"#fdca26\"], [1.0, \"#f0f921\"]], \"sequentialminus\": [[0.0, \"#0d0887\"], [0.1111111111111111, \"#46039f\"], [0.2222222222222222, \"#7201a8\"], [0.3333333333333333, \"#9c179e\"], [0.4444444444444444, \"#bd3786\"], [0.5555555555555556, \"#d8576b\"], [0.6666666666666666, \"#ed7953\"], [0.7777777777777778, \"#fb9f3a\"], [0.8888888888888888, \"#fdca26\"], [1.0, \"#f0f921\"]]}, \"colorway\": [\"#636efa\", \"#EF553B\", \"#00cc96\", \"#ab63fa\", \"#FFA15A\", \"#19d3f3\", \"#FF6692\", \"#B6E880\", \"#FF97FF\", \"#FECB52\"], \"font\": {\"color\": \"#2a3f5f\"}, \"geo\": {\"bgcolor\": \"white\", \"lakecolor\": \"white\", \"landcolor\": \"#E5ECF6\", \"showlakes\": true, \"showland\": true, \"subunitcolor\": \"white\"}, \"hoverlabel\": {\"align\": \"left\"}, \"hovermode\": \"closest\", \"mapbox\": {\"style\": \"light\"}, \"paper_bgcolor\": \"white\", \"plot_bgcolor\": \"#E5ECF6\", \"polar\": {\"angularaxis\": {\"gridcolor\": \"white\", \"linecolor\": \"white\", \"ticks\": \"\"}, \"bgcolor\": \"#E5ECF6\", \"radialaxis\": {\"gridcolor\": \"white\", \"linecolor\": \"white\", \"ticks\": \"\"}}, \"scene\": {\"xaxis\": {\"backgroundcolor\": \"#E5ECF6\", \"gridcolor\": \"white\", \"gridwidth\": 2, \"linecolor\": \"white\", \"showbackground\": true, \"ticks\": \"\", \"zerolinecolor\": \"white\"}, \"yaxis\": {\"backgroundcolor\": \"#E5ECF6\", \"gridcolor\": \"white\", \"gridwidth\": 2, \"linecolor\": \"white\", \"showbackground\": true, \"ticks\": \"\", \"zerolinecolor\": \"white\"}, \"zaxis\": {\"backgroundcolor\": \"#E5ECF6\", \"gridcolor\": \"white\", \"gridwidth\": 2, \"linecolor\": \"white\", \"showbackground\": true, \"ticks\": \"\", \"zerolinecolor\": \"white\"}}, \"shapedefaults\": {\"line\": {\"color\": \"#2a3f5f\"}}, \"ternary\": {\"aaxis\": {\"gridcolor\": \"white\", \"linecolor\": \"white\", \"ticks\": \"\"}, \"baxis\": {\"gridcolor\": \"white\", \"linecolor\": \"white\", \"ticks\": \"\"}, \"bgcolor\": \"#E5ECF6\", \"caxis\": {\"gridcolor\": \"white\", \"linecolor\": \"white\", \"ticks\": \"\"}}, \"title\": {\"x\": 0.05}, \"xaxis\": {\"automargin\": true, \"gridcolor\": \"white\", \"linecolor\": \"white\", \"ticks\": \"\", \"title\": {\"standoff\": 15}, \"zerolinecolor\": \"white\", \"zerolinewidth\": 2}, \"yaxis\": {\"automargin\": true, \"gridcolor\": \"white\", \"linecolor\": \"white\", \"ticks\": \"\", \"title\": {\"standoff\": 15}, \"zerolinecolor\": \"white\", \"zerolinewidth\": 2}}}, \"title\": {\"font\": {\"color\": \"#4D5663\"}}, \"xaxis\": {\"gridcolor\": \"#E1E5ED\", \"showgrid\": true, \"tickfont\": {\"color\": \"#4D5663\"}, \"title\": {\"font\": {\"color\": \"#4D5663\"}, \"text\": \"\"}, \"zerolinecolor\": \"#E1E5ED\"}, \"yaxis\": {\"gridcolor\": \"#E1E5ED\", \"showgrid\": true, \"tickfont\": {\"color\": \"#4D5663\"}, \"title\": {\"font\": {\"color\": \"#4D5663\"}, \"text\": \"\"}, \"zerolinecolor\": \"#E1E5ED\"}},                        {\"showLink\": true, \"linkText\": \"Export to plot.ly\", \"plotlyServerURL\": \"https://plot.ly\", \"responsive\": true}                    ).then(function(){\n",
       "                            \n",
       "var gd = document.getElementById('157cb470-05ce-4040-87c5-f40332d10764');\n",
       "var x = new MutationObserver(function (mutations, observer) {{\n",
       "        var display = window.getComputedStyle(gd).display;\n",
       "        if (!display || display === 'none') {{\n",
       "            console.log([gd, 'removed!']);\n",
       "            Plotly.purge(gd);\n",
       "            observer.disconnect();\n",
       "        }}\n",
       "}});\n",
       "\n",
       "// Listen for the removal of the full notebook cells\n",
       "var notebookContainer = gd.closest('#notebook-container');\n",
       "if (notebookContainer) {{\n",
       "    x.observe(notebookContainer, {childList: true});\n",
       "}}\n",
       "\n",
       "// Listen for the clearing of the current output cell\n",
       "var outputEl = gd.closest('.output');\n",
       "if (outputEl) {{\n",
       "    x.observe(outputEl, {childList: true});\n",
       "}}\n",
       "\n",
       "                        })                };                });            </script>        </div>"
      ]
     },
     "metadata": {},
     "output_type": "display_data"
    }
   ],
   "source": [
    "df.iplot(kind='scatter', x='A', y='B', mode='markers', size=10, color='green')"
   ]
  },
  {
   "cell_type": "code",
   "execution_count": null,
   "metadata": {},
   "outputs": [],
   "source": []
  },
  {
   "cell_type": "code",
   "execution_count": null,
   "metadata": {},
   "outputs": [],
   "source": []
  },
  {
   "cell_type": "code",
   "execution_count": 36,
   "metadata": {},
   "outputs": [
    {
     "data": {
      "application/vnd.plotly.v1+json": {
       "config": {
        "linkText": "Export to plot.ly",
        "plotlyServerURL": "https://plot.ly",
        "showLink": true
       },
       "data": [
        {
         "line": {
          "color": "rgba(255, 153, 51, 1.0)",
          "dash": "solid",
          "shape": "linear",
          "width": 1.3
         },
         "marker": {
          "size": 10,
          "symbol": "circle"
         },
         "mode": "markers",
         "name": "B",
         "text": "",
         "type": "scatter",
         "x": [
          -1.3065340728440185,
          -0.4228569613907754,
          0.45161595055524156,
          1.7602492264490932,
          -0.7778588266274128,
          -0.22876582887016242,
          2.054624102518116,
          0.017164726374088564,
          0.8408615581411037,
          0.46664326722884075,
          0.4512840160401709,
          -0.3312831699326283,
          -0.38483224883279044,
          0.6743961048208689,
          -0.8224671889042517,
          -0.3439007092103924,
          -0.06932869669048287,
          0.8709698025322423,
          -0.19899818380372442,
          -1.9521052872452325,
          0.515413801783241,
          1.460892380463078,
          1.0400891531540952,
          -0.4148469012882354,
          0.528879745585174,
          -1.719394474619523,
          -0.25898285340053234,
          -0.6011568006493835,
          0.1698692553475717,
          -0.8088471964721285,
          1.4428769284963092,
          0.9665392502290573,
          0.6365834094146309,
          -0.2516742076314244,
          0.684001328181953,
          -0.4244927905709274,
          -2.2271126318500145,
          1.3097059056826534,
          1.0112070637749084,
          -0.22241402852990858,
          0.8532821858237332,
          -1.6374495930083417,
          -1.3988128186664763,
          0.37167029121186534,
          0.3724568515114425,
          0.7800271353386294,
          1.1614399816743937,
          0.14164053766580517,
          0.5109377744920892,
          0.6616810764659825,
          -1.072964278711645,
          -1.4614036047221062,
          -1.3477649412536636,
          0.7852269196346882,
          1.2251558492732308,
          0.3931092448539835,
          0.8858257989659072,
          0.7433565435138623,
          -0.039178256209496685,
          -0.593343754242419,
          0.9849516717192109,
          -1.039182322034903,
          -0.5089722778228615,
          1.5754679085723808,
          1.0689716222012626,
          -0.10646012155553987,
          0.6925743475393558,
          -1.0490677451686161,
          0.41026574539684446,
          0.31815419967868935,
          0.39788042488185116,
          1.9197922864280879,
          0.7513372351604846,
          -0.49112513779081807,
          1.018552474767882,
          -0.7907999537751678,
          -0.4775808546567209,
          -0.36261208757725877,
          -0.03181717269879145,
          -0.30097615395533844,
          -2.076802021923554,
          -1.2704607763854796,
          -0.13479312929572362,
          3.3210787561703645,
          0.43598619629640983,
          0.07225189915588459,
          -0.13935180545092124,
          0.3212659144838316,
          1.2935496206633084,
          -0.9509092510507696,
          1.5392070096550627,
          0.6087836589081088,
          -2.1444440467284505,
          0.9544956665476875,
          -0.857496824739772,
          0.6778075711198115,
          1.2179409008013473,
          -0.596086334587662,
          0.425920176502816,
          1.108616757989675
         ],
         "y": [
          0.076380480159592,
          0.08646440652428741,
          1.1041743263032135,
          -0.06065249177480989,
          1.1158411079241686,
          1.6133613745631155,
          0.05340953679834792,
          -0.42914227823509377,
          -0.1028872175735376,
          1.033686867939501,
          -1.6840599858682372,
          0.3865391451330911,
          1.4581082386095199,
          -0.7223919054141509,
          0.7217112921126926,
          -1.0001691898725158,
          -0.10839206717353982,
          -0.5084571342754007,
          1.8664713751521251,
          -1.4023291454531368,
          -1.1148710523659369,
          0.5924728014240198,
          -0.918440038300026,
          0.45194603732122307,
          -2.2370865111124707,
          0.057120996082092076,
          0.1892931975586576,
          0.5560735100773853,
          -1.1640079711612021,
          0.5574394528580334,
          -0.5396815622024924,
          0.7130490503032691,
          1.4092533893640082,
          0.3827151737243639,
          -0.35340998286701436,
          -0.7315309817303334,
          -1.6993336047222958,
          -1.1549826349293644,
          -1.4765626605201803,
          1.4701603438257402,
          -0.13971173044107246,
          3.9586027040379634,
          0.08176781880561644,
          1.853009485069379,
          -0.14848980305939366,
          -0.62944160405378,
          -0.027529386267978004,
          -2.516303860965749,
          1.7106618386711354,
          0.9863521802120643,
          0.49515861120031657,
          -0.5163479086460222,
          1.470739856691369,
          -0.6648677669672133,
          -1.053546073700315,
          -1.8239198526251938,
          0.18986164938309566,
          -1.5095726842240433,
          -0.22875417122021255,
          0.5103075967452559,
          1.0712524278458908,
          0.7330232317190783,
          -0.16648595488595935,
          1.2066078980355681,
          0.040371431022839264,
          -2.7909964066938464,
          -0.4786723564156615,
          0.31665889515665435,
          0.8598709717969121,
          -0.01923163409763723,
          -0.9960108890883996,
          -1.3916938760540336,
          0.14039543644735017,
          0.1343731160397544,
          1.2305581999547246,
          1.2237222119601092,
          0.025999994185658175,
          -1.4851564513254543,
          0.11248774241419583,
          0.8074559170052702,
          0.9475011673456759,
          0.2829955338110016,
          1.0492182907525678,
          -0.6002253303773148,
          -0.6874873930601744,
          1.0097873349475586,
          -0.7285374894247015,
          -0.7252149257453662,
          -0.43899766366627757,
          -0.7043503315234588,
          -1.1487042296369459,
          -1.8814108671660597,
          -0.3695624253374333,
          0.09574677111013467,
          -0.934181843147949,
          -1.1065730673918852,
          -1.9406809643648932,
          0.8616231013412039,
          0.049080397141630476,
          -0.7029204029101687
         ]
        }
       ],
       "layout": {
        "legend": {
         "bgcolor": "#F5F6F9",
         "font": {
          "color": "#4D5663"
         }
        },
        "paper_bgcolor": "#F5F6F9",
        "plot_bgcolor": "#F5F6F9",
        "template": {
         "data": {
          "bar": [
           {
            "error_x": {
             "color": "#2a3f5f"
            },
            "error_y": {
             "color": "#2a3f5f"
            },
            "marker": {
             "line": {
              "color": "#E5ECF6",
              "width": 0.5
             }
            },
            "type": "bar"
           }
          ],
          "barpolar": [
           {
            "marker": {
             "line": {
              "color": "#E5ECF6",
              "width": 0.5
             }
            },
            "type": "barpolar"
           }
          ],
          "carpet": [
           {
            "aaxis": {
             "endlinecolor": "#2a3f5f",
             "gridcolor": "white",
             "linecolor": "white",
             "minorgridcolor": "white",
             "startlinecolor": "#2a3f5f"
            },
            "baxis": {
             "endlinecolor": "#2a3f5f",
             "gridcolor": "white",
             "linecolor": "white",
             "minorgridcolor": "white",
             "startlinecolor": "#2a3f5f"
            },
            "type": "carpet"
           }
          ],
          "choropleth": [
           {
            "colorbar": {
             "outlinewidth": 0,
             "ticks": ""
            },
            "type": "choropleth"
           }
          ],
          "contour": [
           {
            "colorbar": {
             "outlinewidth": 0,
             "ticks": ""
            },
            "colorscale": [
             [
              0,
              "#0d0887"
             ],
             [
              0.1111111111111111,
              "#46039f"
             ],
             [
              0.2222222222222222,
              "#7201a8"
             ],
             [
              0.3333333333333333,
              "#9c179e"
             ],
             [
              0.4444444444444444,
              "#bd3786"
             ],
             [
              0.5555555555555556,
              "#d8576b"
             ],
             [
              0.6666666666666666,
              "#ed7953"
             ],
             [
              0.7777777777777778,
              "#fb9f3a"
             ],
             [
              0.8888888888888888,
              "#fdca26"
             ],
             [
              1,
              "#f0f921"
             ]
            ],
            "type": "contour"
           }
          ],
          "contourcarpet": [
           {
            "colorbar": {
             "outlinewidth": 0,
             "ticks": ""
            },
            "type": "contourcarpet"
           }
          ],
          "heatmap": [
           {
            "colorbar": {
             "outlinewidth": 0,
             "ticks": ""
            },
            "colorscale": [
             [
              0,
              "#0d0887"
             ],
             [
              0.1111111111111111,
              "#46039f"
             ],
             [
              0.2222222222222222,
              "#7201a8"
             ],
             [
              0.3333333333333333,
              "#9c179e"
             ],
             [
              0.4444444444444444,
              "#bd3786"
             ],
             [
              0.5555555555555556,
              "#d8576b"
             ],
             [
              0.6666666666666666,
              "#ed7953"
             ],
             [
              0.7777777777777778,
              "#fb9f3a"
             ],
             [
              0.8888888888888888,
              "#fdca26"
             ],
             [
              1,
              "#f0f921"
             ]
            ],
            "type": "heatmap"
           }
          ],
          "heatmapgl": [
           {
            "colorbar": {
             "outlinewidth": 0,
             "ticks": ""
            },
            "colorscale": [
             [
              0,
              "#0d0887"
             ],
             [
              0.1111111111111111,
              "#46039f"
             ],
             [
              0.2222222222222222,
              "#7201a8"
             ],
             [
              0.3333333333333333,
              "#9c179e"
             ],
             [
              0.4444444444444444,
              "#bd3786"
             ],
             [
              0.5555555555555556,
              "#d8576b"
             ],
             [
              0.6666666666666666,
              "#ed7953"
             ],
             [
              0.7777777777777778,
              "#fb9f3a"
             ],
             [
              0.8888888888888888,
              "#fdca26"
             ],
             [
              1,
              "#f0f921"
             ]
            ],
            "type": "heatmapgl"
           }
          ],
          "histogram": [
           {
            "marker": {
             "colorbar": {
              "outlinewidth": 0,
              "ticks": ""
             }
            },
            "type": "histogram"
           }
          ],
          "histogram2d": [
           {
            "colorbar": {
             "outlinewidth": 0,
             "ticks": ""
            },
            "colorscale": [
             [
              0,
              "#0d0887"
             ],
             [
              0.1111111111111111,
              "#46039f"
             ],
             [
              0.2222222222222222,
              "#7201a8"
             ],
             [
              0.3333333333333333,
              "#9c179e"
             ],
             [
              0.4444444444444444,
              "#bd3786"
             ],
             [
              0.5555555555555556,
              "#d8576b"
             ],
             [
              0.6666666666666666,
              "#ed7953"
             ],
             [
              0.7777777777777778,
              "#fb9f3a"
             ],
             [
              0.8888888888888888,
              "#fdca26"
             ],
             [
              1,
              "#f0f921"
             ]
            ],
            "type": "histogram2d"
           }
          ],
          "histogram2dcontour": [
           {
            "colorbar": {
             "outlinewidth": 0,
             "ticks": ""
            },
            "colorscale": [
             [
              0,
              "#0d0887"
             ],
             [
              0.1111111111111111,
              "#46039f"
             ],
             [
              0.2222222222222222,
              "#7201a8"
             ],
             [
              0.3333333333333333,
              "#9c179e"
             ],
             [
              0.4444444444444444,
              "#bd3786"
             ],
             [
              0.5555555555555556,
              "#d8576b"
             ],
             [
              0.6666666666666666,
              "#ed7953"
             ],
             [
              0.7777777777777778,
              "#fb9f3a"
             ],
             [
              0.8888888888888888,
              "#fdca26"
             ],
             [
              1,
              "#f0f921"
             ]
            ],
            "type": "histogram2dcontour"
           }
          ],
          "mesh3d": [
           {
            "colorbar": {
             "outlinewidth": 0,
             "ticks": ""
            },
            "type": "mesh3d"
           }
          ],
          "parcoords": [
           {
            "line": {
             "colorbar": {
              "outlinewidth": 0,
              "ticks": ""
             }
            },
            "type": "parcoords"
           }
          ],
          "pie": [
           {
            "automargin": true,
            "type": "pie"
           }
          ],
          "scatter": [
           {
            "marker": {
             "colorbar": {
              "outlinewidth": 0,
              "ticks": ""
             }
            },
            "type": "scatter"
           }
          ],
          "scatter3d": [
           {
            "line": {
             "colorbar": {
              "outlinewidth": 0,
              "ticks": ""
             }
            },
            "marker": {
             "colorbar": {
              "outlinewidth": 0,
              "ticks": ""
             }
            },
            "type": "scatter3d"
           }
          ],
          "scattercarpet": [
           {
            "marker": {
             "colorbar": {
              "outlinewidth": 0,
              "ticks": ""
             }
            },
            "type": "scattercarpet"
           }
          ],
          "scattergeo": [
           {
            "marker": {
             "colorbar": {
              "outlinewidth": 0,
              "ticks": ""
             }
            },
            "type": "scattergeo"
           }
          ],
          "scattergl": [
           {
            "marker": {
             "colorbar": {
              "outlinewidth": 0,
              "ticks": ""
             }
            },
            "type": "scattergl"
           }
          ],
          "scattermapbox": [
           {
            "marker": {
             "colorbar": {
              "outlinewidth": 0,
              "ticks": ""
             }
            },
            "type": "scattermapbox"
           }
          ],
          "scatterpolar": [
           {
            "marker": {
             "colorbar": {
              "outlinewidth": 0,
              "ticks": ""
             }
            },
            "type": "scatterpolar"
           }
          ],
          "scatterpolargl": [
           {
            "marker": {
             "colorbar": {
              "outlinewidth": 0,
              "ticks": ""
             }
            },
            "type": "scatterpolargl"
           }
          ],
          "scatterternary": [
           {
            "marker": {
             "colorbar": {
              "outlinewidth": 0,
              "ticks": ""
             }
            },
            "type": "scatterternary"
           }
          ],
          "surface": [
           {
            "colorbar": {
             "outlinewidth": 0,
             "ticks": ""
            },
            "colorscale": [
             [
              0,
              "#0d0887"
             ],
             [
              0.1111111111111111,
              "#46039f"
             ],
             [
              0.2222222222222222,
              "#7201a8"
             ],
             [
              0.3333333333333333,
              "#9c179e"
             ],
             [
              0.4444444444444444,
              "#bd3786"
             ],
             [
              0.5555555555555556,
              "#d8576b"
             ],
             [
              0.6666666666666666,
              "#ed7953"
             ],
             [
              0.7777777777777778,
              "#fb9f3a"
             ],
             [
              0.8888888888888888,
              "#fdca26"
             ],
             [
              1,
              "#f0f921"
             ]
            ],
            "type": "surface"
           }
          ],
          "table": [
           {
            "cells": {
             "fill": {
              "color": "#EBF0F8"
             },
             "line": {
              "color": "white"
             }
            },
            "header": {
             "fill": {
              "color": "#C8D4E3"
             },
             "line": {
              "color": "white"
             }
            },
            "type": "table"
           }
          ]
         },
         "layout": {
          "annotationdefaults": {
           "arrowcolor": "#2a3f5f",
           "arrowhead": 0,
           "arrowwidth": 1
          },
          "autotypenumbers": "strict",
          "coloraxis": {
           "colorbar": {
            "outlinewidth": 0,
            "ticks": ""
           }
          },
          "colorscale": {
           "diverging": [
            [
             0,
             "#8e0152"
            ],
            [
             0.1,
             "#c51b7d"
            ],
            [
             0.2,
             "#de77ae"
            ],
            [
             0.3,
             "#f1b6da"
            ],
            [
             0.4,
             "#fde0ef"
            ],
            [
             0.5,
             "#f7f7f7"
            ],
            [
             0.6,
             "#e6f5d0"
            ],
            [
             0.7,
             "#b8e186"
            ],
            [
             0.8,
             "#7fbc41"
            ],
            [
             0.9,
             "#4d9221"
            ],
            [
             1,
             "#276419"
            ]
           ],
           "sequential": [
            [
             0,
             "#0d0887"
            ],
            [
             0.1111111111111111,
             "#46039f"
            ],
            [
             0.2222222222222222,
             "#7201a8"
            ],
            [
             0.3333333333333333,
             "#9c179e"
            ],
            [
             0.4444444444444444,
             "#bd3786"
            ],
            [
             0.5555555555555556,
             "#d8576b"
            ],
            [
             0.6666666666666666,
             "#ed7953"
            ],
            [
             0.7777777777777778,
             "#fb9f3a"
            ],
            [
             0.8888888888888888,
             "#fdca26"
            ],
            [
             1,
             "#f0f921"
            ]
           ],
           "sequentialminus": [
            [
             0,
             "#0d0887"
            ],
            [
             0.1111111111111111,
             "#46039f"
            ],
            [
             0.2222222222222222,
             "#7201a8"
            ],
            [
             0.3333333333333333,
             "#9c179e"
            ],
            [
             0.4444444444444444,
             "#bd3786"
            ],
            [
             0.5555555555555556,
             "#d8576b"
            ],
            [
             0.6666666666666666,
             "#ed7953"
            ],
            [
             0.7777777777777778,
             "#fb9f3a"
            ],
            [
             0.8888888888888888,
             "#fdca26"
            ],
            [
             1,
             "#f0f921"
            ]
           ]
          },
          "colorway": [
           "#636efa",
           "#EF553B",
           "#00cc96",
           "#ab63fa",
           "#FFA15A",
           "#19d3f3",
           "#FF6692",
           "#B6E880",
           "#FF97FF",
           "#FECB52"
          ],
          "font": {
           "color": "#2a3f5f"
          },
          "geo": {
           "bgcolor": "white",
           "lakecolor": "white",
           "landcolor": "#E5ECF6",
           "showlakes": true,
           "showland": true,
           "subunitcolor": "white"
          },
          "hoverlabel": {
           "align": "left"
          },
          "hovermode": "closest",
          "mapbox": {
           "style": "light"
          },
          "paper_bgcolor": "white",
          "plot_bgcolor": "#E5ECF6",
          "polar": {
           "angularaxis": {
            "gridcolor": "white",
            "linecolor": "white",
            "ticks": ""
           },
           "bgcolor": "#E5ECF6",
           "radialaxis": {
            "gridcolor": "white",
            "linecolor": "white",
            "ticks": ""
           }
          },
          "scene": {
           "xaxis": {
            "backgroundcolor": "#E5ECF6",
            "gridcolor": "white",
            "gridwidth": 2,
            "linecolor": "white",
            "showbackground": true,
            "ticks": "",
            "zerolinecolor": "white"
           },
           "yaxis": {
            "backgroundcolor": "#E5ECF6",
            "gridcolor": "white",
            "gridwidth": 2,
            "linecolor": "white",
            "showbackground": true,
            "ticks": "",
            "zerolinecolor": "white"
           },
           "zaxis": {
            "backgroundcolor": "#E5ECF6",
            "gridcolor": "white",
            "gridwidth": 2,
            "linecolor": "white",
            "showbackground": true,
            "ticks": "",
            "zerolinecolor": "white"
           }
          },
          "shapedefaults": {
           "line": {
            "color": "#2a3f5f"
           }
          },
          "ternary": {
           "aaxis": {
            "gridcolor": "white",
            "linecolor": "white",
            "ticks": ""
           },
           "baxis": {
            "gridcolor": "white",
            "linecolor": "white",
            "ticks": ""
           },
           "bgcolor": "#E5ECF6",
           "caxis": {
            "gridcolor": "white",
            "linecolor": "white",
            "ticks": ""
           }
          },
          "title": {
           "x": 0.05
          },
          "xaxis": {
           "automargin": true,
           "gridcolor": "white",
           "linecolor": "white",
           "ticks": "",
           "title": {
            "standoff": 15
           },
           "zerolinecolor": "white",
           "zerolinewidth": 2
          },
          "yaxis": {
           "automargin": true,
           "gridcolor": "white",
           "linecolor": "white",
           "ticks": "",
           "title": {
            "standoff": 15
           },
           "zerolinecolor": "white",
           "zerolinewidth": 2
          }
         }
        },
        "title": {
         "font": {
          "color": "#4D5663"
         }
        },
        "xaxis": {
         "gridcolor": "#E1E5ED",
         "showgrid": true,
         "tickfont": {
          "color": "#4D5663"
         },
         "title": {
          "font": {
           "color": "#4D5663"
          },
          "text": ""
         },
         "zerolinecolor": "#E1E5ED"
        },
        "yaxis": {
         "gridcolor": "#E1E5ED",
         "showgrid": true,
         "tickfont": {
          "color": "#4D5663"
         },
         "title": {
          "font": {
           "color": "#4D5663"
          },
          "text": ""
         },
         "zerolinecolor": "#E1E5ED"
        }
       }
      },
      "text/html": [
       "<div>                            <div id=\"eae40dd3-b086-450e-8629-e265f589bbe7\" class=\"plotly-graph-div\" style=\"height:525px; width:100%;\"></div>            <script type=\"text/javascript\">                require([\"plotly\"], function(Plotly) {                    window.PLOTLYENV=window.PLOTLYENV || {};\n",
       "                    window.PLOTLYENV.BASE_URL='https://plot.ly';                                    if (document.getElementById(\"eae40dd3-b086-450e-8629-e265f589bbe7\")) {                    Plotly.newPlot(                        \"eae40dd3-b086-450e-8629-e265f589bbe7\",                        [{\"line\": {\"color\": \"rgba(255, 153, 51, 1.0)\", \"dash\": \"solid\", \"shape\": \"linear\", \"width\": 1.3}, \"marker\": {\"size\": 10, \"symbol\": \"circle\"}, \"mode\": \"markers\", \"name\": \"B\", \"text\": \"\", \"type\": \"scatter\", \"x\": [-1.3065340728440185, -0.4228569613907754, 0.45161595055524156, 1.7602492264490932, -0.7778588266274128, -0.22876582887016242, 2.054624102518116, 0.017164726374088564, 0.8408615581411037, 0.46664326722884075, 0.4512840160401709, -0.3312831699326283, -0.38483224883279044, 0.6743961048208689, -0.8224671889042517, -0.3439007092103924, -0.06932869669048287, 0.8709698025322423, -0.19899818380372442, -1.9521052872452325, 0.515413801783241, 1.460892380463078, 1.0400891531540952, -0.4148469012882354, 0.528879745585174, -1.719394474619523, -0.25898285340053234, -0.6011568006493835, 0.1698692553475717, -0.8088471964721285, 1.4428769284963092, 0.9665392502290573, 0.6365834094146309, -0.2516742076314244, 0.684001328181953, -0.4244927905709274, -2.2271126318500145, 1.3097059056826534, 1.0112070637749084, -0.22241402852990858, 0.8532821858237332, -1.6374495930083417, -1.3988128186664763, 0.37167029121186534, 0.3724568515114425, 0.7800271353386294, 1.1614399816743937, 0.14164053766580517, 0.5109377744920892, 0.6616810764659825, -1.072964278711645, -1.4614036047221062, -1.3477649412536636, 0.7852269196346882, 1.2251558492732308, 0.3931092448539835, 0.8858257989659072, 0.7433565435138623, -0.039178256209496685, -0.593343754242419, 0.9849516717192109, -1.039182322034903, -0.5089722778228615, 1.5754679085723808, 1.0689716222012626, -0.10646012155553987, 0.6925743475393558, -1.0490677451686161, 0.41026574539684446, 0.31815419967868935, 0.39788042488185116, 1.9197922864280879, 0.7513372351604846, -0.49112513779081807, 1.018552474767882, -0.7907999537751678, -0.4775808546567209, -0.36261208757725877, -0.03181717269879145, -0.30097615395533844, -2.076802021923554, -1.2704607763854796, -0.13479312929572362, 3.3210787561703645, 0.43598619629640983, 0.07225189915588459, -0.13935180545092124, 0.3212659144838316, 1.2935496206633084, -0.9509092510507696, 1.5392070096550627, 0.6087836589081088, -2.1444440467284505, 0.9544956665476875, -0.857496824739772, 0.6778075711198115, 1.2179409008013473, -0.596086334587662, 0.425920176502816, 1.108616757989675], \"y\": [0.076380480159592, 0.08646440652428741, 1.1041743263032135, -0.06065249177480989, 1.1158411079241686, 1.6133613745631155, 0.05340953679834792, -0.42914227823509377, -0.1028872175735376, 1.033686867939501, -1.6840599858682372, 0.3865391451330911, 1.4581082386095199, -0.7223919054141509, 0.7217112921126926, -1.0001691898725158, -0.10839206717353982, -0.5084571342754007, 1.8664713751521251, -1.4023291454531368, -1.1148710523659369, 0.5924728014240198, -0.918440038300026, 0.45194603732122307, -2.2370865111124707, 0.057120996082092076, 0.1892931975586576, 0.5560735100773853, -1.1640079711612021, 0.5574394528580334, -0.5396815622024924, 0.7130490503032691, 1.4092533893640082, 0.3827151737243639, -0.35340998286701436, -0.7315309817303334, -1.6993336047222958, -1.1549826349293644, -1.4765626605201803, 1.4701603438257402, -0.13971173044107246, 3.9586027040379634, 0.08176781880561644, 1.853009485069379, -0.14848980305939366, -0.62944160405378, -0.027529386267978004, -2.516303860965749, 1.7106618386711354, 0.9863521802120643, 0.49515861120031657, -0.5163479086460222, 1.470739856691369, -0.6648677669672133, -1.053546073700315, -1.8239198526251938, 0.18986164938309566, -1.5095726842240433, -0.22875417122021255, 0.5103075967452559, 1.0712524278458908, 0.7330232317190783, -0.16648595488595935, 1.2066078980355681, 0.040371431022839264, -2.7909964066938464, -0.4786723564156615, 0.31665889515665435, 0.8598709717969121, -0.01923163409763723, -0.9960108890883996, -1.3916938760540336, 0.14039543644735017, 0.1343731160397544, 1.2305581999547246, 1.2237222119601092, 0.025999994185658175, -1.4851564513254543, 0.11248774241419583, 0.8074559170052702, 0.9475011673456759, 0.2829955338110016, 1.0492182907525678, -0.6002253303773148, -0.6874873930601744, 1.0097873349475586, -0.7285374894247015, -0.7252149257453662, -0.43899766366627757, -0.7043503315234588, -1.1487042296369459, -1.8814108671660597, -0.3695624253374333, 0.09574677111013467, -0.934181843147949, -1.1065730673918852, -1.9406809643648932, 0.8616231013412039, 0.049080397141630476, -0.7029204029101687]}],                        {\"legend\": {\"bgcolor\": \"#F5F6F9\", \"font\": {\"color\": \"#4D5663\"}}, \"paper_bgcolor\": \"#F5F6F9\", \"plot_bgcolor\": \"#F5F6F9\", \"template\": {\"data\": {\"bar\": [{\"error_x\": {\"color\": \"#2a3f5f\"}, \"error_y\": {\"color\": \"#2a3f5f\"}, \"marker\": {\"line\": {\"color\": \"#E5ECF6\", \"width\": 0.5}}, \"type\": \"bar\"}], \"barpolar\": [{\"marker\": {\"line\": {\"color\": \"#E5ECF6\", \"width\": 0.5}}, \"type\": \"barpolar\"}], \"carpet\": [{\"aaxis\": {\"endlinecolor\": \"#2a3f5f\", \"gridcolor\": \"white\", \"linecolor\": \"white\", \"minorgridcolor\": \"white\", \"startlinecolor\": \"#2a3f5f\"}, \"baxis\": {\"endlinecolor\": \"#2a3f5f\", \"gridcolor\": \"white\", \"linecolor\": \"white\", \"minorgridcolor\": \"white\", \"startlinecolor\": \"#2a3f5f\"}, \"type\": \"carpet\"}], \"choropleth\": [{\"colorbar\": {\"outlinewidth\": 0, \"ticks\": \"\"}, \"type\": \"choropleth\"}], \"contour\": [{\"colorbar\": {\"outlinewidth\": 0, \"ticks\": \"\"}, \"colorscale\": [[0.0, \"#0d0887\"], [0.1111111111111111, \"#46039f\"], [0.2222222222222222, \"#7201a8\"], [0.3333333333333333, \"#9c179e\"], [0.4444444444444444, \"#bd3786\"], [0.5555555555555556, \"#d8576b\"], [0.6666666666666666, \"#ed7953\"], [0.7777777777777778, \"#fb9f3a\"], [0.8888888888888888, \"#fdca26\"], [1.0, \"#f0f921\"]], \"type\": \"contour\"}], \"contourcarpet\": [{\"colorbar\": {\"outlinewidth\": 0, \"ticks\": \"\"}, \"type\": \"contourcarpet\"}], \"heatmap\": [{\"colorbar\": {\"outlinewidth\": 0, \"ticks\": \"\"}, \"colorscale\": [[0.0, \"#0d0887\"], [0.1111111111111111, \"#46039f\"], [0.2222222222222222, \"#7201a8\"], [0.3333333333333333, \"#9c179e\"], [0.4444444444444444, \"#bd3786\"], [0.5555555555555556, \"#d8576b\"], [0.6666666666666666, \"#ed7953\"], [0.7777777777777778, \"#fb9f3a\"], [0.8888888888888888, \"#fdca26\"], [1.0, \"#f0f921\"]], \"type\": \"heatmap\"}], \"heatmapgl\": [{\"colorbar\": {\"outlinewidth\": 0, \"ticks\": \"\"}, \"colorscale\": [[0.0, \"#0d0887\"], [0.1111111111111111, \"#46039f\"], [0.2222222222222222, \"#7201a8\"], [0.3333333333333333, \"#9c179e\"], [0.4444444444444444, \"#bd3786\"], [0.5555555555555556, \"#d8576b\"], [0.6666666666666666, \"#ed7953\"], [0.7777777777777778, \"#fb9f3a\"], [0.8888888888888888, \"#fdca26\"], [1.0, \"#f0f921\"]], \"type\": \"heatmapgl\"}], \"histogram\": [{\"marker\": {\"colorbar\": {\"outlinewidth\": 0, \"ticks\": \"\"}}, \"type\": \"histogram\"}], \"histogram2d\": [{\"colorbar\": {\"outlinewidth\": 0, \"ticks\": \"\"}, \"colorscale\": [[0.0, \"#0d0887\"], [0.1111111111111111, \"#46039f\"], [0.2222222222222222, \"#7201a8\"], [0.3333333333333333, \"#9c179e\"], [0.4444444444444444, \"#bd3786\"], [0.5555555555555556, \"#d8576b\"], [0.6666666666666666, \"#ed7953\"], [0.7777777777777778, \"#fb9f3a\"], [0.8888888888888888, \"#fdca26\"], [1.0, \"#f0f921\"]], \"type\": \"histogram2d\"}], \"histogram2dcontour\": [{\"colorbar\": {\"outlinewidth\": 0, \"ticks\": \"\"}, \"colorscale\": [[0.0, \"#0d0887\"], [0.1111111111111111, \"#46039f\"], [0.2222222222222222, \"#7201a8\"], [0.3333333333333333, \"#9c179e\"], [0.4444444444444444, \"#bd3786\"], [0.5555555555555556, \"#d8576b\"], [0.6666666666666666, \"#ed7953\"], [0.7777777777777778, \"#fb9f3a\"], [0.8888888888888888, \"#fdca26\"], [1.0, \"#f0f921\"]], \"type\": \"histogram2dcontour\"}], \"mesh3d\": [{\"colorbar\": {\"outlinewidth\": 0, \"ticks\": \"\"}, \"type\": \"mesh3d\"}], \"parcoords\": [{\"line\": {\"colorbar\": {\"outlinewidth\": 0, \"ticks\": \"\"}}, \"type\": \"parcoords\"}], \"pie\": [{\"automargin\": true, \"type\": \"pie\"}], \"scatter\": [{\"marker\": {\"colorbar\": {\"outlinewidth\": 0, \"ticks\": \"\"}}, \"type\": \"scatter\"}], \"scatter3d\": [{\"line\": {\"colorbar\": {\"outlinewidth\": 0, \"ticks\": \"\"}}, \"marker\": {\"colorbar\": {\"outlinewidth\": 0, \"ticks\": \"\"}}, \"type\": \"scatter3d\"}], \"scattercarpet\": [{\"marker\": {\"colorbar\": {\"outlinewidth\": 0, \"ticks\": \"\"}}, \"type\": \"scattercarpet\"}], \"scattergeo\": [{\"marker\": {\"colorbar\": {\"outlinewidth\": 0, \"ticks\": \"\"}}, \"type\": \"scattergeo\"}], \"scattergl\": [{\"marker\": {\"colorbar\": {\"outlinewidth\": 0, \"ticks\": \"\"}}, \"type\": \"scattergl\"}], \"scattermapbox\": [{\"marker\": {\"colorbar\": {\"outlinewidth\": 0, \"ticks\": \"\"}}, \"type\": \"scattermapbox\"}], \"scatterpolar\": [{\"marker\": {\"colorbar\": {\"outlinewidth\": 0, \"ticks\": \"\"}}, \"type\": \"scatterpolar\"}], \"scatterpolargl\": [{\"marker\": {\"colorbar\": {\"outlinewidth\": 0, \"ticks\": \"\"}}, \"type\": \"scatterpolargl\"}], \"scatterternary\": [{\"marker\": {\"colorbar\": {\"outlinewidth\": 0, \"ticks\": \"\"}}, \"type\": \"scatterternary\"}], \"surface\": [{\"colorbar\": {\"outlinewidth\": 0, \"ticks\": \"\"}, \"colorscale\": [[0.0, \"#0d0887\"], [0.1111111111111111, \"#46039f\"], [0.2222222222222222, \"#7201a8\"], [0.3333333333333333, \"#9c179e\"], [0.4444444444444444, \"#bd3786\"], [0.5555555555555556, \"#d8576b\"], [0.6666666666666666, \"#ed7953\"], [0.7777777777777778, \"#fb9f3a\"], [0.8888888888888888, \"#fdca26\"], [1.0, \"#f0f921\"]], \"type\": \"surface\"}], \"table\": [{\"cells\": {\"fill\": {\"color\": \"#EBF0F8\"}, \"line\": {\"color\": \"white\"}}, \"header\": {\"fill\": {\"color\": \"#C8D4E3\"}, \"line\": {\"color\": \"white\"}}, \"type\": \"table\"}]}, \"layout\": {\"annotationdefaults\": {\"arrowcolor\": \"#2a3f5f\", \"arrowhead\": 0, \"arrowwidth\": 1}, \"autotypenumbers\": \"strict\", \"coloraxis\": {\"colorbar\": {\"outlinewidth\": 0, \"ticks\": \"\"}}, \"colorscale\": {\"diverging\": [[0, \"#8e0152\"], [0.1, \"#c51b7d\"], [0.2, \"#de77ae\"], [0.3, \"#f1b6da\"], [0.4, \"#fde0ef\"], [0.5, \"#f7f7f7\"], [0.6, \"#e6f5d0\"], [0.7, \"#b8e186\"], [0.8, \"#7fbc41\"], [0.9, \"#4d9221\"], [1, \"#276419\"]], \"sequential\": [[0.0, \"#0d0887\"], [0.1111111111111111, \"#46039f\"], [0.2222222222222222, \"#7201a8\"], [0.3333333333333333, \"#9c179e\"], [0.4444444444444444, \"#bd3786\"], [0.5555555555555556, \"#d8576b\"], [0.6666666666666666, \"#ed7953\"], [0.7777777777777778, \"#fb9f3a\"], [0.8888888888888888, \"#fdca26\"], [1.0, \"#f0f921\"]], \"sequentialminus\": [[0.0, \"#0d0887\"], [0.1111111111111111, \"#46039f\"], [0.2222222222222222, \"#7201a8\"], [0.3333333333333333, \"#9c179e\"], [0.4444444444444444, \"#bd3786\"], [0.5555555555555556, \"#d8576b\"], [0.6666666666666666, \"#ed7953\"], [0.7777777777777778, \"#fb9f3a\"], [0.8888888888888888, \"#fdca26\"], [1.0, \"#f0f921\"]]}, \"colorway\": [\"#636efa\", \"#EF553B\", \"#00cc96\", \"#ab63fa\", \"#FFA15A\", \"#19d3f3\", \"#FF6692\", \"#B6E880\", \"#FF97FF\", \"#FECB52\"], \"font\": {\"color\": \"#2a3f5f\"}, \"geo\": {\"bgcolor\": \"white\", \"lakecolor\": \"white\", \"landcolor\": \"#E5ECF6\", \"showlakes\": true, \"showland\": true, \"subunitcolor\": \"white\"}, \"hoverlabel\": {\"align\": \"left\"}, \"hovermode\": \"closest\", \"mapbox\": {\"style\": \"light\"}, \"paper_bgcolor\": \"white\", \"plot_bgcolor\": \"#E5ECF6\", \"polar\": {\"angularaxis\": {\"gridcolor\": \"white\", \"linecolor\": \"white\", \"ticks\": \"\"}, \"bgcolor\": \"#E5ECF6\", \"radialaxis\": {\"gridcolor\": \"white\", \"linecolor\": \"white\", \"ticks\": \"\"}}, \"scene\": {\"xaxis\": {\"backgroundcolor\": \"#E5ECF6\", \"gridcolor\": \"white\", \"gridwidth\": 2, \"linecolor\": \"white\", \"showbackground\": true, \"ticks\": \"\", \"zerolinecolor\": \"white\"}, \"yaxis\": {\"backgroundcolor\": \"#E5ECF6\", \"gridcolor\": \"white\", \"gridwidth\": 2, \"linecolor\": \"white\", \"showbackground\": true, \"ticks\": \"\", \"zerolinecolor\": \"white\"}, \"zaxis\": {\"backgroundcolor\": \"#E5ECF6\", \"gridcolor\": \"white\", \"gridwidth\": 2, \"linecolor\": \"white\", \"showbackground\": true, \"ticks\": \"\", \"zerolinecolor\": \"white\"}}, \"shapedefaults\": {\"line\": {\"color\": \"#2a3f5f\"}}, \"ternary\": {\"aaxis\": {\"gridcolor\": \"white\", \"linecolor\": \"white\", \"ticks\": \"\"}, \"baxis\": {\"gridcolor\": \"white\", \"linecolor\": \"white\", \"ticks\": \"\"}, \"bgcolor\": \"#E5ECF6\", \"caxis\": {\"gridcolor\": \"white\", \"linecolor\": \"white\", \"ticks\": \"\"}}, \"title\": {\"x\": 0.05}, \"xaxis\": {\"automargin\": true, \"gridcolor\": \"white\", \"linecolor\": \"white\", \"ticks\": \"\", \"title\": {\"standoff\": 15}, \"zerolinecolor\": \"white\", \"zerolinewidth\": 2}, \"yaxis\": {\"automargin\": true, \"gridcolor\": \"white\", \"linecolor\": \"white\", \"ticks\": \"\", \"title\": {\"standoff\": 15}, \"zerolinecolor\": \"white\", \"zerolinewidth\": 2}}}, \"title\": {\"font\": {\"color\": \"#4D5663\"}}, \"xaxis\": {\"gridcolor\": \"#E1E5ED\", \"showgrid\": true, \"tickfont\": {\"color\": \"#4D5663\"}, \"title\": {\"font\": {\"color\": \"#4D5663\"}, \"text\": \"\"}, \"zerolinecolor\": \"#E1E5ED\"}, \"yaxis\": {\"gridcolor\": \"#E1E5ED\", \"showgrid\": true, \"tickfont\": {\"color\": \"#4D5663\"}, \"title\": {\"font\": {\"color\": \"#4D5663\"}, \"text\": \"\"}, \"zerolinecolor\": \"#E1E5ED\"}},                        {\"showLink\": true, \"linkText\": \"Export to plot.ly\", \"plotlyServerURL\": \"https://plot.ly\", \"responsive\": true}                    ).then(function(){\n",
       "                            \n",
       "var gd = document.getElementById('eae40dd3-b086-450e-8629-e265f589bbe7');\n",
       "var x = new MutationObserver(function (mutations, observer) {{\n",
       "        var display = window.getComputedStyle(gd).display;\n",
       "        if (!display || display === 'none') {{\n",
       "            console.log([gd, 'removed!']);\n",
       "            Plotly.purge(gd);\n",
       "            observer.disconnect();\n",
       "        }}\n",
       "}});\n",
       "\n",
       "// Listen for the removal of the full notebook cells\n",
       "var notebookContainer = gd.closest('#notebook-container');\n",
       "if (notebookContainer) {{\n",
       "    x.observe(notebookContainer, {childList: true});\n",
       "}}\n",
       "\n",
       "// Listen for the clearing of the current output cell\n",
       "var outputEl = gd.closest('.output');\n",
       "if (outputEl) {{\n",
       "    x.observe(outputEl, {childList: true});\n",
       "}}\n",
       "\n",
       "                        })                };                });            </script>        </div>"
      ]
     },
     "metadata": {},
     "output_type": "display_data"
    }
   ],
   "source": [
    "df.iplot(kind='scatter',x='A',y='B',mode='markers',size=10)"
   ]
  },
  {
   "cell_type": "markdown",
   "metadata": {},
   "source": [
    "## Bar Plots"
   ]
  },
  {
   "cell_type": "code",
   "execution_count": 44,
   "metadata": {},
   "outputs": [
    {
     "data": {
      "application/vnd.plotly.v1+json": {
       "config": {
        "linkText": "Export to plot.ly",
        "plotlyServerURL": "https://plot.ly",
        "showLink": true
       },
       "data": [
        {
         "marker": {
          "color": "rgba(55, 128, 191, 0.6)",
          "line": {
           "color": "rgba(55, 128, 191, 1.0)",
           "width": 1
          }
         },
         "name": "Values",
         "orientation": "v",
         "text": "",
         "type": "bar",
         "x": [
          "A",
          "B",
          "C"
         ],
         "y": [
          32,
          43,
          50
         ]
        }
       ],
       "layout": {
        "legend": {
         "bgcolor": "#F5F6F9",
         "font": {
          "color": "#4D5663"
         }
        },
        "paper_bgcolor": "#F5F6F9",
        "plot_bgcolor": "#F5F6F9",
        "template": {
         "data": {
          "bar": [
           {
            "error_x": {
             "color": "#2a3f5f"
            },
            "error_y": {
             "color": "#2a3f5f"
            },
            "marker": {
             "line": {
              "color": "#E5ECF6",
              "width": 0.5
             }
            },
            "type": "bar"
           }
          ],
          "barpolar": [
           {
            "marker": {
             "line": {
              "color": "#E5ECF6",
              "width": 0.5
             }
            },
            "type": "barpolar"
           }
          ],
          "carpet": [
           {
            "aaxis": {
             "endlinecolor": "#2a3f5f",
             "gridcolor": "white",
             "linecolor": "white",
             "minorgridcolor": "white",
             "startlinecolor": "#2a3f5f"
            },
            "baxis": {
             "endlinecolor": "#2a3f5f",
             "gridcolor": "white",
             "linecolor": "white",
             "minorgridcolor": "white",
             "startlinecolor": "#2a3f5f"
            },
            "type": "carpet"
           }
          ],
          "choropleth": [
           {
            "colorbar": {
             "outlinewidth": 0,
             "ticks": ""
            },
            "type": "choropleth"
           }
          ],
          "contour": [
           {
            "colorbar": {
             "outlinewidth": 0,
             "ticks": ""
            },
            "colorscale": [
             [
              0,
              "#0d0887"
             ],
             [
              0.1111111111111111,
              "#46039f"
             ],
             [
              0.2222222222222222,
              "#7201a8"
             ],
             [
              0.3333333333333333,
              "#9c179e"
             ],
             [
              0.4444444444444444,
              "#bd3786"
             ],
             [
              0.5555555555555556,
              "#d8576b"
             ],
             [
              0.6666666666666666,
              "#ed7953"
             ],
             [
              0.7777777777777778,
              "#fb9f3a"
             ],
             [
              0.8888888888888888,
              "#fdca26"
             ],
             [
              1,
              "#f0f921"
             ]
            ],
            "type": "contour"
           }
          ],
          "contourcarpet": [
           {
            "colorbar": {
             "outlinewidth": 0,
             "ticks": ""
            },
            "type": "contourcarpet"
           }
          ],
          "heatmap": [
           {
            "colorbar": {
             "outlinewidth": 0,
             "ticks": ""
            },
            "colorscale": [
             [
              0,
              "#0d0887"
             ],
             [
              0.1111111111111111,
              "#46039f"
             ],
             [
              0.2222222222222222,
              "#7201a8"
             ],
             [
              0.3333333333333333,
              "#9c179e"
             ],
             [
              0.4444444444444444,
              "#bd3786"
             ],
             [
              0.5555555555555556,
              "#d8576b"
             ],
             [
              0.6666666666666666,
              "#ed7953"
             ],
             [
              0.7777777777777778,
              "#fb9f3a"
             ],
             [
              0.8888888888888888,
              "#fdca26"
             ],
             [
              1,
              "#f0f921"
             ]
            ],
            "type": "heatmap"
           }
          ],
          "heatmapgl": [
           {
            "colorbar": {
             "outlinewidth": 0,
             "ticks": ""
            },
            "colorscale": [
             [
              0,
              "#0d0887"
             ],
             [
              0.1111111111111111,
              "#46039f"
             ],
             [
              0.2222222222222222,
              "#7201a8"
             ],
             [
              0.3333333333333333,
              "#9c179e"
             ],
             [
              0.4444444444444444,
              "#bd3786"
             ],
             [
              0.5555555555555556,
              "#d8576b"
             ],
             [
              0.6666666666666666,
              "#ed7953"
             ],
             [
              0.7777777777777778,
              "#fb9f3a"
             ],
             [
              0.8888888888888888,
              "#fdca26"
             ],
             [
              1,
              "#f0f921"
             ]
            ],
            "type": "heatmapgl"
           }
          ],
          "histogram": [
           {
            "marker": {
             "colorbar": {
              "outlinewidth": 0,
              "ticks": ""
             }
            },
            "type": "histogram"
           }
          ],
          "histogram2d": [
           {
            "colorbar": {
             "outlinewidth": 0,
             "ticks": ""
            },
            "colorscale": [
             [
              0,
              "#0d0887"
             ],
             [
              0.1111111111111111,
              "#46039f"
             ],
             [
              0.2222222222222222,
              "#7201a8"
             ],
             [
              0.3333333333333333,
              "#9c179e"
             ],
             [
              0.4444444444444444,
              "#bd3786"
             ],
             [
              0.5555555555555556,
              "#d8576b"
             ],
             [
              0.6666666666666666,
              "#ed7953"
             ],
             [
              0.7777777777777778,
              "#fb9f3a"
             ],
             [
              0.8888888888888888,
              "#fdca26"
             ],
             [
              1,
              "#f0f921"
             ]
            ],
            "type": "histogram2d"
           }
          ],
          "histogram2dcontour": [
           {
            "colorbar": {
             "outlinewidth": 0,
             "ticks": ""
            },
            "colorscale": [
             [
              0,
              "#0d0887"
             ],
             [
              0.1111111111111111,
              "#46039f"
             ],
             [
              0.2222222222222222,
              "#7201a8"
             ],
             [
              0.3333333333333333,
              "#9c179e"
             ],
             [
              0.4444444444444444,
              "#bd3786"
             ],
             [
              0.5555555555555556,
              "#d8576b"
             ],
             [
              0.6666666666666666,
              "#ed7953"
             ],
             [
              0.7777777777777778,
              "#fb9f3a"
             ],
             [
              0.8888888888888888,
              "#fdca26"
             ],
             [
              1,
              "#f0f921"
             ]
            ],
            "type": "histogram2dcontour"
           }
          ],
          "mesh3d": [
           {
            "colorbar": {
             "outlinewidth": 0,
             "ticks": ""
            },
            "type": "mesh3d"
           }
          ],
          "parcoords": [
           {
            "line": {
             "colorbar": {
              "outlinewidth": 0,
              "ticks": ""
             }
            },
            "type": "parcoords"
           }
          ],
          "pie": [
           {
            "automargin": true,
            "type": "pie"
           }
          ],
          "scatter": [
           {
            "marker": {
             "colorbar": {
              "outlinewidth": 0,
              "ticks": ""
             }
            },
            "type": "scatter"
           }
          ],
          "scatter3d": [
           {
            "line": {
             "colorbar": {
              "outlinewidth": 0,
              "ticks": ""
             }
            },
            "marker": {
             "colorbar": {
              "outlinewidth": 0,
              "ticks": ""
             }
            },
            "type": "scatter3d"
           }
          ],
          "scattercarpet": [
           {
            "marker": {
             "colorbar": {
              "outlinewidth": 0,
              "ticks": ""
             }
            },
            "type": "scattercarpet"
           }
          ],
          "scattergeo": [
           {
            "marker": {
             "colorbar": {
              "outlinewidth": 0,
              "ticks": ""
             }
            },
            "type": "scattergeo"
           }
          ],
          "scattergl": [
           {
            "marker": {
             "colorbar": {
              "outlinewidth": 0,
              "ticks": ""
             }
            },
            "type": "scattergl"
           }
          ],
          "scattermapbox": [
           {
            "marker": {
             "colorbar": {
              "outlinewidth": 0,
              "ticks": ""
             }
            },
            "type": "scattermapbox"
           }
          ],
          "scatterpolar": [
           {
            "marker": {
             "colorbar": {
              "outlinewidth": 0,
              "ticks": ""
             }
            },
            "type": "scatterpolar"
           }
          ],
          "scatterpolargl": [
           {
            "marker": {
             "colorbar": {
              "outlinewidth": 0,
              "ticks": ""
             }
            },
            "type": "scatterpolargl"
           }
          ],
          "scatterternary": [
           {
            "marker": {
             "colorbar": {
              "outlinewidth": 0,
              "ticks": ""
             }
            },
            "type": "scatterternary"
           }
          ],
          "surface": [
           {
            "colorbar": {
             "outlinewidth": 0,
             "ticks": ""
            },
            "colorscale": [
             [
              0,
              "#0d0887"
             ],
             [
              0.1111111111111111,
              "#46039f"
             ],
             [
              0.2222222222222222,
              "#7201a8"
             ],
             [
              0.3333333333333333,
              "#9c179e"
             ],
             [
              0.4444444444444444,
              "#bd3786"
             ],
             [
              0.5555555555555556,
              "#d8576b"
             ],
             [
              0.6666666666666666,
              "#ed7953"
             ],
             [
              0.7777777777777778,
              "#fb9f3a"
             ],
             [
              0.8888888888888888,
              "#fdca26"
             ],
             [
              1,
              "#f0f921"
             ]
            ],
            "type": "surface"
           }
          ],
          "table": [
           {
            "cells": {
             "fill": {
              "color": "#EBF0F8"
             },
             "line": {
              "color": "white"
             }
            },
            "header": {
             "fill": {
              "color": "#C8D4E3"
             },
             "line": {
              "color": "white"
             }
            },
            "type": "table"
           }
          ]
         },
         "layout": {
          "annotationdefaults": {
           "arrowcolor": "#2a3f5f",
           "arrowhead": 0,
           "arrowwidth": 1
          },
          "autotypenumbers": "strict",
          "coloraxis": {
           "colorbar": {
            "outlinewidth": 0,
            "ticks": ""
           }
          },
          "colorscale": {
           "diverging": [
            [
             0,
             "#8e0152"
            ],
            [
             0.1,
             "#c51b7d"
            ],
            [
             0.2,
             "#de77ae"
            ],
            [
             0.3,
             "#f1b6da"
            ],
            [
             0.4,
             "#fde0ef"
            ],
            [
             0.5,
             "#f7f7f7"
            ],
            [
             0.6,
             "#e6f5d0"
            ],
            [
             0.7,
             "#b8e186"
            ],
            [
             0.8,
             "#7fbc41"
            ],
            [
             0.9,
             "#4d9221"
            ],
            [
             1,
             "#276419"
            ]
           ],
           "sequential": [
            [
             0,
             "#0d0887"
            ],
            [
             0.1111111111111111,
             "#46039f"
            ],
            [
             0.2222222222222222,
             "#7201a8"
            ],
            [
             0.3333333333333333,
             "#9c179e"
            ],
            [
             0.4444444444444444,
             "#bd3786"
            ],
            [
             0.5555555555555556,
             "#d8576b"
            ],
            [
             0.6666666666666666,
             "#ed7953"
            ],
            [
             0.7777777777777778,
             "#fb9f3a"
            ],
            [
             0.8888888888888888,
             "#fdca26"
            ],
            [
             1,
             "#f0f921"
            ]
           ],
           "sequentialminus": [
            [
             0,
             "#0d0887"
            ],
            [
             0.1111111111111111,
             "#46039f"
            ],
            [
             0.2222222222222222,
             "#7201a8"
            ],
            [
             0.3333333333333333,
             "#9c179e"
            ],
            [
             0.4444444444444444,
             "#bd3786"
            ],
            [
             0.5555555555555556,
             "#d8576b"
            ],
            [
             0.6666666666666666,
             "#ed7953"
            ],
            [
             0.7777777777777778,
             "#fb9f3a"
            ],
            [
             0.8888888888888888,
             "#fdca26"
            ],
            [
             1,
             "#f0f921"
            ]
           ]
          },
          "colorway": [
           "#636efa",
           "#EF553B",
           "#00cc96",
           "#ab63fa",
           "#FFA15A",
           "#19d3f3",
           "#FF6692",
           "#B6E880",
           "#FF97FF",
           "#FECB52"
          ],
          "font": {
           "color": "#2a3f5f"
          },
          "geo": {
           "bgcolor": "white",
           "lakecolor": "white",
           "landcolor": "#E5ECF6",
           "showlakes": true,
           "showland": true,
           "subunitcolor": "white"
          },
          "hoverlabel": {
           "align": "left"
          },
          "hovermode": "closest",
          "mapbox": {
           "style": "light"
          },
          "paper_bgcolor": "white",
          "plot_bgcolor": "#E5ECF6",
          "polar": {
           "angularaxis": {
            "gridcolor": "white",
            "linecolor": "white",
            "ticks": ""
           },
           "bgcolor": "#E5ECF6",
           "radialaxis": {
            "gridcolor": "white",
            "linecolor": "white",
            "ticks": ""
           }
          },
          "scene": {
           "xaxis": {
            "backgroundcolor": "#E5ECF6",
            "gridcolor": "white",
            "gridwidth": 2,
            "linecolor": "white",
            "showbackground": true,
            "ticks": "",
            "zerolinecolor": "white"
           },
           "yaxis": {
            "backgroundcolor": "#E5ECF6",
            "gridcolor": "white",
            "gridwidth": 2,
            "linecolor": "white",
            "showbackground": true,
            "ticks": "",
            "zerolinecolor": "white"
           },
           "zaxis": {
            "backgroundcolor": "#E5ECF6",
            "gridcolor": "white",
            "gridwidth": 2,
            "linecolor": "white",
            "showbackground": true,
            "ticks": "",
            "zerolinecolor": "white"
           }
          },
          "shapedefaults": {
           "line": {
            "color": "#2a3f5f"
           }
          },
          "ternary": {
           "aaxis": {
            "gridcolor": "white",
            "linecolor": "white",
            "ticks": ""
           },
           "baxis": {
            "gridcolor": "white",
            "linecolor": "white",
            "ticks": ""
           },
           "bgcolor": "#E5ECF6",
           "caxis": {
            "gridcolor": "white",
            "linecolor": "white",
            "ticks": ""
           }
          },
          "title": {
           "x": 0.05
          },
          "xaxis": {
           "automargin": true,
           "gridcolor": "white",
           "linecolor": "white",
           "ticks": "",
           "title": {
            "standoff": 15
           },
           "zerolinecolor": "white",
           "zerolinewidth": 2
          },
          "yaxis": {
           "automargin": true,
           "gridcolor": "white",
           "linecolor": "white",
           "ticks": "",
           "title": {
            "standoff": 15
           },
           "zerolinecolor": "white",
           "zerolinewidth": 2
          }
         }
        },
        "title": {
         "font": {
          "color": "#4D5663"
         }
        },
        "xaxis": {
         "gridcolor": "#E1E5ED",
         "showgrid": true,
         "tickfont": {
          "color": "#4D5663"
         },
         "title": {
          "font": {
           "color": "#4D5663"
          },
          "text": ""
         },
         "zerolinecolor": "#E1E5ED"
        },
        "yaxis": {
         "gridcolor": "#E1E5ED",
         "showgrid": true,
         "tickfont": {
          "color": "#4D5663"
         },
         "title": {
          "font": {
           "color": "#4D5663"
          },
          "text": ""
         },
         "zerolinecolor": "#E1E5ED"
        }
       }
      },
      "text/html": [
       "<div>                            <div id=\"15bd999e-d2cf-44fc-af08-74e64a7c9d32\" class=\"plotly-graph-div\" style=\"height:525px; width:100%;\"></div>            <script type=\"text/javascript\">                require([\"plotly\"], function(Plotly) {                    window.PLOTLYENV=window.PLOTLYENV || {};\n",
       "                    window.PLOTLYENV.BASE_URL='https://plot.ly';                                    if (document.getElementById(\"15bd999e-d2cf-44fc-af08-74e64a7c9d32\")) {                    Plotly.newPlot(                        \"15bd999e-d2cf-44fc-af08-74e64a7c9d32\",                        [{\"marker\": {\"color\": \"rgba(55, 128, 191, 0.6)\", \"line\": {\"color\": \"rgba(55, 128, 191, 1.0)\", \"width\": 1}}, \"name\": \"Values\", \"orientation\": \"v\", \"text\": \"\", \"type\": \"bar\", \"x\": [\"A\", \"B\", \"C\"], \"y\": [32, 43, 50]}],                        {\"legend\": {\"bgcolor\": \"#F5F6F9\", \"font\": {\"color\": \"#4D5663\"}}, \"paper_bgcolor\": \"#F5F6F9\", \"plot_bgcolor\": \"#F5F6F9\", \"template\": {\"data\": {\"bar\": [{\"error_x\": {\"color\": \"#2a3f5f\"}, \"error_y\": {\"color\": \"#2a3f5f\"}, \"marker\": {\"line\": {\"color\": \"#E5ECF6\", \"width\": 0.5}}, \"type\": \"bar\"}], \"barpolar\": [{\"marker\": {\"line\": {\"color\": \"#E5ECF6\", \"width\": 0.5}}, \"type\": \"barpolar\"}], \"carpet\": [{\"aaxis\": {\"endlinecolor\": \"#2a3f5f\", \"gridcolor\": \"white\", \"linecolor\": \"white\", \"minorgridcolor\": \"white\", \"startlinecolor\": \"#2a3f5f\"}, \"baxis\": {\"endlinecolor\": \"#2a3f5f\", \"gridcolor\": \"white\", \"linecolor\": \"white\", \"minorgridcolor\": \"white\", \"startlinecolor\": \"#2a3f5f\"}, \"type\": \"carpet\"}], \"choropleth\": [{\"colorbar\": {\"outlinewidth\": 0, \"ticks\": \"\"}, \"type\": \"choropleth\"}], \"contour\": [{\"colorbar\": {\"outlinewidth\": 0, \"ticks\": \"\"}, \"colorscale\": [[0.0, \"#0d0887\"], [0.1111111111111111, \"#46039f\"], [0.2222222222222222, \"#7201a8\"], [0.3333333333333333, \"#9c179e\"], [0.4444444444444444, \"#bd3786\"], [0.5555555555555556, \"#d8576b\"], [0.6666666666666666, \"#ed7953\"], [0.7777777777777778, \"#fb9f3a\"], [0.8888888888888888, \"#fdca26\"], [1.0, \"#f0f921\"]], \"type\": \"contour\"}], \"contourcarpet\": [{\"colorbar\": {\"outlinewidth\": 0, \"ticks\": \"\"}, \"type\": \"contourcarpet\"}], \"heatmap\": [{\"colorbar\": {\"outlinewidth\": 0, \"ticks\": \"\"}, \"colorscale\": [[0.0, \"#0d0887\"], [0.1111111111111111, \"#46039f\"], [0.2222222222222222, \"#7201a8\"], [0.3333333333333333, \"#9c179e\"], [0.4444444444444444, \"#bd3786\"], [0.5555555555555556, \"#d8576b\"], [0.6666666666666666, \"#ed7953\"], [0.7777777777777778, \"#fb9f3a\"], [0.8888888888888888, \"#fdca26\"], [1.0, \"#f0f921\"]], \"type\": \"heatmap\"}], \"heatmapgl\": [{\"colorbar\": {\"outlinewidth\": 0, \"ticks\": \"\"}, \"colorscale\": [[0.0, \"#0d0887\"], [0.1111111111111111, \"#46039f\"], [0.2222222222222222, \"#7201a8\"], [0.3333333333333333, \"#9c179e\"], [0.4444444444444444, \"#bd3786\"], [0.5555555555555556, \"#d8576b\"], [0.6666666666666666, \"#ed7953\"], [0.7777777777777778, \"#fb9f3a\"], [0.8888888888888888, \"#fdca26\"], [1.0, \"#f0f921\"]], \"type\": \"heatmapgl\"}], \"histogram\": [{\"marker\": {\"colorbar\": {\"outlinewidth\": 0, \"ticks\": \"\"}}, \"type\": \"histogram\"}], \"histogram2d\": [{\"colorbar\": {\"outlinewidth\": 0, \"ticks\": \"\"}, \"colorscale\": [[0.0, \"#0d0887\"], [0.1111111111111111, \"#46039f\"], [0.2222222222222222, \"#7201a8\"], [0.3333333333333333, \"#9c179e\"], [0.4444444444444444, \"#bd3786\"], [0.5555555555555556, \"#d8576b\"], [0.6666666666666666, \"#ed7953\"], [0.7777777777777778, \"#fb9f3a\"], [0.8888888888888888, \"#fdca26\"], [1.0, \"#f0f921\"]], \"type\": \"histogram2d\"}], \"histogram2dcontour\": [{\"colorbar\": {\"outlinewidth\": 0, \"ticks\": \"\"}, \"colorscale\": [[0.0, \"#0d0887\"], [0.1111111111111111, \"#46039f\"], [0.2222222222222222, \"#7201a8\"], [0.3333333333333333, \"#9c179e\"], [0.4444444444444444, \"#bd3786\"], [0.5555555555555556, \"#d8576b\"], [0.6666666666666666, \"#ed7953\"], [0.7777777777777778, \"#fb9f3a\"], [0.8888888888888888, \"#fdca26\"], [1.0, \"#f0f921\"]], \"type\": \"histogram2dcontour\"}], \"mesh3d\": [{\"colorbar\": {\"outlinewidth\": 0, \"ticks\": \"\"}, \"type\": \"mesh3d\"}], \"parcoords\": [{\"line\": {\"colorbar\": {\"outlinewidth\": 0, \"ticks\": \"\"}}, \"type\": \"parcoords\"}], \"pie\": [{\"automargin\": true, \"type\": \"pie\"}], \"scatter\": [{\"marker\": {\"colorbar\": {\"outlinewidth\": 0, \"ticks\": \"\"}}, \"type\": \"scatter\"}], \"scatter3d\": [{\"line\": {\"colorbar\": {\"outlinewidth\": 0, \"ticks\": \"\"}}, \"marker\": {\"colorbar\": {\"outlinewidth\": 0, \"ticks\": \"\"}}, \"type\": \"scatter3d\"}], \"scattercarpet\": [{\"marker\": {\"colorbar\": {\"outlinewidth\": 0, \"ticks\": \"\"}}, \"type\": \"scattercarpet\"}], \"scattergeo\": [{\"marker\": {\"colorbar\": {\"outlinewidth\": 0, \"ticks\": \"\"}}, \"type\": \"scattergeo\"}], \"scattergl\": [{\"marker\": {\"colorbar\": {\"outlinewidth\": 0, \"ticks\": \"\"}}, \"type\": \"scattergl\"}], \"scattermapbox\": [{\"marker\": {\"colorbar\": {\"outlinewidth\": 0, \"ticks\": \"\"}}, \"type\": \"scattermapbox\"}], \"scatterpolar\": [{\"marker\": {\"colorbar\": {\"outlinewidth\": 0, \"ticks\": \"\"}}, \"type\": \"scatterpolar\"}], \"scatterpolargl\": [{\"marker\": {\"colorbar\": {\"outlinewidth\": 0, \"ticks\": \"\"}}, \"type\": \"scatterpolargl\"}], \"scatterternary\": [{\"marker\": {\"colorbar\": {\"outlinewidth\": 0, \"ticks\": \"\"}}, \"type\": \"scatterternary\"}], \"surface\": [{\"colorbar\": {\"outlinewidth\": 0, \"ticks\": \"\"}, \"colorscale\": [[0.0, \"#0d0887\"], [0.1111111111111111, \"#46039f\"], [0.2222222222222222, \"#7201a8\"], [0.3333333333333333, \"#9c179e\"], [0.4444444444444444, \"#bd3786\"], [0.5555555555555556, \"#d8576b\"], [0.6666666666666666, \"#ed7953\"], [0.7777777777777778, \"#fb9f3a\"], [0.8888888888888888, \"#fdca26\"], [1.0, \"#f0f921\"]], \"type\": \"surface\"}], \"table\": [{\"cells\": {\"fill\": {\"color\": \"#EBF0F8\"}, \"line\": {\"color\": \"white\"}}, \"header\": {\"fill\": {\"color\": \"#C8D4E3\"}, \"line\": {\"color\": \"white\"}}, \"type\": \"table\"}]}, \"layout\": {\"annotationdefaults\": {\"arrowcolor\": \"#2a3f5f\", \"arrowhead\": 0, \"arrowwidth\": 1}, \"autotypenumbers\": \"strict\", \"coloraxis\": {\"colorbar\": {\"outlinewidth\": 0, \"ticks\": \"\"}}, \"colorscale\": {\"diverging\": [[0, \"#8e0152\"], [0.1, \"#c51b7d\"], [0.2, \"#de77ae\"], [0.3, \"#f1b6da\"], [0.4, \"#fde0ef\"], [0.5, \"#f7f7f7\"], [0.6, \"#e6f5d0\"], [0.7, \"#b8e186\"], [0.8, \"#7fbc41\"], [0.9, \"#4d9221\"], [1, \"#276419\"]], \"sequential\": [[0.0, \"#0d0887\"], [0.1111111111111111, \"#46039f\"], [0.2222222222222222, \"#7201a8\"], [0.3333333333333333, \"#9c179e\"], [0.4444444444444444, \"#bd3786\"], [0.5555555555555556, \"#d8576b\"], [0.6666666666666666, \"#ed7953\"], [0.7777777777777778, \"#fb9f3a\"], [0.8888888888888888, \"#fdca26\"], [1.0, \"#f0f921\"]], \"sequentialminus\": [[0.0, \"#0d0887\"], [0.1111111111111111, \"#46039f\"], [0.2222222222222222, \"#7201a8\"], [0.3333333333333333, \"#9c179e\"], [0.4444444444444444, \"#bd3786\"], [0.5555555555555556, \"#d8576b\"], [0.6666666666666666, \"#ed7953\"], [0.7777777777777778, \"#fb9f3a\"], [0.8888888888888888, \"#fdca26\"], [1.0, \"#f0f921\"]]}, \"colorway\": [\"#636efa\", \"#EF553B\", \"#00cc96\", \"#ab63fa\", \"#FFA15A\", \"#19d3f3\", \"#FF6692\", \"#B6E880\", \"#FF97FF\", \"#FECB52\"], \"font\": {\"color\": \"#2a3f5f\"}, \"geo\": {\"bgcolor\": \"white\", \"lakecolor\": \"white\", \"landcolor\": \"#E5ECF6\", \"showlakes\": true, \"showland\": true, \"subunitcolor\": \"white\"}, \"hoverlabel\": {\"align\": \"left\"}, \"hovermode\": \"closest\", \"mapbox\": {\"style\": \"light\"}, \"paper_bgcolor\": \"white\", \"plot_bgcolor\": \"#E5ECF6\", \"polar\": {\"angularaxis\": {\"gridcolor\": \"white\", \"linecolor\": \"white\", \"ticks\": \"\"}, \"bgcolor\": \"#E5ECF6\", \"radialaxis\": {\"gridcolor\": \"white\", \"linecolor\": \"white\", \"ticks\": \"\"}}, \"scene\": {\"xaxis\": {\"backgroundcolor\": \"#E5ECF6\", \"gridcolor\": \"white\", \"gridwidth\": 2, \"linecolor\": \"white\", \"showbackground\": true, \"ticks\": \"\", \"zerolinecolor\": \"white\"}, \"yaxis\": {\"backgroundcolor\": \"#E5ECF6\", \"gridcolor\": \"white\", \"gridwidth\": 2, \"linecolor\": \"white\", \"showbackground\": true, \"ticks\": \"\", \"zerolinecolor\": \"white\"}, \"zaxis\": {\"backgroundcolor\": \"#E5ECF6\", \"gridcolor\": \"white\", \"gridwidth\": 2, \"linecolor\": \"white\", \"showbackground\": true, \"ticks\": \"\", \"zerolinecolor\": \"white\"}}, \"shapedefaults\": {\"line\": {\"color\": \"#2a3f5f\"}}, \"ternary\": {\"aaxis\": {\"gridcolor\": \"white\", \"linecolor\": \"white\", \"ticks\": \"\"}, \"baxis\": {\"gridcolor\": \"white\", \"linecolor\": \"white\", \"ticks\": \"\"}, \"bgcolor\": \"#E5ECF6\", \"caxis\": {\"gridcolor\": \"white\", \"linecolor\": \"white\", \"ticks\": \"\"}}, \"title\": {\"x\": 0.05}, \"xaxis\": {\"automargin\": true, \"gridcolor\": \"white\", \"linecolor\": \"white\", \"ticks\": \"\", \"title\": {\"standoff\": 15}, \"zerolinecolor\": \"white\", \"zerolinewidth\": 2}, \"yaxis\": {\"automargin\": true, \"gridcolor\": \"white\", \"linecolor\": \"white\", \"ticks\": \"\", \"title\": {\"standoff\": 15}, \"zerolinecolor\": \"white\", \"zerolinewidth\": 2}}}, \"title\": {\"font\": {\"color\": \"#4D5663\"}}, \"xaxis\": {\"gridcolor\": \"#E1E5ED\", \"showgrid\": true, \"tickfont\": {\"color\": \"#4D5663\"}, \"title\": {\"font\": {\"color\": \"#4D5663\"}, \"text\": \"\"}, \"zerolinecolor\": \"#E1E5ED\"}, \"yaxis\": {\"gridcolor\": \"#E1E5ED\", \"showgrid\": true, \"tickfont\": {\"color\": \"#4D5663\"}, \"title\": {\"font\": {\"color\": \"#4D5663\"}, \"text\": \"\"}, \"zerolinecolor\": \"#E1E5ED\"}},                        {\"showLink\": true, \"linkText\": \"Export to plot.ly\", \"plotlyServerURL\": \"https://plot.ly\", \"responsive\": true}                    ).then(function(){\n",
       "                            \n",
       "var gd = document.getElementById('15bd999e-d2cf-44fc-af08-74e64a7c9d32');\n",
       "var x = new MutationObserver(function (mutations, observer) {{\n",
       "        var display = window.getComputedStyle(gd).display;\n",
       "        if (!display || display === 'none') {{\n",
       "            console.log([gd, 'removed!']);\n",
       "            Plotly.purge(gd);\n",
       "            observer.disconnect();\n",
       "        }}\n",
       "}});\n",
       "\n",
       "// Listen for the removal of the full notebook cells\n",
       "var notebookContainer = gd.closest('#notebook-container');\n",
       "if (notebookContainer) {{\n",
       "    x.observe(notebookContainer, {childList: true});\n",
       "}}\n",
       "\n",
       "// Listen for the clearing of the current output cell\n",
       "var outputEl = gd.closest('.output');\n",
       "if (outputEl) {{\n",
       "    x.observe(outputEl, {childList: true});\n",
       "}}\n",
       "\n",
       "                        })                };                });            </script>        </div>"
      ]
     },
     "metadata": {},
     "output_type": "display_data"
    }
   ],
   "source": [
    "df2.iplot(kind='bar', x='Category', y='Values', color='blue')"
   ]
  },
  {
   "cell_type": "code",
   "execution_count": 28,
   "metadata": {},
   "outputs": [
    {
     "data": {
      "text/html": [
       "<div id=\"316c2996-ca86-4faf-82a5-fb1d12abc321\" style=\"height: 525px; width: 100%;\" class=\"plotly-graph-div\"></div><script type=\"text/javascript\">require([\"plotly\"], function(Plotly) { window.PLOTLYENV=window.PLOTLYENV || {};window.PLOTLYENV.BASE_URL=\"https://plot.ly\";Plotly.newPlot(\"316c2996-ca86-4faf-82a5-fb1d12abc321\", [{\"x\": [\"A\", \"B\", \"C\"], \"text\": \"\", \"orientation\": \"v\", \"name\": \"Values\", \"type\": \"bar\", \"marker\": {\"line\": {\"width\": 1, \"color\": \"rgba(226, 74, 51, 1.0)\"}, \"color\": \"rgba(226, 74, 51, 0.6)\"}, \"y\": [32, 43, 50]}], {\"legend\": {\"font\": {\"color\": \"#666666\"}, \"bgcolor\": \"#FFFFFF\"}, \"titlefont\": {\"color\": \"#151516\"}, \"xaxis1\": {\"titlefont\": {\"color\": \"#666666\"}, \"zerolinecolor\": \"#F6F6F6\", \"title\": \"\", \"tickfont\": {\"color\": \"#666666\"}, \"showgrid\": true, \"gridcolor\": \"#F6F6F6\"}, \"paper_bgcolor\": \"#FFFFFF\", \"plot_bgcolor\": \"#E5E5E5\", \"yaxis1\": {\"titlefont\": {\"color\": \"#666666\"}, \"zerolinecolor\": \"#F6F6F6\", \"title\": \"\", \"tickfont\": {\"color\": \"#666666\"}, \"showgrid\": true, \"gridcolor\": \"#F6F6F6\"}}, {\"showLink\": true, \"linkText\": \"Export to plot.ly\"})});</script>"
      ],
      "text/plain": [
       "<IPython.core.display.HTML object>"
      ]
     },
     "metadata": {},
     "output_type": "display_data"
    }
   ],
   "source": [
    "df2.iplot(kind='bar',x='Category',y='Values')"
   ]
  },
  {
   "cell_type": "code",
   "execution_count": 33,
   "metadata": {},
   "outputs": [
    {
     "data": {
      "text/html": [
       "<div id=\"0f3d8847-73f9-4d83-a41a-ea5e36c6d128\" style=\"height: 525px; width: 100%;\" class=\"plotly-graph-div\"></div><script type=\"text/javascript\">require([\"plotly\"], function(Plotly) { window.PLOTLYENV=window.PLOTLYENV || {};window.PLOTLYENV.BASE_URL=\"https://plot.ly\";Plotly.newPlot(\"0f3d8847-73f9-4d83-a41a-ea5e36c6d128\", [{\"x\": [\"A\", \"B\", \"C\", \"D\"], \"text\": \"\", \"orientation\": \"v\", \"name\": \"None\", \"type\": \"bar\", \"marker\": {\"line\": {\"width\": 1, \"color\": \"rgba(226, 74, 51, 1.0)\"}, \"color\": \"rgba(226, 74, 51, 0.6)\"}, \"y\": [100, 100, 100, 100]}], {\"legend\": {\"font\": {\"color\": \"#666666\"}, \"bgcolor\": \"#FFFFFF\"}, \"titlefont\": {\"color\": \"#151516\"}, \"xaxis1\": {\"titlefont\": {\"color\": \"#666666\"}, \"zerolinecolor\": \"#F6F6F6\", \"title\": \"\", \"tickfont\": {\"color\": \"#666666\"}, \"showgrid\": true, \"gridcolor\": \"#F6F6F6\"}, \"paper_bgcolor\": \"#FFFFFF\", \"plot_bgcolor\": \"#E5E5E5\", \"yaxis1\": {\"titlefont\": {\"color\": \"#666666\"}, \"zerolinecolor\": \"#F6F6F6\", \"title\": \"\", \"tickfont\": {\"color\": \"#666666\"}, \"showgrid\": true, \"gridcolor\": \"#F6F6F6\"}}, {\"showLink\": true, \"linkText\": \"Export to plot.ly\"})});</script>"
      ],
      "text/plain": [
       "<IPython.core.display.HTML object>"
      ]
     },
     "metadata": {},
     "output_type": "display_data"
    }
   ],
   "source": [
    "df.count().iplot(kind='bar')"
   ]
  },
  {
   "cell_type": "markdown",
   "metadata": {},
   "source": [
    "## Boxplots"
   ]
  },
  {
   "cell_type": "code",
   "execution_count": 45,
   "metadata": {},
   "outputs": [
    {
     "data": {
      "application/vnd.plotly.v1+json": {
       "config": {
        "linkText": "Export to plot.ly",
        "plotlyServerURL": "https://plot.ly",
        "showLink": true
       },
       "data": [
        {
         "boxpoints": false,
         "line": {
          "width": 1.3
         },
         "marker": {
          "color": "rgba(255, 153, 51, 1.0)"
         },
         "name": "A",
         "orientation": "v",
         "type": "box",
         "y": [
          -1.3065340728440185,
          -0.4228569613907754,
          0.45161595055524156,
          1.7602492264490932,
          -0.7778588266274128,
          -0.22876582887016242,
          2.054624102518116,
          0.017164726374088564,
          0.8408615581411037,
          0.46664326722884075,
          0.4512840160401709,
          -0.3312831699326283,
          -0.38483224883279044,
          0.6743961048208689,
          -0.8224671889042517,
          -0.3439007092103924,
          -0.06932869669048287,
          0.8709698025322423,
          -0.19899818380372442,
          -1.9521052872452325,
          0.515413801783241,
          1.460892380463078,
          1.0400891531540952,
          -0.4148469012882354,
          0.528879745585174,
          -1.719394474619523,
          -0.25898285340053234,
          -0.6011568006493835,
          0.1698692553475717,
          -0.8088471964721285,
          1.4428769284963092,
          0.9665392502290573,
          0.6365834094146309,
          -0.2516742076314244,
          0.684001328181953,
          -0.4244927905709274,
          -2.2271126318500145,
          1.3097059056826534,
          1.0112070637749084,
          -0.22241402852990858,
          0.8532821858237332,
          -1.6374495930083417,
          -1.3988128186664763,
          0.37167029121186534,
          0.3724568515114425,
          0.7800271353386294,
          1.1614399816743937,
          0.14164053766580517,
          0.5109377744920892,
          0.6616810764659825,
          -1.072964278711645,
          -1.4614036047221062,
          -1.3477649412536636,
          0.7852269196346882,
          1.2251558492732308,
          0.3931092448539835,
          0.8858257989659072,
          0.7433565435138623,
          -0.039178256209496685,
          -0.593343754242419,
          0.9849516717192109,
          -1.039182322034903,
          -0.5089722778228615,
          1.5754679085723808,
          1.0689716222012626,
          -0.10646012155553987,
          0.6925743475393558,
          -1.0490677451686161,
          0.41026574539684446,
          0.31815419967868935,
          0.39788042488185116,
          1.9197922864280879,
          0.7513372351604846,
          -0.49112513779081807,
          1.018552474767882,
          -0.7907999537751678,
          -0.4775808546567209,
          -0.36261208757725877,
          -0.03181717269879145,
          -0.30097615395533844,
          -2.076802021923554,
          -1.2704607763854796,
          -0.13479312929572362,
          3.3210787561703645,
          0.43598619629640983,
          0.07225189915588459,
          -0.13935180545092124,
          0.3212659144838316,
          1.2935496206633084,
          -0.9509092510507696,
          1.5392070096550627,
          0.6087836589081088,
          -2.1444440467284505,
          0.9544956665476875,
          -0.857496824739772,
          0.6778075711198115,
          1.2179409008013473,
          -0.596086334587662,
          0.425920176502816,
          1.108616757989675
         ]
        },
        {
         "boxpoints": false,
         "line": {
          "width": 1.3
         },
         "marker": {
          "color": "rgba(55, 128, 191, 1.0)"
         },
         "name": "B",
         "orientation": "v",
         "type": "box",
         "y": [
          0.076380480159592,
          0.08646440652428741,
          1.1041743263032135,
          -0.06065249177480989,
          1.1158411079241686,
          1.6133613745631155,
          0.05340953679834792,
          -0.42914227823509377,
          -0.1028872175735376,
          1.033686867939501,
          -1.6840599858682372,
          0.3865391451330911,
          1.4581082386095199,
          -0.7223919054141509,
          0.7217112921126926,
          -1.0001691898725158,
          -0.10839206717353982,
          -0.5084571342754007,
          1.8664713751521251,
          -1.4023291454531368,
          -1.1148710523659369,
          0.5924728014240198,
          -0.918440038300026,
          0.45194603732122307,
          -2.2370865111124707,
          0.057120996082092076,
          0.1892931975586576,
          0.5560735100773853,
          -1.1640079711612021,
          0.5574394528580334,
          -0.5396815622024924,
          0.7130490503032691,
          1.4092533893640082,
          0.3827151737243639,
          -0.35340998286701436,
          -0.7315309817303334,
          -1.6993336047222958,
          -1.1549826349293644,
          -1.4765626605201803,
          1.4701603438257402,
          -0.13971173044107246,
          3.9586027040379634,
          0.08176781880561644,
          1.853009485069379,
          -0.14848980305939366,
          -0.62944160405378,
          -0.027529386267978004,
          -2.516303860965749,
          1.7106618386711354,
          0.9863521802120643,
          0.49515861120031657,
          -0.5163479086460222,
          1.470739856691369,
          -0.6648677669672133,
          -1.053546073700315,
          -1.8239198526251938,
          0.18986164938309566,
          -1.5095726842240433,
          -0.22875417122021255,
          0.5103075967452559,
          1.0712524278458908,
          0.7330232317190783,
          -0.16648595488595935,
          1.2066078980355681,
          0.040371431022839264,
          -2.7909964066938464,
          -0.4786723564156615,
          0.31665889515665435,
          0.8598709717969121,
          -0.01923163409763723,
          -0.9960108890883996,
          -1.3916938760540336,
          0.14039543644735017,
          0.1343731160397544,
          1.2305581999547246,
          1.2237222119601092,
          0.025999994185658175,
          -1.4851564513254543,
          0.11248774241419583,
          0.8074559170052702,
          0.9475011673456759,
          0.2829955338110016,
          1.0492182907525678,
          -0.6002253303773148,
          -0.6874873930601744,
          1.0097873349475586,
          -0.7285374894247015,
          -0.7252149257453662,
          -0.43899766366627757,
          -0.7043503315234588,
          -1.1487042296369459,
          -1.8814108671660597,
          -0.3695624253374333,
          0.09574677111013467,
          -0.934181843147949,
          -1.1065730673918852,
          -1.9406809643648932,
          0.8616231013412039,
          0.049080397141630476,
          -0.7029204029101687
         ]
        },
        {
         "boxpoints": false,
         "line": {
          "width": 1.3
         },
         "marker": {
          "color": "rgba(50, 171, 96, 1.0)"
         },
         "name": "C",
         "orientation": "v",
         "type": "box",
         "y": [
          0.3672318138838647,
          -2.1424667290773685,
          -0.28173626906561283,
          -2.4135030011737877,
          0.3102722877837673,
          -0.3748046873026527,
          -0.4791570987860799,
          1.208456328551963,
          1.146900376399483,
          0.8088443602656821,
          -1.1601701049822761,
          -0.8514556565308268,
          -0.5322340208981775,
          1.0989963327471792,
          -0.625342001465988,
          1.0449944096738975,
          0.45015551276717897,
          0.7774192052488628,
          -0.41893789767812306,
          0.4511229387345986,
          -0.7673098263317347,
          1.197830841721251,
          -0.10534471250754213,
          -1.5791562853944654,
          -1.1077125022845524,
          -0.7995474906917599,
          -0.5637887345823027,
          1.693809113288081,
          0.6933662256603845,
          0.18103874435787085,
          0.12837699015594436,
          1.3062060651354486,
          1.6209122856217475,
          -0.2889973430098159,
          -1.7879128911997157,
          -1.5657381506559054,
          -0.27584606256114336,
          -0.17763219598355098,
          -0.14319574500723764,
          -0.870008223190852,
          1.3863142642463189,
          0.6486436440906672,
          -0.45994283084068716,
          0.14225137252631778,
          -0.1834001973200239,
          -1.1134361029729902,
          1.7464350892279725,
          -0.5956678809102903,
          0.03494358936374005,
          -0.466154856825928,
          -0.952062100706259,
          0.35111689651096534,
          0.33722093830845856,
          -1.9450469586120391,
          0.8160436843240609,
          1.167075165999964,
          0.7980637952989431,
          -1.0807106924455065,
          -0.17961229465135792,
          -0.9157918490686792,
          -1.0971543602553622,
          -1.8988120593192948,
          1.4236144293489872,
          -0.2828635516348445,
          -0.15699367249331792,
          -0.45611755514868535,
          -0.3290515493410809,
          -1.895266947476466,
          -0.8986831933186461,
          0.15001627872780374,
          -1.1958615103244818,
          0.4502177420378455,
          -0.9268719392086243,
          -0.26837130412057664,
          -1.181103172771823,
          -0.05936790254849916,
          -1.3486964467972422,
          -0.5924612851532695,
          0.28807816700515054,
          0.3122386890129999,
          -0.5039739491423175,
          0.10803081731234535,
          0.9662208625783415,
          -0.37951751553387963,
          -2.698361741666047,
          -1.5569415578650314,
          0.5311637934562251,
          1.5365363280210986,
          0.5900394641608302,
          -0.04586668606976747,
          -1.0903383324548148,
          0.4972690986459772,
          -0.017454951836177974,
          1.0334508032642373,
          0.542645294566316,
          -0.3592240957107388,
          -0.806178211953457,
          -2.0863905654565262,
          1.1022367325853422,
          0.7255505180787332
         ]
        },
        {
         "boxpoints": false,
         "line": {
          "width": 1.3
         },
         "marker": {
          "color": "rgba(128, 0, 128, 1.0)"
         },
         "name": "D",
         "orientation": "v",
         "type": "box",
         "y": [
          1.2328991923762371,
          -0.830168864022708,
          2.0563555231982935,
          -1.7775663758059874,
          -2.094247816222812,
          -0.7499696172756662,
          0.3501671588282789,
          1.1157018027844863,
          -0.04970257915867584,
          1.7897546832062712,
          1.350106818681726,
          1.000881423680301,
          1.1181333967176956,
          -0.901634490475998,
          -0.5938430672545096,
          0.6085146984848496,
          1.7653351005190716,
          -0.11877117210308928,
          -0.47918491512740585,
          -0.6949209011852391,
          0.6745707069560037,
          1.7045941713724069,
          0.630195670684911,
          -0.8286279788564058,
          -0.01771831791014226,
          -0.2915945955008327,
          0.08968640732259017,
          0.19686977925029145,
          -0.7580673285562323,
          1.1071754509490623,
          1.7604151835753223,
          -0.604602969164376,
          -0.8061848173822241,
          -0.3918162398080484,
          0.36184731583956825,
          1.0138224669717055,
          1.2289555856506973,
          -1.5104563750875688,
          1.0329837789497511,
          0.36919046954687373,
          0.5481295846881931,
          0.10734329382358966,
          0.6443536660303223,
          0.5135054799885475,
          1.1010002026684818,
          -0.06741002494685439,
          -0.7750702870734348,
          -0.30912131864186215,
          1.4539175816088175,
          1.3849913436486387,
          -0.5181455523987548,
          -0.06877046307863847,
          1.0080654330757632,
          -0.9154243682317061,
          -0.6124069731288238,
          -0.03966870009048212,
          -0.10193203926360005,
          0.7254740044815357,
          0.5017251093451655,
          -0.40725204301996576,
          0.8386347472283774,
          -1.1171106924391125,
          0.9039991740035269,
          -0.2663268843187201,
          -1.3352027230151915,
          -0.9798902516618007,
          1.3471054646704976,
          0.08972911744465112,
          0.3196569419445935,
          0.4635343217316655,
          2.505980285318673,
          0.6274370827531105,
          -0.18242040636309756,
          -0.13167562628701832,
          -0.45993010443458127,
          1.4489894041582356,
          1.3025355364861801,
          -2.304907937770138,
          1.498108183577034,
          -0.1933216404740039,
          0.017955891650826426,
          0.02941761897076564,
          0.7259168525208212,
          -1.014803690858671,
          -1.2133381258287046,
          -0.6124421282843443,
          0.004000841975375483,
          -0.00037500875835609604,
          -0.6793837829972343,
          -0.21873345896770915,
          1.700188146645526,
          0.23733269933959658,
          0.7314025171250657,
          -0.1462732746113538,
          -1.9581690855990108,
          0.5053819027529176,
          0.04906169237310281,
          0.3618016405710469,
          -1.229574253546429,
          -0.32420421948521105
         ]
        }
       ],
       "layout": {
        "legend": {
         "bgcolor": "#F5F6F9",
         "font": {
          "color": "#4D5663"
         }
        },
        "paper_bgcolor": "#F5F6F9",
        "plot_bgcolor": "#F5F6F9",
        "template": {
         "data": {
          "bar": [
           {
            "error_x": {
             "color": "#2a3f5f"
            },
            "error_y": {
             "color": "#2a3f5f"
            },
            "marker": {
             "line": {
              "color": "#E5ECF6",
              "width": 0.5
             }
            },
            "type": "bar"
           }
          ],
          "barpolar": [
           {
            "marker": {
             "line": {
              "color": "#E5ECF6",
              "width": 0.5
             }
            },
            "type": "barpolar"
           }
          ],
          "carpet": [
           {
            "aaxis": {
             "endlinecolor": "#2a3f5f",
             "gridcolor": "white",
             "linecolor": "white",
             "minorgridcolor": "white",
             "startlinecolor": "#2a3f5f"
            },
            "baxis": {
             "endlinecolor": "#2a3f5f",
             "gridcolor": "white",
             "linecolor": "white",
             "minorgridcolor": "white",
             "startlinecolor": "#2a3f5f"
            },
            "type": "carpet"
           }
          ],
          "choropleth": [
           {
            "colorbar": {
             "outlinewidth": 0,
             "ticks": ""
            },
            "type": "choropleth"
           }
          ],
          "contour": [
           {
            "colorbar": {
             "outlinewidth": 0,
             "ticks": ""
            },
            "colorscale": [
             [
              0,
              "#0d0887"
             ],
             [
              0.1111111111111111,
              "#46039f"
             ],
             [
              0.2222222222222222,
              "#7201a8"
             ],
             [
              0.3333333333333333,
              "#9c179e"
             ],
             [
              0.4444444444444444,
              "#bd3786"
             ],
             [
              0.5555555555555556,
              "#d8576b"
             ],
             [
              0.6666666666666666,
              "#ed7953"
             ],
             [
              0.7777777777777778,
              "#fb9f3a"
             ],
             [
              0.8888888888888888,
              "#fdca26"
             ],
             [
              1,
              "#f0f921"
             ]
            ],
            "type": "contour"
           }
          ],
          "contourcarpet": [
           {
            "colorbar": {
             "outlinewidth": 0,
             "ticks": ""
            },
            "type": "contourcarpet"
           }
          ],
          "heatmap": [
           {
            "colorbar": {
             "outlinewidth": 0,
             "ticks": ""
            },
            "colorscale": [
             [
              0,
              "#0d0887"
             ],
             [
              0.1111111111111111,
              "#46039f"
             ],
             [
              0.2222222222222222,
              "#7201a8"
             ],
             [
              0.3333333333333333,
              "#9c179e"
             ],
             [
              0.4444444444444444,
              "#bd3786"
             ],
             [
              0.5555555555555556,
              "#d8576b"
             ],
             [
              0.6666666666666666,
              "#ed7953"
             ],
             [
              0.7777777777777778,
              "#fb9f3a"
             ],
             [
              0.8888888888888888,
              "#fdca26"
             ],
             [
              1,
              "#f0f921"
             ]
            ],
            "type": "heatmap"
           }
          ],
          "heatmapgl": [
           {
            "colorbar": {
             "outlinewidth": 0,
             "ticks": ""
            },
            "colorscale": [
             [
              0,
              "#0d0887"
             ],
             [
              0.1111111111111111,
              "#46039f"
             ],
             [
              0.2222222222222222,
              "#7201a8"
             ],
             [
              0.3333333333333333,
              "#9c179e"
             ],
             [
              0.4444444444444444,
              "#bd3786"
             ],
             [
              0.5555555555555556,
              "#d8576b"
             ],
             [
              0.6666666666666666,
              "#ed7953"
             ],
             [
              0.7777777777777778,
              "#fb9f3a"
             ],
             [
              0.8888888888888888,
              "#fdca26"
             ],
             [
              1,
              "#f0f921"
             ]
            ],
            "type": "heatmapgl"
           }
          ],
          "histogram": [
           {
            "marker": {
             "colorbar": {
              "outlinewidth": 0,
              "ticks": ""
             }
            },
            "type": "histogram"
           }
          ],
          "histogram2d": [
           {
            "colorbar": {
             "outlinewidth": 0,
             "ticks": ""
            },
            "colorscale": [
             [
              0,
              "#0d0887"
             ],
             [
              0.1111111111111111,
              "#46039f"
             ],
             [
              0.2222222222222222,
              "#7201a8"
             ],
             [
              0.3333333333333333,
              "#9c179e"
             ],
             [
              0.4444444444444444,
              "#bd3786"
             ],
             [
              0.5555555555555556,
              "#d8576b"
             ],
             [
              0.6666666666666666,
              "#ed7953"
             ],
             [
              0.7777777777777778,
              "#fb9f3a"
             ],
             [
              0.8888888888888888,
              "#fdca26"
             ],
             [
              1,
              "#f0f921"
             ]
            ],
            "type": "histogram2d"
           }
          ],
          "histogram2dcontour": [
           {
            "colorbar": {
             "outlinewidth": 0,
             "ticks": ""
            },
            "colorscale": [
             [
              0,
              "#0d0887"
             ],
             [
              0.1111111111111111,
              "#46039f"
             ],
             [
              0.2222222222222222,
              "#7201a8"
             ],
             [
              0.3333333333333333,
              "#9c179e"
             ],
             [
              0.4444444444444444,
              "#bd3786"
             ],
             [
              0.5555555555555556,
              "#d8576b"
             ],
             [
              0.6666666666666666,
              "#ed7953"
             ],
             [
              0.7777777777777778,
              "#fb9f3a"
             ],
             [
              0.8888888888888888,
              "#fdca26"
             ],
             [
              1,
              "#f0f921"
             ]
            ],
            "type": "histogram2dcontour"
           }
          ],
          "mesh3d": [
           {
            "colorbar": {
             "outlinewidth": 0,
             "ticks": ""
            },
            "type": "mesh3d"
           }
          ],
          "parcoords": [
           {
            "line": {
             "colorbar": {
              "outlinewidth": 0,
              "ticks": ""
             }
            },
            "type": "parcoords"
           }
          ],
          "pie": [
           {
            "automargin": true,
            "type": "pie"
           }
          ],
          "scatter": [
           {
            "marker": {
             "colorbar": {
              "outlinewidth": 0,
              "ticks": ""
             }
            },
            "type": "scatter"
           }
          ],
          "scatter3d": [
           {
            "line": {
             "colorbar": {
              "outlinewidth": 0,
              "ticks": ""
             }
            },
            "marker": {
             "colorbar": {
              "outlinewidth": 0,
              "ticks": ""
             }
            },
            "type": "scatter3d"
           }
          ],
          "scattercarpet": [
           {
            "marker": {
             "colorbar": {
              "outlinewidth": 0,
              "ticks": ""
             }
            },
            "type": "scattercarpet"
           }
          ],
          "scattergeo": [
           {
            "marker": {
             "colorbar": {
              "outlinewidth": 0,
              "ticks": ""
             }
            },
            "type": "scattergeo"
           }
          ],
          "scattergl": [
           {
            "marker": {
             "colorbar": {
              "outlinewidth": 0,
              "ticks": ""
             }
            },
            "type": "scattergl"
           }
          ],
          "scattermapbox": [
           {
            "marker": {
             "colorbar": {
              "outlinewidth": 0,
              "ticks": ""
             }
            },
            "type": "scattermapbox"
           }
          ],
          "scatterpolar": [
           {
            "marker": {
             "colorbar": {
              "outlinewidth": 0,
              "ticks": ""
             }
            },
            "type": "scatterpolar"
           }
          ],
          "scatterpolargl": [
           {
            "marker": {
             "colorbar": {
              "outlinewidth": 0,
              "ticks": ""
             }
            },
            "type": "scatterpolargl"
           }
          ],
          "scatterternary": [
           {
            "marker": {
             "colorbar": {
              "outlinewidth": 0,
              "ticks": ""
             }
            },
            "type": "scatterternary"
           }
          ],
          "surface": [
           {
            "colorbar": {
             "outlinewidth": 0,
             "ticks": ""
            },
            "colorscale": [
             [
              0,
              "#0d0887"
             ],
             [
              0.1111111111111111,
              "#46039f"
             ],
             [
              0.2222222222222222,
              "#7201a8"
             ],
             [
              0.3333333333333333,
              "#9c179e"
             ],
             [
              0.4444444444444444,
              "#bd3786"
             ],
             [
              0.5555555555555556,
              "#d8576b"
             ],
             [
              0.6666666666666666,
              "#ed7953"
             ],
             [
              0.7777777777777778,
              "#fb9f3a"
             ],
             [
              0.8888888888888888,
              "#fdca26"
             ],
             [
              1,
              "#f0f921"
             ]
            ],
            "type": "surface"
           }
          ],
          "table": [
           {
            "cells": {
             "fill": {
              "color": "#EBF0F8"
             },
             "line": {
              "color": "white"
             }
            },
            "header": {
             "fill": {
              "color": "#C8D4E3"
             },
             "line": {
              "color": "white"
             }
            },
            "type": "table"
           }
          ]
         },
         "layout": {
          "annotationdefaults": {
           "arrowcolor": "#2a3f5f",
           "arrowhead": 0,
           "arrowwidth": 1
          },
          "autotypenumbers": "strict",
          "coloraxis": {
           "colorbar": {
            "outlinewidth": 0,
            "ticks": ""
           }
          },
          "colorscale": {
           "diverging": [
            [
             0,
             "#8e0152"
            ],
            [
             0.1,
             "#c51b7d"
            ],
            [
             0.2,
             "#de77ae"
            ],
            [
             0.3,
             "#f1b6da"
            ],
            [
             0.4,
             "#fde0ef"
            ],
            [
             0.5,
             "#f7f7f7"
            ],
            [
             0.6,
             "#e6f5d0"
            ],
            [
             0.7,
             "#b8e186"
            ],
            [
             0.8,
             "#7fbc41"
            ],
            [
             0.9,
             "#4d9221"
            ],
            [
             1,
             "#276419"
            ]
           ],
           "sequential": [
            [
             0,
             "#0d0887"
            ],
            [
             0.1111111111111111,
             "#46039f"
            ],
            [
             0.2222222222222222,
             "#7201a8"
            ],
            [
             0.3333333333333333,
             "#9c179e"
            ],
            [
             0.4444444444444444,
             "#bd3786"
            ],
            [
             0.5555555555555556,
             "#d8576b"
            ],
            [
             0.6666666666666666,
             "#ed7953"
            ],
            [
             0.7777777777777778,
             "#fb9f3a"
            ],
            [
             0.8888888888888888,
             "#fdca26"
            ],
            [
             1,
             "#f0f921"
            ]
           ],
           "sequentialminus": [
            [
             0,
             "#0d0887"
            ],
            [
             0.1111111111111111,
             "#46039f"
            ],
            [
             0.2222222222222222,
             "#7201a8"
            ],
            [
             0.3333333333333333,
             "#9c179e"
            ],
            [
             0.4444444444444444,
             "#bd3786"
            ],
            [
             0.5555555555555556,
             "#d8576b"
            ],
            [
             0.6666666666666666,
             "#ed7953"
            ],
            [
             0.7777777777777778,
             "#fb9f3a"
            ],
            [
             0.8888888888888888,
             "#fdca26"
            ],
            [
             1,
             "#f0f921"
            ]
           ]
          },
          "colorway": [
           "#636efa",
           "#EF553B",
           "#00cc96",
           "#ab63fa",
           "#FFA15A",
           "#19d3f3",
           "#FF6692",
           "#B6E880",
           "#FF97FF",
           "#FECB52"
          ],
          "font": {
           "color": "#2a3f5f"
          },
          "geo": {
           "bgcolor": "white",
           "lakecolor": "white",
           "landcolor": "#E5ECF6",
           "showlakes": true,
           "showland": true,
           "subunitcolor": "white"
          },
          "hoverlabel": {
           "align": "left"
          },
          "hovermode": "closest",
          "mapbox": {
           "style": "light"
          },
          "paper_bgcolor": "white",
          "plot_bgcolor": "#E5ECF6",
          "polar": {
           "angularaxis": {
            "gridcolor": "white",
            "linecolor": "white",
            "ticks": ""
           },
           "bgcolor": "#E5ECF6",
           "radialaxis": {
            "gridcolor": "white",
            "linecolor": "white",
            "ticks": ""
           }
          },
          "scene": {
           "xaxis": {
            "backgroundcolor": "#E5ECF6",
            "gridcolor": "white",
            "gridwidth": 2,
            "linecolor": "white",
            "showbackground": true,
            "ticks": "",
            "zerolinecolor": "white"
           },
           "yaxis": {
            "backgroundcolor": "#E5ECF6",
            "gridcolor": "white",
            "gridwidth": 2,
            "linecolor": "white",
            "showbackground": true,
            "ticks": "",
            "zerolinecolor": "white"
           },
           "zaxis": {
            "backgroundcolor": "#E5ECF6",
            "gridcolor": "white",
            "gridwidth": 2,
            "linecolor": "white",
            "showbackground": true,
            "ticks": "",
            "zerolinecolor": "white"
           }
          },
          "shapedefaults": {
           "line": {
            "color": "#2a3f5f"
           }
          },
          "ternary": {
           "aaxis": {
            "gridcolor": "white",
            "linecolor": "white",
            "ticks": ""
           },
           "baxis": {
            "gridcolor": "white",
            "linecolor": "white",
            "ticks": ""
           },
           "bgcolor": "#E5ECF6",
           "caxis": {
            "gridcolor": "white",
            "linecolor": "white",
            "ticks": ""
           }
          },
          "title": {
           "x": 0.05
          },
          "xaxis": {
           "automargin": true,
           "gridcolor": "white",
           "linecolor": "white",
           "ticks": "",
           "title": {
            "standoff": 15
           },
           "zerolinecolor": "white",
           "zerolinewidth": 2
          },
          "yaxis": {
           "automargin": true,
           "gridcolor": "white",
           "linecolor": "white",
           "ticks": "",
           "title": {
            "standoff": 15
           },
           "zerolinecolor": "white",
           "zerolinewidth": 2
          }
         }
        },
        "title": {
         "font": {
          "color": "#4D5663"
         }
        },
        "xaxis": {
         "gridcolor": "#E1E5ED",
         "showgrid": true,
         "tickfont": {
          "color": "#4D5663"
         },
         "title": {
          "font": {
           "color": "#4D5663"
          },
          "text": ""
         },
         "zerolinecolor": "#E1E5ED"
        },
        "yaxis": {
         "gridcolor": "#E1E5ED",
         "showgrid": true,
         "tickfont": {
          "color": "#4D5663"
         },
         "title": {
          "font": {
           "color": "#4D5663"
          },
          "text": ""
         },
         "zerolinecolor": "#E1E5ED"
        }
       }
      },
      "text/html": [
       "<div>                            <div id=\"d0a07e67-7dfe-4713-9acc-b8518694f6ba\" class=\"plotly-graph-div\" style=\"height:525px; width:100%;\"></div>            <script type=\"text/javascript\">                require([\"plotly\"], function(Plotly) {                    window.PLOTLYENV=window.PLOTLYENV || {};\n",
       "                    window.PLOTLYENV.BASE_URL='https://plot.ly';                                    if (document.getElementById(\"d0a07e67-7dfe-4713-9acc-b8518694f6ba\")) {                    Plotly.newPlot(                        \"d0a07e67-7dfe-4713-9acc-b8518694f6ba\",                        [{\"boxpoints\": false, \"line\": {\"width\": 1.3}, \"marker\": {\"color\": \"rgba(255, 153, 51, 1.0)\"}, \"name\": \"A\", \"orientation\": \"v\", \"type\": \"box\", \"y\": [-1.3065340728440185, -0.4228569613907754, 0.45161595055524156, 1.7602492264490932, -0.7778588266274128, -0.22876582887016242, 2.054624102518116, 0.017164726374088564, 0.8408615581411037, 0.46664326722884075, 0.4512840160401709, -0.3312831699326283, -0.38483224883279044, 0.6743961048208689, -0.8224671889042517, -0.3439007092103924, -0.06932869669048287, 0.8709698025322423, -0.19899818380372442, -1.9521052872452325, 0.515413801783241, 1.460892380463078, 1.0400891531540952, -0.4148469012882354, 0.528879745585174, -1.719394474619523, -0.25898285340053234, -0.6011568006493835, 0.1698692553475717, -0.8088471964721285, 1.4428769284963092, 0.9665392502290573, 0.6365834094146309, -0.2516742076314244, 0.684001328181953, -0.4244927905709274, -2.2271126318500145, 1.3097059056826534, 1.0112070637749084, -0.22241402852990858, 0.8532821858237332, -1.6374495930083417, -1.3988128186664763, 0.37167029121186534, 0.3724568515114425, 0.7800271353386294, 1.1614399816743937, 0.14164053766580517, 0.5109377744920892, 0.6616810764659825, -1.072964278711645, -1.4614036047221062, -1.3477649412536636, 0.7852269196346882, 1.2251558492732308, 0.3931092448539835, 0.8858257989659072, 0.7433565435138623, -0.039178256209496685, -0.593343754242419, 0.9849516717192109, -1.039182322034903, -0.5089722778228615, 1.5754679085723808, 1.0689716222012626, -0.10646012155553987, 0.6925743475393558, -1.0490677451686161, 0.41026574539684446, 0.31815419967868935, 0.39788042488185116, 1.9197922864280879, 0.7513372351604846, -0.49112513779081807, 1.018552474767882, -0.7907999537751678, -0.4775808546567209, -0.36261208757725877, -0.03181717269879145, -0.30097615395533844, -2.076802021923554, -1.2704607763854796, -0.13479312929572362, 3.3210787561703645, 0.43598619629640983, 0.07225189915588459, -0.13935180545092124, 0.3212659144838316, 1.2935496206633084, -0.9509092510507696, 1.5392070096550627, 0.6087836589081088, -2.1444440467284505, 0.9544956665476875, -0.857496824739772, 0.6778075711198115, 1.2179409008013473, -0.596086334587662, 0.425920176502816, 1.108616757989675]}, {\"boxpoints\": false, \"line\": {\"width\": 1.3}, \"marker\": {\"color\": \"rgba(55, 128, 191, 1.0)\"}, \"name\": \"B\", \"orientation\": \"v\", \"type\": \"box\", \"y\": [0.076380480159592, 0.08646440652428741, 1.1041743263032135, -0.06065249177480989, 1.1158411079241686, 1.6133613745631155, 0.05340953679834792, -0.42914227823509377, -0.1028872175735376, 1.033686867939501, -1.6840599858682372, 0.3865391451330911, 1.4581082386095199, -0.7223919054141509, 0.7217112921126926, -1.0001691898725158, -0.10839206717353982, -0.5084571342754007, 1.8664713751521251, -1.4023291454531368, -1.1148710523659369, 0.5924728014240198, -0.918440038300026, 0.45194603732122307, -2.2370865111124707, 0.057120996082092076, 0.1892931975586576, 0.5560735100773853, -1.1640079711612021, 0.5574394528580334, -0.5396815622024924, 0.7130490503032691, 1.4092533893640082, 0.3827151737243639, -0.35340998286701436, -0.7315309817303334, -1.6993336047222958, -1.1549826349293644, -1.4765626605201803, 1.4701603438257402, -0.13971173044107246, 3.9586027040379634, 0.08176781880561644, 1.853009485069379, -0.14848980305939366, -0.62944160405378, -0.027529386267978004, -2.516303860965749, 1.7106618386711354, 0.9863521802120643, 0.49515861120031657, -0.5163479086460222, 1.470739856691369, -0.6648677669672133, -1.053546073700315, -1.8239198526251938, 0.18986164938309566, -1.5095726842240433, -0.22875417122021255, 0.5103075967452559, 1.0712524278458908, 0.7330232317190783, -0.16648595488595935, 1.2066078980355681, 0.040371431022839264, -2.7909964066938464, -0.4786723564156615, 0.31665889515665435, 0.8598709717969121, -0.01923163409763723, -0.9960108890883996, -1.3916938760540336, 0.14039543644735017, 0.1343731160397544, 1.2305581999547246, 1.2237222119601092, 0.025999994185658175, -1.4851564513254543, 0.11248774241419583, 0.8074559170052702, 0.9475011673456759, 0.2829955338110016, 1.0492182907525678, -0.6002253303773148, -0.6874873930601744, 1.0097873349475586, -0.7285374894247015, -0.7252149257453662, -0.43899766366627757, -0.7043503315234588, -1.1487042296369459, -1.8814108671660597, -0.3695624253374333, 0.09574677111013467, -0.934181843147949, -1.1065730673918852, -1.9406809643648932, 0.8616231013412039, 0.049080397141630476, -0.7029204029101687]}, {\"boxpoints\": false, \"line\": {\"width\": 1.3}, \"marker\": {\"color\": \"rgba(50, 171, 96, 1.0)\"}, \"name\": \"C\", \"orientation\": \"v\", \"type\": \"box\", \"y\": [0.3672318138838647, -2.1424667290773685, -0.28173626906561283, -2.4135030011737877, 0.3102722877837673, -0.3748046873026527, -0.4791570987860799, 1.208456328551963, 1.146900376399483, 0.8088443602656821, -1.1601701049822761, -0.8514556565308268, -0.5322340208981775, 1.0989963327471792, -0.625342001465988, 1.0449944096738975, 0.45015551276717897, 0.7774192052488628, -0.41893789767812306, 0.4511229387345986, -0.7673098263317347, 1.197830841721251, -0.10534471250754213, -1.5791562853944654, -1.1077125022845524, -0.7995474906917599, -0.5637887345823027, 1.693809113288081, 0.6933662256603845, 0.18103874435787085, 0.12837699015594436, 1.3062060651354486, 1.6209122856217475, -0.2889973430098159, -1.7879128911997157, -1.5657381506559054, -0.27584606256114336, -0.17763219598355098, -0.14319574500723764, -0.870008223190852, 1.3863142642463189, 0.6486436440906672, -0.45994283084068716, 0.14225137252631778, -0.1834001973200239, -1.1134361029729902, 1.7464350892279725, -0.5956678809102903, 0.03494358936374005, -0.466154856825928, -0.952062100706259, 0.35111689651096534, 0.33722093830845856, -1.9450469586120391, 0.8160436843240609, 1.167075165999964, 0.7980637952989431, -1.0807106924455065, -0.17961229465135792, -0.9157918490686792, -1.0971543602553622, -1.8988120593192948, 1.4236144293489872, -0.2828635516348445, -0.15699367249331792, -0.45611755514868535, -0.3290515493410809, -1.895266947476466, -0.8986831933186461, 0.15001627872780374, -1.1958615103244818, 0.4502177420378455, -0.9268719392086243, -0.26837130412057664, -1.181103172771823, -0.05936790254849916, -1.3486964467972422, -0.5924612851532695, 0.28807816700515054, 0.3122386890129999, -0.5039739491423175, 0.10803081731234535, 0.9662208625783415, -0.37951751553387963, -2.698361741666047, -1.5569415578650314, 0.5311637934562251, 1.5365363280210986, 0.5900394641608302, -0.04586668606976747, -1.0903383324548148, 0.4972690986459772, -0.017454951836177974, 1.0334508032642373, 0.542645294566316, -0.3592240957107388, -0.806178211953457, -2.0863905654565262, 1.1022367325853422, 0.7255505180787332]}, {\"boxpoints\": false, \"line\": {\"width\": 1.3}, \"marker\": {\"color\": \"rgba(128, 0, 128, 1.0)\"}, \"name\": \"D\", \"orientation\": \"v\", \"type\": \"box\", \"y\": [1.2328991923762371, -0.830168864022708, 2.0563555231982935, -1.7775663758059874, -2.094247816222812, -0.7499696172756662, 0.3501671588282789, 1.1157018027844863, -0.04970257915867584, 1.7897546832062712, 1.350106818681726, 1.000881423680301, 1.1181333967176956, -0.901634490475998, -0.5938430672545096, 0.6085146984848496, 1.7653351005190716, -0.11877117210308928, -0.47918491512740585, -0.6949209011852391, 0.6745707069560037, 1.7045941713724069, 0.630195670684911, -0.8286279788564058, -0.01771831791014226, -0.2915945955008327, 0.08968640732259017, 0.19686977925029145, -0.7580673285562323, 1.1071754509490623, 1.7604151835753223, -0.604602969164376, -0.8061848173822241, -0.3918162398080484, 0.36184731583956825, 1.0138224669717055, 1.2289555856506973, -1.5104563750875688, 1.0329837789497511, 0.36919046954687373, 0.5481295846881931, 0.10734329382358966, 0.6443536660303223, 0.5135054799885475, 1.1010002026684818, -0.06741002494685439, -0.7750702870734348, -0.30912131864186215, 1.4539175816088175, 1.3849913436486387, -0.5181455523987548, -0.06877046307863847, 1.0080654330757632, -0.9154243682317061, -0.6124069731288238, -0.03966870009048212, -0.10193203926360005, 0.7254740044815357, 0.5017251093451655, -0.40725204301996576, 0.8386347472283774, -1.1171106924391125, 0.9039991740035269, -0.2663268843187201, -1.3352027230151915, -0.9798902516618007, 1.3471054646704976, 0.08972911744465112, 0.3196569419445935, 0.4635343217316655, 2.505980285318673, 0.6274370827531105, -0.18242040636309756, -0.13167562628701832, -0.45993010443458127, 1.4489894041582356, 1.3025355364861801, -2.304907937770138, 1.498108183577034, -0.1933216404740039, 0.017955891650826426, 0.02941761897076564, 0.7259168525208212, -1.014803690858671, -1.2133381258287046, -0.6124421282843443, 0.004000841975375483, -0.00037500875835609604, -0.6793837829972343, -0.21873345896770915, 1.700188146645526, 0.23733269933959658, 0.7314025171250657, -0.1462732746113538, -1.9581690855990108, 0.5053819027529176, 0.04906169237310281, 0.3618016405710469, -1.229574253546429, -0.32420421948521105]}],                        {\"legend\": {\"bgcolor\": \"#F5F6F9\", \"font\": {\"color\": \"#4D5663\"}}, \"paper_bgcolor\": \"#F5F6F9\", \"plot_bgcolor\": \"#F5F6F9\", \"template\": {\"data\": {\"bar\": [{\"error_x\": {\"color\": \"#2a3f5f\"}, \"error_y\": {\"color\": \"#2a3f5f\"}, \"marker\": {\"line\": {\"color\": \"#E5ECF6\", \"width\": 0.5}}, \"type\": \"bar\"}], \"barpolar\": [{\"marker\": {\"line\": {\"color\": \"#E5ECF6\", \"width\": 0.5}}, \"type\": \"barpolar\"}], \"carpet\": [{\"aaxis\": {\"endlinecolor\": \"#2a3f5f\", \"gridcolor\": \"white\", \"linecolor\": \"white\", \"minorgridcolor\": \"white\", \"startlinecolor\": \"#2a3f5f\"}, \"baxis\": {\"endlinecolor\": \"#2a3f5f\", \"gridcolor\": \"white\", \"linecolor\": \"white\", \"minorgridcolor\": \"white\", \"startlinecolor\": \"#2a3f5f\"}, \"type\": \"carpet\"}], \"choropleth\": [{\"colorbar\": {\"outlinewidth\": 0, \"ticks\": \"\"}, \"type\": \"choropleth\"}], \"contour\": [{\"colorbar\": {\"outlinewidth\": 0, \"ticks\": \"\"}, \"colorscale\": [[0.0, \"#0d0887\"], [0.1111111111111111, \"#46039f\"], [0.2222222222222222, \"#7201a8\"], [0.3333333333333333, \"#9c179e\"], [0.4444444444444444, \"#bd3786\"], [0.5555555555555556, \"#d8576b\"], [0.6666666666666666, \"#ed7953\"], [0.7777777777777778, \"#fb9f3a\"], [0.8888888888888888, \"#fdca26\"], [1.0, \"#f0f921\"]], \"type\": \"contour\"}], \"contourcarpet\": [{\"colorbar\": {\"outlinewidth\": 0, \"ticks\": \"\"}, \"type\": \"contourcarpet\"}], \"heatmap\": [{\"colorbar\": {\"outlinewidth\": 0, \"ticks\": \"\"}, \"colorscale\": [[0.0, \"#0d0887\"], [0.1111111111111111, \"#46039f\"], [0.2222222222222222, \"#7201a8\"], [0.3333333333333333, \"#9c179e\"], [0.4444444444444444, \"#bd3786\"], [0.5555555555555556, \"#d8576b\"], [0.6666666666666666, \"#ed7953\"], [0.7777777777777778, \"#fb9f3a\"], [0.8888888888888888, \"#fdca26\"], [1.0, \"#f0f921\"]], \"type\": \"heatmap\"}], \"heatmapgl\": [{\"colorbar\": {\"outlinewidth\": 0, \"ticks\": \"\"}, \"colorscale\": [[0.0, \"#0d0887\"], [0.1111111111111111, \"#46039f\"], [0.2222222222222222, \"#7201a8\"], [0.3333333333333333, \"#9c179e\"], [0.4444444444444444, \"#bd3786\"], [0.5555555555555556, \"#d8576b\"], [0.6666666666666666, \"#ed7953\"], [0.7777777777777778, \"#fb9f3a\"], [0.8888888888888888, \"#fdca26\"], [1.0, \"#f0f921\"]], \"type\": \"heatmapgl\"}], \"histogram\": [{\"marker\": {\"colorbar\": {\"outlinewidth\": 0, \"ticks\": \"\"}}, \"type\": \"histogram\"}], \"histogram2d\": [{\"colorbar\": {\"outlinewidth\": 0, \"ticks\": \"\"}, \"colorscale\": [[0.0, \"#0d0887\"], [0.1111111111111111, \"#46039f\"], [0.2222222222222222, \"#7201a8\"], [0.3333333333333333, \"#9c179e\"], [0.4444444444444444, \"#bd3786\"], [0.5555555555555556, \"#d8576b\"], [0.6666666666666666, \"#ed7953\"], [0.7777777777777778, \"#fb9f3a\"], [0.8888888888888888, \"#fdca26\"], [1.0, \"#f0f921\"]], \"type\": \"histogram2d\"}], \"histogram2dcontour\": [{\"colorbar\": {\"outlinewidth\": 0, \"ticks\": \"\"}, \"colorscale\": [[0.0, \"#0d0887\"], [0.1111111111111111, \"#46039f\"], [0.2222222222222222, \"#7201a8\"], [0.3333333333333333, \"#9c179e\"], [0.4444444444444444, \"#bd3786\"], [0.5555555555555556, \"#d8576b\"], [0.6666666666666666, \"#ed7953\"], [0.7777777777777778, \"#fb9f3a\"], [0.8888888888888888, \"#fdca26\"], [1.0, \"#f0f921\"]], \"type\": \"histogram2dcontour\"}], \"mesh3d\": [{\"colorbar\": {\"outlinewidth\": 0, \"ticks\": \"\"}, \"type\": \"mesh3d\"}], \"parcoords\": [{\"line\": {\"colorbar\": {\"outlinewidth\": 0, \"ticks\": \"\"}}, \"type\": \"parcoords\"}], \"pie\": [{\"automargin\": true, \"type\": \"pie\"}], \"scatter\": [{\"marker\": {\"colorbar\": {\"outlinewidth\": 0, \"ticks\": \"\"}}, \"type\": \"scatter\"}], \"scatter3d\": [{\"line\": {\"colorbar\": {\"outlinewidth\": 0, \"ticks\": \"\"}}, \"marker\": {\"colorbar\": {\"outlinewidth\": 0, \"ticks\": \"\"}}, \"type\": \"scatter3d\"}], \"scattercarpet\": [{\"marker\": {\"colorbar\": {\"outlinewidth\": 0, \"ticks\": \"\"}}, \"type\": \"scattercarpet\"}], \"scattergeo\": [{\"marker\": {\"colorbar\": {\"outlinewidth\": 0, \"ticks\": \"\"}}, \"type\": \"scattergeo\"}], \"scattergl\": [{\"marker\": {\"colorbar\": {\"outlinewidth\": 0, \"ticks\": \"\"}}, \"type\": \"scattergl\"}], \"scattermapbox\": [{\"marker\": {\"colorbar\": {\"outlinewidth\": 0, \"ticks\": \"\"}}, \"type\": \"scattermapbox\"}], \"scatterpolar\": [{\"marker\": {\"colorbar\": {\"outlinewidth\": 0, \"ticks\": \"\"}}, \"type\": \"scatterpolar\"}], \"scatterpolargl\": [{\"marker\": {\"colorbar\": {\"outlinewidth\": 0, \"ticks\": \"\"}}, \"type\": \"scatterpolargl\"}], \"scatterternary\": [{\"marker\": {\"colorbar\": {\"outlinewidth\": 0, \"ticks\": \"\"}}, \"type\": \"scatterternary\"}], \"surface\": [{\"colorbar\": {\"outlinewidth\": 0, \"ticks\": \"\"}, \"colorscale\": [[0.0, \"#0d0887\"], [0.1111111111111111, \"#46039f\"], [0.2222222222222222, \"#7201a8\"], [0.3333333333333333, \"#9c179e\"], [0.4444444444444444, \"#bd3786\"], [0.5555555555555556, \"#d8576b\"], [0.6666666666666666, \"#ed7953\"], [0.7777777777777778, \"#fb9f3a\"], [0.8888888888888888, \"#fdca26\"], [1.0, \"#f0f921\"]], \"type\": \"surface\"}], \"table\": [{\"cells\": {\"fill\": {\"color\": \"#EBF0F8\"}, \"line\": {\"color\": \"white\"}}, \"header\": {\"fill\": {\"color\": \"#C8D4E3\"}, \"line\": {\"color\": \"white\"}}, \"type\": \"table\"}]}, \"layout\": {\"annotationdefaults\": {\"arrowcolor\": \"#2a3f5f\", \"arrowhead\": 0, \"arrowwidth\": 1}, \"autotypenumbers\": \"strict\", \"coloraxis\": {\"colorbar\": {\"outlinewidth\": 0, \"ticks\": \"\"}}, \"colorscale\": {\"diverging\": [[0, \"#8e0152\"], [0.1, \"#c51b7d\"], [0.2, \"#de77ae\"], [0.3, \"#f1b6da\"], [0.4, \"#fde0ef\"], [0.5, \"#f7f7f7\"], [0.6, \"#e6f5d0\"], [0.7, \"#b8e186\"], [0.8, \"#7fbc41\"], [0.9, \"#4d9221\"], [1, \"#276419\"]], \"sequential\": [[0.0, \"#0d0887\"], [0.1111111111111111, \"#46039f\"], [0.2222222222222222, \"#7201a8\"], [0.3333333333333333, \"#9c179e\"], [0.4444444444444444, \"#bd3786\"], [0.5555555555555556, \"#d8576b\"], [0.6666666666666666, \"#ed7953\"], [0.7777777777777778, \"#fb9f3a\"], [0.8888888888888888, \"#fdca26\"], [1.0, \"#f0f921\"]], \"sequentialminus\": [[0.0, \"#0d0887\"], [0.1111111111111111, \"#46039f\"], [0.2222222222222222, \"#7201a8\"], [0.3333333333333333, \"#9c179e\"], [0.4444444444444444, \"#bd3786\"], [0.5555555555555556, \"#d8576b\"], [0.6666666666666666, \"#ed7953\"], [0.7777777777777778, \"#fb9f3a\"], [0.8888888888888888, \"#fdca26\"], [1.0, \"#f0f921\"]]}, \"colorway\": [\"#636efa\", \"#EF553B\", \"#00cc96\", \"#ab63fa\", \"#FFA15A\", \"#19d3f3\", \"#FF6692\", \"#B6E880\", \"#FF97FF\", \"#FECB52\"], \"font\": {\"color\": \"#2a3f5f\"}, \"geo\": {\"bgcolor\": \"white\", \"lakecolor\": \"white\", \"landcolor\": \"#E5ECF6\", \"showlakes\": true, \"showland\": true, \"subunitcolor\": \"white\"}, \"hoverlabel\": {\"align\": \"left\"}, \"hovermode\": \"closest\", \"mapbox\": {\"style\": \"light\"}, \"paper_bgcolor\": \"white\", \"plot_bgcolor\": \"#E5ECF6\", \"polar\": {\"angularaxis\": {\"gridcolor\": \"white\", \"linecolor\": \"white\", \"ticks\": \"\"}, \"bgcolor\": \"#E5ECF6\", \"radialaxis\": {\"gridcolor\": \"white\", \"linecolor\": \"white\", \"ticks\": \"\"}}, \"scene\": {\"xaxis\": {\"backgroundcolor\": \"#E5ECF6\", \"gridcolor\": \"white\", \"gridwidth\": 2, \"linecolor\": \"white\", \"showbackground\": true, \"ticks\": \"\", \"zerolinecolor\": \"white\"}, \"yaxis\": {\"backgroundcolor\": \"#E5ECF6\", \"gridcolor\": \"white\", \"gridwidth\": 2, \"linecolor\": \"white\", \"showbackground\": true, \"ticks\": \"\", \"zerolinecolor\": \"white\"}, \"zaxis\": {\"backgroundcolor\": \"#E5ECF6\", \"gridcolor\": \"white\", \"gridwidth\": 2, \"linecolor\": \"white\", \"showbackground\": true, \"ticks\": \"\", \"zerolinecolor\": \"white\"}}, \"shapedefaults\": {\"line\": {\"color\": \"#2a3f5f\"}}, \"ternary\": {\"aaxis\": {\"gridcolor\": \"white\", \"linecolor\": \"white\", \"ticks\": \"\"}, \"baxis\": {\"gridcolor\": \"white\", \"linecolor\": \"white\", \"ticks\": \"\"}, \"bgcolor\": \"#E5ECF6\", \"caxis\": {\"gridcolor\": \"white\", \"linecolor\": \"white\", \"ticks\": \"\"}}, \"title\": {\"x\": 0.05}, \"xaxis\": {\"automargin\": true, \"gridcolor\": \"white\", \"linecolor\": \"white\", \"ticks\": \"\", \"title\": {\"standoff\": 15}, \"zerolinecolor\": \"white\", \"zerolinewidth\": 2}, \"yaxis\": {\"automargin\": true, \"gridcolor\": \"white\", \"linecolor\": \"white\", \"ticks\": \"\", \"title\": {\"standoff\": 15}, \"zerolinecolor\": \"white\", \"zerolinewidth\": 2}}}, \"title\": {\"font\": {\"color\": \"#4D5663\"}}, \"xaxis\": {\"gridcolor\": \"#E1E5ED\", \"showgrid\": true, \"tickfont\": {\"color\": \"#4D5663\"}, \"title\": {\"font\": {\"color\": \"#4D5663\"}, \"text\": \"\"}, \"zerolinecolor\": \"#E1E5ED\"}, \"yaxis\": {\"gridcolor\": \"#E1E5ED\", \"showgrid\": true, \"tickfont\": {\"color\": \"#4D5663\"}, \"title\": {\"font\": {\"color\": \"#4D5663\"}, \"text\": \"\"}, \"zerolinecolor\": \"#E1E5ED\"}},                        {\"showLink\": true, \"linkText\": \"Export to plot.ly\", \"plotlyServerURL\": \"https://plot.ly\", \"responsive\": true}                    ).then(function(){\n",
       "                            \n",
       "var gd = document.getElementById('d0a07e67-7dfe-4713-9acc-b8518694f6ba');\n",
       "var x = new MutationObserver(function (mutations, observer) {{\n",
       "        var display = window.getComputedStyle(gd).display;\n",
       "        if (!display || display === 'none') {{\n",
       "            console.log([gd, 'removed!']);\n",
       "            Plotly.purge(gd);\n",
       "            observer.disconnect();\n",
       "        }}\n",
       "}});\n",
       "\n",
       "// Listen for the removal of the full notebook cells\n",
       "var notebookContainer = gd.closest('#notebook-container');\n",
       "if (notebookContainer) {{\n",
       "    x.observe(notebookContainer, {childList: true});\n",
       "}}\n",
       "\n",
       "// Listen for the clearing of the current output cell\n",
       "var outputEl = gd.closest('.output');\n",
       "if (outputEl) {{\n",
       "    x.observe(outputEl, {childList: true});\n",
       "}}\n",
       "\n",
       "                        })                };                });            </script>        </div>"
      ]
     },
     "metadata": {},
     "output_type": "display_data"
    }
   ],
   "source": [
    "df.iplot(kind='box')"
   ]
  },
  {
   "cell_type": "markdown",
   "metadata": {},
   "source": [
    "## 3d Surface"
   ]
  },
  {
   "cell_type": "code",
   "execution_count": 46,
   "metadata": {},
   "outputs": [
    {
     "data": {
      "application/vnd.plotly.v1+json": {
       "config": {
        "linkText": "Export to plot.ly",
        "plotlyServerURL": "https://plot.ly",
        "showLink": true
       },
       "data": [
        {
         "colorscale": [
          [
           0,
           "rgb(165,0,38)"
          ],
          [
           0.1,
           "rgb(215,48,39)"
          ],
          [
           0.2,
           "rgb(244,109,67)"
          ],
          [
           0.3,
           "rgb(253,174,97)"
          ],
          [
           0.4,
           "rgb(254,224,144)"
          ],
          [
           0.5,
           "rgb(255,255,191)"
          ],
          [
           0.6,
           "rgb(224,243,248)"
          ],
          [
           0.7,
           "rgb(171,217,233)"
          ],
          [
           0.8,
           "rgb(116,173,209)"
          ],
          [
           0.9,
           "rgb(69,117,180)"
          ],
          [
           1,
           "rgb(49,54,149)"
          ]
         ],
         "type": "surface",
         "x": [
          0,
          1,
          2,
          3,
          4
         ],
         "y": [
          "x",
          "y",
          "z"
         ],
         "z": [
          [
           1,
           2,
           3,
           4,
           5
          ],
          [
           10,
           20,
           30,
           20,
           10
          ],
          [
           5,
           4,
           3,
           2,
           1
          ]
         ]
        }
       ],
       "layout": {
        "legend": {
         "bgcolor": "#F5F6F9",
         "font": {
          "color": "#4D5663"
         }
        },
        "paper_bgcolor": "#F5F6F9",
        "plot_bgcolor": "#F5F6F9",
        "template": {
         "data": {
          "bar": [
           {
            "error_x": {
             "color": "#2a3f5f"
            },
            "error_y": {
             "color": "#2a3f5f"
            },
            "marker": {
             "line": {
              "color": "#E5ECF6",
              "width": 0.5
             }
            },
            "type": "bar"
           }
          ],
          "barpolar": [
           {
            "marker": {
             "line": {
              "color": "#E5ECF6",
              "width": 0.5
             }
            },
            "type": "barpolar"
           }
          ],
          "carpet": [
           {
            "aaxis": {
             "endlinecolor": "#2a3f5f",
             "gridcolor": "white",
             "linecolor": "white",
             "minorgridcolor": "white",
             "startlinecolor": "#2a3f5f"
            },
            "baxis": {
             "endlinecolor": "#2a3f5f",
             "gridcolor": "white",
             "linecolor": "white",
             "minorgridcolor": "white",
             "startlinecolor": "#2a3f5f"
            },
            "type": "carpet"
           }
          ],
          "choropleth": [
           {
            "colorbar": {
             "outlinewidth": 0,
             "ticks": ""
            },
            "type": "choropleth"
           }
          ],
          "contour": [
           {
            "colorbar": {
             "outlinewidth": 0,
             "ticks": ""
            },
            "colorscale": [
             [
              0,
              "#0d0887"
             ],
             [
              0.1111111111111111,
              "#46039f"
             ],
             [
              0.2222222222222222,
              "#7201a8"
             ],
             [
              0.3333333333333333,
              "#9c179e"
             ],
             [
              0.4444444444444444,
              "#bd3786"
             ],
             [
              0.5555555555555556,
              "#d8576b"
             ],
             [
              0.6666666666666666,
              "#ed7953"
             ],
             [
              0.7777777777777778,
              "#fb9f3a"
             ],
             [
              0.8888888888888888,
              "#fdca26"
             ],
             [
              1,
              "#f0f921"
             ]
            ],
            "type": "contour"
           }
          ],
          "contourcarpet": [
           {
            "colorbar": {
             "outlinewidth": 0,
             "ticks": ""
            },
            "type": "contourcarpet"
           }
          ],
          "heatmap": [
           {
            "colorbar": {
             "outlinewidth": 0,
             "ticks": ""
            },
            "colorscale": [
             [
              0,
              "#0d0887"
             ],
             [
              0.1111111111111111,
              "#46039f"
             ],
             [
              0.2222222222222222,
              "#7201a8"
             ],
             [
              0.3333333333333333,
              "#9c179e"
             ],
             [
              0.4444444444444444,
              "#bd3786"
             ],
             [
              0.5555555555555556,
              "#d8576b"
             ],
             [
              0.6666666666666666,
              "#ed7953"
             ],
             [
              0.7777777777777778,
              "#fb9f3a"
             ],
             [
              0.8888888888888888,
              "#fdca26"
             ],
             [
              1,
              "#f0f921"
             ]
            ],
            "type": "heatmap"
           }
          ],
          "heatmapgl": [
           {
            "colorbar": {
             "outlinewidth": 0,
             "ticks": ""
            },
            "colorscale": [
             [
              0,
              "#0d0887"
             ],
             [
              0.1111111111111111,
              "#46039f"
             ],
             [
              0.2222222222222222,
              "#7201a8"
             ],
             [
              0.3333333333333333,
              "#9c179e"
             ],
             [
              0.4444444444444444,
              "#bd3786"
             ],
             [
              0.5555555555555556,
              "#d8576b"
             ],
             [
              0.6666666666666666,
              "#ed7953"
             ],
             [
              0.7777777777777778,
              "#fb9f3a"
             ],
             [
              0.8888888888888888,
              "#fdca26"
             ],
             [
              1,
              "#f0f921"
             ]
            ],
            "type": "heatmapgl"
           }
          ],
          "histogram": [
           {
            "marker": {
             "colorbar": {
              "outlinewidth": 0,
              "ticks": ""
             }
            },
            "type": "histogram"
           }
          ],
          "histogram2d": [
           {
            "colorbar": {
             "outlinewidth": 0,
             "ticks": ""
            },
            "colorscale": [
             [
              0,
              "#0d0887"
             ],
             [
              0.1111111111111111,
              "#46039f"
             ],
             [
              0.2222222222222222,
              "#7201a8"
             ],
             [
              0.3333333333333333,
              "#9c179e"
             ],
             [
              0.4444444444444444,
              "#bd3786"
             ],
             [
              0.5555555555555556,
              "#d8576b"
             ],
             [
              0.6666666666666666,
              "#ed7953"
             ],
             [
              0.7777777777777778,
              "#fb9f3a"
             ],
             [
              0.8888888888888888,
              "#fdca26"
             ],
             [
              1,
              "#f0f921"
             ]
            ],
            "type": "histogram2d"
           }
          ],
          "histogram2dcontour": [
           {
            "colorbar": {
             "outlinewidth": 0,
             "ticks": ""
            },
            "colorscale": [
             [
              0,
              "#0d0887"
             ],
             [
              0.1111111111111111,
              "#46039f"
             ],
             [
              0.2222222222222222,
              "#7201a8"
             ],
             [
              0.3333333333333333,
              "#9c179e"
             ],
             [
              0.4444444444444444,
              "#bd3786"
             ],
             [
              0.5555555555555556,
              "#d8576b"
             ],
             [
              0.6666666666666666,
              "#ed7953"
             ],
             [
              0.7777777777777778,
              "#fb9f3a"
             ],
             [
              0.8888888888888888,
              "#fdca26"
             ],
             [
              1,
              "#f0f921"
             ]
            ],
            "type": "histogram2dcontour"
           }
          ],
          "mesh3d": [
           {
            "colorbar": {
             "outlinewidth": 0,
             "ticks": ""
            },
            "type": "mesh3d"
           }
          ],
          "parcoords": [
           {
            "line": {
             "colorbar": {
              "outlinewidth": 0,
              "ticks": ""
             }
            },
            "type": "parcoords"
           }
          ],
          "pie": [
           {
            "automargin": true,
            "type": "pie"
           }
          ],
          "scatter": [
           {
            "marker": {
             "colorbar": {
              "outlinewidth": 0,
              "ticks": ""
             }
            },
            "type": "scatter"
           }
          ],
          "scatter3d": [
           {
            "line": {
             "colorbar": {
              "outlinewidth": 0,
              "ticks": ""
             }
            },
            "marker": {
             "colorbar": {
              "outlinewidth": 0,
              "ticks": ""
             }
            },
            "type": "scatter3d"
           }
          ],
          "scattercarpet": [
           {
            "marker": {
             "colorbar": {
              "outlinewidth": 0,
              "ticks": ""
             }
            },
            "type": "scattercarpet"
           }
          ],
          "scattergeo": [
           {
            "marker": {
             "colorbar": {
              "outlinewidth": 0,
              "ticks": ""
             }
            },
            "type": "scattergeo"
           }
          ],
          "scattergl": [
           {
            "marker": {
             "colorbar": {
              "outlinewidth": 0,
              "ticks": ""
             }
            },
            "type": "scattergl"
           }
          ],
          "scattermapbox": [
           {
            "marker": {
             "colorbar": {
              "outlinewidth": 0,
              "ticks": ""
             }
            },
            "type": "scattermapbox"
           }
          ],
          "scatterpolar": [
           {
            "marker": {
             "colorbar": {
              "outlinewidth": 0,
              "ticks": ""
             }
            },
            "type": "scatterpolar"
           }
          ],
          "scatterpolargl": [
           {
            "marker": {
             "colorbar": {
              "outlinewidth": 0,
              "ticks": ""
             }
            },
            "type": "scatterpolargl"
           }
          ],
          "scatterternary": [
           {
            "marker": {
             "colorbar": {
              "outlinewidth": 0,
              "ticks": ""
             }
            },
            "type": "scatterternary"
           }
          ],
          "surface": [
           {
            "colorbar": {
             "outlinewidth": 0,
             "ticks": ""
            },
            "colorscale": [
             [
              0,
              "#0d0887"
             ],
             [
              0.1111111111111111,
              "#46039f"
             ],
             [
              0.2222222222222222,
              "#7201a8"
             ],
             [
              0.3333333333333333,
              "#9c179e"
             ],
             [
              0.4444444444444444,
              "#bd3786"
             ],
             [
              0.5555555555555556,
              "#d8576b"
             ],
             [
              0.6666666666666666,
              "#ed7953"
             ],
             [
              0.7777777777777778,
              "#fb9f3a"
             ],
             [
              0.8888888888888888,
              "#fdca26"
             ],
             [
              1,
              "#f0f921"
             ]
            ],
            "type": "surface"
           }
          ],
          "table": [
           {
            "cells": {
             "fill": {
              "color": "#EBF0F8"
             },
             "line": {
              "color": "white"
             }
            },
            "header": {
             "fill": {
              "color": "#C8D4E3"
             },
             "line": {
              "color": "white"
             }
            },
            "type": "table"
           }
          ]
         },
         "layout": {
          "annotationdefaults": {
           "arrowcolor": "#2a3f5f",
           "arrowhead": 0,
           "arrowwidth": 1
          },
          "autotypenumbers": "strict",
          "coloraxis": {
           "colorbar": {
            "outlinewidth": 0,
            "ticks": ""
           }
          },
          "colorscale": {
           "diverging": [
            [
             0,
             "#8e0152"
            ],
            [
             0.1,
             "#c51b7d"
            ],
            [
             0.2,
             "#de77ae"
            ],
            [
             0.3,
             "#f1b6da"
            ],
            [
             0.4,
             "#fde0ef"
            ],
            [
             0.5,
             "#f7f7f7"
            ],
            [
             0.6,
             "#e6f5d0"
            ],
            [
             0.7,
             "#b8e186"
            ],
            [
             0.8,
             "#7fbc41"
            ],
            [
             0.9,
             "#4d9221"
            ],
            [
             1,
             "#276419"
            ]
           ],
           "sequential": [
            [
             0,
             "#0d0887"
            ],
            [
             0.1111111111111111,
             "#46039f"
            ],
            [
             0.2222222222222222,
             "#7201a8"
            ],
            [
             0.3333333333333333,
             "#9c179e"
            ],
            [
             0.4444444444444444,
             "#bd3786"
            ],
            [
             0.5555555555555556,
             "#d8576b"
            ],
            [
             0.6666666666666666,
             "#ed7953"
            ],
            [
             0.7777777777777778,
             "#fb9f3a"
            ],
            [
             0.8888888888888888,
             "#fdca26"
            ],
            [
             1,
             "#f0f921"
            ]
           ],
           "sequentialminus": [
            [
             0,
             "#0d0887"
            ],
            [
             0.1111111111111111,
             "#46039f"
            ],
            [
             0.2222222222222222,
             "#7201a8"
            ],
            [
             0.3333333333333333,
             "#9c179e"
            ],
            [
             0.4444444444444444,
             "#bd3786"
            ],
            [
             0.5555555555555556,
             "#d8576b"
            ],
            [
             0.6666666666666666,
             "#ed7953"
            ],
            [
             0.7777777777777778,
             "#fb9f3a"
            ],
            [
             0.8888888888888888,
             "#fdca26"
            ],
            [
             1,
             "#f0f921"
            ]
           ]
          },
          "colorway": [
           "#636efa",
           "#EF553B",
           "#00cc96",
           "#ab63fa",
           "#FFA15A",
           "#19d3f3",
           "#FF6692",
           "#B6E880",
           "#FF97FF",
           "#FECB52"
          ],
          "font": {
           "color": "#2a3f5f"
          },
          "geo": {
           "bgcolor": "white",
           "lakecolor": "white",
           "landcolor": "#E5ECF6",
           "showlakes": true,
           "showland": true,
           "subunitcolor": "white"
          },
          "hoverlabel": {
           "align": "left"
          },
          "hovermode": "closest",
          "mapbox": {
           "style": "light"
          },
          "paper_bgcolor": "white",
          "plot_bgcolor": "#E5ECF6",
          "polar": {
           "angularaxis": {
            "gridcolor": "white",
            "linecolor": "white",
            "ticks": ""
           },
           "bgcolor": "#E5ECF6",
           "radialaxis": {
            "gridcolor": "white",
            "linecolor": "white",
            "ticks": ""
           }
          },
          "scene": {
           "xaxis": {
            "backgroundcolor": "#E5ECF6",
            "gridcolor": "white",
            "gridwidth": 2,
            "linecolor": "white",
            "showbackground": true,
            "ticks": "",
            "zerolinecolor": "white"
           },
           "yaxis": {
            "backgroundcolor": "#E5ECF6",
            "gridcolor": "white",
            "gridwidth": 2,
            "linecolor": "white",
            "showbackground": true,
            "ticks": "",
            "zerolinecolor": "white"
           },
           "zaxis": {
            "backgroundcolor": "#E5ECF6",
            "gridcolor": "white",
            "gridwidth": 2,
            "linecolor": "white",
            "showbackground": true,
            "ticks": "",
            "zerolinecolor": "white"
           }
          },
          "shapedefaults": {
           "line": {
            "color": "#2a3f5f"
           }
          },
          "ternary": {
           "aaxis": {
            "gridcolor": "white",
            "linecolor": "white",
            "ticks": ""
           },
           "baxis": {
            "gridcolor": "white",
            "linecolor": "white",
            "ticks": ""
           },
           "bgcolor": "#E5ECF6",
           "caxis": {
            "gridcolor": "white",
            "linecolor": "white",
            "ticks": ""
           }
          },
          "title": {
           "x": 0.05
          },
          "xaxis": {
           "automargin": true,
           "gridcolor": "white",
           "linecolor": "white",
           "ticks": "",
           "title": {
            "standoff": 15
           },
           "zerolinecolor": "white",
           "zerolinewidth": 2
          },
          "yaxis": {
           "automargin": true,
           "gridcolor": "white",
           "linecolor": "white",
           "ticks": "",
           "title": {
            "standoff": 15
           },
           "zerolinecolor": "white",
           "zerolinewidth": 2
          }
         }
        },
        "title": {
         "font": {
          "color": "#4D5663"
         }
        },
        "xaxis": {
         "gridcolor": "#E1E5ED",
         "showgrid": true,
         "tickfont": {
          "color": "#4D5663"
         },
         "title": {
          "font": {
           "color": "#4D5663"
          },
          "text": ""
         },
         "zerolinecolor": "#E1E5ED"
        },
        "yaxis": {
         "gridcolor": "#E1E5ED",
         "showgrid": true,
         "tickfont": {
          "color": "#4D5663"
         },
         "title": {
          "font": {
           "color": "#4D5663"
          },
          "text": ""
         },
         "zerolinecolor": "#E1E5ED"
        }
       }
      },
      "text/html": [
       "<div>                            <div id=\"5a724aa8-e920-4634-bef2-ce6c15820365\" class=\"plotly-graph-div\" style=\"height:525px; width:100%;\"></div>            <script type=\"text/javascript\">                require([\"plotly\"], function(Plotly) {                    window.PLOTLYENV=window.PLOTLYENV || {};\n",
       "                    window.PLOTLYENV.BASE_URL='https://plot.ly';                                    if (document.getElementById(\"5a724aa8-e920-4634-bef2-ce6c15820365\")) {                    Plotly.newPlot(                        \"5a724aa8-e920-4634-bef2-ce6c15820365\",                        [{\"colorscale\": [[0.0, \"rgb(165,0,38)\"], [0.1, \"rgb(215,48,39)\"], [0.2, \"rgb(244,109,67)\"], [0.3, \"rgb(253,174,97)\"], [0.4, \"rgb(254,224,144)\"], [0.5, \"rgb(255,255,191)\"], [0.6, \"rgb(224,243,248)\"], [0.7, \"rgb(171,217,233)\"], [0.8, \"rgb(116,173,209)\"], [0.9, \"rgb(69,117,180)\"], [1.0, \"rgb(49,54,149)\"]], \"type\": \"surface\", \"x\": [0, 1, 2, 3, 4], \"y\": [\"x\", \"y\", \"z\"], \"z\": [[1, 2, 3, 4, 5], [10, 20, 30, 20, 10], [5, 4, 3, 2, 1]]}],                        {\"legend\": {\"bgcolor\": \"#F5F6F9\", \"font\": {\"color\": \"#4D5663\"}}, \"paper_bgcolor\": \"#F5F6F9\", \"plot_bgcolor\": \"#F5F6F9\", \"template\": {\"data\": {\"bar\": [{\"error_x\": {\"color\": \"#2a3f5f\"}, \"error_y\": {\"color\": \"#2a3f5f\"}, \"marker\": {\"line\": {\"color\": \"#E5ECF6\", \"width\": 0.5}}, \"type\": \"bar\"}], \"barpolar\": [{\"marker\": {\"line\": {\"color\": \"#E5ECF6\", \"width\": 0.5}}, \"type\": \"barpolar\"}], \"carpet\": [{\"aaxis\": {\"endlinecolor\": \"#2a3f5f\", \"gridcolor\": \"white\", \"linecolor\": \"white\", \"minorgridcolor\": \"white\", \"startlinecolor\": \"#2a3f5f\"}, \"baxis\": {\"endlinecolor\": \"#2a3f5f\", \"gridcolor\": \"white\", \"linecolor\": \"white\", \"minorgridcolor\": \"white\", \"startlinecolor\": \"#2a3f5f\"}, \"type\": \"carpet\"}], \"choropleth\": [{\"colorbar\": {\"outlinewidth\": 0, \"ticks\": \"\"}, \"type\": \"choropleth\"}], \"contour\": [{\"colorbar\": {\"outlinewidth\": 0, \"ticks\": \"\"}, \"colorscale\": [[0.0, \"#0d0887\"], [0.1111111111111111, \"#46039f\"], [0.2222222222222222, \"#7201a8\"], [0.3333333333333333, \"#9c179e\"], [0.4444444444444444, \"#bd3786\"], [0.5555555555555556, \"#d8576b\"], [0.6666666666666666, \"#ed7953\"], [0.7777777777777778, \"#fb9f3a\"], [0.8888888888888888, \"#fdca26\"], [1.0, \"#f0f921\"]], \"type\": \"contour\"}], \"contourcarpet\": [{\"colorbar\": {\"outlinewidth\": 0, \"ticks\": \"\"}, \"type\": \"contourcarpet\"}], \"heatmap\": [{\"colorbar\": {\"outlinewidth\": 0, \"ticks\": \"\"}, \"colorscale\": [[0.0, \"#0d0887\"], [0.1111111111111111, \"#46039f\"], [0.2222222222222222, \"#7201a8\"], [0.3333333333333333, \"#9c179e\"], [0.4444444444444444, \"#bd3786\"], [0.5555555555555556, \"#d8576b\"], [0.6666666666666666, \"#ed7953\"], [0.7777777777777778, \"#fb9f3a\"], [0.8888888888888888, \"#fdca26\"], [1.0, \"#f0f921\"]], \"type\": \"heatmap\"}], \"heatmapgl\": [{\"colorbar\": {\"outlinewidth\": 0, \"ticks\": \"\"}, \"colorscale\": [[0.0, \"#0d0887\"], [0.1111111111111111, \"#46039f\"], [0.2222222222222222, \"#7201a8\"], [0.3333333333333333, \"#9c179e\"], [0.4444444444444444, \"#bd3786\"], [0.5555555555555556, \"#d8576b\"], [0.6666666666666666, \"#ed7953\"], [0.7777777777777778, \"#fb9f3a\"], [0.8888888888888888, \"#fdca26\"], [1.0, \"#f0f921\"]], \"type\": \"heatmapgl\"}], \"histogram\": [{\"marker\": {\"colorbar\": {\"outlinewidth\": 0, \"ticks\": \"\"}}, \"type\": \"histogram\"}], \"histogram2d\": [{\"colorbar\": {\"outlinewidth\": 0, \"ticks\": \"\"}, \"colorscale\": [[0.0, \"#0d0887\"], [0.1111111111111111, \"#46039f\"], [0.2222222222222222, \"#7201a8\"], [0.3333333333333333, \"#9c179e\"], [0.4444444444444444, \"#bd3786\"], [0.5555555555555556, \"#d8576b\"], [0.6666666666666666, \"#ed7953\"], [0.7777777777777778, \"#fb9f3a\"], [0.8888888888888888, \"#fdca26\"], [1.0, \"#f0f921\"]], \"type\": \"histogram2d\"}], \"histogram2dcontour\": [{\"colorbar\": {\"outlinewidth\": 0, \"ticks\": \"\"}, \"colorscale\": [[0.0, \"#0d0887\"], [0.1111111111111111, \"#46039f\"], [0.2222222222222222, \"#7201a8\"], [0.3333333333333333, \"#9c179e\"], [0.4444444444444444, \"#bd3786\"], [0.5555555555555556, \"#d8576b\"], [0.6666666666666666, \"#ed7953\"], [0.7777777777777778, \"#fb9f3a\"], [0.8888888888888888, \"#fdca26\"], [1.0, \"#f0f921\"]], \"type\": \"histogram2dcontour\"}], \"mesh3d\": [{\"colorbar\": {\"outlinewidth\": 0, \"ticks\": \"\"}, \"type\": \"mesh3d\"}], \"parcoords\": [{\"line\": {\"colorbar\": {\"outlinewidth\": 0, \"ticks\": \"\"}}, \"type\": \"parcoords\"}], \"pie\": [{\"automargin\": true, \"type\": \"pie\"}], \"scatter\": [{\"marker\": {\"colorbar\": {\"outlinewidth\": 0, \"ticks\": \"\"}}, \"type\": \"scatter\"}], \"scatter3d\": [{\"line\": {\"colorbar\": {\"outlinewidth\": 0, \"ticks\": \"\"}}, \"marker\": {\"colorbar\": {\"outlinewidth\": 0, \"ticks\": \"\"}}, \"type\": \"scatter3d\"}], \"scattercarpet\": [{\"marker\": {\"colorbar\": {\"outlinewidth\": 0, \"ticks\": \"\"}}, \"type\": \"scattercarpet\"}], \"scattergeo\": [{\"marker\": {\"colorbar\": {\"outlinewidth\": 0, \"ticks\": \"\"}}, \"type\": \"scattergeo\"}], \"scattergl\": [{\"marker\": {\"colorbar\": {\"outlinewidth\": 0, \"ticks\": \"\"}}, \"type\": \"scattergl\"}], \"scattermapbox\": [{\"marker\": {\"colorbar\": {\"outlinewidth\": 0, \"ticks\": \"\"}}, \"type\": \"scattermapbox\"}], \"scatterpolar\": [{\"marker\": {\"colorbar\": {\"outlinewidth\": 0, \"ticks\": \"\"}}, \"type\": \"scatterpolar\"}], \"scatterpolargl\": [{\"marker\": {\"colorbar\": {\"outlinewidth\": 0, \"ticks\": \"\"}}, \"type\": \"scatterpolargl\"}], \"scatterternary\": [{\"marker\": {\"colorbar\": {\"outlinewidth\": 0, \"ticks\": \"\"}}, \"type\": \"scatterternary\"}], \"surface\": [{\"colorbar\": {\"outlinewidth\": 0, \"ticks\": \"\"}, \"colorscale\": [[0.0, \"#0d0887\"], [0.1111111111111111, \"#46039f\"], [0.2222222222222222, \"#7201a8\"], [0.3333333333333333, \"#9c179e\"], [0.4444444444444444, \"#bd3786\"], [0.5555555555555556, \"#d8576b\"], [0.6666666666666666, \"#ed7953\"], [0.7777777777777778, \"#fb9f3a\"], [0.8888888888888888, \"#fdca26\"], [1.0, \"#f0f921\"]], \"type\": \"surface\"}], \"table\": [{\"cells\": {\"fill\": {\"color\": \"#EBF0F8\"}, \"line\": {\"color\": \"white\"}}, \"header\": {\"fill\": {\"color\": \"#C8D4E3\"}, \"line\": {\"color\": \"white\"}}, \"type\": \"table\"}]}, \"layout\": {\"annotationdefaults\": {\"arrowcolor\": \"#2a3f5f\", \"arrowhead\": 0, \"arrowwidth\": 1}, \"autotypenumbers\": \"strict\", \"coloraxis\": {\"colorbar\": {\"outlinewidth\": 0, \"ticks\": \"\"}}, \"colorscale\": {\"diverging\": [[0, \"#8e0152\"], [0.1, \"#c51b7d\"], [0.2, \"#de77ae\"], [0.3, \"#f1b6da\"], [0.4, \"#fde0ef\"], [0.5, \"#f7f7f7\"], [0.6, \"#e6f5d0\"], [0.7, \"#b8e186\"], [0.8, \"#7fbc41\"], [0.9, \"#4d9221\"], [1, \"#276419\"]], \"sequential\": [[0.0, \"#0d0887\"], [0.1111111111111111, \"#46039f\"], [0.2222222222222222, \"#7201a8\"], [0.3333333333333333, \"#9c179e\"], [0.4444444444444444, \"#bd3786\"], [0.5555555555555556, \"#d8576b\"], [0.6666666666666666, \"#ed7953\"], [0.7777777777777778, \"#fb9f3a\"], [0.8888888888888888, \"#fdca26\"], [1.0, \"#f0f921\"]], \"sequentialminus\": [[0.0, \"#0d0887\"], [0.1111111111111111, \"#46039f\"], [0.2222222222222222, \"#7201a8\"], [0.3333333333333333, \"#9c179e\"], [0.4444444444444444, \"#bd3786\"], [0.5555555555555556, \"#d8576b\"], [0.6666666666666666, \"#ed7953\"], [0.7777777777777778, \"#fb9f3a\"], [0.8888888888888888, \"#fdca26\"], [1.0, \"#f0f921\"]]}, \"colorway\": [\"#636efa\", \"#EF553B\", \"#00cc96\", \"#ab63fa\", \"#FFA15A\", \"#19d3f3\", \"#FF6692\", \"#B6E880\", \"#FF97FF\", \"#FECB52\"], \"font\": {\"color\": \"#2a3f5f\"}, \"geo\": {\"bgcolor\": \"white\", \"lakecolor\": \"white\", \"landcolor\": \"#E5ECF6\", \"showlakes\": true, \"showland\": true, \"subunitcolor\": \"white\"}, \"hoverlabel\": {\"align\": \"left\"}, \"hovermode\": \"closest\", \"mapbox\": {\"style\": \"light\"}, \"paper_bgcolor\": \"white\", \"plot_bgcolor\": \"#E5ECF6\", \"polar\": {\"angularaxis\": {\"gridcolor\": \"white\", \"linecolor\": \"white\", \"ticks\": \"\"}, \"bgcolor\": \"#E5ECF6\", \"radialaxis\": {\"gridcolor\": \"white\", \"linecolor\": \"white\", \"ticks\": \"\"}}, \"scene\": {\"xaxis\": {\"backgroundcolor\": \"#E5ECF6\", \"gridcolor\": \"white\", \"gridwidth\": 2, \"linecolor\": \"white\", \"showbackground\": true, \"ticks\": \"\", \"zerolinecolor\": \"white\"}, \"yaxis\": {\"backgroundcolor\": \"#E5ECF6\", \"gridcolor\": \"white\", \"gridwidth\": 2, \"linecolor\": \"white\", \"showbackground\": true, \"ticks\": \"\", \"zerolinecolor\": \"white\"}, \"zaxis\": {\"backgroundcolor\": \"#E5ECF6\", \"gridcolor\": \"white\", \"gridwidth\": 2, \"linecolor\": \"white\", \"showbackground\": true, \"ticks\": \"\", \"zerolinecolor\": \"white\"}}, \"shapedefaults\": {\"line\": {\"color\": \"#2a3f5f\"}}, \"ternary\": {\"aaxis\": {\"gridcolor\": \"white\", \"linecolor\": \"white\", \"ticks\": \"\"}, \"baxis\": {\"gridcolor\": \"white\", \"linecolor\": \"white\", \"ticks\": \"\"}, \"bgcolor\": \"#E5ECF6\", \"caxis\": {\"gridcolor\": \"white\", \"linecolor\": \"white\", \"ticks\": \"\"}}, \"title\": {\"x\": 0.05}, \"xaxis\": {\"automargin\": true, \"gridcolor\": \"white\", \"linecolor\": \"white\", \"ticks\": \"\", \"title\": {\"standoff\": 15}, \"zerolinecolor\": \"white\", \"zerolinewidth\": 2}, \"yaxis\": {\"automargin\": true, \"gridcolor\": \"white\", \"linecolor\": \"white\", \"ticks\": \"\", \"title\": {\"standoff\": 15}, \"zerolinecolor\": \"white\", \"zerolinewidth\": 2}}}, \"title\": {\"font\": {\"color\": \"#4D5663\"}}, \"xaxis\": {\"gridcolor\": \"#E1E5ED\", \"showgrid\": true, \"tickfont\": {\"color\": \"#4D5663\"}, \"title\": {\"font\": {\"color\": \"#4D5663\"}, \"text\": \"\"}, \"zerolinecolor\": \"#E1E5ED\"}, \"yaxis\": {\"gridcolor\": \"#E1E5ED\", \"showgrid\": true, \"tickfont\": {\"color\": \"#4D5663\"}, \"title\": {\"font\": {\"color\": \"#4D5663\"}, \"text\": \"\"}, \"zerolinecolor\": \"#E1E5ED\"}},                        {\"showLink\": true, \"linkText\": \"Export to plot.ly\", \"plotlyServerURL\": \"https://plot.ly\", \"responsive\": true}                    ).then(function(){\n",
       "                            \n",
       "var gd = document.getElementById('5a724aa8-e920-4634-bef2-ce6c15820365');\n",
       "var x = new MutationObserver(function (mutations, observer) {{\n",
       "        var display = window.getComputedStyle(gd).display;\n",
       "        if (!display || display === 'none') {{\n",
       "            console.log([gd, 'removed!']);\n",
       "            Plotly.purge(gd);\n",
       "            observer.disconnect();\n",
       "        }}\n",
       "}});\n",
       "\n",
       "// Listen for the removal of the full notebook cells\n",
       "var notebookContainer = gd.closest('#notebook-container');\n",
       "if (notebookContainer) {{\n",
       "    x.observe(notebookContainer, {childList: true});\n",
       "}}\n",
       "\n",
       "// Listen for the clearing of the current output cell\n",
       "var outputEl = gd.closest('.output');\n",
       "if (outputEl) {{\n",
       "    x.observe(outputEl, {childList: true});\n",
       "}}\n",
       "\n",
       "                        })                };                });            </script>        </div>"
      ]
     },
     "metadata": {},
     "output_type": "display_data"
    }
   ],
   "source": [
    "df3 = pd.DataFrame({'x':[1,2,3,4,5],'y':[10,20,30,20,10],'z':[5,4,3,2,1]})\n",
    "df3.iplot(kind='surface',colorscale='rdylbu')"
   ]
  },
  {
   "cell_type": "markdown",
   "metadata": {},
   "source": [
    "## Spread"
   ]
  },
  {
   "cell_type": "code",
   "execution_count": 50,
   "metadata": {},
   "outputs": [
    {
     "data": {
      "text/html": [
       "<div id=\"d77d91d4-36ef-4915-a84f-8e43772897cc\" style=\"height: 525px; width: 100%;\" class=\"plotly-graph-div\"></div><script type=\"text/javascript\">require([\"plotly\"], function(Plotly) { window.PLOTLYENV=window.PLOTLYENV || {};window.PLOTLYENV.BASE_URL=\"https://plot.ly\";Plotly.newPlot(\"d77d91d4-36ef-4915-a84f-8e43772897cc\", [{\"x\": [0, 1, 2, 3, 4, 5, 6, 7, 8, 9, 10, 11, 12, 13, 14, 15, 16, 17, 18, 19, 20, 21, 22, 23, 24, 25, 26, 27, 28, 29, 30, 31, 32, 33, 34, 35, 36, 37, 38, 39, 40, 41, 42, 43, 44, 45, 46, 47, 48, 49, 50, 51, 52, 53, 54, 55, 56, 57, 58, 59, 60, 61, 62, 63, 64, 65, 66, 67, 68, 69, 70, 71, 72, 73, 74, 75, 76, 77, 78, 79, 80, 81, 82, 83, 84, 85, 86, 87, 88, 89, 90, 91, 92, 93, 94, 95, 96, 97, 98, 99], \"text\": \"\", \"y\": [1.8787246669561561, 0.028733616663923985, -0.1587931161277573, -1.2219723462024636, 1.2531523973363488, 0.8312132082951045, 1.1740170898586173, -0.24393002059589958, -0.296966543277261, 0.7621695759158762, 0.04210347865555278, -0.7791970481917073, 0.3943032396655093, -1.0146190736152443, -0.4841710096782867, 0.5522466668361006, -2.77187556758784, -0.5181226698708166, -0.49722040792422156, -1.6534757596659548, -0.06027439377033132, 1.4769243769038323, 1.1796346669498379, -0.7816898015019265, 0.8630132212967984, 0.6590246731638996, -1.1013906677685679, -0.9446804895542242, -1.788022470413331, 0.8775002821729455, 0.3546715768521251, -0.16532125735222183, 1.8914747239632839, -1.1251772915449791, 0.8888981026894395, -0.6066117727706714, 0.8314777742724779, 0.3830457069359529, -0.937459527593053, -0.844561047334305, 1.1280232245052606, -1.640427972598561, 0.8971269652786067, 0.4848047458342485, 0.19373507090654035, -0.7387091317560727, -0.3566733282792827, -0.43158335134818315, -0.4899640124314907, 0.5488715658495908, 0.2821768987731658, -0.8832439438038343, 1.271863067044618, 0.10680856505919414, 0.8269478103679717, -0.03266751467505833, -0.34021520002722894, -0.6769186069469743, 0.7126188256918854, 1.8871150025438166, -0.06742662656190869, -1.4789736197389265, 0.346978601690099, -0.3757389938313092, 0.715285859520045, 1.5994858611908638, -0.3692558358591885, 0.13827360227735647, -0.40690530542342296, 0.636973800943974, 0.14658752987818605, -0.3949906255692418, 1.5076392623927681, -0.15486042602397807, 0.22159940179664614, -1.0878244818277978, -0.03354417910293162, 1.2258839316932069, -0.048951028800266715, -1.1089870994157809, 0.021452684803338333, 1.2548854256528554, -1.0913797662237141, -0.539059741192553, 0.6901269187662552, -1.4810451728120602, -0.8468654201203714, 0.3763927872506507, 0.8120568488462931, 0.0031767062628090745, 0.697742291538818, -0.7429703118062226, -0.842231117346612, -0.0666718362166121, 1.8829720647783421, 1.320112956074407, 0.42394324402947475, 0.466299928509142, 0.9415282138953815, -0.7707938096473991], \"mode\": \"lines\", \"line\": {\"dash\": \"solid\", \"width\": 1.3, \"color\": \"rgba(226, 74, 51, 1.0)\"}, \"type\": \"scatter\", \"name\": \"A\"}, {\"x\": [0, 1, 2, 3, 4, 5, 6, 7, 8, 9, 10, 11, 12, 13, 14, 15, 16, 17, 18, 19, 20, 21, 22, 23, 24, 25, 26, 27, 28, 29, 30, 31, 32, 33, 34, 35, 36, 37, 38, 39, 40, 41, 42, 43, 44, 45, 46, 47, 48, 49, 50, 51, 52, 53, 54, 55, 56, 57, 58, 59, 60, 61, 62, 63, 64, 65, 66, 67, 68, 69, 70, 71, 72, 73, 74, 75, 76, 77, 78, 79, 80, 81, 82, 83, 84, 85, 86, 87, 88, 89, 90, 91, 92, 93, 94, 95, 96, 97, 98, 99], \"text\": \"\", \"y\": [0.6887194376286498, 0.1040535242504629, 0.38792642015276635, 1.3934230260395444, -0.5375976688704683, -1.1493608786796612, 0.01342890849383506, -0.47231861415738574, 0.24793169472844812, -0.6232083144122951, -1.2121596694710122, -2.4542371001007464, 0.29855785553142483, 1.2997620162676498, 0.9168047366909585, -0.41040614900130634, 1.3147531456519106, -0.12455263569370086, 0.9366143523054554, 0.23573463729990726, -0.8244746170540388, -0.32685668230128845, 1.501781503113865, 0.9830012153240587, 0.6020112305361386, 0.3688304138086671, 1.0090827131320237, -0.5811720111587422, 0.0512884505619472, -1.6917643070157176, -0.25322144257612356, -0.2937357494665306, 0.7368726362448421, 0.5763424997076779, 0.16472110066593693, -0.374254076023172, 1.1280304809680426, 0.6455371548668151, -0.18000225503004413, -0.9128911232313937, -0.5670695205365133, 0.16138491502455474, 1.2118733837294762, 0.4444506280024997, 0.6834767601409083, 1.8020727241195935, 2.4230878273709062, 0.27701889696287213, 1.4067122280705426, -0.33728919328412016, 0.5154870435338148, 0.7751019637809062, 1.400130435077449, 0.8276591566099151, 1.1268119555303864, 0.7016118169589718, 0.476169530704683, -0.5261125753709399, -1.2129692872143456, 0.6126338497954396, 1.5825905557818922, -0.8173630045970658, 0.1075602248072928, 1.2716988894407462, -0.15615948990467535, -0.2968566839654392, 1.7204934641303604, -0.869876624137026, 0.28935077735906545, -1.2052876742800458, -0.263979336251353, -0.02815365780209253, -0.04062347728476395, 0.943760296027789, -1.7797735906553165, 0.4485755919087686, 0.14778332986993048, 0.5305019463041807, 1.6359913516932165, -0.3437427119285297, 1.9109783094330681, 0.6818924480193401, -0.42214824562337705, 0.8935317581184008, 1.2587495288352297, -0.5992845246668753, 2.7851237345776405, -1.5158096238899554, 0.04177421570103183, 0.48980398157362903, 1.063643861677667, -0.8486329162129157, -1.86936339853131, 0.24761777046722996, 1.290606988097702, 0.17046338292604407, 0.14181179559597848, 0.6505415244850333, -2.5850581533594545, -0.30813091794721653], \"mode\": \"lines\", \"line\": {\"dash\": \"solid\", \"width\": 1.3, \"color\": \"rgba(62, 111, 176, 1.0)\"}, \"type\": \"scatter\", \"name\": \"B\"}, {\"yaxis\": \"y2\", \"mode\": \"lines\", \"xaxis\": \"x2\", \"connectgaps\": false, \"x\": [0, 1, 2, 3, 4, 5, 6, 7, 8, 9, 10, 11, 12, 13, 14, 15, 16, 17, 18, 19, 20, 21, 22, 23, 24, 25, 26, 27, 28, 29, 30, 31, 32, 33, 34, 35, 36, 37, 38, 39, 40, 41, 42, 43, 44, 45, 46, 47, 48, 49, 50, 51, 52, 53, 54, 55, 56, 57, 58, 59, 60, 61, 62, 63, 64, 65, 66, 67, 68, 69, 70, 71, 72, 73, 74, 75, 76, 77, 78, 79, 80, 81, 82, 83, 84, 85, 86, 87, 88, 89, 90, 91, 92, 93, 94, 95, 96, 97, 98, 99], \"showlegend\": false, \"y\": [\"\", -0.0753199075865389, -0.5467195362805236, -2.6153953722420082, \"\", \"\", \"\", \"\", -0.5448982380057091, \"\", \"\", \"\", \"\", -2.314381089882894, -1.4009757463692452, \"\", -4.086628713239751, -0.3935700341771157, -1.433834760229677, -1.889210396965862, \"\", \"\", -0.3221468361640272, -1.764691016825985, \"\", \"\", -2.1104733809005918, -0.36350847839548206, -1.8393109209752783, \"\", \"\", \"\", \"\", -1.701519791252657, \"\", -0.23235769674749934, -0.29655270669556466, -0.26249144793086215, -0.7574572725630089, \"\", \"\", -1.8018128876231159, -0.3147464184508695, \"\", -0.48974168923436795, -2.5407818558756663, -2.779761155650189, -0.7086022483110552, -1.8966762405020332, \"\", -0.23331014476064899, -1.6583459075847404, -0.128267368032831, -0.720850591550721, -0.29986414516241466, -0.7342793316340301, -0.8163847307319119, -0.15080603157603434, \"\", \"\", -1.650017182343801, -0.6616106151418607, \"\", -1.6474378832720553, \"\", \"\", -2.089749299989549, \"\", -0.6962560827824884, \"\", \"\", -0.36683696776714925, \"\", -1.098620722051767, \"\", -1.5364000737365664, -0.1813275089728621, \"\", -1.6849423804934833, -0.7652443874872512, -1.8895256246297298, \"\", -0.6692315206003371, -1.4325914993109539, -0.5686226100689745, -0.8817606481451848, -3.6319891546980116, \"\", \"\", -0.48662727531081995, -0.36590157013884894, \"\", \"\", -0.3142896066838421, \"\", \"\", \"\", -0.18424159597589135, \"\", -0.46266289170018254], \"type\": \"scatter\", \"fill\": \"tozeroy\", \"line\": {\"dash\": \"solid\", \"width\": 0.5, \"color\": \"red\"}, \"name\": \"Spread\"}, {\"yaxis\": \"y2\", \"mode\": \"lines\", \"xaxis\": \"x2\", \"connectgaps\": false, \"x\": [0, 1, 2, 3, 4, 5, 6, 7, 8, 9, 10, 11, 12, 13, 14, 15, 16, 17, 18, 19, 20, 21, 22, 23, 24, 25, 26, 27, 28, 29, 30, 31, 32, 33, 34, 35, 36, 37, 38, 39, 40, 41, 42, 43, 44, 45, 46, 47, 48, 49, 50, 51, 52, 53, 54, 55, 56, 57, 58, 59, 60, 61, 62, 63, 64, 65, 66, 67, 68, 69, 70, 71, 72, 73, 74, 75, 76, 77, 78, 79, 80, 81, 82, 83, 84, 85, 86, 87, 88, 89, 90, 91, 92, 93, 94, 95, 96, 97, 98, 99], \"showlegend\": false, \"y\": [1.1900052293275063, \"\", \"\", \"\", 1.790750066206817, 1.9805740869747657, 1.1605881813647823, 0.22838859356148616, \"\", 1.3853778903281713, 1.254263148126565, 1.675040051909039, 0.09574538413408445, \"\", \"\", 0.9626528158374069, \"\", \"\", \"\", \"\", 0.7642002232837075, 1.8037810592051207, \"\", \"\", 0.2610019907606598, 0.29019425935523246, \"\", \"\", \"\", 2.569264589188663, 0.6078930194282486, 0.12841449211430875, 1.1546020877184417, \"\", 0.7241770020235025, \"\", \"\", \"\", \"\", 0.06833007589708862, 1.6950927450417739, \"\", \"\", 0.040354117831748804, \"\", \"\", \"\", \"\", \"\", 0.8861607591337111, \"\", \"\", \"\", \"\", \"\", \"\", \"\", \"\", 1.9255881129062309, 1.274481152748377, \"\", \"\", 0.23941837688280618, \"\", 0.8714453494247203, 1.896342545156303, \"\", 1.0081502264143825, \"\", 1.8422614752240198, 0.4105668661295391, \"\", 1.5482627396775321, \"\", 2.0013729924519628, \"\", \"\", 0.6953819853890262, \"\", \"\", \"\", 0.5729929776335153, \"\", \"\", \"\", \"\", \"\", 1.8922024111406062, 0.7702826331452614, \"\", \"\", 0.10566260440669306, 1.0271322811846981, \"\", 0.5923650766806401, 1.149649573148363, 0.28213144843349625, \"\", 3.5265863672548363, \"\"], \"type\": \"scatter\", \"fill\": \"tozeroy\", \"line\": {\"dash\": \"solid\", \"width\": 0.5, \"color\": \"green\"}, \"name\": \"Spread\"}], {\"legend\": {\"font\": {\"color\": \"#666666\"}, \"bgcolor\": \"#FFFFFF\"}, \"titlefont\": {\"color\": \"#151516\"}, \"xaxis1\": {\"titlefont\": {\"color\": \"#666666\"}, \"zerolinecolor\": \"#F6F6F6\", \"title\": \"\", \"tickfont\": {\"color\": \"#666666\"}, \"showgrid\": true, \"gridcolor\": \"#F6F6F6\"}, \"paper_bgcolor\": \"#FFFFFF\", \"yaxis2\": {\"titlefont\": {\"color\": \"#666666\"}, \"zerolinecolor\": \"#F6F6F6\", \"title\": \"Spread\", \"tickfont\": {\"color\": \"#666666\"}, \"showgrid\": true, \"domain\": [0, 0.25], \"gridcolor\": \"#F6F6F6\"}, \"plot_bgcolor\": \"#E5E5E5\", \"hovermode\": \"x\", \"xaxis2\": {\"titlefont\": {\"color\": \"#666666\"}, \"zerolinecolor\": \"#F6F6F6\", \"showgrid\": true, \"title\": \"\", \"anchor\": \"y2\", \"tickfont\": {\"color\": \"#666666\"}, \"showticklabels\": false, \"gridcolor\": \"#F6F6F6\"}, \"yaxis1\": {\"titlefont\": {\"color\": \"#666666\"}, \"zerolinecolor\": \"#F6F6F6\", \"title\": \"\", \"tickfont\": {\"color\": \"#666666\"}, \"showgrid\": true, \"domain\": [0.3, 1], \"gridcolor\": \"#F6F6F6\"}}, {\"showLink\": true, \"linkText\": \"Export to plot.ly\"})});</script>"
      ],
      "text/plain": [
       "<IPython.core.display.HTML object>"
      ]
     },
     "metadata": {},
     "output_type": "display_data"
    }
   ],
   "source": [
    "df[['A','B']].iplot(kind='spread')"
   ]
  },
  {
   "cell_type": "markdown",
   "metadata": {},
   "source": [
    "## histogram"
   ]
  },
  {
   "cell_type": "code",
   "execution_count": 50,
   "metadata": {},
   "outputs": [
    {
     "data": {
      "application/vnd.plotly.v1+json": {
       "config": {
        "linkText": "Export to plot.ly",
        "plotlyServerURL": "https://plot.ly",
        "showLink": true
       },
       "data": [
        {
         "histfunc": "count",
         "histnorm": "",
         "marker": {
          "color": "rgba(0, 128, 0, 1.0)",
          "line": {
           "color": "#4D5663",
           "width": 1.3
          }
         },
         "name": "B",
         "nbinsx": 25,
         "opacity": 0.8,
         "orientation": "v",
         "type": "histogram",
         "x": [
          0.076380480159592,
          0.08646440652428741,
          1.1041743263032135,
          -0.06065249177480989,
          1.1158411079241686,
          1.6133613745631155,
          0.05340953679834792,
          -0.42914227823509377,
          -0.1028872175735376,
          1.033686867939501,
          -1.6840599858682372,
          0.3865391451330911,
          1.4581082386095199,
          -0.7223919054141509,
          0.7217112921126926,
          -1.0001691898725158,
          -0.10839206717353982,
          -0.5084571342754007,
          1.8664713751521251,
          -1.4023291454531368,
          -1.1148710523659369,
          0.5924728014240198,
          -0.918440038300026,
          0.45194603732122307,
          -2.2370865111124707,
          0.057120996082092076,
          0.1892931975586576,
          0.5560735100773853,
          -1.1640079711612021,
          0.5574394528580334,
          -0.5396815622024924,
          0.7130490503032691,
          1.4092533893640082,
          0.3827151737243639,
          -0.35340998286701436,
          -0.7315309817303334,
          -1.6993336047222958,
          -1.1549826349293644,
          -1.4765626605201803,
          1.4701603438257402,
          -0.13971173044107246,
          3.9586027040379634,
          0.08176781880561644,
          1.853009485069379,
          -0.14848980305939366,
          -0.62944160405378,
          -0.027529386267978004,
          -2.516303860965749,
          1.7106618386711354,
          0.9863521802120643,
          0.49515861120031657,
          -0.5163479086460222,
          1.470739856691369,
          -0.6648677669672133,
          -1.053546073700315,
          -1.8239198526251938,
          0.18986164938309566,
          -1.5095726842240433,
          -0.22875417122021255,
          0.5103075967452559,
          1.0712524278458908,
          0.7330232317190783,
          -0.16648595488595935,
          1.2066078980355681,
          0.040371431022839264,
          -2.7909964066938464,
          -0.4786723564156615,
          0.31665889515665435,
          0.8598709717969121,
          -0.01923163409763723,
          -0.9960108890883996,
          -1.3916938760540336,
          0.14039543644735017,
          0.1343731160397544,
          1.2305581999547246,
          1.2237222119601092,
          0.025999994185658175,
          -1.4851564513254543,
          0.11248774241419583,
          0.8074559170052702,
          0.9475011673456759,
          0.2829955338110016,
          1.0492182907525678,
          -0.6002253303773148,
          -0.6874873930601744,
          1.0097873349475586,
          -0.7285374894247015,
          -0.7252149257453662,
          -0.43899766366627757,
          -0.7043503315234588,
          -1.1487042296369459,
          -1.8814108671660597,
          -0.3695624253374333,
          0.09574677111013467,
          -0.934181843147949,
          -1.1065730673918852,
          -1.9406809643648932,
          0.8616231013412039,
          0.049080397141630476,
          -0.7029204029101687
         ]
        }
       ],
       "layout": {
        "barmode": "overlay",
        "legend": {
         "bgcolor": "#F5F6F9",
         "font": {
          "color": "#4D5663"
         }
        },
        "paper_bgcolor": "#F5F6F9",
        "plot_bgcolor": "#F5F6F9",
        "template": {
         "data": {
          "bar": [
           {
            "error_x": {
             "color": "#2a3f5f"
            },
            "error_y": {
             "color": "#2a3f5f"
            },
            "marker": {
             "line": {
              "color": "#E5ECF6",
              "width": 0.5
             }
            },
            "type": "bar"
           }
          ],
          "barpolar": [
           {
            "marker": {
             "line": {
              "color": "#E5ECF6",
              "width": 0.5
             }
            },
            "type": "barpolar"
           }
          ],
          "carpet": [
           {
            "aaxis": {
             "endlinecolor": "#2a3f5f",
             "gridcolor": "white",
             "linecolor": "white",
             "minorgridcolor": "white",
             "startlinecolor": "#2a3f5f"
            },
            "baxis": {
             "endlinecolor": "#2a3f5f",
             "gridcolor": "white",
             "linecolor": "white",
             "minorgridcolor": "white",
             "startlinecolor": "#2a3f5f"
            },
            "type": "carpet"
           }
          ],
          "choropleth": [
           {
            "colorbar": {
             "outlinewidth": 0,
             "ticks": ""
            },
            "type": "choropleth"
           }
          ],
          "contour": [
           {
            "colorbar": {
             "outlinewidth": 0,
             "ticks": ""
            },
            "colorscale": [
             [
              0,
              "#0d0887"
             ],
             [
              0.1111111111111111,
              "#46039f"
             ],
             [
              0.2222222222222222,
              "#7201a8"
             ],
             [
              0.3333333333333333,
              "#9c179e"
             ],
             [
              0.4444444444444444,
              "#bd3786"
             ],
             [
              0.5555555555555556,
              "#d8576b"
             ],
             [
              0.6666666666666666,
              "#ed7953"
             ],
             [
              0.7777777777777778,
              "#fb9f3a"
             ],
             [
              0.8888888888888888,
              "#fdca26"
             ],
             [
              1,
              "#f0f921"
             ]
            ],
            "type": "contour"
           }
          ],
          "contourcarpet": [
           {
            "colorbar": {
             "outlinewidth": 0,
             "ticks": ""
            },
            "type": "contourcarpet"
           }
          ],
          "heatmap": [
           {
            "colorbar": {
             "outlinewidth": 0,
             "ticks": ""
            },
            "colorscale": [
             [
              0,
              "#0d0887"
             ],
             [
              0.1111111111111111,
              "#46039f"
             ],
             [
              0.2222222222222222,
              "#7201a8"
             ],
             [
              0.3333333333333333,
              "#9c179e"
             ],
             [
              0.4444444444444444,
              "#bd3786"
             ],
             [
              0.5555555555555556,
              "#d8576b"
             ],
             [
              0.6666666666666666,
              "#ed7953"
             ],
             [
              0.7777777777777778,
              "#fb9f3a"
             ],
             [
              0.8888888888888888,
              "#fdca26"
             ],
             [
              1,
              "#f0f921"
             ]
            ],
            "type": "heatmap"
           }
          ],
          "heatmapgl": [
           {
            "colorbar": {
             "outlinewidth": 0,
             "ticks": ""
            },
            "colorscale": [
             [
              0,
              "#0d0887"
             ],
             [
              0.1111111111111111,
              "#46039f"
             ],
             [
              0.2222222222222222,
              "#7201a8"
             ],
             [
              0.3333333333333333,
              "#9c179e"
             ],
             [
              0.4444444444444444,
              "#bd3786"
             ],
             [
              0.5555555555555556,
              "#d8576b"
             ],
             [
              0.6666666666666666,
              "#ed7953"
             ],
             [
              0.7777777777777778,
              "#fb9f3a"
             ],
             [
              0.8888888888888888,
              "#fdca26"
             ],
             [
              1,
              "#f0f921"
             ]
            ],
            "type": "heatmapgl"
           }
          ],
          "histogram": [
           {
            "marker": {
             "colorbar": {
              "outlinewidth": 0,
              "ticks": ""
             }
            },
            "type": "histogram"
           }
          ],
          "histogram2d": [
           {
            "colorbar": {
             "outlinewidth": 0,
             "ticks": ""
            },
            "colorscale": [
             [
              0,
              "#0d0887"
             ],
             [
              0.1111111111111111,
              "#46039f"
             ],
             [
              0.2222222222222222,
              "#7201a8"
             ],
             [
              0.3333333333333333,
              "#9c179e"
             ],
             [
              0.4444444444444444,
              "#bd3786"
             ],
             [
              0.5555555555555556,
              "#d8576b"
             ],
             [
              0.6666666666666666,
              "#ed7953"
             ],
             [
              0.7777777777777778,
              "#fb9f3a"
             ],
             [
              0.8888888888888888,
              "#fdca26"
             ],
             [
              1,
              "#f0f921"
             ]
            ],
            "type": "histogram2d"
           }
          ],
          "histogram2dcontour": [
           {
            "colorbar": {
             "outlinewidth": 0,
             "ticks": ""
            },
            "colorscale": [
             [
              0,
              "#0d0887"
             ],
             [
              0.1111111111111111,
              "#46039f"
             ],
             [
              0.2222222222222222,
              "#7201a8"
             ],
             [
              0.3333333333333333,
              "#9c179e"
             ],
             [
              0.4444444444444444,
              "#bd3786"
             ],
             [
              0.5555555555555556,
              "#d8576b"
             ],
             [
              0.6666666666666666,
              "#ed7953"
             ],
             [
              0.7777777777777778,
              "#fb9f3a"
             ],
             [
              0.8888888888888888,
              "#fdca26"
             ],
             [
              1,
              "#f0f921"
             ]
            ],
            "type": "histogram2dcontour"
           }
          ],
          "mesh3d": [
           {
            "colorbar": {
             "outlinewidth": 0,
             "ticks": ""
            },
            "type": "mesh3d"
           }
          ],
          "parcoords": [
           {
            "line": {
             "colorbar": {
              "outlinewidth": 0,
              "ticks": ""
             }
            },
            "type": "parcoords"
           }
          ],
          "pie": [
           {
            "automargin": true,
            "type": "pie"
           }
          ],
          "scatter": [
           {
            "marker": {
             "colorbar": {
              "outlinewidth": 0,
              "ticks": ""
             }
            },
            "type": "scatter"
           }
          ],
          "scatter3d": [
           {
            "line": {
             "colorbar": {
              "outlinewidth": 0,
              "ticks": ""
             }
            },
            "marker": {
             "colorbar": {
              "outlinewidth": 0,
              "ticks": ""
             }
            },
            "type": "scatter3d"
           }
          ],
          "scattercarpet": [
           {
            "marker": {
             "colorbar": {
              "outlinewidth": 0,
              "ticks": ""
             }
            },
            "type": "scattercarpet"
           }
          ],
          "scattergeo": [
           {
            "marker": {
             "colorbar": {
              "outlinewidth": 0,
              "ticks": ""
             }
            },
            "type": "scattergeo"
           }
          ],
          "scattergl": [
           {
            "marker": {
             "colorbar": {
              "outlinewidth": 0,
              "ticks": ""
             }
            },
            "type": "scattergl"
           }
          ],
          "scattermapbox": [
           {
            "marker": {
             "colorbar": {
              "outlinewidth": 0,
              "ticks": ""
             }
            },
            "type": "scattermapbox"
           }
          ],
          "scatterpolar": [
           {
            "marker": {
             "colorbar": {
              "outlinewidth": 0,
              "ticks": ""
             }
            },
            "type": "scatterpolar"
           }
          ],
          "scatterpolargl": [
           {
            "marker": {
             "colorbar": {
              "outlinewidth": 0,
              "ticks": ""
             }
            },
            "type": "scatterpolargl"
           }
          ],
          "scatterternary": [
           {
            "marker": {
             "colorbar": {
              "outlinewidth": 0,
              "ticks": ""
             }
            },
            "type": "scatterternary"
           }
          ],
          "surface": [
           {
            "colorbar": {
             "outlinewidth": 0,
             "ticks": ""
            },
            "colorscale": [
             [
              0,
              "#0d0887"
             ],
             [
              0.1111111111111111,
              "#46039f"
             ],
             [
              0.2222222222222222,
              "#7201a8"
             ],
             [
              0.3333333333333333,
              "#9c179e"
             ],
             [
              0.4444444444444444,
              "#bd3786"
             ],
             [
              0.5555555555555556,
              "#d8576b"
             ],
             [
              0.6666666666666666,
              "#ed7953"
             ],
             [
              0.7777777777777778,
              "#fb9f3a"
             ],
             [
              0.8888888888888888,
              "#fdca26"
             ],
             [
              1,
              "#f0f921"
             ]
            ],
            "type": "surface"
           }
          ],
          "table": [
           {
            "cells": {
             "fill": {
              "color": "#EBF0F8"
             },
             "line": {
              "color": "white"
             }
            },
            "header": {
             "fill": {
              "color": "#C8D4E3"
             },
             "line": {
              "color": "white"
             }
            },
            "type": "table"
           }
          ]
         },
         "layout": {
          "annotationdefaults": {
           "arrowcolor": "#2a3f5f",
           "arrowhead": 0,
           "arrowwidth": 1
          },
          "autotypenumbers": "strict",
          "coloraxis": {
           "colorbar": {
            "outlinewidth": 0,
            "ticks": ""
           }
          },
          "colorscale": {
           "diverging": [
            [
             0,
             "#8e0152"
            ],
            [
             0.1,
             "#c51b7d"
            ],
            [
             0.2,
             "#de77ae"
            ],
            [
             0.3,
             "#f1b6da"
            ],
            [
             0.4,
             "#fde0ef"
            ],
            [
             0.5,
             "#f7f7f7"
            ],
            [
             0.6,
             "#e6f5d0"
            ],
            [
             0.7,
             "#b8e186"
            ],
            [
             0.8,
             "#7fbc41"
            ],
            [
             0.9,
             "#4d9221"
            ],
            [
             1,
             "#276419"
            ]
           ],
           "sequential": [
            [
             0,
             "#0d0887"
            ],
            [
             0.1111111111111111,
             "#46039f"
            ],
            [
             0.2222222222222222,
             "#7201a8"
            ],
            [
             0.3333333333333333,
             "#9c179e"
            ],
            [
             0.4444444444444444,
             "#bd3786"
            ],
            [
             0.5555555555555556,
             "#d8576b"
            ],
            [
             0.6666666666666666,
             "#ed7953"
            ],
            [
             0.7777777777777778,
             "#fb9f3a"
            ],
            [
             0.8888888888888888,
             "#fdca26"
            ],
            [
             1,
             "#f0f921"
            ]
           ],
           "sequentialminus": [
            [
             0,
             "#0d0887"
            ],
            [
             0.1111111111111111,
             "#46039f"
            ],
            [
             0.2222222222222222,
             "#7201a8"
            ],
            [
             0.3333333333333333,
             "#9c179e"
            ],
            [
             0.4444444444444444,
             "#bd3786"
            ],
            [
             0.5555555555555556,
             "#d8576b"
            ],
            [
             0.6666666666666666,
             "#ed7953"
            ],
            [
             0.7777777777777778,
             "#fb9f3a"
            ],
            [
             0.8888888888888888,
             "#fdca26"
            ],
            [
             1,
             "#f0f921"
            ]
           ]
          },
          "colorway": [
           "#636efa",
           "#EF553B",
           "#00cc96",
           "#ab63fa",
           "#FFA15A",
           "#19d3f3",
           "#FF6692",
           "#B6E880",
           "#FF97FF",
           "#FECB52"
          ],
          "font": {
           "color": "#2a3f5f"
          },
          "geo": {
           "bgcolor": "white",
           "lakecolor": "white",
           "landcolor": "#E5ECF6",
           "showlakes": true,
           "showland": true,
           "subunitcolor": "white"
          },
          "hoverlabel": {
           "align": "left"
          },
          "hovermode": "closest",
          "mapbox": {
           "style": "light"
          },
          "paper_bgcolor": "white",
          "plot_bgcolor": "#E5ECF6",
          "polar": {
           "angularaxis": {
            "gridcolor": "white",
            "linecolor": "white",
            "ticks": ""
           },
           "bgcolor": "#E5ECF6",
           "radialaxis": {
            "gridcolor": "white",
            "linecolor": "white",
            "ticks": ""
           }
          },
          "scene": {
           "xaxis": {
            "backgroundcolor": "#E5ECF6",
            "gridcolor": "white",
            "gridwidth": 2,
            "linecolor": "white",
            "showbackground": true,
            "ticks": "",
            "zerolinecolor": "white"
           },
           "yaxis": {
            "backgroundcolor": "#E5ECF6",
            "gridcolor": "white",
            "gridwidth": 2,
            "linecolor": "white",
            "showbackground": true,
            "ticks": "",
            "zerolinecolor": "white"
           },
           "zaxis": {
            "backgroundcolor": "#E5ECF6",
            "gridcolor": "white",
            "gridwidth": 2,
            "linecolor": "white",
            "showbackground": true,
            "ticks": "",
            "zerolinecolor": "white"
           }
          },
          "shapedefaults": {
           "line": {
            "color": "#2a3f5f"
           }
          },
          "ternary": {
           "aaxis": {
            "gridcolor": "white",
            "linecolor": "white",
            "ticks": ""
           },
           "baxis": {
            "gridcolor": "white",
            "linecolor": "white",
            "ticks": ""
           },
           "bgcolor": "#E5ECF6",
           "caxis": {
            "gridcolor": "white",
            "linecolor": "white",
            "ticks": ""
           }
          },
          "title": {
           "x": 0.05
          },
          "xaxis": {
           "automargin": true,
           "gridcolor": "white",
           "linecolor": "white",
           "ticks": "",
           "title": {
            "standoff": 15
           },
           "zerolinecolor": "white",
           "zerolinewidth": 2
          },
          "yaxis": {
           "automargin": true,
           "gridcolor": "white",
           "linecolor": "white",
           "ticks": "",
           "title": {
            "standoff": 15
           },
           "zerolinecolor": "white",
           "zerolinewidth": 2
          }
         }
        },
        "title": {
         "font": {
          "color": "#4D5663"
         }
        },
        "xaxis": {
         "gridcolor": "#E1E5ED",
         "showgrid": true,
         "tickfont": {
          "color": "#4D5663"
         },
         "title": {
          "font": {
           "color": "#4D5663"
          },
          "text": ""
         },
         "zerolinecolor": "#E1E5ED"
        },
        "yaxis": {
         "gridcolor": "#E1E5ED",
         "showgrid": true,
         "tickfont": {
          "color": "#4D5663"
         },
         "title": {
          "font": {
           "color": "#4D5663"
          },
          "text": ""
         },
         "zerolinecolor": "#E1E5ED"
        }
       }
      },
      "text/html": [
       "<div>                            <div id=\"56c39cf8-5a54-4a45-a9e1-1b73614c0691\" class=\"plotly-graph-div\" style=\"height:525px; width:100%;\"></div>            <script type=\"text/javascript\">                require([\"plotly\"], function(Plotly) {                    window.PLOTLYENV=window.PLOTLYENV || {};\n",
       "                    window.PLOTLYENV.BASE_URL='https://plot.ly';                                    if (document.getElementById(\"56c39cf8-5a54-4a45-a9e1-1b73614c0691\")) {                    Plotly.newPlot(                        \"56c39cf8-5a54-4a45-a9e1-1b73614c0691\",                        [{\"histfunc\": \"count\", \"histnorm\": \"\", \"marker\": {\"color\": \"rgba(0, 128, 0, 1.0)\", \"line\": {\"color\": \"#4D5663\", \"width\": 1.3}}, \"name\": \"B\", \"nbinsx\": 25, \"opacity\": 0.8, \"orientation\": \"v\", \"type\": \"histogram\", \"x\": [0.076380480159592, 0.08646440652428741, 1.1041743263032135, -0.06065249177480989, 1.1158411079241686, 1.6133613745631155, 0.05340953679834792, -0.42914227823509377, -0.1028872175735376, 1.033686867939501, -1.6840599858682372, 0.3865391451330911, 1.4581082386095199, -0.7223919054141509, 0.7217112921126926, -1.0001691898725158, -0.10839206717353982, -0.5084571342754007, 1.8664713751521251, -1.4023291454531368, -1.1148710523659369, 0.5924728014240198, -0.918440038300026, 0.45194603732122307, -2.2370865111124707, 0.057120996082092076, 0.1892931975586576, 0.5560735100773853, -1.1640079711612021, 0.5574394528580334, -0.5396815622024924, 0.7130490503032691, 1.4092533893640082, 0.3827151737243639, -0.35340998286701436, -0.7315309817303334, -1.6993336047222958, -1.1549826349293644, -1.4765626605201803, 1.4701603438257402, -0.13971173044107246, 3.9586027040379634, 0.08176781880561644, 1.853009485069379, -0.14848980305939366, -0.62944160405378, -0.027529386267978004, -2.516303860965749, 1.7106618386711354, 0.9863521802120643, 0.49515861120031657, -0.5163479086460222, 1.470739856691369, -0.6648677669672133, -1.053546073700315, -1.8239198526251938, 0.18986164938309566, -1.5095726842240433, -0.22875417122021255, 0.5103075967452559, 1.0712524278458908, 0.7330232317190783, -0.16648595488595935, 1.2066078980355681, 0.040371431022839264, -2.7909964066938464, -0.4786723564156615, 0.31665889515665435, 0.8598709717969121, -0.01923163409763723, -0.9960108890883996, -1.3916938760540336, 0.14039543644735017, 0.1343731160397544, 1.2305581999547246, 1.2237222119601092, 0.025999994185658175, -1.4851564513254543, 0.11248774241419583, 0.8074559170052702, 0.9475011673456759, 0.2829955338110016, 1.0492182907525678, -0.6002253303773148, -0.6874873930601744, 1.0097873349475586, -0.7285374894247015, -0.7252149257453662, -0.43899766366627757, -0.7043503315234588, -1.1487042296369459, -1.8814108671660597, -0.3695624253374333, 0.09574677111013467, -0.934181843147949, -1.1065730673918852, -1.9406809643648932, 0.8616231013412039, 0.049080397141630476, -0.7029204029101687]}],                        {\"barmode\": \"overlay\", \"legend\": {\"bgcolor\": \"#F5F6F9\", \"font\": {\"color\": \"#4D5663\"}}, \"paper_bgcolor\": \"#F5F6F9\", \"plot_bgcolor\": \"#F5F6F9\", \"template\": {\"data\": {\"bar\": [{\"error_x\": {\"color\": \"#2a3f5f\"}, \"error_y\": {\"color\": \"#2a3f5f\"}, \"marker\": {\"line\": {\"color\": \"#E5ECF6\", \"width\": 0.5}}, \"type\": \"bar\"}], \"barpolar\": [{\"marker\": {\"line\": {\"color\": \"#E5ECF6\", \"width\": 0.5}}, \"type\": \"barpolar\"}], \"carpet\": [{\"aaxis\": {\"endlinecolor\": \"#2a3f5f\", \"gridcolor\": \"white\", \"linecolor\": \"white\", \"minorgridcolor\": \"white\", \"startlinecolor\": \"#2a3f5f\"}, \"baxis\": {\"endlinecolor\": \"#2a3f5f\", \"gridcolor\": \"white\", \"linecolor\": \"white\", \"minorgridcolor\": \"white\", \"startlinecolor\": \"#2a3f5f\"}, \"type\": \"carpet\"}], \"choropleth\": [{\"colorbar\": {\"outlinewidth\": 0, \"ticks\": \"\"}, \"type\": \"choropleth\"}], \"contour\": [{\"colorbar\": {\"outlinewidth\": 0, \"ticks\": \"\"}, \"colorscale\": [[0.0, \"#0d0887\"], [0.1111111111111111, \"#46039f\"], [0.2222222222222222, \"#7201a8\"], [0.3333333333333333, \"#9c179e\"], [0.4444444444444444, \"#bd3786\"], [0.5555555555555556, \"#d8576b\"], [0.6666666666666666, \"#ed7953\"], [0.7777777777777778, \"#fb9f3a\"], [0.8888888888888888, \"#fdca26\"], [1.0, \"#f0f921\"]], \"type\": \"contour\"}], \"contourcarpet\": [{\"colorbar\": {\"outlinewidth\": 0, \"ticks\": \"\"}, \"type\": \"contourcarpet\"}], \"heatmap\": [{\"colorbar\": {\"outlinewidth\": 0, \"ticks\": \"\"}, \"colorscale\": [[0.0, \"#0d0887\"], [0.1111111111111111, \"#46039f\"], [0.2222222222222222, \"#7201a8\"], [0.3333333333333333, \"#9c179e\"], [0.4444444444444444, \"#bd3786\"], [0.5555555555555556, \"#d8576b\"], [0.6666666666666666, \"#ed7953\"], [0.7777777777777778, \"#fb9f3a\"], [0.8888888888888888, \"#fdca26\"], [1.0, \"#f0f921\"]], \"type\": \"heatmap\"}], \"heatmapgl\": [{\"colorbar\": {\"outlinewidth\": 0, \"ticks\": \"\"}, \"colorscale\": [[0.0, \"#0d0887\"], [0.1111111111111111, \"#46039f\"], [0.2222222222222222, \"#7201a8\"], [0.3333333333333333, \"#9c179e\"], [0.4444444444444444, \"#bd3786\"], [0.5555555555555556, \"#d8576b\"], [0.6666666666666666, \"#ed7953\"], [0.7777777777777778, \"#fb9f3a\"], [0.8888888888888888, \"#fdca26\"], [1.0, \"#f0f921\"]], \"type\": \"heatmapgl\"}], \"histogram\": [{\"marker\": {\"colorbar\": {\"outlinewidth\": 0, \"ticks\": \"\"}}, \"type\": \"histogram\"}], \"histogram2d\": [{\"colorbar\": {\"outlinewidth\": 0, \"ticks\": \"\"}, \"colorscale\": [[0.0, \"#0d0887\"], [0.1111111111111111, \"#46039f\"], [0.2222222222222222, \"#7201a8\"], [0.3333333333333333, \"#9c179e\"], [0.4444444444444444, \"#bd3786\"], [0.5555555555555556, \"#d8576b\"], [0.6666666666666666, \"#ed7953\"], [0.7777777777777778, \"#fb9f3a\"], [0.8888888888888888, \"#fdca26\"], [1.0, \"#f0f921\"]], \"type\": \"histogram2d\"}], \"histogram2dcontour\": [{\"colorbar\": {\"outlinewidth\": 0, \"ticks\": \"\"}, \"colorscale\": [[0.0, \"#0d0887\"], [0.1111111111111111, \"#46039f\"], [0.2222222222222222, \"#7201a8\"], [0.3333333333333333, \"#9c179e\"], [0.4444444444444444, \"#bd3786\"], [0.5555555555555556, \"#d8576b\"], [0.6666666666666666, \"#ed7953\"], [0.7777777777777778, \"#fb9f3a\"], [0.8888888888888888, \"#fdca26\"], [1.0, \"#f0f921\"]], \"type\": \"histogram2dcontour\"}], \"mesh3d\": [{\"colorbar\": {\"outlinewidth\": 0, \"ticks\": \"\"}, \"type\": \"mesh3d\"}], \"parcoords\": [{\"line\": {\"colorbar\": {\"outlinewidth\": 0, \"ticks\": \"\"}}, \"type\": \"parcoords\"}], \"pie\": [{\"automargin\": true, \"type\": \"pie\"}], \"scatter\": [{\"marker\": {\"colorbar\": {\"outlinewidth\": 0, \"ticks\": \"\"}}, \"type\": \"scatter\"}], \"scatter3d\": [{\"line\": {\"colorbar\": {\"outlinewidth\": 0, \"ticks\": \"\"}}, \"marker\": {\"colorbar\": {\"outlinewidth\": 0, \"ticks\": \"\"}}, \"type\": \"scatter3d\"}], \"scattercarpet\": [{\"marker\": {\"colorbar\": {\"outlinewidth\": 0, \"ticks\": \"\"}}, \"type\": \"scattercarpet\"}], \"scattergeo\": [{\"marker\": {\"colorbar\": {\"outlinewidth\": 0, \"ticks\": \"\"}}, \"type\": \"scattergeo\"}], \"scattergl\": [{\"marker\": {\"colorbar\": {\"outlinewidth\": 0, \"ticks\": \"\"}}, \"type\": \"scattergl\"}], \"scattermapbox\": [{\"marker\": {\"colorbar\": {\"outlinewidth\": 0, \"ticks\": \"\"}}, \"type\": \"scattermapbox\"}], \"scatterpolar\": [{\"marker\": {\"colorbar\": {\"outlinewidth\": 0, \"ticks\": \"\"}}, \"type\": \"scatterpolar\"}], \"scatterpolargl\": [{\"marker\": {\"colorbar\": {\"outlinewidth\": 0, \"ticks\": \"\"}}, \"type\": \"scatterpolargl\"}], \"scatterternary\": [{\"marker\": {\"colorbar\": {\"outlinewidth\": 0, \"ticks\": \"\"}}, \"type\": \"scatterternary\"}], \"surface\": [{\"colorbar\": {\"outlinewidth\": 0, \"ticks\": \"\"}, \"colorscale\": [[0.0, \"#0d0887\"], [0.1111111111111111, \"#46039f\"], [0.2222222222222222, \"#7201a8\"], [0.3333333333333333, \"#9c179e\"], [0.4444444444444444, \"#bd3786\"], [0.5555555555555556, \"#d8576b\"], [0.6666666666666666, \"#ed7953\"], [0.7777777777777778, \"#fb9f3a\"], [0.8888888888888888, \"#fdca26\"], [1.0, \"#f0f921\"]], \"type\": \"surface\"}], \"table\": [{\"cells\": {\"fill\": {\"color\": \"#EBF0F8\"}, \"line\": {\"color\": \"white\"}}, \"header\": {\"fill\": {\"color\": \"#C8D4E3\"}, \"line\": {\"color\": \"white\"}}, \"type\": \"table\"}]}, \"layout\": {\"annotationdefaults\": {\"arrowcolor\": \"#2a3f5f\", \"arrowhead\": 0, \"arrowwidth\": 1}, \"autotypenumbers\": \"strict\", \"coloraxis\": {\"colorbar\": {\"outlinewidth\": 0, \"ticks\": \"\"}}, \"colorscale\": {\"diverging\": [[0, \"#8e0152\"], [0.1, \"#c51b7d\"], [0.2, \"#de77ae\"], [0.3, \"#f1b6da\"], [0.4, \"#fde0ef\"], [0.5, \"#f7f7f7\"], [0.6, \"#e6f5d0\"], [0.7, \"#b8e186\"], [0.8, \"#7fbc41\"], [0.9, \"#4d9221\"], [1, \"#276419\"]], \"sequential\": [[0.0, \"#0d0887\"], [0.1111111111111111, \"#46039f\"], [0.2222222222222222, \"#7201a8\"], [0.3333333333333333, \"#9c179e\"], [0.4444444444444444, \"#bd3786\"], [0.5555555555555556, \"#d8576b\"], [0.6666666666666666, \"#ed7953\"], [0.7777777777777778, \"#fb9f3a\"], [0.8888888888888888, \"#fdca26\"], [1.0, \"#f0f921\"]], \"sequentialminus\": [[0.0, \"#0d0887\"], [0.1111111111111111, \"#46039f\"], [0.2222222222222222, \"#7201a8\"], [0.3333333333333333, \"#9c179e\"], [0.4444444444444444, \"#bd3786\"], [0.5555555555555556, \"#d8576b\"], [0.6666666666666666, \"#ed7953\"], [0.7777777777777778, \"#fb9f3a\"], [0.8888888888888888, \"#fdca26\"], [1.0, \"#f0f921\"]]}, \"colorway\": [\"#636efa\", \"#EF553B\", \"#00cc96\", \"#ab63fa\", \"#FFA15A\", \"#19d3f3\", \"#FF6692\", \"#B6E880\", \"#FF97FF\", \"#FECB52\"], \"font\": {\"color\": \"#2a3f5f\"}, \"geo\": {\"bgcolor\": \"white\", \"lakecolor\": \"white\", \"landcolor\": \"#E5ECF6\", \"showlakes\": true, \"showland\": true, \"subunitcolor\": \"white\"}, \"hoverlabel\": {\"align\": \"left\"}, \"hovermode\": \"closest\", \"mapbox\": {\"style\": \"light\"}, \"paper_bgcolor\": \"white\", \"plot_bgcolor\": \"#E5ECF6\", \"polar\": {\"angularaxis\": {\"gridcolor\": \"white\", \"linecolor\": \"white\", \"ticks\": \"\"}, \"bgcolor\": \"#E5ECF6\", \"radialaxis\": {\"gridcolor\": \"white\", \"linecolor\": \"white\", \"ticks\": \"\"}}, \"scene\": {\"xaxis\": {\"backgroundcolor\": \"#E5ECF6\", \"gridcolor\": \"white\", \"gridwidth\": 2, \"linecolor\": \"white\", \"showbackground\": true, \"ticks\": \"\", \"zerolinecolor\": \"white\"}, \"yaxis\": {\"backgroundcolor\": \"#E5ECF6\", \"gridcolor\": \"white\", \"gridwidth\": 2, \"linecolor\": \"white\", \"showbackground\": true, \"ticks\": \"\", \"zerolinecolor\": \"white\"}, \"zaxis\": {\"backgroundcolor\": \"#E5ECF6\", \"gridcolor\": \"white\", \"gridwidth\": 2, \"linecolor\": \"white\", \"showbackground\": true, \"ticks\": \"\", \"zerolinecolor\": \"white\"}}, \"shapedefaults\": {\"line\": {\"color\": \"#2a3f5f\"}}, \"ternary\": {\"aaxis\": {\"gridcolor\": \"white\", \"linecolor\": \"white\", \"ticks\": \"\"}, \"baxis\": {\"gridcolor\": \"white\", \"linecolor\": \"white\", \"ticks\": \"\"}, \"bgcolor\": \"#E5ECF6\", \"caxis\": {\"gridcolor\": \"white\", \"linecolor\": \"white\", \"ticks\": \"\"}}, \"title\": {\"x\": 0.05}, \"xaxis\": {\"automargin\": true, \"gridcolor\": \"white\", \"linecolor\": \"white\", \"ticks\": \"\", \"title\": {\"standoff\": 15}, \"zerolinecolor\": \"white\", \"zerolinewidth\": 2}, \"yaxis\": {\"automargin\": true, \"gridcolor\": \"white\", \"linecolor\": \"white\", \"ticks\": \"\", \"title\": {\"standoff\": 15}, \"zerolinecolor\": \"white\", \"zerolinewidth\": 2}}}, \"title\": {\"font\": {\"color\": \"#4D5663\"}}, \"xaxis\": {\"gridcolor\": \"#E1E5ED\", \"showgrid\": true, \"tickfont\": {\"color\": \"#4D5663\"}, \"title\": {\"font\": {\"color\": \"#4D5663\"}, \"text\": \"\"}, \"zerolinecolor\": \"#E1E5ED\"}, \"yaxis\": {\"gridcolor\": \"#E1E5ED\", \"showgrid\": true, \"tickfont\": {\"color\": \"#4D5663\"}, \"title\": {\"font\": {\"color\": \"#4D5663\"}, \"text\": \"\"}, \"zerolinecolor\": \"#E1E5ED\"}},                        {\"showLink\": true, \"linkText\": \"Export to plot.ly\", \"plotlyServerURL\": \"https://plot.ly\", \"responsive\": true}                    ).then(function(){\n",
       "                            \n",
       "var gd = document.getElementById('56c39cf8-5a54-4a45-a9e1-1b73614c0691');\n",
       "var x = new MutationObserver(function (mutations, observer) {{\n",
       "        var display = window.getComputedStyle(gd).display;\n",
       "        if (!display || display === 'none') {{\n",
       "            console.log([gd, 'removed!']);\n",
       "            Plotly.purge(gd);\n",
       "            observer.disconnect();\n",
       "        }}\n",
       "}});\n",
       "\n",
       "// Listen for the removal of the full notebook cells\n",
       "var notebookContainer = gd.closest('#notebook-container');\n",
       "if (notebookContainer) {{\n",
       "    x.observe(notebookContainer, {childList: true});\n",
       "}}\n",
       "\n",
       "// Listen for the clearing of the current output cell\n",
       "var outputEl = gd.closest('.output');\n",
       "if (outputEl) {{\n",
       "    x.observe(outputEl, {childList: true});\n",
       "}}\n",
       "\n",
       "                        })                };                });            </script>        </div>"
      ]
     },
     "metadata": {},
     "output_type": "display_data"
    }
   ],
   "source": [
    "df.B.iplot(kind='hist', bins=25, color='green')"
   ]
  },
  {
   "cell_type": "code",
   "execution_count": 56,
   "metadata": {},
   "outputs": [
    {
     "data": {
      "text/html": [
       "<div id=\"be69ae84-c3c4-4776-a0e8-f44c59817e90\" style=\"height: 525px; width: 100%;\" class=\"plotly-graph-div\"></div><script type=\"text/javascript\">require([\"plotly\"], function(Plotly) { window.PLOTLYENV=window.PLOTLYENV || {};window.PLOTLYENV.BASE_URL=\"https://plot.ly\";Plotly.newPlot(\"be69ae84-c3c4-4776-a0e8-f44c59817e90\", [{\"x\": [1.8787246669561561, 0.028733616663923985, -0.1587931161277573, -1.2219723462024636, 1.2531523973363488, 0.8312132082951045, 1.1740170898586173, -0.24393002059589958, -0.296966543277261, 0.7621695759158762, 0.04210347865555278, -0.7791970481917073, 0.3943032396655093, -1.0146190736152443, -0.4841710096782867, 0.5522466668361006, -2.77187556758784, -0.5181226698708166, -0.49722040792422156, -1.6534757596659548, -0.06027439377033132, 1.4769243769038323, 1.1796346669498379, -0.7816898015019265, 0.8630132212967984, 0.6590246731638996, -1.1013906677685679, -0.9446804895542242, -1.788022470413331, 0.8775002821729455, 0.3546715768521251, -0.16532125735222183, 1.8914747239632839, -1.1251772915449791, 0.8888981026894395, -0.6066117727706714, 0.8314777742724779, 0.3830457069359529, -0.937459527593053, -0.844561047334305, 1.1280232245052606, -1.640427972598561, 0.8971269652786067, 0.4848047458342485, 0.19373507090654035, -0.7387091317560727, -0.3566733282792827, -0.43158335134818315, -0.4899640124314907, 0.5488715658495908, 0.2821768987731658, -0.8832439438038343, 1.271863067044618, 0.10680856505919414, 0.8269478103679717, -0.03266751467505833, -0.34021520002722894, -0.6769186069469743, 0.7126188256918854, 1.8871150025438166, -0.06742662656190869, -1.4789736197389265, 0.346978601690099, -0.3757389938313092, 0.715285859520045, 1.5994858611908638, -0.3692558358591885, 0.13827360227735647, -0.40690530542342296, 0.636973800943974, 0.14658752987818605, -0.3949906255692418, 1.5076392623927681, -0.15486042602397807, 0.22159940179664614, -1.0878244818277978, -0.03354417910293162, 1.2258839316932069, -0.048951028800266715, -1.1089870994157809, 0.021452684803338333, 1.2548854256528554, -1.0913797662237141, -0.539059741192553, 0.6901269187662552, -1.4810451728120602, -0.8468654201203714, 0.3763927872506507, 0.8120568488462931, 0.0031767062628090745, 0.697742291538818, -0.7429703118062226, -0.842231117346612, -0.0666718362166121, 1.8829720647783421, 1.320112956074407, 0.42394324402947475, 0.466299928509142, 0.9415282138953815, -0.7707938096473991], \"orientation\": \"v\", \"name\": \"A\", \"opacity\": 0.8, \"histfunc\": \"count\", \"type\": \"histogram\", \"histnorm\": \"\", \"nbinsx\": 25, \"marker\": {\"line\": {\"width\": 1.3, \"color\": \"#D9D9D9\"}, \"color\": \"rgba(226, 74, 51, 1.0)\"}}], {\"legend\": {\"font\": {\"color\": \"#666666\"}, \"bgcolor\": \"#FFFFFF\"}, \"titlefont\": {\"color\": \"#151516\"}, \"xaxis1\": {\"titlefont\": {\"color\": \"#666666\"}, \"zerolinecolor\": \"#F6F6F6\", \"title\": \"\", \"tickfont\": {\"color\": \"#666666\"}, \"showgrid\": true, \"gridcolor\": \"#F6F6F6\"}, \"paper_bgcolor\": \"#FFFFFF\", \"barmode\": \"overlay\", \"plot_bgcolor\": \"#E5E5E5\", \"yaxis1\": {\"titlefont\": {\"color\": \"#666666\"}, \"zerolinecolor\": \"#F6F6F6\", \"title\": \"\", \"tickfont\": {\"color\": \"#666666\"}, \"showgrid\": true, \"gridcolor\": \"#F6F6F6\"}}, {\"showLink\": true, \"linkText\": \"Export to plot.ly\"})});</script>"
      ],
      "text/plain": [
       "<IPython.core.display.HTML object>"
      ]
     },
     "metadata": {},
     "output_type": "display_data"
    }
   ],
   "source": [
    "df['A'].iplot(kind='hist',bins=25)"
   ]
  },
  {
   "cell_type": "code",
   "execution_count": 69,
   "metadata": {},
   "outputs": [
    {
     "data": {
      "application/vnd.plotly.v1+json": {
       "config": {
        "linkText": "Export to plot.ly",
        "plotlyServerURL": "https://plot.ly",
        "showLink": true
       },
       "data": [
        {
         "marker": {
          "color": [
           "rgb(255, 153, 51)",
           "rgb(55, 128, 191)",
           "rgb(50, 171, 96)",
           "rgb(128, 0, 128)",
           "rgb(219, 64, 82)",
           "rgb(0, 128, 128)",
           "rgb(255, 255, 51)",
           "rgb(128, 128, 0)",
           "rgb(251, 128, 114)",
           "rgb(128, 177, 211)"
          ],
          "line": {
           "width": 1.3
          },
          "size": [
           54,
           54,
           69,
           52,
           69,
           77,
           54,
           46,
           51,
           68,
           28,
           59,
           74,
           42,
           64,
           38,
           51,
           45,
           81,
           32,
           36,
           62,
           39,
           60,
           20,
           54,
           56,
           61,
           36,
           61,
           45,
           63,
           74,
           59,
           48,
           42,
           28,
           36,
           31,
           75,
           51,
           112,
           54,
           80,
           51,
           44,
           52,
           16,
           78,
           67,
           60,
           45,
           75,
           43,
           37,
           26,
           56,
           30,
           49,
           60,
           69,
           64,
           50,
           71,
           53,
           12,
           46,
           58,
           66,
           53,
           38,
           32,
           55,
           55,
           71,
           71,
           53,
           31,
           55,
           65,
           67,
           57,
           68,
           44,
           43,
           68,
           42,
           42,
           46,
           42,
           36,
           25,
           47,
           54,
           39,
           36,
           24,
           66,
           54,
           42
          ],
          "symbol": "circle"
         },
         "mode": "markers",
         "text": "",
         "type": "scatter",
         "x": [
          -1.3065340728440185,
          -0.4228569613907754,
          0.45161595055524156,
          1.7602492264490932,
          -0.7778588266274128,
          -0.22876582887016242,
          2.054624102518116,
          0.017164726374088564,
          0.8408615581411037,
          0.46664326722884075,
          0.4512840160401709,
          -0.3312831699326283,
          -0.38483224883279044,
          0.6743961048208689,
          -0.8224671889042517,
          -0.3439007092103924,
          -0.06932869669048287,
          0.8709698025322423,
          -0.19899818380372442,
          -1.9521052872452325,
          0.515413801783241,
          1.460892380463078,
          1.0400891531540952,
          -0.4148469012882354,
          0.528879745585174,
          -1.719394474619523,
          -0.25898285340053234,
          -0.6011568006493835,
          0.1698692553475717,
          -0.8088471964721285,
          1.4428769284963092,
          0.9665392502290573,
          0.6365834094146309,
          -0.2516742076314244,
          0.684001328181953,
          -0.4244927905709274,
          -2.2271126318500145,
          1.3097059056826534,
          1.0112070637749084,
          -0.22241402852990858,
          0.8532821858237332,
          -1.6374495930083417,
          -1.3988128186664763,
          0.37167029121186534,
          0.3724568515114425,
          0.7800271353386294,
          1.1614399816743937,
          0.14164053766580517,
          0.5109377744920892,
          0.6616810764659825,
          -1.072964278711645,
          -1.4614036047221062,
          -1.3477649412536636,
          0.7852269196346882,
          1.2251558492732308,
          0.3931092448539835,
          0.8858257989659072,
          0.7433565435138623,
          -0.039178256209496685,
          -0.593343754242419,
          0.9849516717192109,
          -1.039182322034903,
          -0.5089722778228615,
          1.5754679085723808,
          1.0689716222012626,
          -0.10646012155553987,
          0.6925743475393558,
          -1.0490677451686161,
          0.41026574539684446,
          0.31815419967868935,
          0.39788042488185116,
          1.9197922864280879,
          0.7513372351604846,
          -0.49112513779081807,
          1.018552474767882,
          -0.7907999537751678,
          -0.4775808546567209,
          -0.36261208757725877,
          -0.03181717269879145,
          -0.30097615395533844,
          -2.076802021923554,
          -1.2704607763854796,
          -0.13479312929572362,
          3.3210787561703645,
          0.43598619629640983,
          0.07225189915588459,
          -0.13935180545092124,
          0.3212659144838316,
          1.2935496206633084,
          -0.9509092510507696,
          1.5392070096550627,
          0.6087836589081088,
          -2.1444440467284505,
          0.9544956665476875,
          -0.857496824739772,
          0.6778075711198115,
          1.2179409008013473,
          -0.596086334587662,
          0.425920176502816,
          1.108616757989675
         ],
         "y": [
          0.3672318138838647,
          -2.1424667290773685,
          -0.28173626906561283,
          -2.4135030011737877,
          0.3102722877837673,
          -0.3748046873026527,
          -0.4791570987860799,
          1.208456328551963,
          1.146900376399483,
          0.8088443602656821,
          -1.1601701049822761,
          -0.8514556565308268,
          -0.5322340208981775,
          1.0989963327471792,
          -0.625342001465988,
          1.0449944096738975,
          0.45015551276717897,
          0.7774192052488628,
          -0.41893789767812306,
          0.4511229387345986,
          -0.7673098263317347,
          1.197830841721251,
          -0.10534471250754213,
          -1.5791562853944654,
          -1.1077125022845524,
          -0.7995474906917599,
          -0.5637887345823027,
          1.693809113288081,
          0.6933662256603845,
          0.18103874435787085,
          0.12837699015594436,
          1.3062060651354486,
          1.6209122856217475,
          -0.2889973430098159,
          -1.7879128911997157,
          -1.5657381506559054,
          -0.27584606256114336,
          -0.17763219598355098,
          -0.14319574500723764,
          -0.870008223190852,
          1.3863142642463189,
          0.6486436440906672,
          -0.45994283084068716,
          0.14225137252631778,
          -0.1834001973200239,
          -1.1134361029729902,
          1.7464350892279725,
          -0.5956678809102903,
          0.03494358936374005,
          -0.466154856825928,
          -0.952062100706259,
          0.35111689651096534,
          0.33722093830845856,
          -1.9450469586120391,
          0.8160436843240609,
          1.167075165999964,
          0.7980637952989431,
          -1.0807106924455065,
          -0.17961229465135792,
          -0.9157918490686792,
          -1.0971543602553622,
          -1.8988120593192948,
          1.4236144293489872,
          -0.2828635516348445,
          -0.15699367249331792,
          -0.45611755514868535,
          -0.3290515493410809,
          -1.895266947476466,
          -0.8986831933186461,
          0.15001627872780374,
          -1.1958615103244818,
          0.4502177420378455,
          -0.9268719392086243,
          -0.26837130412057664,
          -1.181103172771823,
          -0.05936790254849916,
          -1.3486964467972422,
          -0.5924612851532695,
          0.28807816700515054,
          0.3122386890129999,
          -0.5039739491423175,
          0.10803081731234535,
          0.9662208625783415,
          -0.37951751553387963,
          -2.698361741666047,
          -1.5569415578650314,
          0.5311637934562251,
          1.5365363280210986,
          0.5900394641608302,
          -0.04586668606976747,
          -1.0903383324548148,
          0.4972690986459772,
          -0.017454951836177974,
          1.0334508032642373,
          0.542645294566316,
          -0.3592240957107388,
          -0.806178211953457,
          -2.0863905654565262,
          1.1022367325853422,
          0.7255505180787332
         ]
        }
       ],
       "layout": {
        "legend": {
         "bgcolor": "#F5F6F9",
         "font": {
          "color": "#4D5663"
         }
        },
        "paper_bgcolor": "#F5F6F9",
        "plot_bgcolor": "#F5F6F9",
        "template": {
         "data": {
          "bar": [
           {
            "error_x": {
             "color": "#2a3f5f"
            },
            "error_y": {
             "color": "#2a3f5f"
            },
            "marker": {
             "line": {
              "color": "#E5ECF6",
              "width": 0.5
             }
            },
            "type": "bar"
           }
          ],
          "barpolar": [
           {
            "marker": {
             "line": {
              "color": "#E5ECF6",
              "width": 0.5
             }
            },
            "type": "barpolar"
           }
          ],
          "carpet": [
           {
            "aaxis": {
             "endlinecolor": "#2a3f5f",
             "gridcolor": "white",
             "linecolor": "white",
             "minorgridcolor": "white",
             "startlinecolor": "#2a3f5f"
            },
            "baxis": {
             "endlinecolor": "#2a3f5f",
             "gridcolor": "white",
             "linecolor": "white",
             "minorgridcolor": "white",
             "startlinecolor": "#2a3f5f"
            },
            "type": "carpet"
           }
          ],
          "choropleth": [
           {
            "colorbar": {
             "outlinewidth": 0,
             "ticks": ""
            },
            "type": "choropleth"
           }
          ],
          "contour": [
           {
            "colorbar": {
             "outlinewidth": 0,
             "ticks": ""
            },
            "colorscale": [
             [
              0,
              "#0d0887"
             ],
             [
              0.1111111111111111,
              "#46039f"
             ],
             [
              0.2222222222222222,
              "#7201a8"
             ],
             [
              0.3333333333333333,
              "#9c179e"
             ],
             [
              0.4444444444444444,
              "#bd3786"
             ],
             [
              0.5555555555555556,
              "#d8576b"
             ],
             [
              0.6666666666666666,
              "#ed7953"
             ],
             [
              0.7777777777777778,
              "#fb9f3a"
             ],
             [
              0.8888888888888888,
              "#fdca26"
             ],
             [
              1,
              "#f0f921"
             ]
            ],
            "type": "contour"
           }
          ],
          "contourcarpet": [
           {
            "colorbar": {
             "outlinewidth": 0,
             "ticks": ""
            },
            "type": "contourcarpet"
           }
          ],
          "heatmap": [
           {
            "colorbar": {
             "outlinewidth": 0,
             "ticks": ""
            },
            "colorscale": [
             [
              0,
              "#0d0887"
             ],
             [
              0.1111111111111111,
              "#46039f"
             ],
             [
              0.2222222222222222,
              "#7201a8"
             ],
             [
              0.3333333333333333,
              "#9c179e"
             ],
             [
              0.4444444444444444,
              "#bd3786"
             ],
             [
              0.5555555555555556,
              "#d8576b"
             ],
             [
              0.6666666666666666,
              "#ed7953"
             ],
             [
              0.7777777777777778,
              "#fb9f3a"
             ],
             [
              0.8888888888888888,
              "#fdca26"
             ],
             [
              1,
              "#f0f921"
             ]
            ],
            "type": "heatmap"
           }
          ],
          "heatmapgl": [
           {
            "colorbar": {
             "outlinewidth": 0,
             "ticks": ""
            },
            "colorscale": [
             [
              0,
              "#0d0887"
             ],
             [
              0.1111111111111111,
              "#46039f"
             ],
             [
              0.2222222222222222,
              "#7201a8"
             ],
             [
              0.3333333333333333,
              "#9c179e"
             ],
             [
              0.4444444444444444,
              "#bd3786"
             ],
             [
              0.5555555555555556,
              "#d8576b"
             ],
             [
              0.6666666666666666,
              "#ed7953"
             ],
             [
              0.7777777777777778,
              "#fb9f3a"
             ],
             [
              0.8888888888888888,
              "#fdca26"
             ],
             [
              1,
              "#f0f921"
             ]
            ],
            "type": "heatmapgl"
           }
          ],
          "histogram": [
           {
            "marker": {
             "colorbar": {
              "outlinewidth": 0,
              "ticks": ""
             }
            },
            "type": "histogram"
           }
          ],
          "histogram2d": [
           {
            "colorbar": {
             "outlinewidth": 0,
             "ticks": ""
            },
            "colorscale": [
             [
              0,
              "#0d0887"
             ],
             [
              0.1111111111111111,
              "#46039f"
             ],
             [
              0.2222222222222222,
              "#7201a8"
             ],
             [
              0.3333333333333333,
              "#9c179e"
             ],
             [
              0.4444444444444444,
              "#bd3786"
             ],
             [
              0.5555555555555556,
              "#d8576b"
             ],
             [
              0.6666666666666666,
              "#ed7953"
             ],
             [
              0.7777777777777778,
              "#fb9f3a"
             ],
             [
              0.8888888888888888,
              "#fdca26"
             ],
             [
              1,
              "#f0f921"
             ]
            ],
            "type": "histogram2d"
           }
          ],
          "histogram2dcontour": [
           {
            "colorbar": {
             "outlinewidth": 0,
             "ticks": ""
            },
            "colorscale": [
             [
              0,
              "#0d0887"
             ],
             [
              0.1111111111111111,
              "#46039f"
             ],
             [
              0.2222222222222222,
              "#7201a8"
             ],
             [
              0.3333333333333333,
              "#9c179e"
             ],
             [
              0.4444444444444444,
              "#bd3786"
             ],
             [
              0.5555555555555556,
              "#d8576b"
             ],
             [
              0.6666666666666666,
              "#ed7953"
             ],
             [
              0.7777777777777778,
              "#fb9f3a"
             ],
             [
              0.8888888888888888,
              "#fdca26"
             ],
             [
              1,
              "#f0f921"
             ]
            ],
            "type": "histogram2dcontour"
           }
          ],
          "mesh3d": [
           {
            "colorbar": {
             "outlinewidth": 0,
             "ticks": ""
            },
            "type": "mesh3d"
           }
          ],
          "parcoords": [
           {
            "line": {
             "colorbar": {
              "outlinewidth": 0,
              "ticks": ""
             }
            },
            "type": "parcoords"
           }
          ],
          "pie": [
           {
            "automargin": true,
            "type": "pie"
           }
          ],
          "scatter": [
           {
            "marker": {
             "colorbar": {
              "outlinewidth": 0,
              "ticks": ""
             }
            },
            "type": "scatter"
           }
          ],
          "scatter3d": [
           {
            "line": {
             "colorbar": {
              "outlinewidth": 0,
              "ticks": ""
             }
            },
            "marker": {
             "colorbar": {
              "outlinewidth": 0,
              "ticks": ""
             }
            },
            "type": "scatter3d"
           }
          ],
          "scattercarpet": [
           {
            "marker": {
             "colorbar": {
              "outlinewidth": 0,
              "ticks": ""
             }
            },
            "type": "scattercarpet"
           }
          ],
          "scattergeo": [
           {
            "marker": {
             "colorbar": {
              "outlinewidth": 0,
              "ticks": ""
             }
            },
            "type": "scattergeo"
           }
          ],
          "scattergl": [
           {
            "marker": {
             "colorbar": {
              "outlinewidth": 0,
              "ticks": ""
             }
            },
            "type": "scattergl"
           }
          ],
          "scattermapbox": [
           {
            "marker": {
             "colorbar": {
              "outlinewidth": 0,
              "ticks": ""
             }
            },
            "type": "scattermapbox"
           }
          ],
          "scatterpolar": [
           {
            "marker": {
             "colorbar": {
              "outlinewidth": 0,
              "ticks": ""
             }
            },
            "type": "scatterpolar"
           }
          ],
          "scatterpolargl": [
           {
            "marker": {
             "colorbar": {
              "outlinewidth": 0,
              "ticks": ""
             }
            },
            "type": "scatterpolargl"
           }
          ],
          "scatterternary": [
           {
            "marker": {
             "colorbar": {
              "outlinewidth": 0,
              "ticks": ""
             }
            },
            "type": "scatterternary"
           }
          ],
          "surface": [
           {
            "colorbar": {
             "outlinewidth": 0,
             "ticks": ""
            },
            "colorscale": [
             [
              0,
              "#0d0887"
             ],
             [
              0.1111111111111111,
              "#46039f"
             ],
             [
              0.2222222222222222,
              "#7201a8"
             ],
             [
              0.3333333333333333,
              "#9c179e"
             ],
             [
              0.4444444444444444,
              "#bd3786"
             ],
             [
              0.5555555555555556,
              "#d8576b"
             ],
             [
              0.6666666666666666,
              "#ed7953"
             ],
             [
              0.7777777777777778,
              "#fb9f3a"
             ],
             [
              0.8888888888888888,
              "#fdca26"
             ],
             [
              1,
              "#f0f921"
             ]
            ],
            "type": "surface"
           }
          ],
          "table": [
           {
            "cells": {
             "fill": {
              "color": "#EBF0F8"
             },
             "line": {
              "color": "white"
             }
            },
            "header": {
             "fill": {
              "color": "#C8D4E3"
             },
             "line": {
              "color": "white"
             }
            },
            "type": "table"
           }
          ]
         },
         "layout": {
          "annotationdefaults": {
           "arrowcolor": "#2a3f5f",
           "arrowhead": 0,
           "arrowwidth": 1
          },
          "autotypenumbers": "strict",
          "coloraxis": {
           "colorbar": {
            "outlinewidth": 0,
            "ticks": ""
           }
          },
          "colorscale": {
           "diverging": [
            [
             0,
             "#8e0152"
            ],
            [
             0.1,
             "#c51b7d"
            ],
            [
             0.2,
             "#de77ae"
            ],
            [
             0.3,
             "#f1b6da"
            ],
            [
             0.4,
             "#fde0ef"
            ],
            [
             0.5,
             "#f7f7f7"
            ],
            [
             0.6,
             "#e6f5d0"
            ],
            [
             0.7,
             "#b8e186"
            ],
            [
             0.8,
             "#7fbc41"
            ],
            [
             0.9,
             "#4d9221"
            ],
            [
             1,
             "#276419"
            ]
           ],
           "sequential": [
            [
             0,
             "#0d0887"
            ],
            [
             0.1111111111111111,
             "#46039f"
            ],
            [
             0.2222222222222222,
             "#7201a8"
            ],
            [
             0.3333333333333333,
             "#9c179e"
            ],
            [
             0.4444444444444444,
             "#bd3786"
            ],
            [
             0.5555555555555556,
             "#d8576b"
            ],
            [
             0.6666666666666666,
             "#ed7953"
            ],
            [
             0.7777777777777778,
             "#fb9f3a"
            ],
            [
             0.8888888888888888,
             "#fdca26"
            ],
            [
             1,
             "#f0f921"
            ]
           ],
           "sequentialminus": [
            [
             0,
             "#0d0887"
            ],
            [
             0.1111111111111111,
             "#46039f"
            ],
            [
             0.2222222222222222,
             "#7201a8"
            ],
            [
             0.3333333333333333,
             "#9c179e"
            ],
            [
             0.4444444444444444,
             "#bd3786"
            ],
            [
             0.5555555555555556,
             "#d8576b"
            ],
            [
             0.6666666666666666,
             "#ed7953"
            ],
            [
             0.7777777777777778,
             "#fb9f3a"
            ],
            [
             0.8888888888888888,
             "#fdca26"
            ],
            [
             1,
             "#f0f921"
            ]
           ]
          },
          "colorway": [
           "#636efa",
           "#EF553B",
           "#00cc96",
           "#ab63fa",
           "#FFA15A",
           "#19d3f3",
           "#FF6692",
           "#B6E880",
           "#FF97FF",
           "#FECB52"
          ],
          "font": {
           "color": "#2a3f5f"
          },
          "geo": {
           "bgcolor": "white",
           "lakecolor": "white",
           "landcolor": "#E5ECF6",
           "showlakes": true,
           "showland": true,
           "subunitcolor": "white"
          },
          "hoverlabel": {
           "align": "left"
          },
          "hovermode": "closest",
          "mapbox": {
           "style": "light"
          },
          "paper_bgcolor": "white",
          "plot_bgcolor": "#E5ECF6",
          "polar": {
           "angularaxis": {
            "gridcolor": "white",
            "linecolor": "white",
            "ticks": ""
           },
           "bgcolor": "#E5ECF6",
           "radialaxis": {
            "gridcolor": "white",
            "linecolor": "white",
            "ticks": ""
           }
          },
          "scene": {
           "xaxis": {
            "backgroundcolor": "#E5ECF6",
            "gridcolor": "white",
            "gridwidth": 2,
            "linecolor": "white",
            "showbackground": true,
            "ticks": "",
            "zerolinecolor": "white"
           },
           "yaxis": {
            "backgroundcolor": "#E5ECF6",
            "gridcolor": "white",
            "gridwidth": 2,
            "linecolor": "white",
            "showbackground": true,
            "ticks": "",
            "zerolinecolor": "white"
           },
           "zaxis": {
            "backgroundcolor": "#E5ECF6",
            "gridcolor": "white",
            "gridwidth": 2,
            "linecolor": "white",
            "showbackground": true,
            "ticks": "",
            "zerolinecolor": "white"
           }
          },
          "shapedefaults": {
           "line": {
            "color": "#2a3f5f"
           }
          },
          "ternary": {
           "aaxis": {
            "gridcolor": "white",
            "linecolor": "white",
            "ticks": ""
           },
           "baxis": {
            "gridcolor": "white",
            "linecolor": "white",
            "ticks": ""
           },
           "bgcolor": "#E5ECF6",
           "caxis": {
            "gridcolor": "white",
            "linecolor": "white",
            "ticks": ""
           }
          },
          "title": {
           "x": 0.05
          },
          "xaxis": {
           "automargin": true,
           "gridcolor": "white",
           "linecolor": "white",
           "ticks": "",
           "title": {
            "standoff": 15
           },
           "zerolinecolor": "white",
           "zerolinewidth": 2
          },
          "yaxis": {
           "automargin": true,
           "gridcolor": "white",
           "linecolor": "white",
           "ticks": "",
           "title": {
            "standoff": 15
           },
           "zerolinecolor": "white",
           "zerolinewidth": 2
          }
         }
        },
        "title": {
         "font": {
          "color": "#4D5663"
         }
        },
        "xaxis": {
         "gridcolor": "#E1E5ED",
         "showgrid": true,
         "tickfont": {
          "color": "#4D5663"
         },
         "title": {
          "font": {
           "color": "#4D5663"
          },
          "text": ""
         },
         "zerolinecolor": "#E1E5ED"
        },
        "yaxis": {
         "gridcolor": "#E1E5ED",
         "showgrid": true,
         "tickfont": {
          "color": "#4D5663"
         },
         "title": {
          "font": {
           "color": "#4D5663"
          },
          "text": ""
         },
         "zerolinecolor": "#E1E5ED"
        }
       }
      },
      "text/html": [
       "<div>                            <div id=\"501bf230-1b20-4631-b74b-037ce693414a\" class=\"plotly-graph-div\" style=\"height:525px; width:100%;\"></div>            <script type=\"text/javascript\">                require([\"plotly\"], function(Plotly) {                    window.PLOTLYENV=window.PLOTLYENV || {};\n",
       "                    window.PLOTLYENV.BASE_URL='https://plot.ly';                                    if (document.getElementById(\"501bf230-1b20-4631-b74b-037ce693414a\")) {                    Plotly.newPlot(                        \"501bf230-1b20-4631-b74b-037ce693414a\",                        [{\"marker\": {\"color\": [\"rgb(255, 153, 51)\", \"rgb(55, 128, 191)\", \"rgb(50, 171, 96)\", \"rgb(128, 0, 128)\", \"rgb(219, 64, 82)\", \"rgb(0, 128, 128)\", \"rgb(255, 255, 51)\", \"rgb(128, 128, 0)\", \"rgb(251, 128, 114)\", \"rgb(128, 177, 211)\"], \"line\": {\"width\": 1.3}, \"size\": [54, 54, 69, 52, 69, 77, 54, 46, 51, 68, 28, 59, 74, 42, 64, 38, 51, 45, 81, 32, 36, 62, 39, 60, 20, 54, 56, 61, 36, 61, 45, 63, 74, 59, 48, 42, 28, 36, 31, 75, 51, 112, 54, 80, 51, 44, 52, 16, 78, 67, 60, 45, 75, 43, 37, 26, 56, 30, 49, 60, 69, 64, 50, 71, 53, 12, 46, 58, 66, 53, 38, 32, 55, 55, 71, 71, 53, 31, 55, 65, 67, 57, 68, 44, 43, 68, 42, 42, 46, 42, 36, 25, 47, 54, 39, 36, 24, 66, 54, 42], \"symbol\": \"circle\"}, \"mode\": \"markers\", \"text\": \"\", \"type\": \"scatter\", \"x\": [-1.3065340728440185, -0.4228569613907754, 0.45161595055524156, 1.7602492264490932, -0.7778588266274128, -0.22876582887016242, 2.054624102518116, 0.017164726374088564, 0.8408615581411037, 0.46664326722884075, 0.4512840160401709, -0.3312831699326283, -0.38483224883279044, 0.6743961048208689, -0.8224671889042517, -0.3439007092103924, -0.06932869669048287, 0.8709698025322423, -0.19899818380372442, -1.9521052872452325, 0.515413801783241, 1.460892380463078, 1.0400891531540952, -0.4148469012882354, 0.528879745585174, -1.719394474619523, -0.25898285340053234, -0.6011568006493835, 0.1698692553475717, -0.8088471964721285, 1.4428769284963092, 0.9665392502290573, 0.6365834094146309, -0.2516742076314244, 0.684001328181953, -0.4244927905709274, -2.2271126318500145, 1.3097059056826534, 1.0112070637749084, -0.22241402852990858, 0.8532821858237332, -1.6374495930083417, -1.3988128186664763, 0.37167029121186534, 0.3724568515114425, 0.7800271353386294, 1.1614399816743937, 0.14164053766580517, 0.5109377744920892, 0.6616810764659825, -1.072964278711645, -1.4614036047221062, -1.3477649412536636, 0.7852269196346882, 1.2251558492732308, 0.3931092448539835, 0.8858257989659072, 0.7433565435138623, -0.039178256209496685, -0.593343754242419, 0.9849516717192109, -1.039182322034903, -0.5089722778228615, 1.5754679085723808, 1.0689716222012626, -0.10646012155553987, 0.6925743475393558, -1.0490677451686161, 0.41026574539684446, 0.31815419967868935, 0.39788042488185116, 1.9197922864280879, 0.7513372351604846, -0.49112513779081807, 1.018552474767882, -0.7907999537751678, -0.4775808546567209, -0.36261208757725877, -0.03181717269879145, -0.30097615395533844, -2.076802021923554, -1.2704607763854796, -0.13479312929572362, 3.3210787561703645, 0.43598619629640983, 0.07225189915588459, -0.13935180545092124, 0.3212659144838316, 1.2935496206633084, -0.9509092510507696, 1.5392070096550627, 0.6087836589081088, -2.1444440467284505, 0.9544956665476875, -0.857496824739772, 0.6778075711198115, 1.2179409008013473, -0.596086334587662, 0.425920176502816, 1.108616757989675], \"y\": [0.3672318138838647, -2.1424667290773685, -0.28173626906561283, -2.4135030011737877, 0.3102722877837673, -0.3748046873026527, -0.4791570987860799, 1.208456328551963, 1.146900376399483, 0.8088443602656821, -1.1601701049822761, -0.8514556565308268, -0.5322340208981775, 1.0989963327471792, -0.625342001465988, 1.0449944096738975, 0.45015551276717897, 0.7774192052488628, -0.41893789767812306, 0.4511229387345986, -0.7673098263317347, 1.197830841721251, -0.10534471250754213, -1.5791562853944654, -1.1077125022845524, -0.7995474906917599, -0.5637887345823027, 1.693809113288081, 0.6933662256603845, 0.18103874435787085, 0.12837699015594436, 1.3062060651354486, 1.6209122856217475, -0.2889973430098159, -1.7879128911997157, -1.5657381506559054, -0.27584606256114336, -0.17763219598355098, -0.14319574500723764, -0.870008223190852, 1.3863142642463189, 0.6486436440906672, -0.45994283084068716, 0.14225137252631778, -0.1834001973200239, -1.1134361029729902, 1.7464350892279725, -0.5956678809102903, 0.03494358936374005, -0.466154856825928, -0.952062100706259, 0.35111689651096534, 0.33722093830845856, -1.9450469586120391, 0.8160436843240609, 1.167075165999964, 0.7980637952989431, -1.0807106924455065, -0.17961229465135792, -0.9157918490686792, -1.0971543602553622, -1.8988120593192948, 1.4236144293489872, -0.2828635516348445, -0.15699367249331792, -0.45611755514868535, -0.3290515493410809, -1.895266947476466, -0.8986831933186461, 0.15001627872780374, -1.1958615103244818, 0.4502177420378455, -0.9268719392086243, -0.26837130412057664, -1.181103172771823, -0.05936790254849916, -1.3486964467972422, -0.5924612851532695, 0.28807816700515054, 0.3122386890129999, -0.5039739491423175, 0.10803081731234535, 0.9662208625783415, -0.37951751553387963, -2.698361741666047, -1.5569415578650314, 0.5311637934562251, 1.5365363280210986, 0.5900394641608302, -0.04586668606976747, -1.0903383324548148, 0.4972690986459772, -0.017454951836177974, 1.0334508032642373, 0.542645294566316, -0.3592240957107388, -0.806178211953457, -2.0863905654565262, 1.1022367325853422, 0.7255505180787332]}],                        {\"legend\": {\"bgcolor\": \"#F5F6F9\", \"font\": {\"color\": \"#4D5663\"}}, \"paper_bgcolor\": \"#F5F6F9\", \"plot_bgcolor\": \"#F5F6F9\", \"template\": {\"data\": {\"bar\": [{\"error_x\": {\"color\": \"#2a3f5f\"}, \"error_y\": {\"color\": \"#2a3f5f\"}, \"marker\": {\"line\": {\"color\": \"#E5ECF6\", \"width\": 0.5}}, \"type\": \"bar\"}], \"barpolar\": [{\"marker\": {\"line\": {\"color\": \"#E5ECF6\", \"width\": 0.5}}, \"type\": \"barpolar\"}], \"carpet\": [{\"aaxis\": {\"endlinecolor\": \"#2a3f5f\", \"gridcolor\": \"white\", \"linecolor\": \"white\", \"minorgridcolor\": \"white\", \"startlinecolor\": \"#2a3f5f\"}, \"baxis\": {\"endlinecolor\": \"#2a3f5f\", \"gridcolor\": \"white\", \"linecolor\": \"white\", \"minorgridcolor\": \"white\", \"startlinecolor\": \"#2a3f5f\"}, \"type\": \"carpet\"}], \"choropleth\": [{\"colorbar\": {\"outlinewidth\": 0, \"ticks\": \"\"}, \"type\": \"choropleth\"}], \"contour\": [{\"colorbar\": {\"outlinewidth\": 0, \"ticks\": \"\"}, \"colorscale\": [[0.0, \"#0d0887\"], [0.1111111111111111, \"#46039f\"], [0.2222222222222222, \"#7201a8\"], [0.3333333333333333, \"#9c179e\"], [0.4444444444444444, \"#bd3786\"], [0.5555555555555556, \"#d8576b\"], [0.6666666666666666, \"#ed7953\"], [0.7777777777777778, \"#fb9f3a\"], [0.8888888888888888, \"#fdca26\"], [1.0, \"#f0f921\"]], \"type\": \"contour\"}], \"contourcarpet\": [{\"colorbar\": {\"outlinewidth\": 0, \"ticks\": \"\"}, \"type\": \"contourcarpet\"}], \"heatmap\": [{\"colorbar\": {\"outlinewidth\": 0, \"ticks\": \"\"}, \"colorscale\": [[0.0, \"#0d0887\"], [0.1111111111111111, \"#46039f\"], [0.2222222222222222, \"#7201a8\"], [0.3333333333333333, \"#9c179e\"], [0.4444444444444444, \"#bd3786\"], [0.5555555555555556, \"#d8576b\"], [0.6666666666666666, \"#ed7953\"], [0.7777777777777778, \"#fb9f3a\"], [0.8888888888888888, \"#fdca26\"], [1.0, \"#f0f921\"]], \"type\": \"heatmap\"}], \"heatmapgl\": [{\"colorbar\": {\"outlinewidth\": 0, \"ticks\": \"\"}, \"colorscale\": [[0.0, \"#0d0887\"], [0.1111111111111111, \"#46039f\"], [0.2222222222222222, \"#7201a8\"], [0.3333333333333333, \"#9c179e\"], [0.4444444444444444, \"#bd3786\"], [0.5555555555555556, \"#d8576b\"], [0.6666666666666666, \"#ed7953\"], [0.7777777777777778, \"#fb9f3a\"], [0.8888888888888888, \"#fdca26\"], [1.0, \"#f0f921\"]], \"type\": \"heatmapgl\"}], \"histogram\": [{\"marker\": {\"colorbar\": {\"outlinewidth\": 0, \"ticks\": \"\"}}, \"type\": \"histogram\"}], \"histogram2d\": [{\"colorbar\": {\"outlinewidth\": 0, \"ticks\": \"\"}, \"colorscale\": [[0.0, \"#0d0887\"], [0.1111111111111111, \"#46039f\"], [0.2222222222222222, \"#7201a8\"], [0.3333333333333333, \"#9c179e\"], [0.4444444444444444, \"#bd3786\"], [0.5555555555555556, \"#d8576b\"], [0.6666666666666666, \"#ed7953\"], [0.7777777777777778, \"#fb9f3a\"], [0.8888888888888888, \"#fdca26\"], [1.0, \"#f0f921\"]], \"type\": \"histogram2d\"}], \"histogram2dcontour\": [{\"colorbar\": {\"outlinewidth\": 0, \"ticks\": \"\"}, \"colorscale\": [[0.0, \"#0d0887\"], [0.1111111111111111, \"#46039f\"], [0.2222222222222222, \"#7201a8\"], [0.3333333333333333, \"#9c179e\"], [0.4444444444444444, \"#bd3786\"], [0.5555555555555556, \"#d8576b\"], [0.6666666666666666, \"#ed7953\"], [0.7777777777777778, \"#fb9f3a\"], [0.8888888888888888, \"#fdca26\"], [1.0, \"#f0f921\"]], \"type\": \"histogram2dcontour\"}], \"mesh3d\": [{\"colorbar\": {\"outlinewidth\": 0, \"ticks\": \"\"}, \"type\": \"mesh3d\"}], \"parcoords\": [{\"line\": {\"colorbar\": {\"outlinewidth\": 0, \"ticks\": \"\"}}, \"type\": \"parcoords\"}], \"pie\": [{\"automargin\": true, \"type\": \"pie\"}], \"scatter\": [{\"marker\": {\"colorbar\": {\"outlinewidth\": 0, \"ticks\": \"\"}}, \"type\": \"scatter\"}], \"scatter3d\": [{\"line\": {\"colorbar\": {\"outlinewidth\": 0, \"ticks\": \"\"}}, \"marker\": {\"colorbar\": {\"outlinewidth\": 0, \"ticks\": \"\"}}, \"type\": \"scatter3d\"}], \"scattercarpet\": [{\"marker\": {\"colorbar\": {\"outlinewidth\": 0, \"ticks\": \"\"}}, \"type\": \"scattercarpet\"}], \"scattergeo\": [{\"marker\": {\"colorbar\": {\"outlinewidth\": 0, \"ticks\": \"\"}}, \"type\": \"scattergeo\"}], \"scattergl\": [{\"marker\": {\"colorbar\": {\"outlinewidth\": 0, \"ticks\": \"\"}}, \"type\": \"scattergl\"}], \"scattermapbox\": [{\"marker\": {\"colorbar\": {\"outlinewidth\": 0, \"ticks\": \"\"}}, \"type\": \"scattermapbox\"}], \"scatterpolar\": [{\"marker\": {\"colorbar\": {\"outlinewidth\": 0, \"ticks\": \"\"}}, \"type\": \"scatterpolar\"}], \"scatterpolargl\": [{\"marker\": {\"colorbar\": {\"outlinewidth\": 0, \"ticks\": \"\"}}, \"type\": \"scatterpolargl\"}], \"scatterternary\": [{\"marker\": {\"colorbar\": {\"outlinewidth\": 0, \"ticks\": \"\"}}, \"type\": \"scatterternary\"}], \"surface\": [{\"colorbar\": {\"outlinewidth\": 0, \"ticks\": \"\"}, \"colorscale\": [[0.0, \"#0d0887\"], [0.1111111111111111, \"#46039f\"], [0.2222222222222222, \"#7201a8\"], [0.3333333333333333, \"#9c179e\"], [0.4444444444444444, \"#bd3786\"], [0.5555555555555556, \"#d8576b\"], [0.6666666666666666, \"#ed7953\"], [0.7777777777777778, \"#fb9f3a\"], [0.8888888888888888, \"#fdca26\"], [1.0, \"#f0f921\"]], \"type\": \"surface\"}], \"table\": [{\"cells\": {\"fill\": {\"color\": \"#EBF0F8\"}, \"line\": {\"color\": \"white\"}}, \"header\": {\"fill\": {\"color\": \"#C8D4E3\"}, \"line\": {\"color\": \"white\"}}, \"type\": \"table\"}]}, \"layout\": {\"annotationdefaults\": {\"arrowcolor\": \"#2a3f5f\", \"arrowhead\": 0, \"arrowwidth\": 1}, \"autotypenumbers\": \"strict\", \"coloraxis\": {\"colorbar\": {\"outlinewidth\": 0, \"ticks\": \"\"}}, \"colorscale\": {\"diverging\": [[0, \"#8e0152\"], [0.1, \"#c51b7d\"], [0.2, \"#de77ae\"], [0.3, \"#f1b6da\"], [0.4, \"#fde0ef\"], [0.5, \"#f7f7f7\"], [0.6, \"#e6f5d0\"], [0.7, \"#b8e186\"], [0.8, \"#7fbc41\"], [0.9, \"#4d9221\"], [1, \"#276419\"]], \"sequential\": [[0.0, \"#0d0887\"], [0.1111111111111111, \"#46039f\"], [0.2222222222222222, \"#7201a8\"], [0.3333333333333333, \"#9c179e\"], [0.4444444444444444, \"#bd3786\"], [0.5555555555555556, \"#d8576b\"], [0.6666666666666666, \"#ed7953\"], [0.7777777777777778, \"#fb9f3a\"], [0.8888888888888888, \"#fdca26\"], [1.0, \"#f0f921\"]], \"sequentialminus\": [[0.0, \"#0d0887\"], [0.1111111111111111, \"#46039f\"], [0.2222222222222222, \"#7201a8\"], [0.3333333333333333, \"#9c179e\"], [0.4444444444444444, \"#bd3786\"], [0.5555555555555556, \"#d8576b\"], [0.6666666666666666, \"#ed7953\"], [0.7777777777777778, \"#fb9f3a\"], [0.8888888888888888, \"#fdca26\"], [1.0, \"#f0f921\"]]}, \"colorway\": [\"#636efa\", \"#EF553B\", \"#00cc96\", \"#ab63fa\", \"#FFA15A\", \"#19d3f3\", \"#FF6692\", \"#B6E880\", \"#FF97FF\", \"#FECB52\"], \"font\": {\"color\": \"#2a3f5f\"}, \"geo\": {\"bgcolor\": \"white\", \"lakecolor\": \"white\", \"landcolor\": \"#E5ECF6\", \"showlakes\": true, \"showland\": true, \"subunitcolor\": \"white\"}, \"hoverlabel\": {\"align\": \"left\"}, \"hovermode\": \"closest\", \"mapbox\": {\"style\": \"light\"}, \"paper_bgcolor\": \"white\", \"plot_bgcolor\": \"#E5ECF6\", \"polar\": {\"angularaxis\": {\"gridcolor\": \"white\", \"linecolor\": \"white\", \"ticks\": \"\"}, \"bgcolor\": \"#E5ECF6\", \"radialaxis\": {\"gridcolor\": \"white\", \"linecolor\": \"white\", \"ticks\": \"\"}}, \"scene\": {\"xaxis\": {\"backgroundcolor\": \"#E5ECF6\", \"gridcolor\": \"white\", \"gridwidth\": 2, \"linecolor\": \"white\", \"showbackground\": true, \"ticks\": \"\", \"zerolinecolor\": \"white\"}, \"yaxis\": {\"backgroundcolor\": \"#E5ECF6\", \"gridcolor\": \"white\", \"gridwidth\": 2, \"linecolor\": \"white\", \"showbackground\": true, \"ticks\": \"\", \"zerolinecolor\": \"white\"}, \"zaxis\": {\"backgroundcolor\": \"#E5ECF6\", \"gridcolor\": \"white\", \"gridwidth\": 2, \"linecolor\": \"white\", \"showbackground\": true, \"ticks\": \"\", \"zerolinecolor\": \"white\"}}, \"shapedefaults\": {\"line\": {\"color\": \"#2a3f5f\"}}, \"ternary\": {\"aaxis\": {\"gridcolor\": \"white\", \"linecolor\": \"white\", \"ticks\": \"\"}, \"baxis\": {\"gridcolor\": \"white\", \"linecolor\": \"white\", \"ticks\": \"\"}, \"bgcolor\": \"#E5ECF6\", \"caxis\": {\"gridcolor\": \"white\", \"linecolor\": \"white\", \"ticks\": \"\"}}, \"title\": {\"x\": 0.05}, \"xaxis\": {\"automargin\": true, \"gridcolor\": \"white\", \"linecolor\": \"white\", \"ticks\": \"\", \"title\": {\"standoff\": 15}, \"zerolinecolor\": \"white\", \"zerolinewidth\": 2}, \"yaxis\": {\"automargin\": true, \"gridcolor\": \"white\", \"linecolor\": \"white\", \"ticks\": \"\", \"title\": {\"standoff\": 15}, \"zerolinecolor\": \"white\", \"zerolinewidth\": 2}}}, \"title\": {\"font\": {\"color\": \"#4D5663\"}}, \"xaxis\": {\"gridcolor\": \"#E1E5ED\", \"showgrid\": true, \"tickfont\": {\"color\": \"#4D5663\"}, \"title\": {\"font\": {\"color\": \"#4D5663\"}, \"text\": \"\"}, \"zerolinecolor\": \"#E1E5ED\"}, \"yaxis\": {\"gridcolor\": \"#E1E5ED\", \"showgrid\": true, \"tickfont\": {\"color\": \"#4D5663\"}, \"title\": {\"font\": {\"color\": \"#4D5663\"}, \"text\": \"\"}, \"zerolinecolor\": \"#E1E5ED\"}},                        {\"showLink\": true, \"linkText\": \"Export to plot.ly\", \"plotlyServerURL\": \"https://plot.ly\", \"responsive\": true}                    ).then(function(){\n",
       "                            \n",
       "var gd = document.getElementById('501bf230-1b20-4631-b74b-037ce693414a');\n",
       "var x = new MutationObserver(function (mutations, observer) {{\n",
       "        var display = window.getComputedStyle(gd).display;\n",
       "        if (!display || display === 'none') {{\n",
       "            console.log([gd, 'removed!']);\n",
       "            Plotly.purge(gd);\n",
       "            observer.disconnect();\n",
       "        }}\n",
       "}});\n",
       "\n",
       "// Listen for the removal of the full notebook cells\n",
       "var notebookContainer = gd.closest('#notebook-container');\n",
       "if (notebookContainer) {{\n",
       "    x.observe(notebookContainer, {childList: true});\n",
       "}}\n",
       "\n",
       "// Listen for the clearing of the current output cell\n",
       "var outputEl = gd.closest('.output');\n",
       "if (outputEl) {{\n",
       "    x.observe(outputEl, {childList: true});\n",
       "}}\n",
       "\n",
       "                        })                };                });            </script>        </div>"
      ]
     },
     "metadata": {},
     "output_type": "display_data"
    }
   ],
   "source": [
    "df.iplot(kind='bubble', x='A', y='C', size='B')"
   ]
  },
  {
   "cell_type": "code",
   "execution_count": 72,
   "metadata": {},
   "outputs": [
    {
     "data": {
      "text/plain": [
       "<module 'plotly.express' from '/home/jyoon/conda3/envs/fastai20/lib/python3.6/site-packages/plotly/express/__init__.py'>"
      ]
     },
     "execution_count": 72,
     "metadata": {},
     "output_type": "execute_result"
    }
   ],
   "source": [
    "import plotly.express as px\n",
    "px"
   ]
  },
  {
   "cell_type": "code",
   "execution_count": 89,
   "metadata": {},
   "outputs": [
    {
     "data": {
      "text/html": [
       "<div>\n",
       "<style scoped>\n",
       "    .dataframe tbody tr th:only-of-type {\n",
       "        vertical-align: middle;\n",
       "    }\n",
       "\n",
       "    .dataframe tbody tr th {\n",
       "        vertical-align: top;\n",
       "    }\n",
       "\n",
       "    .dataframe thead th {\n",
       "        text-align: right;\n",
       "    }\n",
       "</style>\n",
       "<table border=\"1\" class=\"dataframe\">\n",
       "  <thead>\n",
       "    <tr style=\"text-align: right;\">\n",
       "      <th></th>\n",
       "      <th>A</th>\n",
       "      <th>B</th>\n",
       "      <th>C</th>\n",
       "      <th>D</th>\n",
       "      <th>Name</th>\n",
       "    </tr>\n",
       "  </thead>\n",
       "  <tbody>\n",
       "    <tr>\n",
       "      <th>0</th>\n",
       "      <td>1.624345</td>\n",
       "      <td>-0.611756</td>\n",
       "      <td>-0.528172</td>\n",
       "      <td>-1.072969</td>\n",
       "      <td>0</td>\n",
       "    </tr>\n",
       "    <tr>\n",
       "      <th>1</th>\n",
       "      <td>0.865408</td>\n",
       "      <td>-2.301539</td>\n",
       "      <td>1.744812</td>\n",
       "      <td>-0.761207</td>\n",
       "      <td>1</td>\n",
       "    </tr>\n",
       "    <tr>\n",
       "      <th>2</th>\n",
       "      <td>0.319039</td>\n",
       "      <td>-0.249370</td>\n",
       "      <td>1.462108</td>\n",
       "      <td>-2.060141</td>\n",
       "      <td>2</td>\n",
       "    </tr>\n",
       "    <tr>\n",
       "      <th>3</th>\n",
       "      <td>-0.322417</td>\n",
       "      <td>-0.384054</td>\n",
       "      <td>1.133769</td>\n",
       "      <td>-1.099891</td>\n",
       "      <td>3</td>\n",
       "    </tr>\n",
       "    <tr>\n",
       "      <th>4</th>\n",
       "      <td>-0.172428</td>\n",
       "      <td>-0.877858</td>\n",
       "      <td>0.042214</td>\n",
       "      <td>0.582815</td>\n",
       "      <td>4</td>\n",
       "    </tr>\n",
       "  </tbody>\n",
       "</table>\n",
       "</div>"
      ],
      "text/plain": [
       "          A         B         C         D  Name\n",
       "0  1.624345 -0.611756 -0.528172 -1.072969     0\n",
       "1  0.865408 -2.301539  1.744812 -0.761207     1\n",
       "2  0.319039 -0.249370  1.462108 -2.060141     2\n",
       "3 -0.322417 -0.384054  1.133769 -1.099891     3\n",
       "4 -0.172428 -0.877858  0.042214  0.582815     4"
      ]
     },
     "execution_count": 89,
     "metadata": {},
     "output_type": "execute_result"
    }
   ],
   "source": [
    "np.random.seed(1)\n",
    "df4 = pd.DataFrame(np.random.randn(20,4),columns='A B C D'.split())\n",
    "df4['Name'] = np.arange(20)\n",
    "df4.head()"
   ]
  },
  {
   "cell_type": "code",
   "execution_count": 91,
   "metadata": {},
   "outputs": [
    {
     "data": {
      "application/vnd.plotly.v1+json": {
       "config": {
        "plotlyServerURL": "https://plot.ly"
       },
       "data": [
        {
         "hovertemplate": "<b>%{hovertext}</b><br><br>A=%{x}<br>B=%{y}<br>size=%{marker.size}<br>color=%{marker.color}<extra></extra>",
         "hovertext": [
          0,
          1,
          2,
          3,
          4,
          5,
          6,
          7,
          8,
          9,
          10,
          11,
          12,
          13,
          14,
          15,
          16,
          17,
          18,
          19
         ],
         "legendgroup": "",
         "marker": {
          "color": [
           21.45937244312341,
           15.224138017902057,
           41.20281418995308,
           21.997825346280617,
           11.656304274316444,
           10.049886778037365,
           18.715388685181374,
           7.935070537119548,
           0.2532919783780272,
           14.84088321154671,
           33.849092020554934,
           42.00510272957685,
           7.044996929870373,
           11.732463823643952,
           17.70282328541456,
           5.961856702054313,
           30.396336328443976,
           10.089317258929025,
           40.44402431648006,
           15.240223606240495
          ],
          "coloraxis": "coloraxis",
          "opacity": 0.5,
          "size": [
           5.2817175226345565,
           17.4481176421648,
           14.621079370449742,
           11.337694423354375,
           0.4221374671559283,
           9.015907205927956,
           1.2289022551864817,
           6.916607517253091,
           6.712461308368191,
           16.598021771098704,
           7.471582937508376,
           1.9091548466746602,
           3.001703199558275,
           2.0889423337477813,
           2.8558732525425876,
           5.129298204180088,
           11.316293874514269,
           14.441138054295894,
           3.1563494724160526,
           2.300947353643834
          ],
          "sizemode": "area",
          "sizeref": 0.004846699345045778,
          "symbol": "circle"
         },
         "mode": "markers",
         "name": "",
         "orientation": "v",
         "showlegend": false,
         "type": "scatter",
         "x": [
          1.6243453636632417,
          0.8654076293246785,
          0.31903909605709857,
          -0.3224172040135075,
          -0.17242820755043575,
          -1.1006191772129212,
          0.9008559492644118,
          -0.2678880796260159,
          -0.6871727001195994,
          -1.1173103486352778,
          -0.19183555236161492,
          0.05080775477602897,
          0.12015895248162915,
          -1.1425181980221402,
          0.8389834138745049,
          -0.7543979409966528,
          0.48851814653749703,
          2.1855754065331614,
          0.16003706944783047,
          -0.3062040126283718
         ],
         "xaxis": "x",
         "y": [
          -0.6117564136500754,
          -2.3015386968802827,
          -0.2493703754774101,
          -0.38405435466841564,
          -0.8778584179213718,
          1.1447237098396141,
          -0.6837278591743331,
          0.530355466738186,
          -0.8452056414987196,
          0.23441569781709215,
          -0.8876289640848363,
          -0.6369956465693534,
          0.6172031097074192,
          -0.3493427224128775,
          0.9311020813035573,
          1.2528681552332879,
          -0.07557171302105573,
          -1.3964963354881377,
          0.8761689211162249,
          0.8279746426072462
         ],
         "yaxis": "y"
        }
       ],
       "layout": {
        "coloraxis": {
         "colorbar": {
          "title": {
           "text": "color"
          }
         },
         "colorscale": [
          [
           0,
           "#0d0887"
          ],
          [
           0.1111111111111111,
           "#46039f"
          ],
          [
           0.2222222222222222,
           "#7201a8"
          ],
          [
           0.3333333333333333,
           "#9c179e"
          ],
          [
           0.4444444444444444,
           "#bd3786"
          ],
          [
           0.5555555555555556,
           "#d8576b"
          ],
          [
           0.6666666666666666,
           "#ed7953"
          ],
          [
           0.7777777777777778,
           "#fb9f3a"
          ],
          [
           0.8888888888888888,
           "#fdca26"
          ],
          [
           1,
           "#f0f921"
          ]
         ]
        },
        "legend": {
         "itemsizing": "constant",
         "tracegroupgap": 0
        },
        "margin": {
         "t": 60
        },
        "template": {
         "data": {
          "bar": [
           {
            "error_x": {
             "color": "#2a3f5f"
            },
            "error_y": {
             "color": "#2a3f5f"
            },
            "marker": {
             "line": {
              "color": "#E5ECF6",
              "width": 0.5
             }
            },
            "type": "bar"
           }
          ],
          "barpolar": [
           {
            "marker": {
             "line": {
              "color": "#E5ECF6",
              "width": 0.5
             }
            },
            "type": "barpolar"
           }
          ],
          "carpet": [
           {
            "aaxis": {
             "endlinecolor": "#2a3f5f",
             "gridcolor": "white",
             "linecolor": "white",
             "minorgridcolor": "white",
             "startlinecolor": "#2a3f5f"
            },
            "baxis": {
             "endlinecolor": "#2a3f5f",
             "gridcolor": "white",
             "linecolor": "white",
             "minorgridcolor": "white",
             "startlinecolor": "#2a3f5f"
            },
            "type": "carpet"
           }
          ],
          "choropleth": [
           {
            "colorbar": {
             "outlinewidth": 0,
             "ticks": ""
            },
            "type": "choropleth"
           }
          ],
          "contour": [
           {
            "colorbar": {
             "outlinewidth": 0,
             "ticks": ""
            },
            "colorscale": [
             [
              0,
              "#0d0887"
             ],
             [
              0.1111111111111111,
              "#46039f"
             ],
             [
              0.2222222222222222,
              "#7201a8"
             ],
             [
              0.3333333333333333,
              "#9c179e"
             ],
             [
              0.4444444444444444,
              "#bd3786"
             ],
             [
              0.5555555555555556,
              "#d8576b"
             ],
             [
              0.6666666666666666,
              "#ed7953"
             ],
             [
              0.7777777777777778,
              "#fb9f3a"
             ],
             [
              0.8888888888888888,
              "#fdca26"
             ],
             [
              1,
              "#f0f921"
             ]
            ],
            "type": "contour"
           }
          ],
          "contourcarpet": [
           {
            "colorbar": {
             "outlinewidth": 0,
             "ticks": ""
            },
            "type": "contourcarpet"
           }
          ],
          "heatmap": [
           {
            "colorbar": {
             "outlinewidth": 0,
             "ticks": ""
            },
            "colorscale": [
             [
              0,
              "#0d0887"
             ],
             [
              0.1111111111111111,
              "#46039f"
             ],
             [
              0.2222222222222222,
              "#7201a8"
             ],
             [
              0.3333333333333333,
              "#9c179e"
             ],
             [
              0.4444444444444444,
              "#bd3786"
             ],
             [
              0.5555555555555556,
              "#d8576b"
             ],
             [
              0.6666666666666666,
              "#ed7953"
             ],
             [
              0.7777777777777778,
              "#fb9f3a"
             ],
             [
              0.8888888888888888,
              "#fdca26"
             ],
             [
              1,
              "#f0f921"
             ]
            ],
            "type": "heatmap"
           }
          ],
          "heatmapgl": [
           {
            "colorbar": {
             "outlinewidth": 0,
             "ticks": ""
            },
            "colorscale": [
             [
              0,
              "#0d0887"
             ],
             [
              0.1111111111111111,
              "#46039f"
             ],
             [
              0.2222222222222222,
              "#7201a8"
             ],
             [
              0.3333333333333333,
              "#9c179e"
             ],
             [
              0.4444444444444444,
              "#bd3786"
             ],
             [
              0.5555555555555556,
              "#d8576b"
             ],
             [
              0.6666666666666666,
              "#ed7953"
             ],
             [
              0.7777777777777778,
              "#fb9f3a"
             ],
             [
              0.8888888888888888,
              "#fdca26"
             ],
             [
              1,
              "#f0f921"
             ]
            ],
            "type": "heatmapgl"
           }
          ],
          "histogram": [
           {
            "marker": {
             "colorbar": {
              "outlinewidth": 0,
              "ticks": ""
             }
            },
            "type": "histogram"
           }
          ],
          "histogram2d": [
           {
            "colorbar": {
             "outlinewidth": 0,
             "ticks": ""
            },
            "colorscale": [
             [
              0,
              "#0d0887"
             ],
             [
              0.1111111111111111,
              "#46039f"
             ],
             [
              0.2222222222222222,
              "#7201a8"
             ],
             [
              0.3333333333333333,
              "#9c179e"
             ],
             [
              0.4444444444444444,
              "#bd3786"
             ],
             [
              0.5555555555555556,
              "#d8576b"
             ],
             [
              0.6666666666666666,
              "#ed7953"
             ],
             [
              0.7777777777777778,
              "#fb9f3a"
             ],
             [
              0.8888888888888888,
              "#fdca26"
             ],
             [
              1,
              "#f0f921"
             ]
            ],
            "type": "histogram2d"
           }
          ],
          "histogram2dcontour": [
           {
            "colorbar": {
             "outlinewidth": 0,
             "ticks": ""
            },
            "colorscale": [
             [
              0,
              "#0d0887"
             ],
             [
              0.1111111111111111,
              "#46039f"
             ],
             [
              0.2222222222222222,
              "#7201a8"
             ],
             [
              0.3333333333333333,
              "#9c179e"
             ],
             [
              0.4444444444444444,
              "#bd3786"
             ],
             [
              0.5555555555555556,
              "#d8576b"
             ],
             [
              0.6666666666666666,
              "#ed7953"
             ],
             [
              0.7777777777777778,
              "#fb9f3a"
             ],
             [
              0.8888888888888888,
              "#fdca26"
             ],
             [
              1,
              "#f0f921"
             ]
            ],
            "type": "histogram2dcontour"
           }
          ],
          "mesh3d": [
           {
            "colorbar": {
             "outlinewidth": 0,
             "ticks": ""
            },
            "type": "mesh3d"
           }
          ],
          "parcoords": [
           {
            "line": {
             "colorbar": {
              "outlinewidth": 0,
              "ticks": ""
             }
            },
            "type": "parcoords"
           }
          ],
          "pie": [
           {
            "automargin": true,
            "type": "pie"
           }
          ],
          "scatter": [
           {
            "marker": {
             "colorbar": {
              "outlinewidth": 0,
              "ticks": ""
             }
            },
            "type": "scatter"
           }
          ],
          "scatter3d": [
           {
            "line": {
             "colorbar": {
              "outlinewidth": 0,
              "ticks": ""
             }
            },
            "marker": {
             "colorbar": {
              "outlinewidth": 0,
              "ticks": ""
             }
            },
            "type": "scatter3d"
           }
          ],
          "scattercarpet": [
           {
            "marker": {
             "colorbar": {
              "outlinewidth": 0,
              "ticks": ""
             }
            },
            "type": "scattercarpet"
           }
          ],
          "scattergeo": [
           {
            "marker": {
             "colorbar": {
              "outlinewidth": 0,
              "ticks": ""
             }
            },
            "type": "scattergeo"
           }
          ],
          "scattergl": [
           {
            "marker": {
             "colorbar": {
              "outlinewidth": 0,
              "ticks": ""
             }
            },
            "type": "scattergl"
           }
          ],
          "scattermapbox": [
           {
            "marker": {
             "colorbar": {
              "outlinewidth": 0,
              "ticks": ""
             }
            },
            "type": "scattermapbox"
           }
          ],
          "scatterpolar": [
           {
            "marker": {
             "colorbar": {
              "outlinewidth": 0,
              "ticks": ""
             }
            },
            "type": "scatterpolar"
           }
          ],
          "scatterpolargl": [
           {
            "marker": {
             "colorbar": {
              "outlinewidth": 0,
              "ticks": ""
             }
            },
            "type": "scatterpolargl"
           }
          ],
          "scatterternary": [
           {
            "marker": {
             "colorbar": {
              "outlinewidth": 0,
              "ticks": ""
             }
            },
            "type": "scatterternary"
           }
          ],
          "surface": [
           {
            "colorbar": {
             "outlinewidth": 0,
             "ticks": ""
            },
            "colorscale": [
             [
              0,
              "#0d0887"
             ],
             [
              0.1111111111111111,
              "#46039f"
             ],
             [
              0.2222222222222222,
              "#7201a8"
             ],
             [
              0.3333333333333333,
              "#9c179e"
             ],
             [
              0.4444444444444444,
              "#bd3786"
             ],
             [
              0.5555555555555556,
              "#d8576b"
             ],
             [
              0.6666666666666666,
              "#ed7953"
             ],
             [
              0.7777777777777778,
              "#fb9f3a"
             ],
             [
              0.8888888888888888,
              "#fdca26"
             ],
             [
              1,
              "#f0f921"
             ]
            ],
            "type": "surface"
           }
          ],
          "table": [
           {
            "cells": {
             "fill": {
              "color": "#EBF0F8"
             },
             "line": {
              "color": "white"
             }
            },
            "header": {
             "fill": {
              "color": "#C8D4E3"
             },
             "line": {
              "color": "white"
             }
            },
            "type": "table"
           }
          ]
         },
         "layout": {
          "annotationdefaults": {
           "arrowcolor": "#2a3f5f",
           "arrowhead": 0,
           "arrowwidth": 1
          },
          "autotypenumbers": "strict",
          "coloraxis": {
           "colorbar": {
            "outlinewidth": 0,
            "ticks": ""
           }
          },
          "colorscale": {
           "diverging": [
            [
             0,
             "#8e0152"
            ],
            [
             0.1,
             "#c51b7d"
            ],
            [
             0.2,
             "#de77ae"
            ],
            [
             0.3,
             "#f1b6da"
            ],
            [
             0.4,
             "#fde0ef"
            ],
            [
             0.5,
             "#f7f7f7"
            ],
            [
             0.6,
             "#e6f5d0"
            ],
            [
             0.7,
             "#b8e186"
            ],
            [
             0.8,
             "#7fbc41"
            ],
            [
             0.9,
             "#4d9221"
            ],
            [
             1,
             "#276419"
            ]
           ],
           "sequential": [
            [
             0,
             "#0d0887"
            ],
            [
             0.1111111111111111,
             "#46039f"
            ],
            [
             0.2222222222222222,
             "#7201a8"
            ],
            [
             0.3333333333333333,
             "#9c179e"
            ],
            [
             0.4444444444444444,
             "#bd3786"
            ],
            [
             0.5555555555555556,
             "#d8576b"
            ],
            [
             0.6666666666666666,
             "#ed7953"
            ],
            [
             0.7777777777777778,
             "#fb9f3a"
            ],
            [
             0.8888888888888888,
             "#fdca26"
            ],
            [
             1,
             "#f0f921"
            ]
           ],
           "sequentialminus": [
            [
             0,
             "#0d0887"
            ],
            [
             0.1111111111111111,
             "#46039f"
            ],
            [
             0.2222222222222222,
             "#7201a8"
            ],
            [
             0.3333333333333333,
             "#9c179e"
            ],
            [
             0.4444444444444444,
             "#bd3786"
            ],
            [
             0.5555555555555556,
             "#d8576b"
            ],
            [
             0.6666666666666666,
             "#ed7953"
            ],
            [
             0.7777777777777778,
             "#fb9f3a"
            ],
            [
             0.8888888888888888,
             "#fdca26"
            ],
            [
             1,
             "#f0f921"
            ]
           ]
          },
          "colorway": [
           "#636efa",
           "#EF553B",
           "#00cc96",
           "#ab63fa",
           "#FFA15A",
           "#19d3f3",
           "#FF6692",
           "#B6E880",
           "#FF97FF",
           "#FECB52"
          ],
          "font": {
           "color": "#2a3f5f"
          },
          "geo": {
           "bgcolor": "white",
           "lakecolor": "white",
           "landcolor": "#E5ECF6",
           "showlakes": true,
           "showland": true,
           "subunitcolor": "white"
          },
          "hoverlabel": {
           "align": "left"
          },
          "hovermode": "closest",
          "mapbox": {
           "style": "light"
          },
          "paper_bgcolor": "white",
          "plot_bgcolor": "#E5ECF6",
          "polar": {
           "angularaxis": {
            "gridcolor": "white",
            "linecolor": "white",
            "ticks": ""
           },
           "bgcolor": "#E5ECF6",
           "radialaxis": {
            "gridcolor": "white",
            "linecolor": "white",
            "ticks": ""
           }
          },
          "scene": {
           "xaxis": {
            "backgroundcolor": "#E5ECF6",
            "gridcolor": "white",
            "gridwidth": 2,
            "linecolor": "white",
            "showbackground": true,
            "ticks": "",
            "zerolinecolor": "white"
           },
           "yaxis": {
            "backgroundcolor": "#E5ECF6",
            "gridcolor": "white",
            "gridwidth": 2,
            "linecolor": "white",
            "showbackground": true,
            "ticks": "",
            "zerolinecolor": "white"
           },
           "zaxis": {
            "backgroundcolor": "#E5ECF6",
            "gridcolor": "white",
            "gridwidth": 2,
            "linecolor": "white",
            "showbackground": true,
            "ticks": "",
            "zerolinecolor": "white"
           }
          },
          "shapedefaults": {
           "line": {
            "color": "#2a3f5f"
           }
          },
          "ternary": {
           "aaxis": {
            "gridcolor": "white",
            "linecolor": "white",
            "ticks": ""
           },
           "baxis": {
            "gridcolor": "white",
            "linecolor": "white",
            "ticks": ""
           },
           "bgcolor": "#E5ECF6",
           "caxis": {
            "gridcolor": "white",
            "linecolor": "white",
            "ticks": ""
           }
          },
          "title": {
           "x": 0.05
          },
          "xaxis": {
           "automargin": true,
           "gridcolor": "white",
           "linecolor": "white",
           "ticks": "",
           "title": {
            "standoff": 15
           },
           "zerolinecolor": "white",
           "zerolinewidth": 2
          },
          "yaxis": {
           "automargin": true,
           "gridcolor": "white",
           "linecolor": "white",
           "ticks": "",
           "title": {
            "standoff": 15
           },
           "zerolinecolor": "white",
           "zerolinewidth": 2
          }
         }
        },
        "xaxis": {
         "anchor": "y",
         "domain": [
          0,
          1
         ],
         "title": {
          "text": "A"
         }
        },
        "yaxis": {
         "anchor": "x",
         "domain": [
          0,
          1
         ],
         "title": {
          "text": "B"
         }
        }
       }
      },
      "text/html": [
       "<div>                            <div id=\"8f3a6806-831c-4c01-a675-26c81d4f8d49\" class=\"plotly-graph-div\" style=\"height:525px; width:100%;\"></div>            <script type=\"text/javascript\">                require([\"plotly\"], function(Plotly) {                    window.PLOTLYENV=window.PLOTLYENV || {};                                    if (document.getElementById(\"8f3a6806-831c-4c01-a675-26c81d4f8d49\")) {                    Plotly.newPlot(                        \"8f3a6806-831c-4c01-a675-26c81d4f8d49\",                        [{\"hovertemplate\": \"<b>%{hovertext}</b><br><br>A=%{x}<br>B=%{y}<br>size=%{marker.size}<br>color=%{marker.color}<extra></extra>\", \"hovertext\": [0.0, 1.0, 2.0, 3.0, 4.0, 5.0, 6.0, 7.0, 8.0, 9.0, 10.0, 11.0, 12.0, 13.0, 14.0, 15.0, 16.0, 17.0, 18.0, 19.0], \"legendgroup\": \"\", \"marker\": {\"color\": [21.45937244312341, 15.224138017902057, 41.20281418995308, 21.997825346280617, 11.656304274316444, 10.049886778037365, 18.715388685181374, 7.935070537119548, 0.2532919783780272, 14.84088321154671, 33.849092020554934, 42.00510272957685, 7.044996929870373, 11.732463823643952, 17.70282328541456, 5.961856702054313, 30.396336328443976, 10.089317258929025, 40.44402431648006, 15.240223606240495], \"coloraxis\": \"coloraxis\", \"opacity\": 0.5, \"size\": [5.2817175226345565, 17.4481176421648, 14.621079370449742, 11.337694423354375, 0.4221374671559283, 9.015907205927956, 1.2289022551864817, 6.916607517253091, 6.712461308368191, 16.598021771098704, 7.471582937508376, 1.9091548466746602, 3.001703199558275, 2.0889423337477813, 2.8558732525425876, 5.129298204180088, 11.316293874514269, 14.441138054295894, 3.1563494724160526, 2.300947353643834], \"sizemode\": \"area\", \"sizeref\": 0.004846699345045778, \"symbol\": \"circle\"}, \"mode\": \"markers\", \"name\": \"\", \"orientation\": \"v\", \"showlegend\": false, \"type\": \"scatter\", \"x\": [1.6243453636632417, 0.8654076293246785, 0.31903909605709857, -0.3224172040135075, -0.17242820755043575, -1.1006191772129212, 0.9008559492644118, -0.2678880796260159, -0.6871727001195994, -1.1173103486352778, -0.19183555236161492, 0.05080775477602897, 0.12015895248162915, -1.1425181980221402, 0.8389834138745049, -0.7543979409966528, 0.48851814653749703, 2.1855754065331614, 0.16003706944783047, -0.3062040126283718], \"xaxis\": \"x\", \"y\": [-0.6117564136500754, -2.3015386968802827, -0.2493703754774101, -0.38405435466841564, -0.8778584179213718, 1.1447237098396141, -0.6837278591743331, 0.530355466738186, -0.8452056414987196, 0.23441569781709215, -0.8876289640848363, -0.6369956465693534, 0.6172031097074192, -0.3493427224128775, 0.9311020813035573, 1.2528681552332879, -0.07557171302105573, -1.3964963354881377, 0.8761689211162249, 0.8279746426072462], \"yaxis\": \"y\"}],                        {\"coloraxis\": {\"colorbar\": {\"title\": {\"text\": \"color\"}}, \"colorscale\": [[0.0, \"#0d0887\"], [0.1111111111111111, \"#46039f\"], [0.2222222222222222, \"#7201a8\"], [0.3333333333333333, \"#9c179e\"], [0.4444444444444444, \"#bd3786\"], [0.5555555555555556, \"#d8576b\"], [0.6666666666666666, \"#ed7953\"], [0.7777777777777778, \"#fb9f3a\"], [0.8888888888888888, \"#fdca26\"], [1.0, \"#f0f921\"]]}, \"legend\": {\"itemsizing\": \"constant\", \"tracegroupgap\": 0}, \"margin\": {\"t\": 60}, \"template\": {\"data\": {\"bar\": [{\"error_x\": {\"color\": \"#2a3f5f\"}, \"error_y\": {\"color\": \"#2a3f5f\"}, \"marker\": {\"line\": {\"color\": \"#E5ECF6\", \"width\": 0.5}}, \"type\": \"bar\"}], \"barpolar\": [{\"marker\": {\"line\": {\"color\": \"#E5ECF6\", \"width\": 0.5}}, \"type\": \"barpolar\"}], \"carpet\": [{\"aaxis\": {\"endlinecolor\": \"#2a3f5f\", \"gridcolor\": \"white\", \"linecolor\": \"white\", \"minorgridcolor\": \"white\", \"startlinecolor\": \"#2a3f5f\"}, \"baxis\": {\"endlinecolor\": \"#2a3f5f\", \"gridcolor\": \"white\", \"linecolor\": \"white\", \"minorgridcolor\": \"white\", \"startlinecolor\": \"#2a3f5f\"}, \"type\": \"carpet\"}], \"choropleth\": [{\"colorbar\": {\"outlinewidth\": 0, \"ticks\": \"\"}, \"type\": \"choropleth\"}], \"contour\": [{\"colorbar\": {\"outlinewidth\": 0, \"ticks\": \"\"}, \"colorscale\": [[0.0, \"#0d0887\"], [0.1111111111111111, \"#46039f\"], [0.2222222222222222, \"#7201a8\"], [0.3333333333333333, \"#9c179e\"], [0.4444444444444444, \"#bd3786\"], [0.5555555555555556, \"#d8576b\"], [0.6666666666666666, \"#ed7953\"], [0.7777777777777778, \"#fb9f3a\"], [0.8888888888888888, \"#fdca26\"], [1.0, \"#f0f921\"]], \"type\": \"contour\"}], \"contourcarpet\": [{\"colorbar\": {\"outlinewidth\": 0, \"ticks\": \"\"}, \"type\": \"contourcarpet\"}], \"heatmap\": [{\"colorbar\": {\"outlinewidth\": 0, \"ticks\": \"\"}, \"colorscale\": [[0.0, \"#0d0887\"], [0.1111111111111111, \"#46039f\"], [0.2222222222222222, \"#7201a8\"], [0.3333333333333333, \"#9c179e\"], [0.4444444444444444, \"#bd3786\"], [0.5555555555555556, \"#d8576b\"], [0.6666666666666666, \"#ed7953\"], [0.7777777777777778, \"#fb9f3a\"], [0.8888888888888888, \"#fdca26\"], [1.0, \"#f0f921\"]], \"type\": \"heatmap\"}], \"heatmapgl\": [{\"colorbar\": {\"outlinewidth\": 0, \"ticks\": \"\"}, \"colorscale\": [[0.0, \"#0d0887\"], [0.1111111111111111, \"#46039f\"], [0.2222222222222222, \"#7201a8\"], [0.3333333333333333, \"#9c179e\"], [0.4444444444444444, \"#bd3786\"], [0.5555555555555556, \"#d8576b\"], [0.6666666666666666, \"#ed7953\"], [0.7777777777777778, \"#fb9f3a\"], [0.8888888888888888, \"#fdca26\"], [1.0, \"#f0f921\"]], \"type\": \"heatmapgl\"}], \"histogram\": [{\"marker\": {\"colorbar\": {\"outlinewidth\": 0, \"ticks\": \"\"}}, \"type\": \"histogram\"}], \"histogram2d\": [{\"colorbar\": {\"outlinewidth\": 0, \"ticks\": \"\"}, \"colorscale\": [[0.0, \"#0d0887\"], [0.1111111111111111, \"#46039f\"], [0.2222222222222222, \"#7201a8\"], [0.3333333333333333, \"#9c179e\"], [0.4444444444444444, \"#bd3786\"], [0.5555555555555556, \"#d8576b\"], [0.6666666666666666, \"#ed7953\"], [0.7777777777777778, \"#fb9f3a\"], [0.8888888888888888, \"#fdca26\"], [1.0, \"#f0f921\"]], \"type\": \"histogram2d\"}], \"histogram2dcontour\": [{\"colorbar\": {\"outlinewidth\": 0, \"ticks\": \"\"}, \"colorscale\": [[0.0, \"#0d0887\"], [0.1111111111111111, \"#46039f\"], [0.2222222222222222, \"#7201a8\"], [0.3333333333333333, \"#9c179e\"], [0.4444444444444444, \"#bd3786\"], [0.5555555555555556, \"#d8576b\"], [0.6666666666666666, \"#ed7953\"], [0.7777777777777778, \"#fb9f3a\"], [0.8888888888888888, \"#fdca26\"], [1.0, \"#f0f921\"]], \"type\": \"histogram2dcontour\"}], \"mesh3d\": [{\"colorbar\": {\"outlinewidth\": 0, \"ticks\": \"\"}, \"type\": \"mesh3d\"}], \"parcoords\": [{\"line\": {\"colorbar\": {\"outlinewidth\": 0, \"ticks\": \"\"}}, \"type\": \"parcoords\"}], \"pie\": [{\"automargin\": true, \"type\": \"pie\"}], \"scatter\": [{\"marker\": {\"colorbar\": {\"outlinewidth\": 0, \"ticks\": \"\"}}, \"type\": \"scatter\"}], \"scatter3d\": [{\"line\": {\"colorbar\": {\"outlinewidth\": 0, \"ticks\": \"\"}}, \"marker\": {\"colorbar\": {\"outlinewidth\": 0, \"ticks\": \"\"}}, \"type\": \"scatter3d\"}], \"scattercarpet\": [{\"marker\": {\"colorbar\": {\"outlinewidth\": 0, \"ticks\": \"\"}}, \"type\": \"scattercarpet\"}], \"scattergeo\": [{\"marker\": {\"colorbar\": {\"outlinewidth\": 0, \"ticks\": \"\"}}, \"type\": \"scattergeo\"}], \"scattergl\": [{\"marker\": {\"colorbar\": {\"outlinewidth\": 0, \"ticks\": \"\"}}, \"type\": \"scattergl\"}], \"scattermapbox\": [{\"marker\": {\"colorbar\": {\"outlinewidth\": 0, \"ticks\": \"\"}}, \"type\": \"scattermapbox\"}], \"scatterpolar\": [{\"marker\": {\"colorbar\": {\"outlinewidth\": 0, \"ticks\": \"\"}}, \"type\": \"scatterpolar\"}], \"scatterpolargl\": [{\"marker\": {\"colorbar\": {\"outlinewidth\": 0, \"ticks\": \"\"}}, \"type\": \"scatterpolargl\"}], \"scatterternary\": [{\"marker\": {\"colorbar\": {\"outlinewidth\": 0, \"ticks\": \"\"}}, \"type\": \"scatterternary\"}], \"surface\": [{\"colorbar\": {\"outlinewidth\": 0, \"ticks\": \"\"}, \"colorscale\": [[0.0, \"#0d0887\"], [0.1111111111111111, \"#46039f\"], [0.2222222222222222, \"#7201a8\"], [0.3333333333333333, \"#9c179e\"], [0.4444444444444444, \"#bd3786\"], [0.5555555555555556, \"#d8576b\"], [0.6666666666666666, \"#ed7953\"], [0.7777777777777778, \"#fb9f3a\"], [0.8888888888888888, \"#fdca26\"], [1.0, \"#f0f921\"]], \"type\": \"surface\"}], \"table\": [{\"cells\": {\"fill\": {\"color\": \"#EBF0F8\"}, \"line\": {\"color\": \"white\"}}, \"header\": {\"fill\": {\"color\": \"#C8D4E3\"}, \"line\": {\"color\": \"white\"}}, \"type\": \"table\"}]}, \"layout\": {\"annotationdefaults\": {\"arrowcolor\": \"#2a3f5f\", \"arrowhead\": 0, \"arrowwidth\": 1}, \"autotypenumbers\": \"strict\", \"coloraxis\": {\"colorbar\": {\"outlinewidth\": 0, \"ticks\": \"\"}}, \"colorscale\": {\"diverging\": [[0, \"#8e0152\"], [0.1, \"#c51b7d\"], [0.2, \"#de77ae\"], [0.3, \"#f1b6da\"], [0.4, \"#fde0ef\"], [0.5, \"#f7f7f7\"], [0.6, \"#e6f5d0\"], [0.7, \"#b8e186\"], [0.8, \"#7fbc41\"], [0.9, \"#4d9221\"], [1, \"#276419\"]], \"sequential\": [[0.0, \"#0d0887\"], [0.1111111111111111, \"#46039f\"], [0.2222222222222222, \"#7201a8\"], [0.3333333333333333, \"#9c179e\"], [0.4444444444444444, \"#bd3786\"], [0.5555555555555556, \"#d8576b\"], [0.6666666666666666, \"#ed7953\"], [0.7777777777777778, \"#fb9f3a\"], [0.8888888888888888, \"#fdca26\"], [1.0, \"#f0f921\"]], \"sequentialminus\": [[0.0, \"#0d0887\"], [0.1111111111111111, \"#46039f\"], [0.2222222222222222, \"#7201a8\"], [0.3333333333333333, \"#9c179e\"], [0.4444444444444444, \"#bd3786\"], [0.5555555555555556, \"#d8576b\"], [0.6666666666666666, \"#ed7953\"], [0.7777777777777778, \"#fb9f3a\"], [0.8888888888888888, \"#fdca26\"], [1.0, \"#f0f921\"]]}, \"colorway\": [\"#636efa\", \"#EF553B\", \"#00cc96\", \"#ab63fa\", \"#FFA15A\", \"#19d3f3\", \"#FF6692\", \"#B6E880\", \"#FF97FF\", \"#FECB52\"], \"font\": {\"color\": \"#2a3f5f\"}, \"geo\": {\"bgcolor\": \"white\", \"lakecolor\": \"white\", \"landcolor\": \"#E5ECF6\", \"showlakes\": true, \"showland\": true, \"subunitcolor\": \"white\"}, \"hoverlabel\": {\"align\": \"left\"}, \"hovermode\": \"closest\", \"mapbox\": {\"style\": \"light\"}, \"paper_bgcolor\": \"white\", \"plot_bgcolor\": \"#E5ECF6\", \"polar\": {\"angularaxis\": {\"gridcolor\": \"white\", \"linecolor\": \"white\", \"ticks\": \"\"}, \"bgcolor\": \"#E5ECF6\", \"radialaxis\": {\"gridcolor\": \"white\", \"linecolor\": \"white\", \"ticks\": \"\"}}, \"scene\": {\"xaxis\": {\"backgroundcolor\": \"#E5ECF6\", \"gridcolor\": \"white\", \"gridwidth\": 2, \"linecolor\": \"white\", \"showbackground\": true, \"ticks\": \"\", \"zerolinecolor\": \"white\"}, \"yaxis\": {\"backgroundcolor\": \"#E5ECF6\", \"gridcolor\": \"white\", \"gridwidth\": 2, \"linecolor\": \"white\", \"showbackground\": true, \"ticks\": \"\", \"zerolinecolor\": \"white\"}, \"zaxis\": {\"backgroundcolor\": \"#E5ECF6\", \"gridcolor\": \"white\", \"gridwidth\": 2, \"linecolor\": \"white\", \"showbackground\": true, \"ticks\": \"\", \"zerolinecolor\": \"white\"}}, \"shapedefaults\": {\"line\": {\"color\": \"#2a3f5f\"}}, \"ternary\": {\"aaxis\": {\"gridcolor\": \"white\", \"linecolor\": \"white\", \"ticks\": \"\"}, \"baxis\": {\"gridcolor\": \"white\", \"linecolor\": \"white\", \"ticks\": \"\"}, \"bgcolor\": \"#E5ECF6\", \"caxis\": {\"gridcolor\": \"white\", \"linecolor\": \"white\", \"ticks\": \"\"}}, \"title\": {\"x\": 0.05}, \"xaxis\": {\"automargin\": true, \"gridcolor\": \"white\", \"linecolor\": \"white\", \"ticks\": \"\", \"title\": {\"standoff\": 15}, \"zerolinecolor\": \"white\", \"zerolinewidth\": 2}, \"yaxis\": {\"automargin\": true, \"gridcolor\": \"white\", \"linecolor\": \"white\", \"ticks\": \"\", \"title\": {\"standoff\": 15}, \"zerolinecolor\": \"white\", \"zerolinewidth\": 2}}}, \"xaxis\": {\"anchor\": \"y\", \"domain\": [0.0, 1.0], \"title\": {\"text\": \"A\"}}, \"yaxis\": {\"anchor\": \"x\", \"domain\": [0.0, 1.0], \"title\": {\"text\": \"B\"}}},                        {\"responsive\": true}                    ).then(function(){\n",
       "                            \n",
       "var gd = document.getElementById('8f3a6806-831c-4c01-a675-26c81d4f8d49');\n",
       "var x = new MutationObserver(function (mutations, observer) {{\n",
       "        var display = window.getComputedStyle(gd).display;\n",
       "        if (!display || display === 'none') {{\n",
       "            console.log([gd, 'removed!']);\n",
       "            Plotly.purge(gd);\n",
       "            observer.disconnect();\n",
       "        }}\n",
       "}});\n",
       "\n",
       "// Listen for the removal of the full notebook cells\n",
       "var notebookContainer = gd.closest('#notebook-container');\n",
       "if (notebookContainer) {{\n",
       "    x.observe(notebookContainer, {childList: true});\n",
       "}}\n",
       "\n",
       "// Listen for the clearing of the current output cell\n",
       "var outputEl = gd.closest('.output');\n",
       "if (outputEl) {{\n",
       "    x.observe(outputEl, {childList: true});\n",
       "}}\n",
       "\n",
       "                        })                };                });            </script>        </div>"
      ]
     },
     "metadata": {},
     "output_type": "display_data"
    }
   ],
   "source": [
    "fig = px.scatter(df4, x='A', y='B', size=abs(df4.C)*10, color=abs(df4.D)*20, \n",
    "                opacity=0.5, hover_name='Name', size_max=60)\n",
    "fig.show()"
   ]
  },
  {
   "cell_type": "code",
   "execution_count": null,
   "metadata": {},
   "outputs": [],
   "source": []
  },
  {
   "cell_type": "code",
   "execution_count": null,
   "metadata": {},
   "outputs": [],
   "source": []
  },
  {
   "cell_type": "code",
   "execution_count": 73,
   "metadata": {},
   "outputs": [
    {
     "data": {
      "application/vnd.plotly.v1+json": {
       "config": {
        "plotlyServerURL": "https://plot.ly"
       },
       "data": [
        {
         "hovertemplate": "<b>%{hovertext}</b><br><br>continent=Asia<br>gdpPercap=%{x}<br>lifeExp=%{y}<br>pop=%{marker.size}<extra></extra>",
         "hovertext": [
          "Afghanistan",
          "Bahrain",
          "Bangladesh",
          "Cambodia",
          "China",
          "Hong Kong, China",
          "India",
          "Indonesia",
          "Iran",
          "Iraq",
          "Israel",
          "Japan",
          "Jordan",
          "Korea, Dem. Rep.",
          "Korea, Rep.",
          "Kuwait",
          "Lebanon",
          "Malaysia",
          "Mongolia",
          "Myanmar",
          "Nepal",
          "Oman",
          "Pakistan",
          "Philippines",
          "Saudi Arabia",
          "Singapore",
          "Sri Lanka",
          "Syria",
          "Taiwan",
          "Thailand",
          "Vietnam",
          "West Bank and Gaza",
          "Yemen, Rep."
         ],
         "legendgroup": "Asia",
         "marker": {
          "color": "#636efa",
          "size": [
           31889923,
           708573,
           150448339,
           14131858,
           1318683096,
           6980412,
           1110396331,
           223547000,
           69453570,
           27499638,
           6426679,
           127467972,
           6053193,
           23301725,
           49044790,
           2505559,
           3921278,
           24821286,
           2874127,
           47761980,
           28901790,
           3204897,
           169270617,
           91077287,
           27601038,
           4553009,
           20378239,
           19314747,
           23174294,
           65068149,
           85262356,
           4018332,
           22211743
          ],
          "sizemode": "area",
          "sizeref": 366300.86,
          "symbol": "circle"
         },
         "mode": "markers",
         "name": "Asia",
         "orientation": "v",
         "showlegend": true,
         "type": "scatter",
         "x": [
          974.5803384,
          29796.048339999998,
          1391.253792,
          1713.7786859999999,
          4959.1148539999995,
          39724.97867,
          2452.210407,
          3540.6515640000002,
          11605.71449,
          4471.061906,
          25523.2771,
          31656.06806,
          4519.461171,
          1593.06548,
          23348.139730000003,
          47306.98978,
          10461.05868,
          12451.6558,
          3095.7722710000003,
          944,
          1091.359778,
          22316.19287,
          2605.94758,
          3190.481016,
          21654.83194,
          47143.179639999995,
          3970.0954070000003,
          4184.548089,
          28718.27684,
          7458.3963269999995,
          2441.576404,
          3025.349798,
          2280.769906
         ],
         "xaxis": "x",
         "y": [
          43.828,
          75.635,
          64.062,
          59.723,
          72.961,
          82.208,
          64.69800000000001,
          70.65,
          70.964,
          59.545,
          80.745,
          82.603,
          72.535,
          67.297,
          78.623,
          77.58800000000001,
          71.993,
          74.241,
          66.803,
          62.068999999999996,
          63.785,
          75.64,
          65.483,
          71.688,
          72.777,
          79.972,
          72.396,
          74.143,
          78.4,
          70.616,
          74.249,
          73.422,
          62.698
         ],
         "yaxis": "y"
        },
        {
         "hovertemplate": "<b>%{hovertext}</b><br><br>continent=Europe<br>gdpPercap=%{x}<br>lifeExp=%{y}<br>pop=%{marker.size}<extra></extra>",
         "hovertext": [
          "Albania",
          "Austria",
          "Belgium",
          "Bosnia and Herzegovina",
          "Bulgaria",
          "Croatia",
          "Czech Republic",
          "Denmark",
          "Finland",
          "France",
          "Germany",
          "Greece",
          "Hungary",
          "Iceland",
          "Ireland",
          "Italy",
          "Montenegro",
          "Netherlands",
          "Norway",
          "Poland",
          "Portugal",
          "Romania",
          "Serbia",
          "Slovak Republic",
          "Slovenia",
          "Spain",
          "Sweden",
          "Switzerland",
          "Turkey",
          "United Kingdom"
         ],
         "legendgroup": "Europe",
         "marker": {
          "color": "#EF553B",
          "size": [
           3600523,
           8199783,
           10392226,
           4552198,
           7322858,
           4493312,
           10228744,
           5468120,
           5238460,
           61083916,
           82400996,
           10706290,
           9956108,
           301931,
           4109086,
           58147733,
           684736,
           16570613,
           4627926,
           38518241,
           10642836,
           22276056,
           10150265,
           5447502,
           2009245,
           40448191,
           9031088,
           7554661,
           71158647,
           60776238
          ],
          "sizemode": "area",
          "sizeref": 366300.86,
          "symbol": "circle"
         },
         "mode": "markers",
         "name": "Europe",
         "orientation": "v",
         "showlegend": true,
         "type": "scatter",
         "x": [
          5937.029525999999,
          36126.4927,
          33692.60508,
          7446.298803,
          10680.79282,
          14619.222719999998,
          22833.30851,
          35278.41874,
          33207.0844,
          30470.0167,
          32170.37442,
          27538.41188,
          18008.94444,
          36180.789189999996,
          40675.99635,
          28569.7197,
          9253.896111,
          36797.93332,
          49357.19017,
          15389.924680000002,
          20509.64777,
          10808.47561,
          9786.534714,
          18678.31435,
          25768.25759,
          28821.0637,
          33859.74835,
          37506.419069999996,
          8458.276384,
          33203.26128
         ],
         "xaxis": "x",
         "y": [
          76.423,
          79.829,
          79.441,
          74.852,
          73.005,
          75.748,
          76.486,
          78.332,
          79.313,
          80.657,
          79.406,
          79.483,
          73.33800000000001,
          81.757,
          78.885,
          80.546,
          74.543,
          79.762,
          80.196,
          75.563,
          78.098,
          72.476,
          74.002,
          74.663,
          77.926,
          80.941,
          80.884,
          81.70100000000001,
          71.777,
          79.425
         ],
         "yaxis": "y"
        },
        {
         "hovertemplate": "<b>%{hovertext}</b><br><br>continent=Africa<br>gdpPercap=%{x}<br>lifeExp=%{y}<br>pop=%{marker.size}<extra></extra>",
         "hovertext": [
          "Algeria",
          "Angola",
          "Benin",
          "Botswana",
          "Burkina Faso",
          "Burundi",
          "Cameroon",
          "Central African Republic",
          "Chad",
          "Comoros",
          "Congo, Dem. Rep.",
          "Congo, Rep.",
          "Cote d'Ivoire",
          "Djibouti",
          "Egypt",
          "Equatorial Guinea",
          "Eritrea",
          "Ethiopia",
          "Gabon",
          "Gambia",
          "Ghana",
          "Guinea",
          "Guinea-Bissau",
          "Kenya",
          "Lesotho",
          "Liberia",
          "Libya",
          "Madagascar",
          "Malawi",
          "Mali",
          "Mauritania",
          "Mauritius",
          "Morocco",
          "Mozambique",
          "Namibia",
          "Niger",
          "Nigeria",
          "Reunion",
          "Rwanda",
          "Sao Tome and Principe",
          "Senegal",
          "Sierra Leone",
          "Somalia",
          "South Africa",
          "Sudan",
          "Swaziland",
          "Tanzania",
          "Togo",
          "Tunisia",
          "Uganda",
          "Zambia",
          "Zimbabwe"
         ],
         "legendgroup": "Africa",
         "marker": {
          "color": "#00cc96",
          "size": [
           33333216,
           12420476,
           8078314,
           1639131,
           14326203,
           8390505,
           17696293,
           4369038,
           10238807,
           710960,
           64606759,
           3800610,
           18013409,
           496374,
           80264543,
           551201,
           4906585,
           76511887,
           1454867,
           1688359,
           22873338,
           9947814,
           1472041,
           35610177,
           2012649,
           3193942,
           6036914,
           19167654,
           13327079,
           12031795,
           3270065,
           1250882,
           33757175,
           19951656,
           2055080,
           12894865,
           135031164,
           798094,
           8860588,
           199579,
           12267493,
           6144562,
           9118773,
           43997828,
           42292929,
           1133066,
           38139640,
           5701579,
           10276158,
           29170398,
           11746035,
           12311143
          ],
          "sizemode": "area",
          "sizeref": 366300.86,
          "symbol": "circle"
         },
         "mode": "markers",
         "name": "Africa",
         "orientation": "v",
         "showlegend": true,
         "type": "scatter",
         "x": [
          6223.367465,
          4797.231267,
          1441.284873,
          12569.851770000001,
          1217.032994,
          430.07069160000003,
          2042.0952399999999,
          706.016537,
          1704.0637239999999,
          986.1478792000001,
          277.55185869999997,
          3632.557798,
          1544.750112,
          2082.4815670000003,
          5581.180998,
          12154.08975,
          641.3695236000001,
          690.8055759,
          13206.48452,
          752.7497265,
          1327.60891,
          942.6542111,
          579.2317429999999,
          1463.249282,
          1569.331442,
          414.5073415,
          12057.49928,
          1044.770126,
          759.3499101,
          1042.581557,
          1803.1514960000002,
          10956.99112,
          3820.17523,
          823.6856205,
          4811.060429,
          619.6768923999999,
          2013.9773050000001,
          7670.122558,
          863.0884639000001,
          1598.435089,
          1712.4721359999999,
          862.5407561000001,
          926.1410683,
          9269.657808,
          2602.394995,
          4513.480643,
          1107.482182,
          882.9699437999999,
          7092.923025,
          1056.3801210000001,
          1271.211593,
          469.70929810000007
         ],
         "xaxis": "x",
         "y": [
          72.301,
          42.731,
          56.728,
          50.728,
          52.295,
          49.58,
          50.43,
          44.74100000000001,
          50.651,
          65.152,
          46.461999999999996,
          55.321999999999996,
          48.328,
          54.791000000000004,
          71.33800000000001,
          51.57899999999999,
          58.04,
          52.946999999999996,
          56.735,
          59.448,
          60.022,
          56.007,
          46.388000000000005,
          54.11,
          42.592,
          45.678000000000004,
          73.952,
          59.443000000000005,
          48.303000000000004,
          54.467,
          64.164,
          72.801,
          71.164,
          42.082,
          52.906000000000006,
          56.867,
          46.858999999999995,
          76.442,
          46.242,
          65.528,
          63.062,
          42.568000000000005,
          48.159,
          49.339,
          58.556000000000004,
          39.613,
          52.516999999999996,
          58.42,
          73.923,
          51.542,
          42.38399999999999,
          43.486999999999995
         ],
         "yaxis": "y"
        },
        {
         "hovertemplate": "<b>%{hovertext}</b><br><br>continent=Americas<br>gdpPercap=%{x}<br>lifeExp=%{y}<br>pop=%{marker.size}<extra></extra>",
         "hovertext": [
          "Argentina",
          "Bolivia",
          "Brazil",
          "Canada",
          "Chile",
          "Colombia",
          "Costa Rica",
          "Cuba",
          "Dominican Republic",
          "Ecuador",
          "El Salvador",
          "Guatemala",
          "Haiti",
          "Honduras",
          "Jamaica",
          "Mexico",
          "Nicaragua",
          "Panama",
          "Paraguay",
          "Peru",
          "Puerto Rico",
          "Trinidad and Tobago",
          "United States",
          "Uruguay",
          "Venezuela"
         ],
         "legendgroup": "Americas",
         "marker": {
          "color": "#ab63fa",
          "size": [
           40301927,
           9119152,
           190010647,
           33390141,
           16284741,
           44227550,
           4133884,
           11416987,
           9319622,
           13755680,
           6939688,
           12572928,
           8502814,
           7483763,
           2780132,
           108700891,
           5675356,
           3242173,
           6667147,
           28674757,
           3942491,
           1056608,
           301139947,
           3447496,
           26084662
          ],
          "sizemode": "area",
          "sizeref": 366300.86,
          "symbol": "circle"
         },
         "mode": "markers",
         "name": "Americas",
         "orientation": "v",
         "showlegend": true,
         "type": "scatter",
         "x": [
          12779.379640000001,
          3822.1370840000004,
          9065.800825,
          36319.235010000004,
          13171.63885,
          7006.580419,
          9645.06142,
          8948.102923,
          6025.374752000001,
          6873.262326000001,
          5728.353514,
          5186.050003,
          1201.637154,
          3548.3308460000003,
          7320.880262000001,
          11977.57496,
          2749.320965,
          9809.185636,
          4172.838464,
          7408.905561,
          19328.70901,
          18008.50924,
          42951.65309,
          10611.46299,
          11415.805690000001
         ],
         "xaxis": "x",
         "y": [
          75.32,
          65.554,
          72.39,
          80.653,
          78.553,
          72.889,
          78.782,
          78.273,
          72.235,
          74.994,
          71.878,
          70.259,
          60.916000000000004,
          70.19800000000001,
          72.567,
          76.195,
          72.899,
          75.53699999999999,
          71.752,
          71.421,
          78.74600000000001,
          69.819,
          78.242,
          76.384,
          73.747
         ],
         "yaxis": "y"
        },
        {
         "hovertemplate": "<b>%{hovertext}</b><br><br>continent=Oceania<br>gdpPercap=%{x}<br>lifeExp=%{y}<br>pop=%{marker.size}<extra></extra>",
         "hovertext": [
          "Australia",
          "New Zealand"
         ],
         "legendgroup": "Oceania",
         "marker": {
          "color": "#FFA15A",
          "size": [
           20434176,
           4115771
          ],
          "sizemode": "area",
          "sizeref": 366300.86,
          "symbol": "circle"
         },
         "mode": "markers",
         "name": "Oceania",
         "orientation": "v",
         "showlegend": true,
         "type": "scatter",
         "x": [
          34435.367439999995,
          25185.00911
         ],
         "xaxis": "x",
         "y": [
          81.235,
          80.204
         ],
         "yaxis": "y"
        }
       ],
       "layout": {
        "legend": {
         "itemsizing": "constant",
         "title": {
          "text": "continent"
         },
         "tracegroupgap": 0
        },
        "margin": {
         "t": 60
        },
        "template": {
         "data": {
          "bar": [
           {
            "error_x": {
             "color": "#2a3f5f"
            },
            "error_y": {
             "color": "#2a3f5f"
            },
            "marker": {
             "line": {
              "color": "#E5ECF6",
              "width": 0.5
             }
            },
            "type": "bar"
           }
          ],
          "barpolar": [
           {
            "marker": {
             "line": {
              "color": "#E5ECF6",
              "width": 0.5
             }
            },
            "type": "barpolar"
           }
          ],
          "carpet": [
           {
            "aaxis": {
             "endlinecolor": "#2a3f5f",
             "gridcolor": "white",
             "linecolor": "white",
             "minorgridcolor": "white",
             "startlinecolor": "#2a3f5f"
            },
            "baxis": {
             "endlinecolor": "#2a3f5f",
             "gridcolor": "white",
             "linecolor": "white",
             "minorgridcolor": "white",
             "startlinecolor": "#2a3f5f"
            },
            "type": "carpet"
           }
          ],
          "choropleth": [
           {
            "colorbar": {
             "outlinewidth": 0,
             "ticks": ""
            },
            "type": "choropleth"
           }
          ],
          "contour": [
           {
            "colorbar": {
             "outlinewidth": 0,
             "ticks": ""
            },
            "colorscale": [
             [
              0,
              "#0d0887"
             ],
             [
              0.1111111111111111,
              "#46039f"
             ],
             [
              0.2222222222222222,
              "#7201a8"
             ],
             [
              0.3333333333333333,
              "#9c179e"
             ],
             [
              0.4444444444444444,
              "#bd3786"
             ],
             [
              0.5555555555555556,
              "#d8576b"
             ],
             [
              0.6666666666666666,
              "#ed7953"
             ],
             [
              0.7777777777777778,
              "#fb9f3a"
             ],
             [
              0.8888888888888888,
              "#fdca26"
             ],
             [
              1,
              "#f0f921"
             ]
            ],
            "type": "contour"
           }
          ],
          "contourcarpet": [
           {
            "colorbar": {
             "outlinewidth": 0,
             "ticks": ""
            },
            "type": "contourcarpet"
           }
          ],
          "heatmap": [
           {
            "colorbar": {
             "outlinewidth": 0,
             "ticks": ""
            },
            "colorscale": [
             [
              0,
              "#0d0887"
             ],
             [
              0.1111111111111111,
              "#46039f"
             ],
             [
              0.2222222222222222,
              "#7201a8"
             ],
             [
              0.3333333333333333,
              "#9c179e"
             ],
             [
              0.4444444444444444,
              "#bd3786"
             ],
             [
              0.5555555555555556,
              "#d8576b"
             ],
             [
              0.6666666666666666,
              "#ed7953"
             ],
             [
              0.7777777777777778,
              "#fb9f3a"
             ],
             [
              0.8888888888888888,
              "#fdca26"
             ],
             [
              1,
              "#f0f921"
             ]
            ],
            "type": "heatmap"
           }
          ],
          "heatmapgl": [
           {
            "colorbar": {
             "outlinewidth": 0,
             "ticks": ""
            },
            "colorscale": [
             [
              0,
              "#0d0887"
             ],
             [
              0.1111111111111111,
              "#46039f"
             ],
             [
              0.2222222222222222,
              "#7201a8"
             ],
             [
              0.3333333333333333,
              "#9c179e"
             ],
             [
              0.4444444444444444,
              "#bd3786"
             ],
             [
              0.5555555555555556,
              "#d8576b"
             ],
             [
              0.6666666666666666,
              "#ed7953"
             ],
             [
              0.7777777777777778,
              "#fb9f3a"
             ],
             [
              0.8888888888888888,
              "#fdca26"
             ],
             [
              1,
              "#f0f921"
             ]
            ],
            "type": "heatmapgl"
           }
          ],
          "histogram": [
           {
            "marker": {
             "colorbar": {
              "outlinewidth": 0,
              "ticks": ""
             }
            },
            "type": "histogram"
           }
          ],
          "histogram2d": [
           {
            "colorbar": {
             "outlinewidth": 0,
             "ticks": ""
            },
            "colorscale": [
             [
              0,
              "#0d0887"
             ],
             [
              0.1111111111111111,
              "#46039f"
             ],
             [
              0.2222222222222222,
              "#7201a8"
             ],
             [
              0.3333333333333333,
              "#9c179e"
             ],
             [
              0.4444444444444444,
              "#bd3786"
             ],
             [
              0.5555555555555556,
              "#d8576b"
             ],
             [
              0.6666666666666666,
              "#ed7953"
             ],
             [
              0.7777777777777778,
              "#fb9f3a"
             ],
             [
              0.8888888888888888,
              "#fdca26"
             ],
             [
              1,
              "#f0f921"
             ]
            ],
            "type": "histogram2d"
           }
          ],
          "histogram2dcontour": [
           {
            "colorbar": {
             "outlinewidth": 0,
             "ticks": ""
            },
            "colorscale": [
             [
              0,
              "#0d0887"
             ],
             [
              0.1111111111111111,
              "#46039f"
             ],
             [
              0.2222222222222222,
              "#7201a8"
             ],
             [
              0.3333333333333333,
              "#9c179e"
             ],
             [
              0.4444444444444444,
              "#bd3786"
             ],
             [
              0.5555555555555556,
              "#d8576b"
             ],
             [
              0.6666666666666666,
              "#ed7953"
             ],
             [
              0.7777777777777778,
              "#fb9f3a"
             ],
             [
              0.8888888888888888,
              "#fdca26"
             ],
             [
              1,
              "#f0f921"
             ]
            ],
            "type": "histogram2dcontour"
           }
          ],
          "mesh3d": [
           {
            "colorbar": {
             "outlinewidth": 0,
             "ticks": ""
            },
            "type": "mesh3d"
           }
          ],
          "parcoords": [
           {
            "line": {
             "colorbar": {
              "outlinewidth": 0,
              "ticks": ""
             }
            },
            "type": "parcoords"
           }
          ],
          "pie": [
           {
            "automargin": true,
            "type": "pie"
           }
          ],
          "scatter": [
           {
            "marker": {
             "colorbar": {
              "outlinewidth": 0,
              "ticks": ""
             }
            },
            "type": "scatter"
           }
          ],
          "scatter3d": [
           {
            "line": {
             "colorbar": {
              "outlinewidth": 0,
              "ticks": ""
             }
            },
            "marker": {
             "colorbar": {
              "outlinewidth": 0,
              "ticks": ""
             }
            },
            "type": "scatter3d"
           }
          ],
          "scattercarpet": [
           {
            "marker": {
             "colorbar": {
              "outlinewidth": 0,
              "ticks": ""
             }
            },
            "type": "scattercarpet"
           }
          ],
          "scattergeo": [
           {
            "marker": {
             "colorbar": {
              "outlinewidth": 0,
              "ticks": ""
             }
            },
            "type": "scattergeo"
           }
          ],
          "scattergl": [
           {
            "marker": {
             "colorbar": {
              "outlinewidth": 0,
              "ticks": ""
             }
            },
            "type": "scattergl"
           }
          ],
          "scattermapbox": [
           {
            "marker": {
             "colorbar": {
              "outlinewidth": 0,
              "ticks": ""
             }
            },
            "type": "scattermapbox"
           }
          ],
          "scatterpolar": [
           {
            "marker": {
             "colorbar": {
              "outlinewidth": 0,
              "ticks": ""
             }
            },
            "type": "scatterpolar"
           }
          ],
          "scatterpolargl": [
           {
            "marker": {
             "colorbar": {
              "outlinewidth": 0,
              "ticks": ""
             }
            },
            "type": "scatterpolargl"
           }
          ],
          "scatterternary": [
           {
            "marker": {
             "colorbar": {
              "outlinewidth": 0,
              "ticks": ""
             }
            },
            "type": "scatterternary"
           }
          ],
          "surface": [
           {
            "colorbar": {
             "outlinewidth": 0,
             "ticks": ""
            },
            "colorscale": [
             [
              0,
              "#0d0887"
             ],
             [
              0.1111111111111111,
              "#46039f"
             ],
             [
              0.2222222222222222,
              "#7201a8"
             ],
             [
              0.3333333333333333,
              "#9c179e"
             ],
             [
              0.4444444444444444,
              "#bd3786"
             ],
             [
              0.5555555555555556,
              "#d8576b"
             ],
             [
              0.6666666666666666,
              "#ed7953"
             ],
             [
              0.7777777777777778,
              "#fb9f3a"
             ],
             [
              0.8888888888888888,
              "#fdca26"
             ],
             [
              1,
              "#f0f921"
             ]
            ],
            "type": "surface"
           }
          ],
          "table": [
           {
            "cells": {
             "fill": {
              "color": "#EBF0F8"
             },
             "line": {
              "color": "white"
             }
            },
            "header": {
             "fill": {
              "color": "#C8D4E3"
             },
             "line": {
              "color": "white"
             }
            },
            "type": "table"
           }
          ]
         },
         "layout": {
          "annotationdefaults": {
           "arrowcolor": "#2a3f5f",
           "arrowhead": 0,
           "arrowwidth": 1
          },
          "autotypenumbers": "strict",
          "coloraxis": {
           "colorbar": {
            "outlinewidth": 0,
            "ticks": ""
           }
          },
          "colorscale": {
           "diverging": [
            [
             0,
             "#8e0152"
            ],
            [
             0.1,
             "#c51b7d"
            ],
            [
             0.2,
             "#de77ae"
            ],
            [
             0.3,
             "#f1b6da"
            ],
            [
             0.4,
             "#fde0ef"
            ],
            [
             0.5,
             "#f7f7f7"
            ],
            [
             0.6,
             "#e6f5d0"
            ],
            [
             0.7,
             "#b8e186"
            ],
            [
             0.8,
             "#7fbc41"
            ],
            [
             0.9,
             "#4d9221"
            ],
            [
             1,
             "#276419"
            ]
           ],
           "sequential": [
            [
             0,
             "#0d0887"
            ],
            [
             0.1111111111111111,
             "#46039f"
            ],
            [
             0.2222222222222222,
             "#7201a8"
            ],
            [
             0.3333333333333333,
             "#9c179e"
            ],
            [
             0.4444444444444444,
             "#bd3786"
            ],
            [
             0.5555555555555556,
             "#d8576b"
            ],
            [
             0.6666666666666666,
             "#ed7953"
            ],
            [
             0.7777777777777778,
             "#fb9f3a"
            ],
            [
             0.8888888888888888,
             "#fdca26"
            ],
            [
             1,
             "#f0f921"
            ]
           ],
           "sequentialminus": [
            [
             0,
             "#0d0887"
            ],
            [
             0.1111111111111111,
             "#46039f"
            ],
            [
             0.2222222222222222,
             "#7201a8"
            ],
            [
             0.3333333333333333,
             "#9c179e"
            ],
            [
             0.4444444444444444,
             "#bd3786"
            ],
            [
             0.5555555555555556,
             "#d8576b"
            ],
            [
             0.6666666666666666,
             "#ed7953"
            ],
            [
             0.7777777777777778,
             "#fb9f3a"
            ],
            [
             0.8888888888888888,
             "#fdca26"
            ],
            [
             1,
             "#f0f921"
            ]
           ]
          },
          "colorway": [
           "#636efa",
           "#EF553B",
           "#00cc96",
           "#ab63fa",
           "#FFA15A",
           "#19d3f3",
           "#FF6692",
           "#B6E880",
           "#FF97FF",
           "#FECB52"
          ],
          "font": {
           "color": "#2a3f5f"
          },
          "geo": {
           "bgcolor": "white",
           "lakecolor": "white",
           "landcolor": "#E5ECF6",
           "showlakes": true,
           "showland": true,
           "subunitcolor": "white"
          },
          "hoverlabel": {
           "align": "left"
          },
          "hovermode": "closest",
          "mapbox": {
           "style": "light"
          },
          "paper_bgcolor": "white",
          "plot_bgcolor": "#E5ECF6",
          "polar": {
           "angularaxis": {
            "gridcolor": "white",
            "linecolor": "white",
            "ticks": ""
           },
           "bgcolor": "#E5ECF6",
           "radialaxis": {
            "gridcolor": "white",
            "linecolor": "white",
            "ticks": ""
           }
          },
          "scene": {
           "xaxis": {
            "backgroundcolor": "#E5ECF6",
            "gridcolor": "white",
            "gridwidth": 2,
            "linecolor": "white",
            "showbackground": true,
            "ticks": "",
            "zerolinecolor": "white"
           },
           "yaxis": {
            "backgroundcolor": "#E5ECF6",
            "gridcolor": "white",
            "gridwidth": 2,
            "linecolor": "white",
            "showbackground": true,
            "ticks": "",
            "zerolinecolor": "white"
           },
           "zaxis": {
            "backgroundcolor": "#E5ECF6",
            "gridcolor": "white",
            "gridwidth": 2,
            "linecolor": "white",
            "showbackground": true,
            "ticks": "",
            "zerolinecolor": "white"
           }
          },
          "shapedefaults": {
           "line": {
            "color": "#2a3f5f"
           }
          },
          "ternary": {
           "aaxis": {
            "gridcolor": "white",
            "linecolor": "white",
            "ticks": ""
           },
           "baxis": {
            "gridcolor": "white",
            "linecolor": "white",
            "ticks": ""
           },
           "bgcolor": "#E5ECF6",
           "caxis": {
            "gridcolor": "white",
            "linecolor": "white",
            "ticks": ""
           }
          },
          "title": {
           "x": 0.05
          },
          "xaxis": {
           "automargin": true,
           "gridcolor": "white",
           "linecolor": "white",
           "ticks": "",
           "title": {
            "standoff": 15
           },
           "zerolinecolor": "white",
           "zerolinewidth": 2
          },
          "yaxis": {
           "automargin": true,
           "gridcolor": "white",
           "linecolor": "white",
           "ticks": "",
           "title": {
            "standoff": 15
           },
           "zerolinecolor": "white",
           "zerolinewidth": 2
          }
         }
        },
        "xaxis": {
         "anchor": "y",
         "domain": [
          0,
          1
         ],
         "title": {
          "text": "gdpPercap"
         },
         "type": "log"
        },
        "yaxis": {
         "anchor": "x",
         "domain": [
          0,
          1
         ],
         "title": {
          "text": "lifeExp"
         }
        }
       }
      },
      "text/html": [
       "<div>                            <div id=\"9e644415-e873-4587-9c7a-a6eec6daeed6\" class=\"plotly-graph-div\" style=\"height:525px; width:100%;\"></div>            <script type=\"text/javascript\">                require([\"plotly\"], function(Plotly) {                    window.PLOTLYENV=window.PLOTLYENV || {};                                    if (document.getElementById(\"9e644415-e873-4587-9c7a-a6eec6daeed6\")) {                    Plotly.newPlot(                        \"9e644415-e873-4587-9c7a-a6eec6daeed6\",                        [{\"hovertemplate\": \"<b>%{hovertext}</b><br><br>continent=Asia<br>gdpPercap=%{x}<br>lifeExp=%{y}<br>pop=%{marker.size}<extra></extra>\", \"hovertext\": [\"Afghanistan\", \"Bahrain\", \"Bangladesh\", \"Cambodia\", \"China\", \"Hong Kong, China\", \"India\", \"Indonesia\", \"Iran\", \"Iraq\", \"Israel\", \"Japan\", \"Jordan\", \"Korea, Dem. Rep.\", \"Korea, Rep.\", \"Kuwait\", \"Lebanon\", \"Malaysia\", \"Mongolia\", \"Myanmar\", \"Nepal\", \"Oman\", \"Pakistan\", \"Philippines\", \"Saudi Arabia\", \"Singapore\", \"Sri Lanka\", \"Syria\", \"Taiwan\", \"Thailand\", \"Vietnam\", \"West Bank and Gaza\", \"Yemen, Rep.\"], \"legendgroup\": \"Asia\", \"marker\": {\"color\": \"#636efa\", \"size\": [31889923, 708573, 150448339, 14131858, 1318683096, 6980412, 1110396331, 223547000, 69453570, 27499638, 6426679, 127467972, 6053193, 23301725, 49044790, 2505559, 3921278, 24821286, 2874127, 47761980, 28901790, 3204897, 169270617, 91077287, 27601038, 4553009, 20378239, 19314747, 23174294, 65068149, 85262356, 4018332, 22211743], \"sizemode\": \"area\", \"sizeref\": 366300.86, \"symbol\": \"circle\"}, \"mode\": \"markers\", \"name\": \"Asia\", \"orientation\": \"v\", \"showlegend\": true, \"type\": \"scatter\", \"x\": [974.5803384, 29796.048339999998, 1391.253792, 1713.7786859999999, 4959.1148539999995, 39724.97867, 2452.210407, 3540.6515640000002, 11605.71449, 4471.061906, 25523.2771, 31656.06806, 4519.461171, 1593.06548, 23348.139730000003, 47306.98978, 10461.05868, 12451.6558, 3095.7722710000003, 944.0, 1091.359778, 22316.19287, 2605.94758, 3190.481016, 21654.83194, 47143.179639999995, 3970.0954070000003, 4184.548089, 28718.27684, 7458.3963269999995, 2441.576404, 3025.349798, 2280.769906], \"xaxis\": \"x\", \"y\": [43.828, 75.635, 64.062, 59.723, 72.961, 82.208, 64.69800000000001, 70.65, 70.964, 59.545, 80.745, 82.603, 72.535, 67.297, 78.623, 77.58800000000001, 71.993, 74.241, 66.803, 62.068999999999996, 63.785, 75.64, 65.483, 71.688, 72.777, 79.972, 72.396, 74.143, 78.4, 70.616, 74.249, 73.422, 62.698], \"yaxis\": \"y\"}, {\"hovertemplate\": \"<b>%{hovertext}</b><br><br>continent=Europe<br>gdpPercap=%{x}<br>lifeExp=%{y}<br>pop=%{marker.size}<extra></extra>\", \"hovertext\": [\"Albania\", \"Austria\", \"Belgium\", \"Bosnia and Herzegovina\", \"Bulgaria\", \"Croatia\", \"Czech Republic\", \"Denmark\", \"Finland\", \"France\", \"Germany\", \"Greece\", \"Hungary\", \"Iceland\", \"Ireland\", \"Italy\", \"Montenegro\", \"Netherlands\", \"Norway\", \"Poland\", \"Portugal\", \"Romania\", \"Serbia\", \"Slovak Republic\", \"Slovenia\", \"Spain\", \"Sweden\", \"Switzerland\", \"Turkey\", \"United Kingdom\"], \"legendgroup\": \"Europe\", \"marker\": {\"color\": \"#EF553B\", \"size\": [3600523, 8199783, 10392226, 4552198, 7322858, 4493312, 10228744, 5468120, 5238460, 61083916, 82400996, 10706290, 9956108, 301931, 4109086, 58147733, 684736, 16570613, 4627926, 38518241, 10642836, 22276056, 10150265, 5447502, 2009245, 40448191, 9031088, 7554661, 71158647, 60776238], \"sizemode\": \"area\", \"sizeref\": 366300.86, \"symbol\": \"circle\"}, \"mode\": \"markers\", \"name\": \"Europe\", \"orientation\": \"v\", \"showlegend\": true, \"type\": \"scatter\", \"x\": [5937.029525999999, 36126.4927, 33692.60508, 7446.298803, 10680.79282, 14619.222719999998, 22833.30851, 35278.41874, 33207.0844, 30470.0167, 32170.37442, 27538.41188, 18008.94444, 36180.789189999996, 40675.99635, 28569.7197, 9253.896111, 36797.93332, 49357.19017, 15389.924680000002, 20509.64777, 10808.47561, 9786.534714, 18678.31435, 25768.25759, 28821.0637, 33859.74835, 37506.419069999996, 8458.276384, 33203.26128], \"xaxis\": \"x\", \"y\": [76.423, 79.829, 79.441, 74.852, 73.005, 75.748, 76.486, 78.332, 79.313, 80.657, 79.406, 79.483, 73.33800000000001, 81.757, 78.885, 80.546, 74.543, 79.762, 80.196, 75.563, 78.098, 72.476, 74.002, 74.663, 77.926, 80.941, 80.884, 81.70100000000001, 71.777, 79.425], \"yaxis\": \"y\"}, {\"hovertemplate\": \"<b>%{hovertext}</b><br><br>continent=Africa<br>gdpPercap=%{x}<br>lifeExp=%{y}<br>pop=%{marker.size}<extra></extra>\", \"hovertext\": [\"Algeria\", \"Angola\", \"Benin\", \"Botswana\", \"Burkina Faso\", \"Burundi\", \"Cameroon\", \"Central African Republic\", \"Chad\", \"Comoros\", \"Congo, Dem. Rep.\", \"Congo, Rep.\", \"Cote d'Ivoire\", \"Djibouti\", \"Egypt\", \"Equatorial Guinea\", \"Eritrea\", \"Ethiopia\", \"Gabon\", \"Gambia\", \"Ghana\", \"Guinea\", \"Guinea-Bissau\", \"Kenya\", \"Lesotho\", \"Liberia\", \"Libya\", \"Madagascar\", \"Malawi\", \"Mali\", \"Mauritania\", \"Mauritius\", \"Morocco\", \"Mozambique\", \"Namibia\", \"Niger\", \"Nigeria\", \"Reunion\", \"Rwanda\", \"Sao Tome and Principe\", \"Senegal\", \"Sierra Leone\", \"Somalia\", \"South Africa\", \"Sudan\", \"Swaziland\", \"Tanzania\", \"Togo\", \"Tunisia\", \"Uganda\", \"Zambia\", \"Zimbabwe\"], \"legendgroup\": \"Africa\", \"marker\": {\"color\": \"#00cc96\", \"size\": [33333216, 12420476, 8078314, 1639131, 14326203, 8390505, 17696293, 4369038, 10238807, 710960, 64606759, 3800610, 18013409, 496374, 80264543, 551201, 4906585, 76511887, 1454867, 1688359, 22873338, 9947814, 1472041, 35610177, 2012649, 3193942, 6036914, 19167654, 13327079, 12031795, 3270065, 1250882, 33757175, 19951656, 2055080, 12894865, 135031164, 798094, 8860588, 199579, 12267493, 6144562, 9118773, 43997828, 42292929, 1133066, 38139640, 5701579, 10276158, 29170398, 11746035, 12311143], \"sizemode\": \"area\", \"sizeref\": 366300.86, \"symbol\": \"circle\"}, \"mode\": \"markers\", \"name\": \"Africa\", \"orientation\": \"v\", \"showlegend\": true, \"type\": \"scatter\", \"x\": [6223.367465, 4797.231267, 1441.284873, 12569.851770000001, 1217.032994, 430.07069160000003, 2042.0952399999999, 706.016537, 1704.0637239999999, 986.1478792000001, 277.55185869999997, 3632.557798, 1544.750112, 2082.4815670000003, 5581.180998, 12154.08975, 641.3695236000001, 690.8055759, 13206.48452, 752.7497265, 1327.60891, 942.6542111, 579.2317429999999, 1463.249282, 1569.331442, 414.5073415, 12057.49928, 1044.770126, 759.3499101, 1042.581557, 1803.1514960000002, 10956.99112, 3820.17523, 823.6856205, 4811.060429, 619.6768923999999, 2013.9773050000001, 7670.122558, 863.0884639000001, 1598.435089, 1712.4721359999999, 862.5407561000001, 926.1410683, 9269.657808, 2602.394995, 4513.480643, 1107.482182, 882.9699437999999, 7092.923025, 1056.3801210000001, 1271.211593, 469.70929810000007], \"xaxis\": \"x\", \"y\": [72.301, 42.731, 56.728, 50.728, 52.295, 49.58, 50.43, 44.74100000000001, 50.651, 65.152, 46.461999999999996, 55.321999999999996, 48.328, 54.791000000000004, 71.33800000000001, 51.57899999999999, 58.04, 52.946999999999996, 56.735, 59.448, 60.022, 56.007, 46.388000000000005, 54.11, 42.592, 45.678000000000004, 73.952, 59.443000000000005, 48.303000000000004, 54.467, 64.164, 72.801, 71.164, 42.082, 52.906000000000006, 56.867, 46.858999999999995, 76.442, 46.242, 65.528, 63.062, 42.568000000000005, 48.159, 49.339, 58.556000000000004, 39.613, 52.516999999999996, 58.42, 73.923, 51.542, 42.38399999999999, 43.486999999999995], \"yaxis\": \"y\"}, {\"hovertemplate\": \"<b>%{hovertext}</b><br><br>continent=Americas<br>gdpPercap=%{x}<br>lifeExp=%{y}<br>pop=%{marker.size}<extra></extra>\", \"hovertext\": [\"Argentina\", \"Bolivia\", \"Brazil\", \"Canada\", \"Chile\", \"Colombia\", \"Costa Rica\", \"Cuba\", \"Dominican Republic\", \"Ecuador\", \"El Salvador\", \"Guatemala\", \"Haiti\", \"Honduras\", \"Jamaica\", \"Mexico\", \"Nicaragua\", \"Panama\", \"Paraguay\", \"Peru\", \"Puerto Rico\", \"Trinidad and Tobago\", \"United States\", \"Uruguay\", \"Venezuela\"], \"legendgroup\": \"Americas\", \"marker\": {\"color\": \"#ab63fa\", \"size\": [40301927, 9119152, 190010647, 33390141, 16284741, 44227550, 4133884, 11416987, 9319622, 13755680, 6939688, 12572928, 8502814, 7483763, 2780132, 108700891, 5675356, 3242173, 6667147, 28674757, 3942491, 1056608, 301139947, 3447496, 26084662], \"sizemode\": \"area\", \"sizeref\": 366300.86, \"symbol\": \"circle\"}, \"mode\": \"markers\", \"name\": \"Americas\", \"orientation\": \"v\", \"showlegend\": true, \"type\": \"scatter\", \"x\": [12779.379640000001, 3822.1370840000004, 9065.800825, 36319.235010000004, 13171.63885, 7006.580419, 9645.06142, 8948.102923, 6025.374752000001, 6873.262326000001, 5728.353514, 5186.050003, 1201.637154, 3548.3308460000003, 7320.880262000001, 11977.57496, 2749.320965, 9809.185636, 4172.838464, 7408.905561, 19328.70901, 18008.50924, 42951.65309, 10611.46299, 11415.805690000001], \"xaxis\": \"x\", \"y\": [75.32, 65.554, 72.39, 80.653, 78.553, 72.889, 78.782, 78.273, 72.235, 74.994, 71.878, 70.259, 60.916000000000004, 70.19800000000001, 72.567, 76.195, 72.899, 75.53699999999999, 71.752, 71.421, 78.74600000000001, 69.819, 78.242, 76.384, 73.747], \"yaxis\": \"y\"}, {\"hovertemplate\": \"<b>%{hovertext}</b><br><br>continent=Oceania<br>gdpPercap=%{x}<br>lifeExp=%{y}<br>pop=%{marker.size}<extra></extra>\", \"hovertext\": [\"Australia\", \"New Zealand\"], \"legendgroup\": \"Oceania\", \"marker\": {\"color\": \"#FFA15A\", \"size\": [20434176, 4115771], \"sizemode\": \"area\", \"sizeref\": 366300.86, \"symbol\": \"circle\"}, \"mode\": \"markers\", \"name\": \"Oceania\", \"orientation\": \"v\", \"showlegend\": true, \"type\": \"scatter\", \"x\": [34435.367439999995, 25185.00911], \"xaxis\": \"x\", \"y\": [81.235, 80.204], \"yaxis\": \"y\"}],                        {\"legend\": {\"itemsizing\": \"constant\", \"title\": {\"text\": \"continent\"}, \"tracegroupgap\": 0}, \"margin\": {\"t\": 60}, \"template\": {\"data\": {\"bar\": [{\"error_x\": {\"color\": \"#2a3f5f\"}, \"error_y\": {\"color\": \"#2a3f5f\"}, \"marker\": {\"line\": {\"color\": \"#E5ECF6\", \"width\": 0.5}}, \"type\": \"bar\"}], \"barpolar\": [{\"marker\": {\"line\": {\"color\": \"#E5ECF6\", \"width\": 0.5}}, \"type\": \"barpolar\"}], \"carpet\": [{\"aaxis\": {\"endlinecolor\": \"#2a3f5f\", \"gridcolor\": \"white\", \"linecolor\": \"white\", \"minorgridcolor\": \"white\", \"startlinecolor\": \"#2a3f5f\"}, \"baxis\": {\"endlinecolor\": \"#2a3f5f\", \"gridcolor\": \"white\", \"linecolor\": \"white\", \"minorgridcolor\": \"white\", \"startlinecolor\": \"#2a3f5f\"}, \"type\": \"carpet\"}], \"choropleth\": [{\"colorbar\": {\"outlinewidth\": 0, \"ticks\": \"\"}, \"type\": \"choropleth\"}], \"contour\": [{\"colorbar\": {\"outlinewidth\": 0, \"ticks\": \"\"}, \"colorscale\": [[0.0, \"#0d0887\"], [0.1111111111111111, \"#46039f\"], [0.2222222222222222, \"#7201a8\"], [0.3333333333333333, \"#9c179e\"], [0.4444444444444444, \"#bd3786\"], [0.5555555555555556, \"#d8576b\"], [0.6666666666666666, \"#ed7953\"], [0.7777777777777778, \"#fb9f3a\"], [0.8888888888888888, \"#fdca26\"], [1.0, \"#f0f921\"]], \"type\": \"contour\"}], \"contourcarpet\": [{\"colorbar\": {\"outlinewidth\": 0, \"ticks\": \"\"}, \"type\": \"contourcarpet\"}], \"heatmap\": [{\"colorbar\": {\"outlinewidth\": 0, \"ticks\": \"\"}, \"colorscale\": [[0.0, \"#0d0887\"], [0.1111111111111111, \"#46039f\"], [0.2222222222222222, \"#7201a8\"], [0.3333333333333333, \"#9c179e\"], [0.4444444444444444, \"#bd3786\"], [0.5555555555555556, \"#d8576b\"], [0.6666666666666666, \"#ed7953\"], [0.7777777777777778, \"#fb9f3a\"], [0.8888888888888888, \"#fdca26\"], [1.0, \"#f0f921\"]], \"type\": \"heatmap\"}], \"heatmapgl\": [{\"colorbar\": {\"outlinewidth\": 0, \"ticks\": \"\"}, \"colorscale\": [[0.0, \"#0d0887\"], [0.1111111111111111, \"#46039f\"], [0.2222222222222222, \"#7201a8\"], [0.3333333333333333, \"#9c179e\"], [0.4444444444444444, \"#bd3786\"], [0.5555555555555556, \"#d8576b\"], [0.6666666666666666, \"#ed7953\"], [0.7777777777777778, \"#fb9f3a\"], [0.8888888888888888, \"#fdca26\"], [1.0, \"#f0f921\"]], \"type\": \"heatmapgl\"}], \"histogram\": [{\"marker\": {\"colorbar\": {\"outlinewidth\": 0, \"ticks\": \"\"}}, \"type\": \"histogram\"}], \"histogram2d\": [{\"colorbar\": {\"outlinewidth\": 0, \"ticks\": \"\"}, \"colorscale\": [[0.0, \"#0d0887\"], [0.1111111111111111, \"#46039f\"], [0.2222222222222222, \"#7201a8\"], [0.3333333333333333, \"#9c179e\"], [0.4444444444444444, \"#bd3786\"], [0.5555555555555556, \"#d8576b\"], [0.6666666666666666, \"#ed7953\"], [0.7777777777777778, \"#fb9f3a\"], [0.8888888888888888, \"#fdca26\"], [1.0, \"#f0f921\"]], \"type\": \"histogram2d\"}], \"histogram2dcontour\": [{\"colorbar\": {\"outlinewidth\": 0, \"ticks\": \"\"}, \"colorscale\": [[0.0, \"#0d0887\"], [0.1111111111111111, \"#46039f\"], [0.2222222222222222, \"#7201a8\"], [0.3333333333333333, \"#9c179e\"], [0.4444444444444444, \"#bd3786\"], [0.5555555555555556, \"#d8576b\"], [0.6666666666666666, \"#ed7953\"], [0.7777777777777778, \"#fb9f3a\"], [0.8888888888888888, \"#fdca26\"], [1.0, \"#f0f921\"]], \"type\": \"histogram2dcontour\"}], \"mesh3d\": [{\"colorbar\": {\"outlinewidth\": 0, \"ticks\": \"\"}, \"type\": \"mesh3d\"}], \"parcoords\": [{\"line\": {\"colorbar\": {\"outlinewidth\": 0, \"ticks\": \"\"}}, \"type\": \"parcoords\"}], \"pie\": [{\"automargin\": true, \"type\": \"pie\"}], \"scatter\": [{\"marker\": {\"colorbar\": {\"outlinewidth\": 0, \"ticks\": \"\"}}, \"type\": \"scatter\"}], \"scatter3d\": [{\"line\": {\"colorbar\": {\"outlinewidth\": 0, \"ticks\": \"\"}}, \"marker\": {\"colorbar\": {\"outlinewidth\": 0, \"ticks\": \"\"}}, \"type\": \"scatter3d\"}], \"scattercarpet\": [{\"marker\": {\"colorbar\": {\"outlinewidth\": 0, \"ticks\": \"\"}}, \"type\": \"scattercarpet\"}], \"scattergeo\": [{\"marker\": {\"colorbar\": {\"outlinewidth\": 0, \"ticks\": \"\"}}, \"type\": \"scattergeo\"}], \"scattergl\": [{\"marker\": {\"colorbar\": {\"outlinewidth\": 0, \"ticks\": \"\"}}, \"type\": \"scattergl\"}], \"scattermapbox\": [{\"marker\": {\"colorbar\": {\"outlinewidth\": 0, \"ticks\": \"\"}}, \"type\": \"scattermapbox\"}], \"scatterpolar\": [{\"marker\": {\"colorbar\": {\"outlinewidth\": 0, \"ticks\": \"\"}}, \"type\": \"scatterpolar\"}], \"scatterpolargl\": [{\"marker\": {\"colorbar\": {\"outlinewidth\": 0, \"ticks\": \"\"}}, \"type\": \"scatterpolargl\"}], \"scatterternary\": [{\"marker\": {\"colorbar\": {\"outlinewidth\": 0, \"ticks\": \"\"}}, \"type\": \"scatterternary\"}], \"surface\": [{\"colorbar\": {\"outlinewidth\": 0, \"ticks\": \"\"}, \"colorscale\": [[0.0, \"#0d0887\"], [0.1111111111111111, \"#46039f\"], [0.2222222222222222, \"#7201a8\"], [0.3333333333333333, \"#9c179e\"], [0.4444444444444444, \"#bd3786\"], [0.5555555555555556, \"#d8576b\"], [0.6666666666666666, \"#ed7953\"], [0.7777777777777778, \"#fb9f3a\"], [0.8888888888888888, \"#fdca26\"], [1.0, \"#f0f921\"]], \"type\": \"surface\"}], \"table\": [{\"cells\": {\"fill\": {\"color\": \"#EBF0F8\"}, \"line\": {\"color\": \"white\"}}, \"header\": {\"fill\": {\"color\": \"#C8D4E3\"}, \"line\": {\"color\": \"white\"}}, \"type\": \"table\"}]}, \"layout\": {\"annotationdefaults\": {\"arrowcolor\": \"#2a3f5f\", \"arrowhead\": 0, \"arrowwidth\": 1}, \"autotypenumbers\": \"strict\", \"coloraxis\": {\"colorbar\": {\"outlinewidth\": 0, \"ticks\": \"\"}}, \"colorscale\": {\"diverging\": [[0, \"#8e0152\"], [0.1, \"#c51b7d\"], [0.2, \"#de77ae\"], [0.3, \"#f1b6da\"], [0.4, \"#fde0ef\"], [0.5, \"#f7f7f7\"], [0.6, \"#e6f5d0\"], [0.7, \"#b8e186\"], [0.8, \"#7fbc41\"], [0.9, \"#4d9221\"], [1, \"#276419\"]], \"sequential\": [[0.0, \"#0d0887\"], [0.1111111111111111, \"#46039f\"], [0.2222222222222222, \"#7201a8\"], [0.3333333333333333, \"#9c179e\"], [0.4444444444444444, \"#bd3786\"], [0.5555555555555556, \"#d8576b\"], [0.6666666666666666, \"#ed7953\"], [0.7777777777777778, \"#fb9f3a\"], [0.8888888888888888, \"#fdca26\"], [1.0, \"#f0f921\"]], \"sequentialminus\": [[0.0, \"#0d0887\"], [0.1111111111111111, \"#46039f\"], [0.2222222222222222, \"#7201a8\"], [0.3333333333333333, \"#9c179e\"], [0.4444444444444444, \"#bd3786\"], [0.5555555555555556, \"#d8576b\"], [0.6666666666666666, \"#ed7953\"], [0.7777777777777778, \"#fb9f3a\"], [0.8888888888888888, \"#fdca26\"], [1.0, \"#f0f921\"]]}, \"colorway\": [\"#636efa\", \"#EF553B\", \"#00cc96\", \"#ab63fa\", \"#FFA15A\", \"#19d3f3\", \"#FF6692\", \"#B6E880\", \"#FF97FF\", \"#FECB52\"], \"font\": {\"color\": \"#2a3f5f\"}, \"geo\": {\"bgcolor\": \"white\", \"lakecolor\": \"white\", \"landcolor\": \"#E5ECF6\", \"showlakes\": true, \"showland\": true, \"subunitcolor\": \"white\"}, \"hoverlabel\": {\"align\": \"left\"}, \"hovermode\": \"closest\", \"mapbox\": {\"style\": \"light\"}, \"paper_bgcolor\": \"white\", \"plot_bgcolor\": \"#E5ECF6\", \"polar\": {\"angularaxis\": {\"gridcolor\": \"white\", \"linecolor\": \"white\", \"ticks\": \"\"}, \"bgcolor\": \"#E5ECF6\", \"radialaxis\": {\"gridcolor\": \"white\", \"linecolor\": \"white\", \"ticks\": \"\"}}, \"scene\": {\"xaxis\": {\"backgroundcolor\": \"#E5ECF6\", \"gridcolor\": \"white\", \"gridwidth\": 2, \"linecolor\": \"white\", \"showbackground\": true, \"ticks\": \"\", \"zerolinecolor\": \"white\"}, \"yaxis\": {\"backgroundcolor\": \"#E5ECF6\", \"gridcolor\": \"white\", \"gridwidth\": 2, \"linecolor\": \"white\", \"showbackground\": true, \"ticks\": \"\", \"zerolinecolor\": \"white\"}, \"zaxis\": {\"backgroundcolor\": \"#E5ECF6\", \"gridcolor\": \"white\", \"gridwidth\": 2, \"linecolor\": \"white\", \"showbackground\": true, \"ticks\": \"\", \"zerolinecolor\": \"white\"}}, \"shapedefaults\": {\"line\": {\"color\": \"#2a3f5f\"}}, \"ternary\": {\"aaxis\": {\"gridcolor\": \"white\", \"linecolor\": \"white\", \"ticks\": \"\"}, \"baxis\": {\"gridcolor\": \"white\", \"linecolor\": \"white\", \"ticks\": \"\"}, \"bgcolor\": \"#E5ECF6\", \"caxis\": {\"gridcolor\": \"white\", \"linecolor\": \"white\", \"ticks\": \"\"}}, \"title\": {\"x\": 0.05}, \"xaxis\": {\"automargin\": true, \"gridcolor\": \"white\", \"linecolor\": \"white\", \"ticks\": \"\", \"title\": {\"standoff\": 15}, \"zerolinecolor\": \"white\", \"zerolinewidth\": 2}, \"yaxis\": {\"automargin\": true, \"gridcolor\": \"white\", \"linecolor\": \"white\", \"ticks\": \"\", \"title\": {\"standoff\": 15}, \"zerolinecolor\": \"white\", \"zerolinewidth\": 2}}}, \"xaxis\": {\"anchor\": \"y\", \"domain\": [0.0, 1.0], \"title\": {\"text\": \"gdpPercap\"}, \"type\": \"log\"}, \"yaxis\": {\"anchor\": \"x\", \"domain\": [0.0, 1.0], \"title\": {\"text\": \"lifeExp\"}}},                        {\"responsive\": true}                    ).then(function(){\n",
       "                            \n",
       "var gd = document.getElementById('9e644415-e873-4587-9c7a-a6eec6daeed6');\n",
       "var x = new MutationObserver(function (mutations, observer) {{\n",
       "        var display = window.getComputedStyle(gd).display;\n",
       "        if (!display || display === 'none') {{\n",
       "            console.log([gd, 'removed!']);\n",
       "            Plotly.purge(gd);\n",
       "            observer.disconnect();\n",
       "        }}\n",
       "}});\n",
       "\n",
       "// Listen for the removal of the full notebook cells\n",
       "var notebookContainer = gd.closest('#notebook-container');\n",
       "if (notebookContainer) {{\n",
       "    x.observe(notebookContainer, {childList: true});\n",
       "}}\n",
       "\n",
       "// Listen for the clearing of the current output cell\n",
       "var outputEl = gd.closest('.output');\n",
       "if (outputEl) {{\n",
       "    x.observe(outputEl, {childList: true});\n",
       "}}\n",
       "\n",
       "                        })                };                });            </script>        </div>"
      ]
     },
     "metadata": {},
     "output_type": "display_data"
    }
   ],
   "source": [
    "df = px.data.gapminder()a\n",
    "\n",
    "fig = px.scatter(df.query(\"year==2007\"), x=\"gdpPercap\", y=\"lifeExp\",\n",
    "\t         size=\"pop\", color=\"continent\",\n",
    "                 hover_name=\"country\", log_x=True, size_max=60)\n",
    "fig.show()"
   ]
  },
  {
   "cell_type": "code",
   "execution_count": 117,
   "metadata": {},
   "outputs": [
    {
     "data": {
      "application/vnd.plotly.v1+json": {
       "config": {
        "linkText": "Export to plot.ly",
        "plotlyServerURL": "https://plot.ly",
        "showLink": true
       },
       "data": [
        {
         "marker": {
          "color": [
           "red",
           "red",
           "red",
           "red",
           "red",
           "red",
           "red",
           "red",
           "red",
           "red",
           "red",
           "red",
           "red",
           "red",
           "red",
           "red",
           "red",
           "red",
           "red",
           "red"
          ],
          "line": {
           "width": 1.3
          },
          "size": [
           40,
           112,
           103,
           92,
           58,
           85,
           53,
           35,
           36,
           109,
           33,
           63,
           66,
           50,
           66,
           73,
           92,
           12,
           67,
           64
          ],
          "symbol": "circle"
         },
         "mode": "markers",
         "text": "",
         "type": "scatter",
         "x": [
          1.6243453636632417,
          0.8654076293246785,
          0.31903909605709857,
          -0.3224172040135075,
          -0.17242820755043575,
          -1.1006191772129212,
          0.9008559492644118,
          -0.2678880796260159,
          -0.6871727001195994,
          -1.1173103486352778,
          -0.19183555236161492,
          0.05080775477602897,
          0.12015895248162915,
          -1.1425181980221402,
          0.8389834138745049,
          -0.7543979409966528,
          0.48851814653749703,
          2.1855754065331614,
          0.16003706944783047,
          -0.3062040126283718
         ],
         "y": [
          -0.6117564136500754,
          -2.3015386968802827,
          -0.2493703754774101,
          -0.38405435466841564,
          -0.8778584179213718,
          1.1447237098396141,
          -0.6837278591743331,
          0.530355466738186,
          -0.8452056414987196,
          0.23441569781709215,
          -0.8876289640848363,
          -0.6369956465693534,
          0.6172031097074192,
          -0.3493427224128775,
          0.9311020813035573,
          1.2528681552332879,
          -0.07557171302105573,
          -1.3964963354881377,
          0.8761689211162249,
          0.8279746426072462
         ]
        }
       ],
       "layout": {
        "legend": {
         "bgcolor": "#F5F6F9",
         "font": {
          "color": "#4D5663"
         }
        },
        "paper_bgcolor": "#F5F6F9",
        "plot_bgcolor": "#F5F6F9",
        "template": {
         "data": {
          "bar": [
           {
            "error_x": {
             "color": "#2a3f5f"
            },
            "error_y": {
             "color": "#2a3f5f"
            },
            "marker": {
             "line": {
              "color": "#E5ECF6",
              "width": 0.5
             }
            },
            "type": "bar"
           }
          ],
          "barpolar": [
           {
            "marker": {
             "line": {
              "color": "#E5ECF6",
              "width": 0.5
             }
            },
            "type": "barpolar"
           }
          ],
          "carpet": [
           {
            "aaxis": {
             "endlinecolor": "#2a3f5f",
             "gridcolor": "white",
             "linecolor": "white",
             "minorgridcolor": "white",
             "startlinecolor": "#2a3f5f"
            },
            "baxis": {
             "endlinecolor": "#2a3f5f",
             "gridcolor": "white",
             "linecolor": "white",
             "minorgridcolor": "white",
             "startlinecolor": "#2a3f5f"
            },
            "type": "carpet"
           }
          ],
          "choropleth": [
           {
            "colorbar": {
             "outlinewidth": 0,
             "ticks": ""
            },
            "type": "choropleth"
           }
          ],
          "contour": [
           {
            "colorbar": {
             "outlinewidth": 0,
             "ticks": ""
            },
            "colorscale": [
             [
              0,
              "#0d0887"
             ],
             [
              0.1111111111111111,
              "#46039f"
             ],
             [
              0.2222222222222222,
              "#7201a8"
             ],
             [
              0.3333333333333333,
              "#9c179e"
             ],
             [
              0.4444444444444444,
              "#bd3786"
             ],
             [
              0.5555555555555556,
              "#d8576b"
             ],
             [
              0.6666666666666666,
              "#ed7953"
             ],
             [
              0.7777777777777778,
              "#fb9f3a"
             ],
             [
              0.8888888888888888,
              "#fdca26"
             ],
             [
              1,
              "#f0f921"
             ]
            ],
            "type": "contour"
           }
          ],
          "contourcarpet": [
           {
            "colorbar": {
             "outlinewidth": 0,
             "ticks": ""
            },
            "type": "contourcarpet"
           }
          ],
          "heatmap": [
           {
            "colorbar": {
             "outlinewidth": 0,
             "ticks": ""
            },
            "colorscale": [
             [
              0,
              "#0d0887"
             ],
             [
              0.1111111111111111,
              "#46039f"
             ],
             [
              0.2222222222222222,
              "#7201a8"
             ],
             [
              0.3333333333333333,
              "#9c179e"
             ],
             [
              0.4444444444444444,
              "#bd3786"
             ],
             [
              0.5555555555555556,
              "#d8576b"
             ],
             [
              0.6666666666666666,
              "#ed7953"
             ],
             [
              0.7777777777777778,
              "#fb9f3a"
             ],
             [
              0.8888888888888888,
              "#fdca26"
             ],
             [
              1,
              "#f0f921"
             ]
            ],
            "type": "heatmap"
           }
          ],
          "heatmapgl": [
           {
            "colorbar": {
             "outlinewidth": 0,
             "ticks": ""
            },
            "colorscale": [
             [
              0,
              "#0d0887"
             ],
             [
              0.1111111111111111,
              "#46039f"
             ],
             [
              0.2222222222222222,
              "#7201a8"
             ],
             [
              0.3333333333333333,
              "#9c179e"
             ],
             [
              0.4444444444444444,
              "#bd3786"
             ],
             [
              0.5555555555555556,
              "#d8576b"
             ],
             [
              0.6666666666666666,
              "#ed7953"
             ],
             [
              0.7777777777777778,
              "#fb9f3a"
             ],
             [
              0.8888888888888888,
              "#fdca26"
             ],
             [
              1,
              "#f0f921"
             ]
            ],
            "type": "heatmapgl"
           }
          ],
          "histogram": [
           {
            "marker": {
             "colorbar": {
              "outlinewidth": 0,
              "ticks": ""
             }
            },
            "type": "histogram"
           }
          ],
          "histogram2d": [
           {
            "colorbar": {
             "outlinewidth": 0,
             "ticks": ""
            },
            "colorscale": [
             [
              0,
              "#0d0887"
             ],
             [
              0.1111111111111111,
              "#46039f"
             ],
             [
              0.2222222222222222,
              "#7201a8"
             ],
             [
              0.3333333333333333,
              "#9c179e"
             ],
             [
              0.4444444444444444,
              "#bd3786"
             ],
             [
              0.5555555555555556,
              "#d8576b"
             ],
             [
              0.6666666666666666,
              "#ed7953"
             ],
             [
              0.7777777777777778,
              "#fb9f3a"
             ],
             [
              0.8888888888888888,
              "#fdca26"
             ],
             [
              1,
              "#f0f921"
             ]
            ],
            "type": "histogram2d"
           }
          ],
          "histogram2dcontour": [
           {
            "colorbar": {
             "outlinewidth": 0,
             "ticks": ""
            },
            "colorscale": [
             [
              0,
              "#0d0887"
             ],
             [
              0.1111111111111111,
              "#46039f"
             ],
             [
              0.2222222222222222,
              "#7201a8"
             ],
             [
              0.3333333333333333,
              "#9c179e"
             ],
             [
              0.4444444444444444,
              "#bd3786"
             ],
             [
              0.5555555555555556,
              "#d8576b"
             ],
             [
              0.6666666666666666,
              "#ed7953"
             ],
             [
              0.7777777777777778,
              "#fb9f3a"
             ],
             [
              0.8888888888888888,
              "#fdca26"
             ],
             [
              1,
              "#f0f921"
             ]
            ],
            "type": "histogram2dcontour"
           }
          ],
          "mesh3d": [
           {
            "colorbar": {
             "outlinewidth": 0,
             "ticks": ""
            },
            "type": "mesh3d"
           }
          ],
          "parcoords": [
           {
            "line": {
             "colorbar": {
              "outlinewidth": 0,
              "ticks": ""
             }
            },
            "type": "parcoords"
           }
          ],
          "pie": [
           {
            "automargin": true,
            "type": "pie"
           }
          ],
          "scatter": [
           {
            "marker": {
             "colorbar": {
              "outlinewidth": 0,
              "ticks": ""
             }
            },
            "type": "scatter"
           }
          ],
          "scatter3d": [
           {
            "line": {
             "colorbar": {
              "outlinewidth": 0,
              "ticks": ""
             }
            },
            "marker": {
             "colorbar": {
              "outlinewidth": 0,
              "ticks": ""
             }
            },
            "type": "scatter3d"
           }
          ],
          "scattercarpet": [
           {
            "marker": {
             "colorbar": {
              "outlinewidth": 0,
              "ticks": ""
             }
            },
            "type": "scattercarpet"
           }
          ],
          "scattergeo": [
           {
            "marker": {
             "colorbar": {
              "outlinewidth": 0,
              "ticks": ""
             }
            },
            "type": "scattergeo"
           }
          ],
          "scattergl": [
           {
            "marker": {
             "colorbar": {
              "outlinewidth": 0,
              "ticks": ""
             }
            },
            "type": "scattergl"
           }
          ],
          "scattermapbox": [
           {
            "marker": {
             "colorbar": {
              "outlinewidth": 0,
              "ticks": ""
             }
            },
            "type": "scattermapbox"
           }
          ],
          "scatterpolar": [
           {
            "marker": {
             "colorbar": {
              "outlinewidth": 0,
              "ticks": ""
             }
            },
            "type": "scatterpolar"
           }
          ],
          "scatterpolargl": [
           {
            "marker": {
             "colorbar": {
              "outlinewidth": 0,
              "ticks": ""
             }
            },
            "type": "scatterpolargl"
           }
          ],
          "scatterternary": [
           {
            "marker": {
             "colorbar": {
              "outlinewidth": 0,
              "ticks": ""
             }
            },
            "type": "scatterternary"
           }
          ],
          "surface": [
           {
            "colorbar": {
             "outlinewidth": 0,
             "ticks": ""
            },
            "colorscale": [
             [
              0,
              "#0d0887"
             ],
             [
              0.1111111111111111,
              "#46039f"
             ],
             [
              0.2222222222222222,
              "#7201a8"
             ],
             [
              0.3333333333333333,
              "#9c179e"
             ],
             [
              0.4444444444444444,
              "#bd3786"
             ],
             [
              0.5555555555555556,
              "#d8576b"
             ],
             [
              0.6666666666666666,
              "#ed7953"
             ],
             [
              0.7777777777777778,
              "#fb9f3a"
             ],
             [
              0.8888888888888888,
              "#fdca26"
             ],
             [
              1,
              "#f0f921"
             ]
            ],
            "type": "surface"
           }
          ],
          "table": [
           {
            "cells": {
             "fill": {
              "color": "#EBF0F8"
             },
             "line": {
              "color": "white"
             }
            },
            "header": {
             "fill": {
              "color": "#C8D4E3"
             },
             "line": {
              "color": "white"
             }
            },
            "type": "table"
           }
          ]
         },
         "layout": {
          "annotationdefaults": {
           "arrowcolor": "#2a3f5f",
           "arrowhead": 0,
           "arrowwidth": 1
          },
          "autotypenumbers": "strict",
          "coloraxis": {
           "colorbar": {
            "outlinewidth": 0,
            "ticks": ""
           }
          },
          "colorscale": {
           "diverging": [
            [
             0,
             "#8e0152"
            ],
            [
             0.1,
             "#c51b7d"
            ],
            [
             0.2,
             "#de77ae"
            ],
            [
             0.3,
             "#f1b6da"
            ],
            [
             0.4,
             "#fde0ef"
            ],
            [
             0.5,
             "#f7f7f7"
            ],
            [
             0.6,
             "#e6f5d0"
            ],
            [
             0.7,
             "#b8e186"
            ],
            [
             0.8,
             "#7fbc41"
            ],
            [
             0.9,
             "#4d9221"
            ],
            [
             1,
             "#276419"
            ]
           ],
           "sequential": [
            [
             0,
             "#0d0887"
            ],
            [
             0.1111111111111111,
             "#46039f"
            ],
            [
             0.2222222222222222,
             "#7201a8"
            ],
            [
             0.3333333333333333,
             "#9c179e"
            ],
            [
             0.4444444444444444,
             "#bd3786"
            ],
            [
             0.5555555555555556,
             "#d8576b"
            ],
            [
             0.6666666666666666,
             "#ed7953"
            ],
            [
             0.7777777777777778,
             "#fb9f3a"
            ],
            [
             0.8888888888888888,
             "#fdca26"
            ],
            [
             1,
             "#f0f921"
            ]
           ],
           "sequentialminus": [
            [
             0,
             "#0d0887"
            ],
            [
             0.1111111111111111,
             "#46039f"
            ],
            [
             0.2222222222222222,
             "#7201a8"
            ],
            [
             0.3333333333333333,
             "#9c179e"
            ],
            [
             0.4444444444444444,
             "#bd3786"
            ],
            [
             0.5555555555555556,
             "#d8576b"
            ],
            [
             0.6666666666666666,
             "#ed7953"
            ],
            [
             0.7777777777777778,
             "#fb9f3a"
            ],
            [
             0.8888888888888888,
             "#fdca26"
            ],
            [
             1,
             "#f0f921"
            ]
           ]
          },
          "colorway": [
           "#636efa",
           "#EF553B",
           "#00cc96",
           "#ab63fa",
           "#FFA15A",
           "#19d3f3",
           "#FF6692",
           "#B6E880",
           "#FF97FF",
           "#FECB52"
          ],
          "font": {
           "color": "#2a3f5f"
          },
          "geo": {
           "bgcolor": "white",
           "lakecolor": "white",
           "landcolor": "#E5ECF6",
           "showlakes": true,
           "showland": true,
           "subunitcolor": "white"
          },
          "hoverlabel": {
           "align": "left"
          },
          "hovermode": "closest",
          "mapbox": {
           "style": "light"
          },
          "paper_bgcolor": "white",
          "plot_bgcolor": "#E5ECF6",
          "polar": {
           "angularaxis": {
            "gridcolor": "white",
            "linecolor": "white",
            "ticks": ""
           },
           "bgcolor": "#E5ECF6",
           "radialaxis": {
            "gridcolor": "white",
            "linecolor": "white",
            "ticks": ""
           }
          },
          "scene": {
           "xaxis": {
            "backgroundcolor": "#E5ECF6",
            "gridcolor": "white",
            "gridwidth": 2,
            "linecolor": "white",
            "showbackground": true,
            "ticks": "",
            "zerolinecolor": "white"
           },
           "yaxis": {
            "backgroundcolor": "#E5ECF6",
            "gridcolor": "white",
            "gridwidth": 2,
            "linecolor": "white",
            "showbackground": true,
            "ticks": "",
            "zerolinecolor": "white"
           },
           "zaxis": {
            "backgroundcolor": "#E5ECF6",
            "gridcolor": "white",
            "gridwidth": 2,
            "linecolor": "white",
            "showbackground": true,
            "ticks": "",
            "zerolinecolor": "white"
           }
          },
          "shapedefaults": {
           "line": {
            "color": "#2a3f5f"
           }
          },
          "ternary": {
           "aaxis": {
            "gridcolor": "white",
            "linecolor": "white",
            "ticks": ""
           },
           "baxis": {
            "gridcolor": "white",
            "linecolor": "white",
            "ticks": ""
           },
           "bgcolor": "#E5ECF6",
           "caxis": {
            "gridcolor": "white",
            "linecolor": "white",
            "ticks": ""
           }
          },
          "title": {
           "x": 0.05
          },
          "xaxis": {
           "automargin": true,
           "gridcolor": "white",
           "linecolor": "white",
           "ticks": "",
           "title": {
            "standoff": 15
           },
           "zerolinecolor": "white",
           "zerolinewidth": 2
          },
          "yaxis": {
           "automargin": true,
           "gridcolor": "white",
           "linecolor": "white",
           "ticks": "",
           "title": {
            "standoff": 15
           },
           "zerolinecolor": "white",
           "zerolinewidth": 2
          }
         }
        },
        "title": {
         "font": {
          "color": "#4D5663"
         }
        },
        "xaxis": {
         "gridcolor": "#E1E5ED",
         "showgrid": true,
         "tickfont": {
          "color": "#4D5663"
         },
         "title": {
          "font": {
           "color": "#4D5663"
          },
          "text": ""
         },
         "zerolinecolor": "#E1E5ED"
        },
        "yaxis": {
         "gridcolor": "#E1E5ED",
         "showgrid": true,
         "tickfont": {
          "color": "#4D5663"
         },
         "title": {
          "font": {
           "color": "#4D5663"
          },
          "text": ""
         },
         "zerolinecolor": "#E1E5ED"
        }
       }
      },
      "text/html": [
       "<div>                            <div id=\"74571aa6-8f62-4d0a-ba3e-a58c11520182\" class=\"plotly-graph-div\" style=\"height:525px; width:100%;\"></div>            <script type=\"text/javascript\">                require([\"plotly\"], function(Plotly) {                    window.PLOTLYENV=window.PLOTLYENV || {};\n",
       "                    window.PLOTLYENV.BASE_URL='https://plot.ly';                                    if (document.getElementById(\"74571aa6-8f62-4d0a-ba3e-a58c11520182\")) {                    Plotly.newPlot(                        \"74571aa6-8f62-4d0a-ba3e-a58c11520182\",                        [{\"marker\": {\"color\": [\"red\", \"red\", \"red\", \"red\", \"red\", \"red\", \"red\", \"red\", \"red\", \"red\", \"red\", \"red\", \"red\", \"red\", \"red\", \"red\", \"red\", \"red\", \"red\", \"red\"], \"line\": {\"width\": 1.3}, \"size\": [40, 112, 103, 92, 58, 85, 53, 35, 36, 109, 33, 63, 66, 50, 66, 73, 92, 12, 67, 64], \"symbol\": \"circle\"}, \"mode\": \"markers\", \"text\": \"\", \"type\": \"scatter\", \"x\": [1.6243453636632417, 0.8654076293246785, 0.31903909605709857, -0.3224172040135075, -0.17242820755043575, -1.1006191772129212, 0.9008559492644118, -0.2678880796260159, -0.6871727001195994, -1.1173103486352778, -0.19183555236161492, 0.05080775477602897, 0.12015895248162915, -1.1425181980221402, 0.8389834138745049, -0.7543979409966528, 0.48851814653749703, 2.1855754065331614, 0.16003706944783047, -0.3062040126283718], \"y\": [-0.6117564136500754, -2.3015386968802827, -0.2493703754774101, -0.38405435466841564, -0.8778584179213718, 1.1447237098396141, -0.6837278591743331, 0.530355466738186, -0.8452056414987196, 0.23441569781709215, -0.8876289640848363, -0.6369956465693534, 0.6172031097074192, -0.3493427224128775, 0.9311020813035573, 1.2528681552332879, -0.07557171302105573, -1.3964963354881377, 0.8761689211162249, 0.8279746426072462]}],                        {\"legend\": {\"bgcolor\": \"#F5F6F9\", \"font\": {\"color\": \"#4D5663\"}}, \"paper_bgcolor\": \"#F5F6F9\", \"plot_bgcolor\": \"#F5F6F9\", \"template\": {\"data\": {\"bar\": [{\"error_x\": {\"color\": \"#2a3f5f\"}, \"error_y\": {\"color\": \"#2a3f5f\"}, \"marker\": {\"line\": {\"color\": \"#E5ECF6\", \"width\": 0.5}}, \"type\": \"bar\"}], \"barpolar\": [{\"marker\": {\"line\": {\"color\": \"#E5ECF6\", \"width\": 0.5}}, \"type\": \"barpolar\"}], \"carpet\": [{\"aaxis\": {\"endlinecolor\": \"#2a3f5f\", \"gridcolor\": \"white\", \"linecolor\": \"white\", \"minorgridcolor\": \"white\", \"startlinecolor\": \"#2a3f5f\"}, \"baxis\": {\"endlinecolor\": \"#2a3f5f\", \"gridcolor\": \"white\", \"linecolor\": \"white\", \"minorgridcolor\": \"white\", \"startlinecolor\": \"#2a3f5f\"}, \"type\": \"carpet\"}], \"choropleth\": [{\"colorbar\": {\"outlinewidth\": 0, \"ticks\": \"\"}, \"type\": \"choropleth\"}], \"contour\": [{\"colorbar\": {\"outlinewidth\": 0, \"ticks\": \"\"}, \"colorscale\": [[0.0, \"#0d0887\"], [0.1111111111111111, \"#46039f\"], [0.2222222222222222, \"#7201a8\"], [0.3333333333333333, \"#9c179e\"], [0.4444444444444444, \"#bd3786\"], [0.5555555555555556, \"#d8576b\"], [0.6666666666666666, \"#ed7953\"], [0.7777777777777778, \"#fb9f3a\"], [0.8888888888888888, \"#fdca26\"], [1.0, \"#f0f921\"]], \"type\": \"contour\"}], \"contourcarpet\": [{\"colorbar\": {\"outlinewidth\": 0, \"ticks\": \"\"}, \"type\": \"contourcarpet\"}], \"heatmap\": [{\"colorbar\": {\"outlinewidth\": 0, \"ticks\": \"\"}, \"colorscale\": [[0.0, \"#0d0887\"], [0.1111111111111111, \"#46039f\"], [0.2222222222222222, \"#7201a8\"], [0.3333333333333333, \"#9c179e\"], [0.4444444444444444, \"#bd3786\"], [0.5555555555555556, \"#d8576b\"], [0.6666666666666666, \"#ed7953\"], [0.7777777777777778, \"#fb9f3a\"], [0.8888888888888888, \"#fdca26\"], [1.0, \"#f0f921\"]], \"type\": \"heatmap\"}], \"heatmapgl\": [{\"colorbar\": {\"outlinewidth\": 0, \"ticks\": \"\"}, \"colorscale\": [[0.0, \"#0d0887\"], [0.1111111111111111, \"#46039f\"], [0.2222222222222222, \"#7201a8\"], [0.3333333333333333, \"#9c179e\"], [0.4444444444444444, \"#bd3786\"], [0.5555555555555556, \"#d8576b\"], [0.6666666666666666, \"#ed7953\"], [0.7777777777777778, \"#fb9f3a\"], [0.8888888888888888, \"#fdca26\"], [1.0, \"#f0f921\"]], \"type\": \"heatmapgl\"}], \"histogram\": [{\"marker\": {\"colorbar\": {\"outlinewidth\": 0, \"ticks\": \"\"}}, \"type\": \"histogram\"}], \"histogram2d\": [{\"colorbar\": {\"outlinewidth\": 0, \"ticks\": \"\"}, \"colorscale\": [[0.0, \"#0d0887\"], [0.1111111111111111, \"#46039f\"], [0.2222222222222222, \"#7201a8\"], [0.3333333333333333, \"#9c179e\"], [0.4444444444444444, \"#bd3786\"], [0.5555555555555556, \"#d8576b\"], [0.6666666666666666, \"#ed7953\"], [0.7777777777777778, \"#fb9f3a\"], [0.8888888888888888, \"#fdca26\"], [1.0, \"#f0f921\"]], \"type\": \"histogram2d\"}], \"histogram2dcontour\": [{\"colorbar\": {\"outlinewidth\": 0, \"ticks\": \"\"}, \"colorscale\": [[0.0, \"#0d0887\"], [0.1111111111111111, \"#46039f\"], [0.2222222222222222, \"#7201a8\"], [0.3333333333333333, \"#9c179e\"], [0.4444444444444444, \"#bd3786\"], [0.5555555555555556, \"#d8576b\"], [0.6666666666666666, \"#ed7953\"], [0.7777777777777778, \"#fb9f3a\"], [0.8888888888888888, \"#fdca26\"], [1.0, \"#f0f921\"]], \"type\": \"histogram2dcontour\"}], \"mesh3d\": [{\"colorbar\": {\"outlinewidth\": 0, \"ticks\": \"\"}, \"type\": \"mesh3d\"}], \"parcoords\": [{\"line\": {\"colorbar\": {\"outlinewidth\": 0, \"ticks\": \"\"}}, \"type\": \"parcoords\"}], \"pie\": [{\"automargin\": true, \"type\": \"pie\"}], \"scatter\": [{\"marker\": {\"colorbar\": {\"outlinewidth\": 0, \"ticks\": \"\"}}, \"type\": \"scatter\"}], \"scatter3d\": [{\"line\": {\"colorbar\": {\"outlinewidth\": 0, \"ticks\": \"\"}}, \"marker\": {\"colorbar\": {\"outlinewidth\": 0, \"ticks\": \"\"}}, \"type\": \"scatter3d\"}], \"scattercarpet\": [{\"marker\": {\"colorbar\": {\"outlinewidth\": 0, \"ticks\": \"\"}}, \"type\": \"scattercarpet\"}], \"scattergeo\": [{\"marker\": {\"colorbar\": {\"outlinewidth\": 0, \"ticks\": \"\"}}, \"type\": \"scattergeo\"}], \"scattergl\": [{\"marker\": {\"colorbar\": {\"outlinewidth\": 0, \"ticks\": \"\"}}, \"type\": \"scattergl\"}], \"scattermapbox\": [{\"marker\": {\"colorbar\": {\"outlinewidth\": 0, \"ticks\": \"\"}}, \"type\": \"scattermapbox\"}], \"scatterpolar\": [{\"marker\": {\"colorbar\": {\"outlinewidth\": 0, \"ticks\": \"\"}}, \"type\": \"scatterpolar\"}], \"scatterpolargl\": [{\"marker\": {\"colorbar\": {\"outlinewidth\": 0, \"ticks\": \"\"}}, \"type\": \"scatterpolargl\"}], \"scatterternary\": [{\"marker\": {\"colorbar\": {\"outlinewidth\": 0, \"ticks\": \"\"}}, \"type\": \"scatterternary\"}], \"surface\": [{\"colorbar\": {\"outlinewidth\": 0, \"ticks\": \"\"}, \"colorscale\": [[0.0, \"#0d0887\"], [0.1111111111111111, \"#46039f\"], [0.2222222222222222, \"#7201a8\"], [0.3333333333333333, \"#9c179e\"], [0.4444444444444444, \"#bd3786\"], [0.5555555555555556, \"#d8576b\"], [0.6666666666666666, \"#ed7953\"], [0.7777777777777778, \"#fb9f3a\"], [0.8888888888888888, \"#fdca26\"], [1.0, \"#f0f921\"]], \"type\": \"surface\"}], \"table\": [{\"cells\": {\"fill\": {\"color\": \"#EBF0F8\"}, \"line\": {\"color\": \"white\"}}, \"header\": {\"fill\": {\"color\": \"#C8D4E3\"}, \"line\": {\"color\": \"white\"}}, \"type\": \"table\"}]}, \"layout\": {\"annotationdefaults\": {\"arrowcolor\": \"#2a3f5f\", \"arrowhead\": 0, \"arrowwidth\": 1}, \"autotypenumbers\": \"strict\", \"coloraxis\": {\"colorbar\": {\"outlinewidth\": 0, \"ticks\": \"\"}}, \"colorscale\": {\"diverging\": [[0, \"#8e0152\"], [0.1, \"#c51b7d\"], [0.2, \"#de77ae\"], [0.3, \"#f1b6da\"], [0.4, \"#fde0ef\"], [0.5, \"#f7f7f7\"], [0.6, \"#e6f5d0\"], [0.7, \"#b8e186\"], [0.8, \"#7fbc41\"], [0.9, \"#4d9221\"], [1, \"#276419\"]], \"sequential\": [[0.0, \"#0d0887\"], [0.1111111111111111, \"#46039f\"], [0.2222222222222222, \"#7201a8\"], [0.3333333333333333, \"#9c179e\"], [0.4444444444444444, \"#bd3786\"], [0.5555555555555556, \"#d8576b\"], [0.6666666666666666, \"#ed7953\"], [0.7777777777777778, \"#fb9f3a\"], [0.8888888888888888, \"#fdca26\"], [1.0, \"#f0f921\"]], \"sequentialminus\": [[0.0, \"#0d0887\"], [0.1111111111111111, \"#46039f\"], [0.2222222222222222, \"#7201a8\"], [0.3333333333333333, \"#9c179e\"], [0.4444444444444444, \"#bd3786\"], [0.5555555555555556, \"#d8576b\"], [0.6666666666666666, \"#ed7953\"], [0.7777777777777778, \"#fb9f3a\"], [0.8888888888888888, \"#fdca26\"], [1.0, \"#f0f921\"]]}, \"colorway\": [\"#636efa\", \"#EF553B\", \"#00cc96\", \"#ab63fa\", \"#FFA15A\", \"#19d3f3\", \"#FF6692\", \"#B6E880\", \"#FF97FF\", \"#FECB52\"], \"font\": {\"color\": \"#2a3f5f\"}, \"geo\": {\"bgcolor\": \"white\", \"lakecolor\": \"white\", \"landcolor\": \"#E5ECF6\", \"showlakes\": true, \"showland\": true, \"subunitcolor\": \"white\"}, \"hoverlabel\": {\"align\": \"left\"}, \"hovermode\": \"closest\", \"mapbox\": {\"style\": \"light\"}, \"paper_bgcolor\": \"white\", \"plot_bgcolor\": \"#E5ECF6\", \"polar\": {\"angularaxis\": {\"gridcolor\": \"white\", \"linecolor\": \"white\", \"ticks\": \"\"}, \"bgcolor\": \"#E5ECF6\", \"radialaxis\": {\"gridcolor\": \"white\", \"linecolor\": \"white\", \"ticks\": \"\"}}, \"scene\": {\"xaxis\": {\"backgroundcolor\": \"#E5ECF6\", \"gridcolor\": \"white\", \"gridwidth\": 2, \"linecolor\": \"white\", \"showbackground\": true, \"ticks\": \"\", \"zerolinecolor\": \"white\"}, \"yaxis\": {\"backgroundcolor\": \"#E5ECF6\", \"gridcolor\": \"white\", \"gridwidth\": 2, \"linecolor\": \"white\", \"showbackground\": true, \"ticks\": \"\", \"zerolinecolor\": \"white\"}, \"zaxis\": {\"backgroundcolor\": \"#E5ECF6\", \"gridcolor\": \"white\", \"gridwidth\": 2, \"linecolor\": \"white\", \"showbackground\": true, \"ticks\": \"\", \"zerolinecolor\": \"white\"}}, \"shapedefaults\": {\"line\": {\"color\": \"#2a3f5f\"}}, \"ternary\": {\"aaxis\": {\"gridcolor\": \"white\", \"linecolor\": \"white\", \"ticks\": \"\"}, \"baxis\": {\"gridcolor\": \"white\", \"linecolor\": \"white\", \"ticks\": \"\"}, \"bgcolor\": \"#E5ECF6\", \"caxis\": {\"gridcolor\": \"white\", \"linecolor\": \"white\", \"ticks\": \"\"}}, \"title\": {\"x\": 0.05}, \"xaxis\": {\"automargin\": true, \"gridcolor\": \"white\", \"linecolor\": \"white\", \"ticks\": \"\", \"title\": {\"standoff\": 15}, \"zerolinecolor\": \"white\", \"zerolinewidth\": 2}, \"yaxis\": {\"automargin\": true, \"gridcolor\": \"white\", \"linecolor\": \"white\", \"ticks\": \"\", \"title\": {\"standoff\": 15}, \"zerolinecolor\": \"white\", \"zerolinewidth\": 2}}}, \"title\": {\"font\": {\"color\": \"#4D5663\"}}, \"xaxis\": {\"gridcolor\": \"#E1E5ED\", \"showgrid\": true, \"tickfont\": {\"color\": \"#4D5663\"}, \"title\": {\"font\": {\"color\": \"#4D5663\"}, \"text\": \"\"}, \"zerolinecolor\": \"#E1E5ED\"}, \"yaxis\": {\"gridcolor\": \"#E1E5ED\", \"showgrid\": true, \"tickfont\": {\"color\": \"#4D5663\"}, \"title\": {\"font\": {\"color\": \"#4D5663\"}, \"text\": \"\"}, \"zerolinecolor\": \"#E1E5ED\"}},                        {\"showLink\": true, \"linkText\": \"Export to plot.ly\", \"plotlyServerURL\": \"https://plot.ly\", \"responsive\": true}                    ).then(function(){\n",
       "                            \n",
       "var gd = document.getElementById('74571aa6-8f62-4d0a-ba3e-a58c11520182');\n",
       "var x = new MutationObserver(function (mutations, observer) {{\n",
       "        var display = window.getComputedStyle(gd).display;\n",
       "        if (!display || display === 'none') {{\n",
       "            console.log([gd, 'removed!']);\n",
       "            Plotly.purge(gd);\n",
       "            observer.disconnect();\n",
       "        }}\n",
       "}});\n",
       "\n",
       "// Listen for the removal of the full notebook cells\n",
       "var notebookContainer = gd.closest('#notebook-container');\n",
       "if (notebookContainer) {{\n",
       "    x.observe(notebookContainer, {childList: true});\n",
       "}}\n",
       "\n",
       "// Listen for the clearing of the current output cell\n",
       "var outputEl = gd.closest('.output');\n",
       "if (outputEl) {{\n",
       "    x.observe(outputEl, {childList: true});\n",
       "}}\n",
       "\n",
       "                        })                };                });            </script>        </div>"
      ]
     },
     "metadata": {},
     "output_type": "display_data"
    }
   ],
   "source": [
    "df4.iplot(kind='bubble', x='A', y='B', size='C', color='red')\n"
   ]
  },
  {
   "cell_type": "markdown",
   "metadata": {},
   "source": [
    "## scatter_matrix()\n",
    "\n",
    "Similar to sns.pairplot()"
   ]
  },
  {
   "cell_type": "code",
   "execution_count": 71,
   "metadata": {},
   "outputs": [
    {
     "data": {
      "application/vnd.plotly.v1+json": {
       "config": {
        "linkText": "Export to plot.ly",
        "plotlyServerURL": "https://plot.ly",
        "showLink": true
       },
       "data": [
        {
         "histfunc": "count",
         "histnorm": "",
         "marker": {
          "color": "rgba(255, 153, 51, 1.0)",
          "line": {
           "color": "#4D5663",
           "width": 1.3
          }
         },
         "name": "A",
         "nbinsx": 10,
         "opacity": 0.8,
         "orientation": "v",
         "type": "histogram",
         "x": [
          -1.3065340728440185,
          -0.4228569613907754,
          0.45161595055524156,
          1.7602492264490932,
          -0.7778588266274128,
          -0.22876582887016242,
          2.054624102518116,
          0.017164726374088564,
          0.8408615581411037,
          0.46664326722884075,
          0.4512840160401709,
          -0.3312831699326283,
          -0.38483224883279044,
          0.6743961048208689,
          -0.8224671889042517,
          -0.3439007092103924,
          -0.06932869669048287,
          0.8709698025322423,
          -0.19899818380372442,
          -1.9521052872452325,
          0.515413801783241,
          1.460892380463078,
          1.0400891531540952,
          -0.4148469012882354,
          0.528879745585174,
          -1.719394474619523,
          -0.25898285340053234,
          -0.6011568006493835,
          0.1698692553475717,
          -0.8088471964721285,
          1.4428769284963092,
          0.9665392502290573,
          0.6365834094146309,
          -0.2516742076314244,
          0.684001328181953,
          -0.4244927905709274,
          -2.2271126318500145,
          1.3097059056826534,
          1.0112070637749084,
          -0.22241402852990858,
          0.8532821858237332,
          -1.6374495930083417,
          -1.3988128186664763,
          0.37167029121186534,
          0.3724568515114425,
          0.7800271353386294,
          1.1614399816743937,
          0.14164053766580517,
          0.5109377744920892,
          0.6616810764659825,
          -1.072964278711645,
          -1.4614036047221062,
          -1.3477649412536636,
          0.7852269196346882,
          1.2251558492732308,
          0.3931092448539835,
          0.8858257989659072,
          0.7433565435138623,
          -0.039178256209496685,
          -0.593343754242419,
          0.9849516717192109,
          -1.039182322034903,
          -0.5089722778228615,
          1.5754679085723808,
          1.0689716222012626,
          -0.10646012155553987,
          0.6925743475393558,
          -1.0490677451686161,
          0.41026574539684446,
          0.31815419967868935,
          0.39788042488185116,
          1.9197922864280879,
          0.7513372351604846,
          -0.49112513779081807,
          1.018552474767882,
          -0.7907999537751678,
          -0.4775808546567209,
          -0.36261208757725877,
          -0.03181717269879145,
          -0.30097615395533844,
          -2.076802021923554,
          -1.2704607763854796,
          -0.13479312929572362,
          3.3210787561703645,
          0.43598619629640983,
          0.07225189915588459,
          -0.13935180545092124,
          0.3212659144838316,
          1.2935496206633084,
          -0.9509092510507696,
          1.5392070096550627,
          0.6087836589081088,
          -2.1444440467284505,
          0.9544956665476875,
          -0.857496824739772,
          0.6778075711198115,
          1.2179409008013473,
          -0.596086334587662,
          0.425920176502816,
          1.108616757989675
         ],
         "xaxis": "x",
         "yaxis": "y"
        },
        {
         "line": {
          "color": "rgba(128, 128, 128, 1.0)",
          "dash": "solid",
          "shape": "linear",
          "width": 1.3
         },
         "marker": {
          "size": 2,
          "symbol": "circle"
         },
         "mode": "markers",
         "name": "A",
         "text": "",
         "type": "scatter",
         "x": [
          0.076380480159592,
          0.08646440652428741,
          1.1041743263032135,
          -0.06065249177480989,
          1.1158411079241686,
          1.6133613745631155,
          0.05340953679834792,
          -0.42914227823509377,
          -0.1028872175735376,
          1.033686867939501,
          -1.6840599858682372,
          0.3865391451330911,
          1.4581082386095199,
          -0.7223919054141509,
          0.7217112921126926,
          -1.0001691898725158,
          -0.10839206717353982,
          -0.5084571342754007,
          1.8664713751521251,
          -1.4023291454531368,
          -1.1148710523659369,
          0.5924728014240198,
          -0.918440038300026,
          0.45194603732122307,
          -2.2370865111124707,
          0.057120996082092076,
          0.1892931975586576,
          0.5560735100773853,
          -1.1640079711612021,
          0.5574394528580334,
          -0.5396815622024924,
          0.7130490503032691,
          1.4092533893640082,
          0.3827151737243639,
          -0.35340998286701436,
          -0.7315309817303334,
          -1.6993336047222958,
          -1.1549826349293644,
          -1.4765626605201803,
          1.4701603438257402,
          -0.13971173044107246,
          3.9586027040379634,
          0.08176781880561644,
          1.853009485069379,
          -0.14848980305939366,
          -0.62944160405378,
          -0.027529386267978004,
          -2.516303860965749,
          1.7106618386711354,
          0.9863521802120643,
          0.49515861120031657,
          -0.5163479086460222,
          1.470739856691369,
          -0.6648677669672133,
          -1.053546073700315,
          -1.8239198526251938,
          0.18986164938309566,
          -1.5095726842240433,
          -0.22875417122021255,
          0.5103075967452559,
          1.0712524278458908,
          0.7330232317190783,
          -0.16648595488595935,
          1.2066078980355681,
          0.040371431022839264,
          -2.7909964066938464,
          -0.4786723564156615,
          0.31665889515665435,
          0.8598709717969121,
          -0.01923163409763723,
          -0.9960108890883996,
          -1.3916938760540336,
          0.14039543644735017,
          0.1343731160397544,
          1.2305581999547246,
          1.2237222119601092,
          0.025999994185658175,
          -1.4851564513254543,
          0.11248774241419583,
          0.8074559170052702,
          0.9475011673456759,
          0.2829955338110016,
          1.0492182907525678,
          -0.6002253303773148,
          -0.6874873930601744,
          1.0097873349475586,
          -0.7285374894247015,
          -0.7252149257453662,
          -0.43899766366627757,
          -0.7043503315234588,
          -1.1487042296369459,
          -1.8814108671660597,
          -0.3695624253374333,
          0.09574677111013467,
          -0.934181843147949,
          -1.1065730673918852,
          -1.9406809643648932,
          0.8616231013412039,
          0.049080397141630476,
          -0.7029204029101687
         ],
         "xaxis": "x2",
         "y": [
          -1.3065340728440185,
          -0.4228569613907754,
          0.45161595055524156,
          1.7602492264490932,
          -0.7778588266274128,
          -0.22876582887016242,
          2.054624102518116,
          0.017164726374088564,
          0.8408615581411037,
          0.46664326722884075,
          0.4512840160401709,
          -0.3312831699326283,
          -0.38483224883279044,
          0.6743961048208689,
          -0.8224671889042517,
          -0.3439007092103924,
          -0.06932869669048287,
          0.8709698025322423,
          -0.19899818380372442,
          -1.9521052872452325,
          0.515413801783241,
          1.460892380463078,
          1.0400891531540952,
          -0.4148469012882354,
          0.528879745585174,
          -1.719394474619523,
          -0.25898285340053234,
          -0.6011568006493835,
          0.1698692553475717,
          -0.8088471964721285,
          1.4428769284963092,
          0.9665392502290573,
          0.6365834094146309,
          -0.2516742076314244,
          0.684001328181953,
          -0.4244927905709274,
          -2.2271126318500145,
          1.3097059056826534,
          1.0112070637749084,
          -0.22241402852990858,
          0.8532821858237332,
          -1.6374495930083417,
          -1.3988128186664763,
          0.37167029121186534,
          0.3724568515114425,
          0.7800271353386294,
          1.1614399816743937,
          0.14164053766580517,
          0.5109377744920892,
          0.6616810764659825,
          -1.072964278711645,
          -1.4614036047221062,
          -1.3477649412536636,
          0.7852269196346882,
          1.2251558492732308,
          0.3931092448539835,
          0.8858257989659072,
          0.7433565435138623,
          -0.039178256209496685,
          -0.593343754242419,
          0.9849516717192109,
          -1.039182322034903,
          -0.5089722778228615,
          1.5754679085723808,
          1.0689716222012626,
          -0.10646012155553987,
          0.6925743475393558,
          -1.0490677451686161,
          0.41026574539684446,
          0.31815419967868935,
          0.39788042488185116,
          1.9197922864280879,
          0.7513372351604846,
          -0.49112513779081807,
          1.018552474767882,
          -0.7907999537751678,
          -0.4775808546567209,
          -0.36261208757725877,
          -0.03181717269879145,
          -0.30097615395533844,
          -2.076802021923554,
          -1.2704607763854796,
          -0.13479312929572362,
          3.3210787561703645,
          0.43598619629640983,
          0.07225189915588459,
          -0.13935180545092124,
          0.3212659144838316,
          1.2935496206633084,
          -0.9509092510507696,
          1.5392070096550627,
          0.6087836589081088,
          -2.1444440467284505,
          0.9544956665476875,
          -0.857496824739772,
          0.6778075711198115,
          1.2179409008013473,
          -0.596086334587662,
          0.425920176502816,
          1.108616757989675
         ],
         "yaxis": "y2"
        },
        {
         "line": {
          "color": "rgba(128, 128, 128, 1.0)",
          "dash": "solid",
          "shape": "linear",
          "width": 1.3
         },
         "marker": {
          "size": 2,
          "symbol": "circle"
         },
         "mode": "markers",
         "name": "A",
         "text": "",
         "type": "scatter",
         "x": [
          0.3672318138838647,
          -2.1424667290773685,
          -0.28173626906561283,
          -2.4135030011737877,
          0.3102722877837673,
          -0.3748046873026527,
          -0.4791570987860799,
          1.208456328551963,
          1.146900376399483,
          0.8088443602656821,
          -1.1601701049822761,
          -0.8514556565308268,
          -0.5322340208981775,
          1.0989963327471792,
          -0.625342001465988,
          1.0449944096738975,
          0.45015551276717897,
          0.7774192052488628,
          -0.41893789767812306,
          0.4511229387345986,
          -0.7673098263317347,
          1.197830841721251,
          -0.10534471250754213,
          -1.5791562853944654,
          -1.1077125022845524,
          -0.7995474906917599,
          -0.5637887345823027,
          1.693809113288081,
          0.6933662256603845,
          0.18103874435787085,
          0.12837699015594436,
          1.3062060651354486,
          1.6209122856217475,
          -0.2889973430098159,
          -1.7879128911997157,
          -1.5657381506559054,
          -0.27584606256114336,
          -0.17763219598355098,
          -0.14319574500723764,
          -0.870008223190852,
          1.3863142642463189,
          0.6486436440906672,
          -0.45994283084068716,
          0.14225137252631778,
          -0.1834001973200239,
          -1.1134361029729902,
          1.7464350892279725,
          -0.5956678809102903,
          0.03494358936374005,
          -0.466154856825928,
          -0.952062100706259,
          0.35111689651096534,
          0.33722093830845856,
          -1.9450469586120391,
          0.8160436843240609,
          1.167075165999964,
          0.7980637952989431,
          -1.0807106924455065,
          -0.17961229465135792,
          -0.9157918490686792,
          -1.0971543602553622,
          -1.8988120593192948,
          1.4236144293489872,
          -0.2828635516348445,
          -0.15699367249331792,
          -0.45611755514868535,
          -0.3290515493410809,
          -1.895266947476466,
          -0.8986831933186461,
          0.15001627872780374,
          -1.1958615103244818,
          0.4502177420378455,
          -0.9268719392086243,
          -0.26837130412057664,
          -1.181103172771823,
          -0.05936790254849916,
          -1.3486964467972422,
          -0.5924612851532695,
          0.28807816700515054,
          0.3122386890129999,
          -0.5039739491423175,
          0.10803081731234535,
          0.9662208625783415,
          -0.37951751553387963,
          -2.698361741666047,
          -1.5569415578650314,
          0.5311637934562251,
          1.5365363280210986,
          0.5900394641608302,
          -0.04586668606976747,
          -1.0903383324548148,
          0.4972690986459772,
          -0.017454951836177974,
          1.0334508032642373,
          0.542645294566316,
          -0.3592240957107388,
          -0.806178211953457,
          -2.0863905654565262,
          1.1022367325853422,
          0.7255505180787332
         ],
         "xaxis": "x3",
         "y": [
          -1.3065340728440185,
          -0.4228569613907754,
          0.45161595055524156,
          1.7602492264490932,
          -0.7778588266274128,
          -0.22876582887016242,
          2.054624102518116,
          0.017164726374088564,
          0.8408615581411037,
          0.46664326722884075,
          0.4512840160401709,
          -0.3312831699326283,
          -0.38483224883279044,
          0.6743961048208689,
          -0.8224671889042517,
          -0.3439007092103924,
          -0.06932869669048287,
          0.8709698025322423,
          -0.19899818380372442,
          -1.9521052872452325,
          0.515413801783241,
          1.460892380463078,
          1.0400891531540952,
          -0.4148469012882354,
          0.528879745585174,
          -1.719394474619523,
          -0.25898285340053234,
          -0.6011568006493835,
          0.1698692553475717,
          -0.8088471964721285,
          1.4428769284963092,
          0.9665392502290573,
          0.6365834094146309,
          -0.2516742076314244,
          0.684001328181953,
          -0.4244927905709274,
          -2.2271126318500145,
          1.3097059056826534,
          1.0112070637749084,
          -0.22241402852990858,
          0.8532821858237332,
          -1.6374495930083417,
          -1.3988128186664763,
          0.37167029121186534,
          0.3724568515114425,
          0.7800271353386294,
          1.1614399816743937,
          0.14164053766580517,
          0.5109377744920892,
          0.6616810764659825,
          -1.072964278711645,
          -1.4614036047221062,
          -1.3477649412536636,
          0.7852269196346882,
          1.2251558492732308,
          0.3931092448539835,
          0.8858257989659072,
          0.7433565435138623,
          -0.039178256209496685,
          -0.593343754242419,
          0.9849516717192109,
          -1.039182322034903,
          -0.5089722778228615,
          1.5754679085723808,
          1.0689716222012626,
          -0.10646012155553987,
          0.6925743475393558,
          -1.0490677451686161,
          0.41026574539684446,
          0.31815419967868935,
          0.39788042488185116,
          1.9197922864280879,
          0.7513372351604846,
          -0.49112513779081807,
          1.018552474767882,
          -0.7907999537751678,
          -0.4775808546567209,
          -0.36261208757725877,
          -0.03181717269879145,
          -0.30097615395533844,
          -2.076802021923554,
          -1.2704607763854796,
          -0.13479312929572362,
          3.3210787561703645,
          0.43598619629640983,
          0.07225189915588459,
          -0.13935180545092124,
          0.3212659144838316,
          1.2935496206633084,
          -0.9509092510507696,
          1.5392070096550627,
          0.6087836589081088,
          -2.1444440467284505,
          0.9544956665476875,
          -0.857496824739772,
          0.6778075711198115,
          1.2179409008013473,
          -0.596086334587662,
          0.425920176502816,
          1.108616757989675
         ],
         "yaxis": "y3"
        },
        {
         "line": {
          "color": "rgba(128, 128, 128, 1.0)",
          "dash": "solid",
          "shape": "linear",
          "width": 1.3
         },
         "marker": {
          "size": 2,
          "symbol": "circle"
         },
         "mode": "markers",
         "name": "A",
         "text": "",
         "type": "scatter",
         "x": [
          1.2328991923762371,
          -0.830168864022708,
          2.0563555231982935,
          -1.7775663758059874,
          -2.094247816222812,
          -0.7499696172756662,
          0.3501671588282789,
          1.1157018027844863,
          -0.04970257915867584,
          1.7897546832062712,
          1.350106818681726,
          1.000881423680301,
          1.1181333967176956,
          -0.901634490475998,
          -0.5938430672545096,
          0.6085146984848496,
          1.7653351005190716,
          -0.11877117210308928,
          -0.47918491512740585,
          -0.6949209011852391,
          0.6745707069560037,
          1.7045941713724069,
          0.630195670684911,
          -0.8286279788564058,
          -0.01771831791014226,
          -0.2915945955008327,
          0.08968640732259017,
          0.19686977925029145,
          -0.7580673285562323,
          1.1071754509490623,
          1.7604151835753223,
          -0.604602969164376,
          -0.8061848173822241,
          -0.3918162398080484,
          0.36184731583956825,
          1.0138224669717055,
          1.2289555856506973,
          -1.5104563750875688,
          1.0329837789497511,
          0.36919046954687373,
          0.5481295846881931,
          0.10734329382358966,
          0.6443536660303223,
          0.5135054799885475,
          1.1010002026684818,
          -0.06741002494685439,
          -0.7750702870734348,
          -0.30912131864186215,
          1.4539175816088175,
          1.3849913436486387,
          -0.5181455523987548,
          -0.06877046307863847,
          1.0080654330757632,
          -0.9154243682317061,
          -0.6124069731288238,
          -0.03966870009048212,
          -0.10193203926360005,
          0.7254740044815357,
          0.5017251093451655,
          -0.40725204301996576,
          0.8386347472283774,
          -1.1171106924391125,
          0.9039991740035269,
          -0.2663268843187201,
          -1.3352027230151915,
          -0.9798902516618007,
          1.3471054646704976,
          0.08972911744465112,
          0.3196569419445935,
          0.4635343217316655,
          2.505980285318673,
          0.6274370827531105,
          -0.18242040636309756,
          -0.13167562628701832,
          -0.45993010443458127,
          1.4489894041582356,
          1.3025355364861801,
          -2.304907937770138,
          1.498108183577034,
          -0.1933216404740039,
          0.017955891650826426,
          0.02941761897076564,
          0.7259168525208212,
          -1.014803690858671,
          -1.2133381258287046,
          -0.6124421282843443,
          0.004000841975375483,
          -0.00037500875835609604,
          -0.6793837829972343,
          -0.21873345896770915,
          1.700188146645526,
          0.23733269933959658,
          0.7314025171250657,
          -0.1462732746113538,
          -1.9581690855990108,
          0.5053819027529176,
          0.04906169237310281,
          0.3618016405710469,
          -1.229574253546429,
          -0.32420421948521105
         ],
         "xaxis": "x4",
         "y": [
          -1.3065340728440185,
          -0.4228569613907754,
          0.45161595055524156,
          1.7602492264490932,
          -0.7778588266274128,
          -0.22876582887016242,
          2.054624102518116,
          0.017164726374088564,
          0.8408615581411037,
          0.46664326722884075,
          0.4512840160401709,
          -0.3312831699326283,
          -0.38483224883279044,
          0.6743961048208689,
          -0.8224671889042517,
          -0.3439007092103924,
          -0.06932869669048287,
          0.8709698025322423,
          -0.19899818380372442,
          -1.9521052872452325,
          0.515413801783241,
          1.460892380463078,
          1.0400891531540952,
          -0.4148469012882354,
          0.528879745585174,
          -1.719394474619523,
          -0.25898285340053234,
          -0.6011568006493835,
          0.1698692553475717,
          -0.8088471964721285,
          1.4428769284963092,
          0.9665392502290573,
          0.6365834094146309,
          -0.2516742076314244,
          0.684001328181953,
          -0.4244927905709274,
          -2.2271126318500145,
          1.3097059056826534,
          1.0112070637749084,
          -0.22241402852990858,
          0.8532821858237332,
          -1.6374495930083417,
          -1.3988128186664763,
          0.37167029121186534,
          0.3724568515114425,
          0.7800271353386294,
          1.1614399816743937,
          0.14164053766580517,
          0.5109377744920892,
          0.6616810764659825,
          -1.072964278711645,
          -1.4614036047221062,
          -1.3477649412536636,
          0.7852269196346882,
          1.2251558492732308,
          0.3931092448539835,
          0.8858257989659072,
          0.7433565435138623,
          -0.039178256209496685,
          -0.593343754242419,
          0.9849516717192109,
          -1.039182322034903,
          -0.5089722778228615,
          1.5754679085723808,
          1.0689716222012626,
          -0.10646012155553987,
          0.6925743475393558,
          -1.0490677451686161,
          0.41026574539684446,
          0.31815419967868935,
          0.39788042488185116,
          1.9197922864280879,
          0.7513372351604846,
          -0.49112513779081807,
          1.018552474767882,
          -0.7907999537751678,
          -0.4775808546567209,
          -0.36261208757725877,
          -0.03181717269879145,
          -0.30097615395533844,
          -2.076802021923554,
          -1.2704607763854796,
          -0.13479312929572362,
          3.3210787561703645,
          0.43598619629640983,
          0.07225189915588459,
          -0.13935180545092124,
          0.3212659144838316,
          1.2935496206633084,
          -0.9509092510507696,
          1.5392070096550627,
          0.6087836589081088,
          -2.1444440467284505,
          0.9544956665476875,
          -0.857496824739772,
          0.6778075711198115,
          1.2179409008013473,
          -0.596086334587662,
          0.425920176502816,
          1.108616757989675
         ],
         "yaxis": "y4"
        },
        {
         "line": {
          "color": "rgba(128, 128, 128, 1.0)",
          "dash": "solid",
          "shape": "linear",
          "width": 1.3
         },
         "marker": {
          "size": 2,
          "symbol": "circle"
         },
         "mode": "markers",
         "name": "B",
         "text": "",
         "type": "scatter",
         "x": [
          -1.3065340728440185,
          -0.4228569613907754,
          0.45161595055524156,
          1.7602492264490932,
          -0.7778588266274128,
          -0.22876582887016242,
          2.054624102518116,
          0.017164726374088564,
          0.8408615581411037,
          0.46664326722884075,
          0.4512840160401709,
          -0.3312831699326283,
          -0.38483224883279044,
          0.6743961048208689,
          -0.8224671889042517,
          -0.3439007092103924,
          -0.06932869669048287,
          0.8709698025322423,
          -0.19899818380372442,
          -1.9521052872452325,
          0.515413801783241,
          1.460892380463078,
          1.0400891531540952,
          -0.4148469012882354,
          0.528879745585174,
          -1.719394474619523,
          -0.25898285340053234,
          -0.6011568006493835,
          0.1698692553475717,
          -0.8088471964721285,
          1.4428769284963092,
          0.9665392502290573,
          0.6365834094146309,
          -0.2516742076314244,
          0.684001328181953,
          -0.4244927905709274,
          -2.2271126318500145,
          1.3097059056826534,
          1.0112070637749084,
          -0.22241402852990858,
          0.8532821858237332,
          -1.6374495930083417,
          -1.3988128186664763,
          0.37167029121186534,
          0.3724568515114425,
          0.7800271353386294,
          1.1614399816743937,
          0.14164053766580517,
          0.5109377744920892,
          0.6616810764659825,
          -1.072964278711645,
          -1.4614036047221062,
          -1.3477649412536636,
          0.7852269196346882,
          1.2251558492732308,
          0.3931092448539835,
          0.8858257989659072,
          0.7433565435138623,
          -0.039178256209496685,
          -0.593343754242419,
          0.9849516717192109,
          -1.039182322034903,
          -0.5089722778228615,
          1.5754679085723808,
          1.0689716222012626,
          -0.10646012155553987,
          0.6925743475393558,
          -1.0490677451686161,
          0.41026574539684446,
          0.31815419967868935,
          0.39788042488185116,
          1.9197922864280879,
          0.7513372351604846,
          -0.49112513779081807,
          1.018552474767882,
          -0.7907999537751678,
          -0.4775808546567209,
          -0.36261208757725877,
          -0.03181717269879145,
          -0.30097615395533844,
          -2.076802021923554,
          -1.2704607763854796,
          -0.13479312929572362,
          3.3210787561703645,
          0.43598619629640983,
          0.07225189915588459,
          -0.13935180545092124,
          0.3212659144838316,
          1.2935496206633084,
          -0.9509092510507696,
          1.5392070096550627,
          0.6087836589081088,
          -2.1444440467284505,
          0.9544956665476875,
          -0.857496824739772,
          0.6778075711198115,
          1.2179409008013473,
          -0.596086334587662,
          0.425920176502816,
          1.108616757989675
         ],
         "xaxis": "x5",
         "y": [
          0.076380480159592,
          0.08646440652428741,
          1.1041743263032135,
          -0.06065249177480989,
          1.1158411079241686,
          1.6133613745631155,
          0.05340953679834792,
          -0.42914227823509377,
          -0.1028872175735376,
          1.033686867939501,
          -1.6840599858682372,
          0.3865391451330911,
          1.4581082386095199,
          -0.7223919054141509,
          0.7217112921126926,
          -1.0001691898725158,
          -0.10839206717353982,
          -0.5084571342754007,
          1.8664713751521251,
          -1.4023291454531368,
          -1.1148710523659369,
          0.5924728014240198,
          -0.918440038300026,
          0.45194603732122307,
          -2.2370865111124707,
          0.057120996082092076,
          0.1892931975586576,
          0.5560735100773853,
          -1.1640079711612021,
          0.5574394528580334,
          -0.5396815622024924,
          0.7130490503032691,
          1.4092533893640082,
          0.3827151737243639,
          -0.35340998286701436,
          -0.7315309817303334,
          -1.6993336047222958,
          -1.1549826349293644,
          -1.4765626605201803,
          1.4701603438257402,
          -0.13971173044107246,
          3.9586027040379634,
          0.08176781880561644,
          1.853009485069379,
          -0.14848980305939366,
          -0.62944160405378,
          -0.027529386267978004,
          -2.516303860965749,
          1.7106618386711354,
          0.9863521802120643,
          0.49515861120031657,
          -0.5163479086460222,
          1.470739856691369,
          -0.6648677669672133,
          -1.053546073700315,
          -1.8239198526251938,
          0.18986164938309566,
          -1.5095726842240433,
          -0.22875417122021255,
          0.5103075967452559,
          1.0712524278458908,
          0.7330232317190783,
          -0.16648595488595935,
          1.2066078980355681,
          0.040371431022839264,
          -2.7909964066938464,
          -0.4786723564156615,
          0.31665889515665435,
          0.8598709717969121,
          -0.01923163409763723,
          -0.9960108890883996,
          -1.3916938760540336,
          0.14039543644735017,
          0.1343731160397544,
          1.2305581999547246,
          1.2237222119601092,
          0.025999994185658175,
          -1.4851564513254543,
          0.11248774241419583,
          0.8074559170052702,
          0.9475011673456759,
          0.2829955338110016,
          1.0492182907525678,
          -0.6002253303773148,
          -0.6874873930601744,
          1.0097873349475586,
          -0.7285374894247015,
          -0.7252149257453662,
          -0.43899766366627757,
          -0.7043503315234588,
          -1.1487042296369459,
          -1.8814108671660597,
          -0.3695624253374333,
          0.09574677111013467,
          -0.934181843147949,
          -1.1065730673918852,
          -1.9406809643648932,
          0.8616231013412039,
          0.049080397141630476,
          -0.7029204029101687
         ],
         "yaxis": "y5"
        },
        {
         "histfunc": "count",
         "histnorm": "",
         "marker": {
          "color": "rgba(55, 128, 191, 1.0)",
          "line": {
           "color": "#4D5663",
           "width": 1.3
          }
         },
         "name": "B",
         "nbinsx": 10,
         "opacity": 0.8,
         "orientation": "v",
         "type": "histogram",
         "x": [
          0.076380480159592,
          0.08646440652428741,
          1.1041743263032135,
          -0.06065249177480989,
          1.1158411079241686,
          1.6133613745631155,
          0.05340953679834792,
          -0.42914227823509377,
          -0.1028872175735376,
          1.033686867939501,
          -1.6840599858682372,
          0.3865391451330911,
          1.4581082386095199,
          -0.7223919054141509,
          0.7217112921126926,
          -1.0001691898725158,
          -0.10839206717353982,
          -0.5084571342754007,
          1.8664713751521251,
          -1.4023291454531368,
          -1.1148710523659369,
          0.5924728014240198,
          -0.918440038300026,
          0.45194603732122307,
          -2.2370865111124707,
          0.057120996082092076,
          0.1892931975586576,
          0.5560735100773853,
          -1.1640079711612021,
          0.5574394528580334,
          -0.5396815622024924,
          0.7130490503032691,
          1.4092533893640082,
          0.3827151737243639,
          -0.35340998286701436,
          -0.7315309817303334,
          -1.6993336047222958,
          -1.1549826349293644,
          -1.4765626605201803,
          1.4701603438257402,
          -0.13971173044107246,
          3.9586027040379634,
          0.08176781880561644,
          1.853009485069379,
          -0.14848980305939366,
          -0.62944160405378,
          -0.027529386267978004,
          -2.516303860965749,
          1.7106618386711354,
          0.9863521802120643,
          0.49515861120031657,
          -0.5163479086460222,
          1.470739856691369,
          -0.6648677669672133,
          -1.053546073700315,
          -1.8239198526251938,
          0.18986164938309566,
          -1.5095726842240433,
          -0.22875417122021255,
          0.5103075967452559,
          1.0712524278458908,
          0.7330232317190783,
          -0.16648595488595935,
          1.2066078980355681,
          0.040371431022839264,
          -2.7909964066938464,
          -0.4786723564156615,
          0.31665889515665435,
          0.8598709717969121,
          -0.01923163409763723,
          -0.9960108890883996,
          -1.3916938760540336,
          0.14039543644735017,
          0.1343731160397544,
          1.2305581999547246,
          1.2237222119601092,
          0.025999994185658175,
          -1.4851564513254543,
          0.11248774241419583,
          0.8074559170052702,
          0.9475011673456759,
          0.2829955338110016,
          1.0492182907525678,
          -0.6002253303773148,
          -0.6874873930601744,
          1.0097873349475586,
          -0.7285374894247015,
          -0.7252149257453662,
          -0.43899766366627757,
          -0.7043503315234588,
          -1.1487042296369459,
          -1.8814108671660597,
          -0.3695624253374333,
          0.09574677111013467,
          -0.934181843147949,
          -1.1065730673918852,
          -1.9406809643648932,
          0.8616231013412039,
          0.049080397141630476,
          -0.7029204029101687
         ],
         "xaxis": "x6",
         "yaxis": "y6"
        },
        {
         "line": {
          "color": "rgba(128, 128, 128, 1.0)",
          "dash": "solid",
          "shape": "linear",
          "width": 1.3
         },
         "marker": {
          "size": 2,
          "symbol": "circle"
         },
         "mode": "markers",
         "name": "B",
         "text": "",
         "type": "scatter",
         "x": [
          0.3672318138838647,
          -2.1424667290773685,
          -0.28173626906561283,
          -2.4135030011737877,
          0.3102722877837673,
          -0.3748046873026527,
          -0.4791570987860799,
          1.208456328551963,
          1.146900376399483,
          0.8088443602656821,
          -1.1601701049822761,
          -0.8514556565308268,
          -0.5322340208981775,
          1.0989963327471792,
          -0.625342001465988,
          1.0449944096738975,
          0.45015551276717897,
          0.7774192052488628,
          -0.41893789767812306,
          0.4511229387345986,
          -0.7673098263317347,
          1.197830841721251,
          -0.10534471250754213,
          -1.5791562853944654,
          -1.1077125022845524,
          -0.7995474906917599,
          -0.5637887345823027,
          1.693809113288081,
          0.6933662256603845,
          0.18103874435787085,
          0.12837699015594436,
          1.3062060651354486,
          1.6209122856217475,
          -0.2889973430098159,
          -1.7879128911997157,
          -1.5657381506559054,
          -0.27584606256114336,
          -0.17763219598355098,
          -0.14319574500723764,
          -0.870008223190852,
          1.3863142642463189,
          0.6486436440906672,
          -0.45994283084068716,
          0.14225137252631778,
          -0.1834001973200239,
          -1.1134361029729902,
          1.7464350892279725,
          -0.5956678809102903,
          0.03494358936374005,
          -0.466154856825928,
          -0.952062100706259,
          0.35111689651096534,
          0.33722093830845856,
          -1.9450469586120391,
          0.8160436843240609,
          1.167075165999964,
          0.7980637952989431,
          -1.0807106924455065,
          -0.17961229465135792,
          -0.9157918490686792,
          -1.0971543602553622,
          -1.8988120593192948,
          1.4236144293489872,
          -0.2828635516348445,
          -0.15699367249331792,
          -0.45611755514868535,
          -0.3290515493410809,
          -1.895266947476466,
          -0.8986831933186461,
          0.15001627872780374,
          -1.1958615103244818,
          0.4502177420378455,
          -0.9268719392086243,
          -0.26837130412057664,
          -1.181103172771823,
          -0.05936790254849916,
          -1.3486964467972422,
          -0.5924612851532695,
          0.28807816700515054,
          0.3122386890129999,
          -0.5039739491423175,
          0.10803081731234535,
          0.9662208625783415,
          -0.37951751553387963,
          -2.698361741666047,
          -1.5569415578650314,
          0.5311637934562251,
          1.5365363280210986,
          0.5900394641608302,
          -0.04586668606976747,
          -1.0903383324548148,
          0.4972690986459772,
          -0.017454951836177974,
          1.0334508032642373,
          0.542645294566316,
          -0.3592240957107388,
          -0.806178211953457,
          -2.0863905654565262,
          1.1022367325853422,
          0.7255505180787332
         ],
         "xaxis": "x7",
         "y": [
          0.076380480159592,
          0.08646440652428741,
          1.1041743263032135,
          -0.06065249177480989,
          1.1158411079241686,
          1.6133613745631155,
          0.05340953679834792,
          -0.42914227823509377,
          -0.1028872175735376,
          1.033686867939501,
          -1.6840599858682372,
          0.3865391451330911,
          1.4581082386095199,
          -0.7223919054141509,
          0.7217112921126926,
          -1.0001691898725158,
          -0.10839206717353982,
          -0.5084571342754007,
          1.8664713751521251,
          -1.4023291454531368,
          -1.1148710523659369,
          0.5924728014240198,
          -0.918440038300026,
          0.45194603732122307,
          -2.2370865111124707,
          0.057120996082092076,
          0.1892931975586576,
          0.5560735100773853,
          -1.1640079711612021,
          0.5574394528580334,
          -0.5396815622024924,
          0.7130490503032691,
          1.4092533893640082,
          0.3827151737243639,
          -0.35340998286701436,
          -0.7315309817303334,
          -1.6993336047222958,
          -1.1549826349293644,
          -1.4765626605201803,
          1.4701603438257402,
          -0.13971173044107246,
          3.9586027040379634,
          0.08176781880561644,
          1.853009485069379,
          -0.14848980305939366,
          -0.62944160405378,
          -0.027529386267978004,
          -2.516303860965749,
          1.7106618386711354,
          0.9863521802120643,
          0.49515861120031657,
          -0.5163479086460222,
          1.470739856691369,
          -0.6648677669672133,
          -1.053546073700315,
          -1.8239198526251938,
          0.18986164938309566,
          -1.5095726842240433,
          -0.22875417122021255,
          0.5103075967452559,
          1.0712524278458908,
          0.7330232317190783,
          -0.16648595488595935,
          1.2066078980355681,
          0.040371431022839264,
          -2.7909964066938464,
          -0.4786723564156615,
          0.31665889515665435,
          0.8598709717969121,
          -0.01923163409763723,
          -0.9960108890883996,
          -1.3916938760540336,
          0.14039543644735017,
          0.1343731160397544,
          1.2305581999547246,
          1.2237222119601092,
          0.025999994185658175,
          -1.4851564513254543,
          0.11248774241419583,
          0.8074559170052702,
          0.9475011673456759,
          0.2829955338110016,
          1.0492182907525678,
          -0.6002253303773148,
          -0.6874873930601744,
          1.0097873349475586,
          -0.7285374894247015,
          -0.7252149257453662,
          -0.43899766366627757,
          -0.7043503315234588,
          -1.1487042296369459,
          -1.8814108671660597,
          -0.3695624253374333,
          0.09574677111013467,
          -0.934181843147949,
          -1.1065730673918852,
          -1.9406809643648932,
          0.8616231013412039,
          0.049080397141630476,
          -0.7029204029101687
         ],
         "yaxis": "y7"
        },
        {
         "line": {
          "color": "rgba(128, 128, 128, 1.0)",
          "dash": "solid",
          "shape": "linear",
          "width": 1.3
         },
         "marker": {
          "size": 2,
          "symbol": "circle"
         },
         "mode": "markers",
         "name": "B",
         "text": "",
         "type": "scatter",
         "x": [
          1.2328991923762371,
          -0.830168864022708,
          2.0563555231982935,
          -1.7775663758059874,
          -2.094247816222812,
          -0.7499696172756662,
          0.3501671588282789,
          1.1157018027844863,
          -0.04970257915867584,
          1.7897546832062712,
          1.350106818681726,
          1.000881423680301,
          1.1181333967176956,
          -0.901634490475998,
          -0.5938430672545096,
          0.6085146984848496,
          1.7653351005190716,
          -0.11877117210308928,
          -0.47918491512740585,
          -0.6949209011852391,
          0.6745707069560037,
          1.7045941713724069,
          0.630195670684911,
          -0.8286279788564058,
          -0.01771831791014226,
          -0.2915945955008327,
          0.08968640732259017,
          0.19686977925029145,
          -0.7580673285562323,
          1.1071754509490623,
          1.7604151835753223,
          -0.604602969164376,
          -0.8061848173822241,
          -0.3918162398080484,
          0.36184731583956825,
          1.0138224669717055,
          1.2289555856506973,
          -1.5104563750875688,
          1.0329837789497511,
          0.36919046954687373,
          0.5481295846881931,
          0.10734329382358966,
          0.6443536660303223,
          0.5135054799885475,
          1.1010002026684818,
          -0.06741002494685439,
          -0.7750702870734348,
          -0.30912131864186215,
          1.4539175816088175,
          1.3849913436486387,
          -0.5181455523987548,
          -0.06877046307863847,
          1.0080654330757632,
          -0.9154243682317061,
          -0.6124069731288238,
          -0.03966870009048212,
          -0.10193203926360005,
          0.7254740044815357,
          0.5017251093451655,
          -0.40725204301996576,
          0.8386347472283774,
          -1.1171106924391125,
          0.9039991740035269,
          -0.2663268843187201,
          -1.3352027230151915,
          -0.9798902516618007,
          1.3471054646704976,
          0.08972911744465112,
          0.3196569419445935,
          0.4635343217316655,
          2.505980285318673,
          0.6274370827531105,
          -0.18242040636309756,
          -0.13167562628701832,
          -0.45993010443458127,
          1.4489894041582356,
          1.3025355364861801,
          -2.304907937770138,
          1.498108183577034,
          -0.1933216404740039,
          0.017955891650826426,
          0.02941761897076564,
          0.7259168525208212,
          -1.014803690858671,
          -1.2133381258287046,
          -0.6124421282843443,
          0.004000841975375483,
          -0.00037500875835609604,
          -0.6793837829972343,
          -0.21873345896770915,
          1.700188146645526,
          0.23733269933959658,
          0.7314025171250657,
          -0.1462732746113538,
          -1.9581690855990108,
          0.5053819027529176,
          0.04906169237310281,
          0.3618016405710469,
          -1.229574253546429,
          -0.32420421948521105
         ],
         "xaxis": "x8",
         "y": [
          0.076380480159592,
          0.08646440652428741,
          1.1041743263032135,
          -0.06065249177480989,
          1.1158411079241686,
          1.6133613745631155,
          0.05340953679834792,
          -0.42914227823509377,
          -0.1028872175735376,
          1.033686867939501,
          -1.6840599858682372,
          0.3865391451330911,
          1.4581082386095199,
          -0.7223919054141509,
          0.7217112921126926,
          -1.0001691898725158,
          -0.10839206717353982,
          -0.5084571342754007,
          1.8664713751521251,
          -1.4023291454531368,
          -1.1148710523659369,
          0.5924728014240198,
          -0.918440038300026,
          0.45194603732122307,
          -2.2370865111124707,
          0.057120996082092076,
          0.1892931975586576,
          0.5560735100773853,
          -1.1640079711612021,
          0.5574394528580334,
          -0.5396815622024924,
          0.7130490503032691,
          1.4092533893640082,
          0.3827151737243639,
          -0.35340998286701436,
          -0.7315309817303334,
          -1.6993336047222958,
          -1.1549826349293644,
          -1.4765626605201803,
          1.4701603438257402,
          -0.13971173044107246,
          3.9586027040379634,
          0.08176781880561644,
          1.853009485069379,
          -0.14848980305939366,
          -0.62944160405378,
          -0.027529386267978004,
          -2.516303860965749,
          1.7106618386711354,
          0.9863521802120643,
          0.49515861120031657,
          -0.5163479086460222,
          1.470739856691369,
          -0.6648677669672133,
          -1.053546073700315,
          -1.8239198526251938,
          0.18986164938309566,
          -1.5095726842240433,
          -0.22875417122021255,
          0.5103075967452559,
          1.0712524278458908,
          0.7330232317190783,
          -0.16648595488595935,
          1.2066078980355681,
          0.040371431022839264,
          -2.7909964066938464,
          -0.4786723564156615,
          0.31665889515665435,
          0.8598709717969121,
          -0.01923163409763723,
          -0.9960108890883996,
          -1.3916938760540336,
          0.14039543644735017,
          0.1343731160397544,
          1.2305581999547246,
          1.2237222119601092,
          0.025999994185658175,
          -1.4851564513254543,
          0.11248774241419583,
          0.8074559170052702,
          0.9475011673456759,
          0.2829955338110016,
          1.0492182907525678,
          -0.6002253303773148,
          -0.6874873930601744,
          1.0097873349475586,
          -0.7285374894247015,
          -0.7252149257453662,
          -0.43899766366627757,
          -0.7043503315234588,
          -1.1487042296369459,
          -1.8814108671660597,
          -0.3695624253374333,
          0.09574677111013467,
          -0.934181843147949,
          -1.1065730673918852,
          -1.9406809643648932,
          0.8616231013412039,
          0.049080397141630476,
          -0.7029204029101687
         ],
         "yaxis": "y8"
        },
        {
         "line": {
          "color": "rgba(128, 128, 128, 1.0)",
          "dash": "solid",
          "shape": "linear",
          "width": 1.3
         },
         "marker": {
          "size": 2,
          "symbol": "circle"
         },
         "mode": "markers",
         "name": "C",
         "text": "",
         "type": "scatter",
         "x": [
          -1.3065340728440185,
          -0.4228569613907754,
          0.45161595055524156,
          1.7602492264490932,
          -0.7778588266274128,
          -0.22876582887016242,
          2.054624102518116,
          0.017164726374088564,
          0.8408615581411037,
          0.46664326722884075,
          0.4512840160401709,
          -0.3312831699326283,
          -0.38483224883279044,
          0.6743961048208689,
          -0.8224671889042517,
          -0.3439007092103924,
          -0.06932869669048287,
          0.8709698025322423,
          -0.19899818380372442,
          -1.9521052872452325,
          0.515413801783241,
          1.460892380463078,
          1.0400891531540952,
          -0.4148469012882354,
          0.528879745585174,
          -1.719394474619523,
          -0.25898285340053234,
          -0.6011568006493835,
          0.1698692553475717,
          -0.8088471964721285,
          1.4428769284963092,
          0.9665392502290573,
          0.6365834094146309,
          -0.2516742076314244,
          0.684001328181953,
          -0.4244927905709274,
          -2.2271126318500145,
          1.3097059056826534,
          1.0112070637749084,
          -0.22241402852990858,
          0.8532821858237332,
          -1.6374495930083417,
          -1.3988128186664763,
          0.37167029121186534,
          0.3724568515114425,
          0.7800271353386294,
          1.1614399816743937,
          0.14164053766580517,
          0.5109377744920892,
          0.6616810764659825,
          -1.072964278711645,
          -1.4614036047221062,
          -1.3477649412536636,
          0.7852269196346882,
          1.2251558492732308,
          0.3931092448539835,
          0.8858257989659072,
          0.7433565435138623,
          -0.039178256209496685,
          -0.593343754242419,
          0.9849516717192109,
          -1.039182322034903,
          -0.5089722778228615,
          1.5754679085723808,
          1.0689716222012626,
          -0.10646012155553987,
          0.6925743475393558,
          -1.0490677451686161,
          0.41026574539684446,
          0.31815419967868935,
          0.39788042488185116,
          1.9197922864280879,
          0.7513372351604846,
          -0.49112513779081807,
          1.018552474767882,
          -0.7907999537751678,
          -0.4775808546567209,
          -0.36261208757725877,
          -0.03181717269879145,
          -0.30097615395533844,
          -2.076802021923554,
          -1.2704607763854796,
          -0.13479312929572362,
          3.3210787561703645,
          0.43598619629640983,
          0.07225189915588459,
          -0.13935180545092124,
          0.3212659144838316,
          1.2935496206633084,
          -0.9509092510507696,
          1.5392070096550627,
          0.6087836589081088,
          -2.1444440467284505,
          0.9544956665476875,
          -0.857496824739772,
          0.6778075711198115,
          1.2179409008013473,
          -0.596086334587662,
          0.425920176502816,
          1.108616757989675
         ],
         "xaxis": "x9",
         "y": [
          0.3672318138838647,
          -2.1424667290773685,
          -0.28173626906561283,
          -2.4135030011737877,
          0.3102722877837673,
          -0.3748046873026527,
          -0.4791570987860799,
          1.208456328551963,
          1.146900376399483,
          0.8088443602656821,
          -1.1601701049822761,
          -0.8514556565308268,
          -0.5322340208981775,
          1.0989963327471792,
          -0.625342001465988,
          1.0449944096738975,
          0.45015551276717897,
          0.7774192052488628,
          -0.41893789767812306,
          0.4511229387345986,
          -0.7673098263317347,
          1.197830841721251,
          -0.10534471250754213,
          -1.5791562853944654,
          -1.1077125022845524,
          -0.7995474906917599,
          -0.5637887345823027,
          1.693809113288081,
          0.6933662256603845,
          0.18103874435787085,
          0.12837699015594436,
          1.3062060651354486,
          1.6209122856217475,
          -0.2889973430098159,
          -1.7879128911997157,
          -1.5657381506559054,
          -0.27584606256114336,
          -0.17763219598355098,
          -0.14319574500723764,
          -0.870008223190852,
          1.3863142642463189,
          0.6486436440906672,
          -0.45994283084068716,
          0.14225137252631778,
          -0.1834001973200239,
          -1.1134361029729902,
          1.7464350892279725,
          -0.5956678809102903,
          0.03494358936374005,
          -0.466154856825928,
          -0.952062100706259,
          0.35111689651096534,
          0.33722093830845856,
          -1.9450469586120391,
          0.8160436843240609,
          1.167075165999964,
          0.7980637952989431,
          -1.0807106924455065,
          -0.17961229465135792,
          -0.9157918490686792,
          -1.0971543602553622,
          -1.8988120593192948,
          1.4236144293489872,
          -0.2828635516348445,
          -0.15699367249331792,
          -0.45611755514868535,
          -0.3290515493410809,
          -1.895266947476466,
          -0.8986831933186461,
          0.15001627872780374,
          -1.1958615103244818,
          0.4502177420378455,
          -0.9268719392086243,
          -0.26837130412057664,
          -1.181103172771823,
          -0.05936790254849916,
          -1.3486964467972422,
          -0.5924612851532695,
          0.28807816700515054,
          0.3122386890129999,
          -0.5039739491423175,
          0.10803081731234535,
          0.9662208625783415,
          -0.37951751553387963,
          -2.698361741666047,
          -1.5569415578650314,
          0.5311637934562251,
          1.5365363280210986,
          0.5900394641608302,
          -0.04586668606976747,
          -1.0903383324548148,
          0.4972690986459772,
          -0.017454951836177974,
          1.0334508032642373,
          0.542645294566316,
          -0.3592240957107388,
          -0.806178211953457,
          -2.0863905654565262,
          1.1022367325853422,
          0.7255505180787332
         ],
         "yaxis": "y9"
        },
        {
         "line": {
          "color": "rgba(128, 128, 128, 1.0)",
          "dash": "solid",
          "shape": "linear",
          "width": 1.3
         },
         "marker": {
          "size": 2,
          "symbol": "circle"
         },
         "mode": "markers",
         "name": "C",
         "text": "",
         "type": "scatter",
         "x": [
          0.076380480159592,
          0.08646440652428741,
          1.1041743263032135,
          -0.06065249177480989,
          1.1158411079241686,
          1.6133613745631155,
          0.05340953679834792,
          -0.42914227823509377,
          -0.1028872175735376,
          1.033686867939501,
          -1.6840599858682372,
          0.3865391451330911,
          1.4581082386095199,
          -0.7223919054141509,
          0.7217112921126926,
          -1.0001691898725158,
          -0.10839206717353982,
          -0.5084571342754007,
          1.8664713751521251,
          -1.4023291454531368,
          -1.1148710523659369,
          0.5924728014240198,
          -0.918440038300026,
          0.45194603732122307,
          -2.2370865111124707,
          0.057120996082092076,
          0.1892931975586576,
          0.5560735100773853,
          -1.1640079711612021,
          0.5574394528580334,
          -0.5396815622024924,
          0.7130490503032691,
          1.4092533893640082,
          0.3827151737243639,
          -0.35340998286701436,
          -0.7315309817303334,
          -1.6993336047222958,
          -1.1549826349293644,
          -1.4765626605201803,
          1.4701603438257402,
          -0.13971173044107246,
          3.9586027040379634,
          0.08176781880561644,
          1.853009485069379,
          -0.14848980305939366,
          -0.62944160405378,
          -0.027529386267978004,
          -2.516303860965749,
          1.7106618386711354,
          0.9863521802120643,
          0.49515861120031657,
          -0.5163479086460222,
          1.470739856691369,
          -0.6648677669672133,
          -1.053546073700315,
          -1.8239198526251938,
          0.18986164938309566,
          -1.5095726842240433,
          -0.22875417122021255,
          0.5103075967452559,
          1.0712524278458908,
          0.7330232317190783,
          -0.16648595488595935,
          1.2066078980355681,
          0.040371431022839264,
          -2.7909964066938464,
          -0.4786723564156615,
          0.31665889515665435,
          0.8598709717969121,
          -0.01923163409763723,
          -0.9960108890883996,
          -1.3916938760540336,
          0.14039543644735017,
          0.1343731160397544,
          1.2305581999547246,
          1.2237222119601092,
          0.025999994185658175,
          -1.4851564513254543,
          0.11248774241419583,
          0.8074559170052702,
          0.9475011673456759,
          0.2829955338110016,
          1.0492182907525678,
          -0.6002253303773148,
          -0.6874873930601744,
          1.0097873349475586,
          -0.7285374894247015,
          -0.7252149257453662,
          -0.43899766366627757,
          -0.7043503315234588,
          -1.1487042296369459,
          -1.8814108671660597,
          -0.3695624253374333,
          0.09574677111013467,
          -0.934181843147949,
          -1.1065730673918852,
          -1.9406809643648932,
          0.8616231013412039,
          0.049080397141630476,
          -0.7029204029101687
         ],
         "xaxis": "x10",
         "y": [
          0.3672318138838647,
          -2.1424667290773685,
          -0.28173626906561283,
          -2.4135030011737877,
          0.3102722877837673,
          -0.3748046873026527,
          -0.4791570987860799,
          1.208456328551963,
          1.146900376399483,
          0.8088443602656821,
          -1.1601701049822761,
          -0.8514556565308268,
          -0.5322340208981775,
          1.0989963327471792,
          -0.625342001465988,
          1.0449944096738975,
          0.45015551276717897,
          0.7774192052488628,
          -0.41893789767812306,
          0.4511229387345986,
          -0.7673098263317347,
          1.197830841721251,
          -0.10534471250754213,
          -1.5791562853944654,
          -1.1077125022845524,
          -0.7995474906917599,
          -0.5637887345823027,
          1.693809113288081,
          0.6933662256603845,
          0.18103874435787085,
          0.12837699015594436,
          1.3062060651354486,
          1.6209122856217475,
          -0.2889973430098159,
          -1.7879128911997157,
          -1.5657381506559054,
          -0.27584606256114336,
          -0.17763219598355098,
          -0.14319574500723764,
          -0.870008223190852,
          1.3863142642463189,
          0.6486436440906672,
          -0.45994283084068716,
          0.14225137252631778,
          -0.1834001973200239,
          -1.1134361029729902,
          1.7464350892279725,
          -0.5956678809102903,
          0.03494358936374005,
          -0.466154856825928,
          -0.952062100706259,
          0.35111689651096534,
          0.33722093830845856,
          -1.9450469586120391,
          0.8160436843240609,
          1.167075165999964,
          0.7980637952989431,
          -1.0807106924455065,
          -0.17961229465135792,
          -0.9157918490686792,
          -1.0971543602553622,
          -1.8988120593192948,
          1.4236144293489872,
          -0.2828635516348445,
          -0.15699367249331792,
          -0.45611755514868535,
          -0.3290515493410809,
          -1.895266947476466,
          -0.8986831933186461,
          0.15001627872780374,
          -1.1958615103244818,
          0.4502177420378455,
          -0.9268719392086243,
          -0.26837130412057664,
          -1.181103172771823,
          -0.05936790254849916,
          -1.3486964467972422,
          -0.5924612851532695,
          0.28807816700515054,
          0.3122386890129999,
          -0.5039739491423175,
          0.10803081731234535,
          0.9662208625783415,
          -0.37951751553387963,
          -2.698361741666047,
          -1.5569415578650314,
          0.5311637934562251,
          1.5365363280210986,
          0.5900394641608302,
          -0.04586668606976747,
          -1.0903383324548148,
          0.4972690986459772,
          -0.017454951836177974,
          1.0334508032642373,
          0.542645294566316,
          -0.3592240957107388,
          -0.806178211953457,
          -2.0863905654565262,
          1.1022367325853422,
          0.7255505180787332
         ],
         "yaxis": "y10"
        },
        {
         "histfunc": "count",
         "histnorm": "",
         "marker": {
          "color": "rgba(50, 171, 96, 1.0)",
          "line": {
           "color": "#4D5663",
           "width": 1.3
          }
         },
         "name": "C",
         "nbinsx": 10,
         "opacity": 0.8,
         "orientation": "v",
         "type": "histogram",
         "x": [
          0.3672318138838647,
          -2.1424667290773685,
          -0.28173626906561283,
          -2.4135030011737877,
          0.3102722877837673,
          -0.3748046873026527,
          -0.4791570987860799,
          1.208456328551963,
          1.146900376399483,
          0.8088443602656821,
          -1.1601701049822761,
          -0.8514556565308268,
          -0.5322340208981775,
          1.0989963327471792,
          -0.625342001465988,
          1.0449944096738975,
          0.45015551276717897,
          0.7774192052488628,
          -0.41893789767812306,
          0.4511229387345986,
          -0.7673098263317347,
          1.197830841721251,
          -0.10534471250754213,
          -1.5791562853944654,
          -1.1077125022845524,
          -0.7995474906917599,
          -0.5637887345823027,
          1.693809113288081,
          0.6933662256603845,
          0.18103874435787085,
          0.12837699015594436,
          1.3062060651354486,
          1.6209122856217475,
          -0.2889973430098159,
          -1.7879128911997157,
          -1.5657381506559054,
          -0.27584606256114336,
          -0.17763219598355098,
          -0.14319574500723764,
          -0.870008223190852,
          1.3863142642463189,
          0.6486436440906672,
          -0.45994283084068716,
          0.14225137252631778,
          -0.1834001973200239,
          -1.1134361029729902,
          1.7464350892279725,
          -0.5956678809102903,
          0.03494358936374005,
          -0.466154856825928,
          -0.952062100706259,
          0.35111689651096534,
          0.33722093830845856,
          -1.9450469586120391,
          0.8160436843240609,
          1.167075165999964,
          0.7980637952989431,
          -1.0807106924455065,
          -0.17961229465135792,
          -0.9157918490686792,
          -1.0971543602553622,
          -1.8988120593192948,
          1.4236144293489872,
          -0.2828635516348445,
          -0.15699367249331792,
          -0.45611755514868535,
          -0.3290515493410809,
          -1.895266947476466,
          -0.8986831933186461,
          0.15001627872780374,
          -1.1958615103244818,
          0.4502177420378455,
          -0.9268719392086243,
          -0.26837130412057664,
          -1.181103172771823,
          -0.05936790254849916,
          -1.3486964467972422,
          -0.5924612851532695,
          0.28807816700515054,
          0.3122386890129999,
          -0.5039739491423175,
          0.10803081731234535,
          0.9662208625783415,
          -0.37951751553387963,
          -2.698361741666047,
          -1.5569415578650314,
          0.5311637934562251,
          1.5365363280210986,
          0.5900394641608302,
          -0.04586668606976747,
          -1.0903383324548148,
          0.4972690986459772,
          -0.017454951836177974,
          1.0334508032642373,
          0.542645294566316,
          -0.3592240957107388,
          -0.806178211953457,
          -2.0863905654565262,
          1.1022367325853422,
          0.7255505180787332
         ],
         "xaxis": "x11",
         "yaxis": "y11"
        },
        {
         "line": {
          "color": "rgba(128, 128, 128, 1.0)",
          "dash": "solid",
          "shape": "linear",
          "width": 1.3
         },
         "marker": {
          "size": 2,
          "symbol": "circle"
         },
         "mode": "markers",
         "name": "C",
         "text": "",
         "type": "scatter",
         "x": [
          1.2328991923762371,
          -0.830168864022708,
          2.0563555231982935,
          -1.7775663758059874,
          -2.094247816222812,
          -0.7499696172756662,
          0.3501671588282789,
          1.1157018027844863,
          -0.04970257915867584,
          1.7897546832062712,
          1.350106818681726,
          1.000881423680301,
          1.1181333967176956,
          -0.901634490475998,
          -0.5938430672545096,
          0.6085146984848496,
          1.7653351005190716,
          -0.11877117210308928,
          -0.47918491512740585,
          -0.6949209011852391,
          0.6745707069560037,
          1.7045941713724069,
          0.630195670684911,
          -0.8286279788564058,
          -0.01771831791014226,
          -0.2915945955008327,
          0.08968640732259017,
          0.19686977925029145,
          -0.7580673285562323,
          1.1071754509490623,
          1.7604151835753223,
          -0.604602969164376,
          -0.8061848173822241,
          -0.3918162398080484,
          0.36184731583956825,
          1.0138224669717055,
          1.2289555856506973,
          -1.5104563750875688,
          1.0329837789497511,
          0.36919046954687373,
          0.5481295846881931,
          0.10734329382358966,
          0.6443536660303223,
          0.5135054799885475,
          1.1010002026684818,
          -0.06741002494685439,
          -0.7750702870734348,
          -0.30912131864186215,
          1.4539175816088175,
          1.3849913436486387,
          -0.5181455523987548,
          -0.06877046307863847,
          1.0080654330757632,
          -0.9154243682317061,
          -0.6124069731288238,
          -0.03966870009048212,
          -0.10193203926360005,
          0.7254740044815357,
          0.5017251093451655,
          -0.40725204301996576,
          0.8386347472283774,
          -1.1171106924391125,
          0.9039991740035269,
          -0.2663268843187201,
          -1.3352027230151915,
          -0.9798902516618007,
          1.3471054646704976,
          0.08972911744465112,
          0.3196569419445935,
          0.4635343217316655,
          2.505980285318673,
          0.6274370827531105,
          -0.18242040636309756,
          -0.13167562628701832,
          -0.45993010443458127,
          1.4489894041582356,
          1.3025355364861801,
          -2.304907937770138,
          1.498108183577034,
          -0.1933216404740039,
          0.017955891650826426,
          0.02941761897076564,
          0.7259168525208212,
          -1.014803690858671,
          -1.2133381258287046,
          -0.6124421282843443,
          0.004000841975375483,
          -0.00037500875835609604,
          -0.6793837829972343,
          -0.21873345896770915,
          1.700188146645526,
          0.23733269933959658,
          0.7314025171250657,
          -0.1462732746113538,
          -1.9581690855990108,
          0.5053819027529176,
          0.04906169237310281,
          0.3618016405710469,
          -1.229574253546429,
          -0.32420421948521105
         ],
         "xaxis": "x12",
         "y": [
          0.3672318138838647,
          -2.1424667290773685,
          -0.28173626906561283,
          -2.4135030011737877,
          0.3102722877837673,
          -0.3748046873026527,
          -0.4791570987860799,
          1.208456328551963,
          1.146900376399483,
          0.8088443602656821,
          -1.1601701049822761,
          -0.8514556565308268,
          -0.5322340208981775,
          1.0989963327471792,
          -0.625342001465988,
          1.0449944096738975,
          0.45015551276717897,
          0.7774192052488628,
          -0.41893789767812306,
          0.4511229387345986,
          -0.7673098263317347,
          1.197830841721251,
          -0.10534471250754213,
          -1.5791562853944654,
          -1.1077125022845524,
          -0.7995474906917599,
          -0.5637887345823027,
          1.693809113288081,
          0.6933662256603845,
          0.18103874435787085,
          0.12837699015594436,
          1.3062060651354486,
          1.6209122856217475,
          -0.2889973430098159,
          -1.7879128911997157,
          -1.5657381506559054,
          -0.27584606256114336,
          -0.17763219598355098,
          -0.14319574500723764,
          -0.870008223190852,
          1.3863142642463189,
          0.6486436440906672,
          -0.45994283084068716,
          0.14225137252631778,
          -0.1834001973200239,
          -1.1134361029729902,
          1.7464350892279725,
          -0.5956678809102903,
          0.03494358936374005,
          -0.466154856825928,
          -0.952062100706259,
          0.35111689651096534,
          0.33722093830845856,
          -1.9450469586120391,
          0.8160436843240609,
          1.167075165999964,
          0.7980637952989431,
          -1.0807106924455065,
          -0.17961229465135792,
          -0.9157918490686792,
          -1.0971543602553622,
          -1.8988120593192948,
          1.4236144293489872,
          -0.2828635516348445,
          -0.15699367249331792,
          -0.45611755514868535,
          -0.3290515493410809,
          -1.895266947476466,
          -0.8986831933186461,
          0.15001627872780374,
          -1.1958615103244818,
          0.4502177420378455,
          -0.9268719392086243,
          -0.26837130412057664,
          -1.181103172771823,
          -0.05936790254849916,
          -1.3486964467972422,
          -0.5924612851532695,
          0.28807816700515054,
          0.3122386890129999,
          -0.5039739491423175,
          0.10803081731234535,
          0.9662208625783415,
          -0.37951751553387963,
          -2.698361741666047,
          -1.5569415578650314,
          0.5311637934562251,
          1.5365363280210986,
          0.5900394641608302,
          -0.04586668606976747,
          -1.0903383324548148,
          0.4972690986459772,
          -0.017454951836177974,
          1.0334508032642373,
          0.542645294566316,
          -0.3592240957107388,
          -0.806178211953457,
          -2.0863905654565262,
          1.1022367325853422,
          0.7255505180787332
         ],
         "yaxis": "y12"
        },
        {
         "line": {
          "color": "rgba(128, 128, 128, 1.0)",
          "dash": "solid",
          "shape": "linear",
          "width": 1.3
         },
         "marker": {
          "size": 2,
          "symbol": "circle"
         },
         "mode": "markers",
         "name": "D",
         "text": "",
         "type": "scatter",
         "x": [
          -1.3065340728440185,
          -0.4228569613907754,
          0.45161595055524156,
          1.7602492264490932,
          -0.7778588266274128,
          -0.22876582887016242,
          2.054624102518116,
          0.017164726374088564,
          0.8408615581411037,
          0.46664326722884075,
          0.4512840160401709,
          -0.3312831699326283,
          -0.38483224883279044,
          0.6743961048208689,
          -0.8224671889042517,
          -0.3439007092103924,
          -0.06932869669048287,
          0.8709698025322423,
          -0.19899818380372442,
          -1.9521052872452325,
          0.515413801783241,
          1.460892380463078,
          1.0400891531540952,
          -0.4148469012882354,
          0.528879745585174,
          -1.719394474619523,
          -0.25898285340053234,
          -0.6011568006493835,
          0.1698692553475717,
          -0.8088471964721285,
          1.4428769284963092,
          0.9665392502290573,
          0.6365834094146309,
          -0.2516742076314244,
          0.684001328181953,
          -0.4244927905709274,
          -2.2271126318500145,
          1.3097059056826534,
          1.0112070637749084,
          -0.22241402852990858,
          0.8532821858237332,
          -1.6374495930083417,
          -1.3988128186664763,
          0.37167029121186534,
          0.3724568515114425,
          0.7800271353386294,
          1.1614399816743937,
          0.14164053766580517,
          0.5109377744920892,
          0.6616810764659825,
          -1.072964278711645,
          -1.4614036047221062,
          -1.3477649412536636,
          0.7852269196346882,
          1.2251558492732308,
          0.3931092448539835,
          0.8858257989659072,
          0.7433565435138623,
          -0.039178256209496685,
          -0.593343754242419,
          0.9849516717192109,
          -1.039182322034903,
          -0.5089722778228615,
          1.5754679085723808,
          1.0689716222012626,
          -0.10646012155553987,
          0.6925743475393558,
          -1.0490677451686161,
          0.41026574539684446,
          0.31815419967868935,
          0.39788042488185116,
          1.9197922864280879,
          0.7513372351604846,
          -0.49112513779081807,
          1.018552474767882,
          -0.7907999537751678,
          -0.4775808546567209,
          -0.36261208757725877,
          -0.03181717269879145,
          -0.30097615395533844,
          -2.076802021923554,
          -1.2704607763854796,
          -0.13479312929572362,
          3.3210787561703645,
          0.43598619629640983,
          0.07225189915588459,
          -0.13935180545092124,
          0.3212659144838316,
          1.2935496206633084,
          -0.9509092510507696,
          1.5392070096550627,
          0.6087836589081088,
          -2.1444440467284505,
          0.9544956665476875,
          -0.857496824739772,
          0.6778075711198115,
          1.2179409008013473,
          -0.596086334587662,
          0.425920176502816,
          1.108616757989675
         ],
         "xaxis": "x13",
         "y": [
          1.2328991923762371,
          -0.830168864022708,
          2.0563555231982935,
          -1.7775663758059874,
          -2.094247816222812,
          -0.7499696172756662,
          0.3501671588282789,
          1.1157018027844863,
          -0.04970257915867584,
          1.7897546832062712,
          1.350106818681726,
          1.000881423680301,
          1.1181333967176956,
          -0.901634490475998,
          -0.5938430672545096,
          0.6085146984848496,
          1.7653351005190716,
          -0.11877117210308928,
          -0.47918491512740585,
          -0.6949209011852391,
          0.6745707069560037,
          1.7045941713724069,
          0.630195670684911,
          -0.8286279788564058,
          -0.01771831791014226,
          -0.2915945955008327,
          0.08968640732259017,
          0.19686977925029145,
          -0.7580673285562323,
          1.1071754509490623,
          1.7604151835753223,
          -0.604602969164376,
          -0.8061848173822241,
          -0.3918162398080484,
          0.36184731583956825,
          1.0138224669717055,
          1.2289555856506973,
          -1.5104563750875688,
          1.0329837789497511,
          0.36919046954687373,
          0.5481295846881931,
          0.10734329382358966,
          0.6443536660303223,
          0.5135054799885475,
          1.1010002026684818,
          -0.06741002494685439,
          -0.7750702870734348,
          -0.30912131864186215,
          1.4539175816088175,
          1.3849913436486387,
          -0.5181455523987548,
          -0.06877046307863847,
          1.0080654330757632,
          -0.9154243682317061,
          -0.6124069731288238,
          -0.03966870009048212,
          -0.10193203926360005,
          0.7254740044815357,
          0.5017251093451655,
          -0.40725204301996576,
          0.8386347472283774,
          -1.1171106924391125,
          0.9039991740035269,
          -0.2663268843187201,
          -1.3352027230151915,
          -0.9798902516618007,
          1.3471054646704976,
          0.08972911744465112,
          0.3196569419445935,
          0.4635343217316655,
          2.505980285318673,
          0.6274370827531105,
          -0.18242040636309756,
          -0.13167562628701832,
          -0.45993010443458127,
          1.4489894041582356,
          1.3025355364861801,
          -2.304907937770138,
          1.498108183577034,
          -0.1933216404740039,
          0.017955891650826426,
          0.02941761897076564,
          0.7259168525208212,
          -1.014803690858671,
          -1.2133381258287046,
          -0.6124421282843443,
          0.004000841975375483,
          -0.00037500875835609604,
          -0.6793837829972343,
          -0.21873345896770915,
          1.700188146645526,
          0.23733269933959658,
          0.7314025171250657,
          -0.1462732746113538,
          -1.9581690855990108,
          0.5053819027529176,
          0.04906169237310281,
          0.3618016405710469,
          -1.229574253546429,
          -0.32420421948521105
         ],
         "yaxis": "y13"
        },
        {
         "line": {
          "color": "rgba(128, 128, 128, 1.0)",
          "dash": "solid",
          "shape": "linear",
          "width": 1.3
         },
         "marker": {
          "size": 2,
          "symbol": "circle"
         },
         "mode": "markers",
         "name": "D",
         "text": "",
         "type": "scatter",
         "x": [
          0.076380480159592,
          0.08646440652428741,
          1.1041743263032135,
          -0.06065249177480989,
          1.1158411079241686,
          1.6133613745631155,
          0.05340953679834792,
          -0.42914227823509377,
          -0.1028872175735376,
          1.033686867939501,
          -1.6840599858682372,
          0.3865391451330911,
          1.4581082386095199,
          -0.7223919054141509,
          0.7217112921126926,
          -1.0001691898725158,
          -0.10839206717353982,
          -0.5084571342754007,
          1.8664713751521251,
          -1.4023291454531368,
          -1.1148710523659369,
          0.5924728014240198,
          -0.918440038300026,
          0.45194603732122307,
          -2.2370865111124707,
          0.057120996082092076,
          0.1892931975586576,
          0.5560735100773853,
          -1.1640079711612021,
          0.5574394528580334,
          -0.5396815622024924,
          0.7130490503032691,
          1.4092533893640082,
          0.3827151737243639,
          -0.35340998286701436,
          -0.7315309817303334,
          -1.6993336047222958,
          -1.1549826349293644,
          -1.4765626605201803,
          1.4701603438257402,
          -0.13971173044107246,
          3.9586027040379634,
          0.08176781880561644,
          1.853009485069379,
          -0.14848980305939366,
          -0.62944160405378,
          -0.027529386267978004,
          -2.516303860965749,
          1.7106618386711354,
          0.9863521802120643,
          0.49515861120031657,
          -0.5163479086460222,
          1.470739856691369,
          -0.6648677669672133,
          -1.053546073700315,
          -1.8239198526251938,
          0.18986164938309566,
          -1.5095726842240433,
          -0.22875417122021255,
          0.5103075967452559,
          1.0712524278458908,
          0.7330232317190783,
          -0.16648595488595935,
          1.2066078980355681,
          0.040371431022839264,
          -2.7909964066938464,
          -0.4786723564156615,
          0.31665889515665435,
          0.8598709717969121,
          -0.01923163409763723,
          -0.9960108890883996,
          -1.3916938760540336,
          0.14039543644735017,
          0.1343731160397544,
          1.2305581999547246,
          1.2237222119601092,
          0.025999994185658175,
          -1.4851564513254543,
          0.11248774241419583,
          0.8074559170052702,
          0.9475011673456759,
          0.2829955338110016,
          1.0492182907525678,
          -0.6002253303773148,
          -0.6874873930601744,
          1.0097873349475586,
          -0.7285374894247015,
          -0.7252149257453662,
          -0.43899766366627757,
          -0.7043503315234588,
          -1.1487042296369459,
          -1.8814108671660597,
          -0.3695624253374333,
          0.09574677111013467,
          -0.934181843147949,
          -1.1065730673918852,
          -1.9406809643648932,
          0.8616231013412039,
          0.049080397141630476,
          -0.7029204029101687
         ],
         "xaxis": "x14",
         "y": [
          1.2328991923762371,
          -0.830168864022708,
          2.0563555231982935,
          -1.7775663758059874,
          -2.094247816222812,
          -0.7499696172756662,
          0.3501671588282789,
          1.1157018027844863,
          -0.04970257915867584,
          1.7897546832062712,
          1.350106818681726,
          1.000881423680301,
          1.1181333967176956,
          -0.901634490475998,
          -0.5938430672545096,
          0.6085146984848496,
          1.7653351005190716,
          -0.11877117210308928,
          -0.47918491512740585,
          -0.6949209011852391,
          0.6745707069560037,
          1.7045941713724069,
          0.630195670684911,
          -0.8286279788564058,
          -0.01771831791014226,
          -0.2915945955008327,
          0.08968640732259017,
          0.19686977925029145,
          -0.7580673285562323,
          1.1071754509490623,
          1.7604151835753223,
          -0.604602969164376,
          -0.8061848173822241,
          -0.3918162398080484,
          0.36184731583956825,
          1.0138224669717055,
          1.2289555856506973,
          -1.5104563750875688,
          1.0329837789497511,
          0.36919046954687373,
          0.5481295846881931,
          0.10734329382358966,
          0.6443536660303223,
          0.5135054799885475,
          1.1010002026684818,
          -0.06741002494685439,
          -0.7750702870734348,
          -0.30912131864186215,
          1.4539175816088175,
          1.3849913436486387,
          -0.5181455523987548,
          -0.06877046307863847,
          1.0080654330757632,
          -0.9154243682317061,
          -0.6124069731288238,
          -0.03966870009048212,
          -0.10193203926360005,
          0.7254740044815357,
          0.5017251093451655,
          -0.40725204301996576,
          0.8386347472283774,
          -1.1171106924391125,
          0.9039991740035269,
          -0.2663268843187201,
          -1.3352027230151915,
          -0.9798902516618007,
          1.3471054646704976,
          0.08972911744465112,
          0.3196569419445935,
          0.4635343217316655,
          2.505980285318673,
          0.6274370827531105,
          -0.18242040636309756,
          -0.13167562628701832,
          -0.45993010443458127,
          1.4489894041582356,
          1.3025355364861801,
          -2.304907937770138,
          1.498108183577034,
          -0.1933216404740039,
          0.017955891650826426,
          0.02941761897076564,
          0.7259168525208212,
          -1.014803690858671,
          -1.2133381258287046,
          -0.6124421282843443,
          0.004000841975375483,
          -0.00037500875835609604,
          -0.6793837829972343,
          -0.21873345896770915,
          1.700188146645526,
          0.23733269933959658,
          0.7314025171250657,
          -0.1462732746113538,
          -1.9581690855990108,
          0.5053819027529176,
          0.04906169237310281,
          0.3618016405710469,
          -1.229574253546429,
          -0.32420421948521105
         ],
         "yaxis": "y14"
        },
        {
         "line": {
          "color": "rgba(128, 128, 128, 1.0)",
          "dash": "solid",
          "shape": "linear",
          "width": 1.3
         },
         "marker": {
          "size": 2,
          "symbol": "circle"
         },
         "mode": "markers",
         "name": "D",
         "text": "",
         "type": "scatter",
         "x": [
          0.3672318138838647,
          -2.1424667290773685,
          -0.28173626906561283,
          -2.4135030011737877,
          0.3102722877837673,
          -0.3748046873026527,
          -0.4791570987860799,
          1.208456328551963,
          1.146900376399483,
          0.8088443602656821,
          -1.1601701049822761,
          -0.8514556565308268,
          -0.5322340208981775,
          1.0989963327471792,
          -0.625342001465988,
          1.0449944096738975,
          0.45015551276717897,
          0.7774192052488628,
          -0.41893789767812306,
          0.4511229387345986,
          -0.7673098263317347,
          1.197830841721251,
          -0.10534471250754213,
          -1.5791562853944654,
          -1.1077125022845524,
          -0.7995474906917599,
          -0.5637887345823027,
          1.693809113288081,
          0.6933662256603845,
          0.18103874435787085,
          0.12837699015594436,
          1.3062060651354486,
          1.6209122856217475,
          -0.2889973430098159,
          -1.7879128911997157,
          -1.5657381506559054,
          -0.27584606256114336,
          -0.17763219598355098,
          -0.14319574500723764,
          -0.870008223190852,
          1.3863142642463189,
          0.6486436440906672,
          -0.45994283084068716,
          0.14225137252631778,
          -0.1834001973200239,
          -1.1134361029729902,
          1.7464350892279725,
          -0.5956678809102903,
          0.03494358936374005,
          -0.466154856825928,
          -0.952062100706259,
          0.35111689651096534,
          0.33722093830845856,
          -1.9450469586120391,
          0.8160436843240609,
          1.167075165999964,
          0.7980637952989431,
          -1.0807106924455065,
          -0.17961229465135792,
          -0.9157918490686792,
          -1.0971543602553622,
          -1.8988120593192948,
          1.4236144293489872,
          -0.2828635516348445,
          -0.15699367249331792,
          -0.45611755514868535,
          -0.3290515493410809,
          -1.895266947476466,
          -0.8986831933186461,
          0.15001627872780374,
          -1.1958615103244818,
          0.4502177420378455,
          -0.9268719392086243,
          -0.26837130412057664,
          -1.181103172771823,
          -0.05936790254849916,
          -1.3486964467972422,
          -0.5924612851532695,
          0.28807816700515054,
          0.3122386890129999,
          -0.5039739491423175,
          0.10803081731234535,
          0.9662208625783415,
          -0.37951751553387963,
          -2.698361741666047,
          -1.5569415578650314,
          0.5311637934562251,
          1.5365363280210986,
          0.5900394641608302,
          -0.04586668606976747,
          -1.0903383324548148,
          0.4972690986459772,
          -0.017454951836177974,
          1.0334508032642373,
          0.542645294566316,
          -0.3592240957107388,
          -0.806178211953457,
          -2.0863905654565262,
          1.1022367325853422,
          0.7255505180787332
         ],
         "xaxis": "x15",
         "y": [
          1.2328991923762371,
          -0.830168864022708,
          2.0563555231982935,
          -1.7775663758059874,
          -2.094247816222812,
          -0.7499696172756662,
          0.3501671588282789,
          1.1157018027844863,
          -0.04970257915867584,
          1.7897546832062712,
          1.350106818681726,
          1.000881423680301,
          1.1181333967176956,
          -0.901634490475998,
          -0.5938430672545096,
          0.6085146984848496,
          1.7653351005190716,
          -0.11877117210308928,
          -0.47918491512740585,
          -0.6949209011852391,
          0.6745707069560037,
          1.7045941713724069,
          0.630195670684911,
          -0.8286279788564058,
          -0.01771831791014226,
          -0.2915945955008327,
          0.08968640732259017,
          0.19686977925029145,
          -0.7580673285562323,
          1.1071754509490623,
          1.7604151835753223,
          -0.604602969164376,
          -0.8061848173822241,
          -0.3918162398080484,
          0.36184731583956825,
          1.0138224669717055,
          1.2289555856506973,
          -1.5104563750875688,
          1.0329837789497511,
          0.36919046954687373,
          0.5481295846881931,
          0.10734329382358966,
          0.6443536660303223,
          0.5135054799885475,
          1.1010002026684818,
          -0.06741002494685439,
          -0.7750702870734348,
          -0.30912131864186215,
          1.4539175816088175,
          1.3849913436486387,
          -0.5181455523987548,
          -0.06877046307863847,
          1.0080654330757632,
          -0.9154243682317061,
          -0.6124069731288238,
          -0.03966870009048212,
          -0.10193203926360005,
          0.7254740044815357,
          0.5017251093451655,
          -0.40725204301996576,
          0.8386347472283774,
          -1.1171106924391125,
          0.9039991740035269,
          -0.2663268843187201,
          -1.3352027230151915,
          -0.9798902516618007,
          1.3471054646704976,
          0.08972911744465112,
          0.3196569419445935,
          0.4635343217316655,
          2.505980285318673,
          0.6274370827531105,
          -0.18242040636309756,
          -0.13167562628701832,
          -0.45993010443458127,
          1.4489894041582356,
          1.3025355364861801,
          -2.304907937770138,
          1.498108183577034,
          -0.1933216404740039,
          0.017955891650826426,
          0.02941761897076564,
          0.7259168525208212,
          -1.014803690858671,
          -1.2133381258287046,
          -0.6124421282843443,
          0.004000841975375483,
          -0.00037500875835609604,
          -0.6793837829972343,
          -0.21873345896770915,
          1.700188146645526,
          0.23733269933959658,
          0.7314025171250657,
          -0.1462732746113538,
          -1.9581690855990108,
          0.5053819027529176,
          0.04906169237310281,
          0.3618016405710469,
          -1.229574253546429,
          -0.32420421948521105
         ],
         "yaxis": "y15"
        },
        {
         "histfunc": "count",
         "histnorm": "",
         "marker": {
          "color": "rgba(128, 0, 128, 1.0)",
          "line": {
           "color": "#4D5663",
           "width": 1.3
          }
         },
         "name": "D",
         "nbinsx": 10,
         "opacity": 0.8,
         "orientation": "v",
         "type": "histogram",
         "x": [
          1.2328991923762371,
          -0.830168864022708,
          2.0563555231982935,
          -1.7775663758059874,
          -2.094247816222812,
          -0.7499696172756662,
          0.3501671588282789,
          1.1157018027844863,
          -0.04970257915867584,
          1.7897546832062712,
          1.350106818681726,
          1.000881423680301,
          1.1181333967176956,
          -0.901634490475998,
          -0.5938430672545096,
          0.6085146984848496,
          1.7653351005190716,
          -0.11877117210308928,
          -0.47918491512740585,
          -0.6949209011852391,
          0.6745707069560037,
          1.7045941713724069,
          0.630195670684911,
          -0.8286279788564058,
          -0.01771831791014226,
          -0.2915945955008327,
          0.08968640732259017,
          0.19686977925029145,
          -0.7580673285562323,
          1.1071754509490623,
          1.7604151835753223,
          -0.604602969164376,
          -0.8061848173822241,
          -0.3918162398080484,
          0.36184731583956825,
          1.0138224669717055,
          1.2289555856506973,
          -1.5104563750875688,
          1.0329837789497511,
          0.36919046954687373,
          0.5481295846881931,
          0.10734329382358966,
          0.6443536660303223,
          0.5135054799885475,
          1.1010002026684818,
          -0.06741002494685439,
          -0.7750702870734348,
          -0.30912131864186215,
          1.4539175816088175,
          1.3849913436486387,
          -0.5181455523987548,
          -0.06877046307863847,
          1.0080654330757632,
          -0.9154243682317061,
          -0.6124069731288238,
          -0.03966870009048212,
          -0.10193203926360005,
          0.7254740044815357,
          0.5017251093451655,
          -0.40725204301996576,
          0.8386347472283774,
          -1.1171106924391125,
          0.9039991740035269,
          -0.2663268843187201,
          -1.3352027230151915,
          -0.9798902516618007,
          1.3471054646704976,
          0.08972911744465112,
          0.3196569419445935,
          0.4635343217316655,
          2.505980285318673,
          0.6274370827531105,
          -0.18242040636309756,
          -0.13167562628701832,
          -0.45993010443458127,
          1.4489894041582356,
          1.3025355364861801,
          -2.304907937770138,
          1.498108183577034,
          -0.1933216404740039,
          0.017955891650826426,
          0.02941761897076564,
          0.7259168525208212,
          -1.014803690858671,
          -1.2133381258287046,
          -0.6124421282843443,
          0.004000841975375483,
          -0.00037500875835609604,
          -0.6793837829972343,
          -0.21873345896770915,
          1.700188146645526,
          0.23733269933959658,
          0.7314025171250657,
          -0.1462732746113538,
          -1.9581690855990108,
          0.5053819027529176,
          0.04906169237310281,
          0.3618016405710469,
          -1.229574253546429,
          -0.32420421948521105
         ],
         "xaxis": "x16",
         "yaxis": "y16"
        }
       ],
       "layout": {
        "bargap": 0.02,
        "legend": {
         "bgcolor": "#F5F6F9",
         "font": {
          "color": "#4D5663"
         }
        },
        "paper_bgcolor": "#F5F6F9",
        "plot_bgcolor": "#F5F6F9",
        "showlegend": false,
        "template": {
         "data": {
          "bar": [
           {
            "error_x": {
             "color": "#2a3f5f"
            },
            "error_y": {
             "color": "#2a3f5f"
            },
            "marker": {
             "line": {
              "color": "#E5ECF6",
              "width": 0.5
             }
            },
            "type": "bar"
           }
          ],
          "barpolar": [
           {
            "marker": {
             "line": {
              "color": "#E5ECF6",
              "width": 0.5
             }
            },
            "type": "barpolar"
           }
          ],
          "carpet": [
           {
            "aaxis": {
             "endlinecolor": "#2a3f5f",
             "gridcolor": "white",
             "linecolor": "white",
             "minorgridcolor": "white",
             "startlinecolor": "#2a3f5f"
            },
            "baxis": {
             "endlinecolor": "#2a3f5f",
             "gridcolor": "white",
             "linecolor": "white",
             "minorgridcolor": "white",
             "startlinecolor": "#2a3f5f"
            },
            "type": "carpet"
           }
          ],
          "choropleth": [
           {
            "colorbar": {
             "outlinewidth": 0,
             "ticks": ""
            },
            "type": "choropleth"
           }
          ],
          "contour": [
           {
            "colorbar": {
             "outlinewidth": 0,
             "ticks": ""
            },
            "colorscale": [
             [
              0,
              "#0d0887"
             ],
             [
              0.1111111111111111,
              "#46039f"
             ],
             [
              0.2222222222222222,
              "#7201a8"
             ],
             [
              0.3333333333333333,
              "#9c179e"
             ],
             [
              0.4444444444444444,
              "#bd3786"
             ],
             [
              0.5555555555555556,
              "#d8576b"
             ],
             [
              0.6666666666666666,
              "#ed7953"
             ],
             [
              0.7777777777777778,
              "#fb9f3a"
             ],
             [
              0.8888888888888888,
              "#fdca26"
             ],
             [
              1,
              "#f0f921"
             ]
            ],
            "type": "contour"
           }
          ],
          "contourcarpet": [
           {
            "colorbar": {
             "outlinewidth": 0,
             "ticks": ""
            },
            "type": "contourcarpet"
           }
          ],
          "heatmap": [
           {
            "colorbar": {
             "outlinewidth": 0,
             "ticks": ""
            },
            "colorscale": [
             [
              0,
              "#0d0887"
             ],
             [
              0.1111111111111111,
              "#46039f"
             ],
             [
              0.2222222222222222,
              "#7201a8"
             ],
             [
              0.3333333333333333,
              "#9c179e"
             ],
             [
              0.4444444444444444,
              "#bd3786"
             ],
             [
              0.5555555555555556,
              "#d8576b"
             ],
             [
              0.6666666666666666,
              "#ed7953"
             ],
             [
              0.7777777777777778,
              "#fb9f3a"
             ],
             [
              0.8888888888888888,
              "#fdca26"
             ],
             [
              1,
              "#f0f921"
             ]
            ],
            "type": "heatmap"
           }
          ],
          "heatmapgl": [
           {
            "colorbar": {
             "outlinewidth": 0,
             "ticks": ""
            },
            "colorscale": [
             [
              0,
              "#0d0887"
             ],
             [
              0.1111111111111111,
              "#46039f"
             ],
             [
              0.2222222222222222,
              "#7201a8"
             ],
             [
              0.3333333333333333,
              "#9c179e"
             ],
             [
              0.4444444444444444,
              "#bd3786"
             ],
             [
              0.5555555555555556,
              "#d8576b"
             ],
             [
              0.6666666666666666,
              "#ed7953"
             ],
             [
              0.7777777777777778,
              "#fb9f3a"
             ],
             [
              0.8888888888888888,
              "#fdca26"
             ],
             [
              1,
              "#f0f921"
             ]
            ],
            "type": "heatmapgl"
           }
          ],
          "histogram": [
           {
            "marker": {
             "colorbar": {
              "outlinewidth": 0,
              "ticks": ""
             }
            },
            "type": "histogram"
           }
          ],
          "histogram2d": [
           {
            "colorbar": {
             "outlinewidth": 0,
             "ticks": ""
            },
            "colorscale": [
             [
              0,
              "#0d0887"
             ],
             [
              0.1111111111111111,
              "#46039f"
             ],
             [
              0.2222222222222222,
              "#7201a8"
             ],
             [
              0.3333333333333333,
              "#9c179e"
             ],
             [
              0.4444444444444444,
              "#bd3786"
             ],
             [
              0.5555555555555556,
              "#d8576b"
             ],
             [
              0.6666666666666666,
              "#ed7953"
             ],
             [
              0.7777777777777778,
              "#fb9f3a"
             ],
             [
              0.8888888888888888,
              "#fdca26"
             ],
             [
              1,
              "#f0f921"
             ]
            ],
            "type": "histogram2d"
           }
          ],
          "histogram2dcontour": [
           {
            "colorbar": {
             "outlinewidth": 0,
             "ticks": ""
            },
            "colorscale": [
             [
              0,
              "#0d0887"
             ],
             [
              0.1111111111111111,
              "#46039f"
             ],
             [
              0.2222222222222222,
              "#7201a8"
             ],
             [
              0.3333333333333333,
              "#9c179e"
             ],
             [
              0.4444444444444444,
              "#bd3786"
             ],
             [
              0.5555555555555556,
              "#d8576b"
             ],
             [
              0.6666666666666666,
              "#ed7953"
             ],
             [
              0.7777777777777778,
              "#fb9f3a"
             ],
             [
              0.8888888888888888,
              "#fdca26"
             ],
             [
              1,
              "#f0f921"
             ]
            ],
            "type": "histogram2dcontour"
           }
          ],
          "mesh3d": [
           {
            "colorbar": {
             "outlinewidth": 0,
             "ticks": ""
            },
            "type": "mesh3d"
           }
          ],
          "parcoords": [
           {
            "line": {
             "colorbar": {
              "outlinewidth": 0,
              "ticks": ""
             }
            },
            "type": "parcoords"
           }
          ],
          "pie": [
           {
            "automargin": true,
            "type": "pie"
           }
          ],
          "scatter": [
           {
            "marker": {
             "colorbar": {
              "outlinewidth": 0,
              "ticks": ""
             }
            },
            "type": "scatter"
           }
          ],
          "scatter3d": [
           {
            "line": {
             "colorbar": {
              "outlinewidth": 0,
              "ticks": ""
             }
            },
            "marker": {
             "colorbar": {
              "outlinewidth": 0,
              "ticks": ""
             }
            },
            "type": "scatter3d"
           }
          ],
          "scattercarpet": [
           {
            "marker": {
             "colorbar": {
              "outlinewidth": 0,
              "ticks": ""
             }
            },
            "type": "scattercarpet"
           }
          ],
          "scattergeo": [
           {
            "marker": {
             "colorbar": {
              "outlinewidth": 0,
              "ticks": ""
             }
            },
            "type": "scattergeo"
           }
          ],
          "scattergl": [
           {
            "marker": {
             "colorbar": {
              "outlinewidth": 0,
              "ticks": ""
             }
            },
            "type": "scattergl"
           }
          ],
          "scattermapbox": [
           {
            "marker": {
             "colorbar": {
              "outlinewidth": 0,
              "ticks": ""
             }
            },
            "type": "scattermapbox"
           }
          ],
          "scatterpolar": [
           {
            "marker": {
             "colorbar": {
              "outlinewidth": 0,
              "ticks": ""
             }
            },
            "type": "scatterpolar"
           }
          ],
          "scatterpolargl": [
           {
            "marker": {
             "colorbar": {
              "outlinewidth": 0,
              "ticks": ""
             }
            },
            "type": "scatterpolargl"
           }
          ],
          "scatterternary": [
           {
            "marker": {
             "colorbar": {
              "outlinewidth": 0,
              "ticks": ""
             }
            },
            "type": "scatterternary"
           }
          ],
          "surface": [
           {
            "colorbar": {
             "outlinewidth": 0,
             "ticks": ""
            },
            "colorscale": [
             [
              0,
              "#0d0887"
             ],
             [
              0.1111111111111111,
              "#46039f"
             ],
             [
              0.2222222222222222,
              "#7201a8"
             ],
             [
              0.3333333333333333,
              "#9c179e"
             ],
             [
              0.4444444444444444,
              "#bd3786"
             ],
             [
              0.5555555555555556,
              "#d8576b"
             ],
             [
              0.6666666666666666,
              "#ed7953"
             ],
             [
              0.7777777777777778,
              "#fb9f3a"
             ],
             [
              0.8888888888888888,
              "#fdca26"
             ],
             [
              1,
              "#f0f921"
             ]
            ],
            "type": "surface"
           }
          ],
          "table": [
           {
            "cells": {
             "fill": {
              "color": "#EBF0F8"
             },
             "line": {
              "color": "white"
             }
            },
            "header": {
             "fill": {
              "color": "#C8D4E3"
             },
             "line": {
              "color": "white"
             }
            },
            "type": "table"
           }
          ]
         },
         "layout": {
          "annotationdefaults": {
           "arrowcolor": "#2a3f5f",
           "arrowhead": 0,
           "arrowwidth": 1
          },
          "autotypenumbers": "strict",
          "coloraxis": {
           "colorbar": {
            "outlinewidth": 0,
            "ticks": ""
           }
          },
          "colorscale": {
           "diverging": [
            [
             0,
             "#8e0152"
            ],
            [
             0.1,
             "#c51b7d"
            ],
            [
             0.2,
             "#de77ae"
            ],
            [
             0.3,
             "#f1b6da"
            ],
            [
             0.4,
             "#fde0ef"
            ],
            [
             0.5,
             "#f7f7f7"
            ],
            [
             0.6,
             "#e6f5d0"
            ],
            [
             0.7,
             "#b8e186"
            ],
            [
             0.8,
             "#7fbc41"
            ],
            [
             0.9,
             "#4d9221"
            ],
            [
             1,
             "#276419"
            ]
           ],
           "sequential": [
            [
             0,
             "#0d0887"
            ],
            [
             0.1111111111111111,
             "#46039f"
            ],
            [
             0.2222222222222222,
             "#7201a8"
            ],
            [
             0.3333333333333333,
             "#9c179e"
            ],
            [
             0.4444444444444444,
             "#bd3786"
            ],
            [
             0.5555555555555556,
             "#d8576b"
            ],
            [
             0.6666666666666666,
             "#ed7953"
            ],
            [
             0.7777777777777778,
             "#fb9f3a"
            ],
            [
             0.8888888888888888,
             "#fdca26"
            ],
            [
             1,
             "#f0f921"
            ]
           ],
           "sequentialminus": [
            [
             0,
             "#0d0887"
            ],
            [
             0.1111111111111111,
             "#46039f"
            ],
            [
             0.2222222222222222,
             "#7201a8"
            ],
            [
             0.3333333333333333,
             "#9c179e"
            ],
            [
             0.4444444444444444,
             "#bd3786"
            ],
            [
             0.5555555555555556,
             "#d8576b"
            ],
            [
             0.6666666666666666,
             "#ed7953"
            ],
            [
             0.7777777777777778,
             "#fb9f3a"
            ],
            [
             0.8888888888888888,
             "#fdca26"
            ],
            [
             1,
             "#f0f921"
            ]
           ]
          },
          "colorway": [
           "#636efa",
           "#EF553B",
           "#00cc96",
           "#ab63fa",
           "#FFA15A",
           "#19d3f3",
           "#FF6692",
           "#B6E880",
           "#FF97FF",
           "#FECB52"
          ],
          "font": {
           "color": "#2a3f5f"
          },
          "geo": {
           "bgcolor": "white",
           "lakecolor": "white",
           "landcolor": "#E5ECF6",
           "showlakes": true,
           "showland": true,
           "subunitcolor": "white"
          },
          "hoverlabel": {
           "align": "left"
          },
          "hovermode": "closest",
          "mapbox": {
           "style": "light"
          },
          "paper_bgcolor": "white",
          "plot_bgcolor": "#E5ECF6",
          "polar": {
           "angularaxis": {
            "gridcolor": "white",
            "linecolor": "white",
            "ticks": ""
           },
           "bgcolor": "#E5ECF6",
           "radialaxis": {
            "gridcolor": "white",
            "linecolor": "white",
            "ticks": ""
           }
          },
          "scene": {
           "xaxis": {
            "backgroundcolor": "#E5ECF6",
            "gridcolor": "white",
            "gridwidth": 2,
            "linecolor": "white",
            "showbackground": true,
            "ticks": "",
            "zerolinecolor": "white"
           },
           "yaxis": {
            "backgroundcolor": "#E5ECF6",
            "gridcolor": "white",
            "gridwidth": 2,
            "linecolor": "white",
            "showbackground": true,
            "ticks": "",
            "zerolinecolor": "white"
           },
           "zaxis": {
            "backgroundcolor": "#E5ECF6",
            "gridcolor": "white",
            "gridwidth": 2,
            "linecolor": "white",
            "showbackground": true,
            "ticks": "",
            "zerolinecolor": "white"
           }
          },
          "shapedefaults": {
           "line": {
            "color": "#2a3f5f"
           }
          },
          "ternary": {
           "aaxis": {
            "gridcolor": "white",
            "linecolor": "white",
            "ticks": ""
           },
           "baxis": {
            "gridcolor": "white",
            "linecolor": "white",
            "ticks": ""
           },
           "bgcolor": "#E5ECF6",
           "caxis": {
            "gridcolor": "white",
            "linecolor": "white",
            "ticks": ""
           }
          },
          "title": {
           "x": 0.05
          },
          "xaxis": {
           "automargin": true,
           "gridcolor": "white",
           "linecolor": "white",
           "ticks": "",
           "title": {
            "standoff": 15
           },
           "zerolinecolor": "white",
           "zerolinewidth": 2
          },
          "yaxis": {
           "automargin": true,
           "gridcolor": "white",
           "linecolor": "white",
           "ticks": "",
           "title": {
            "standoff": 15
           },
           "zerolinecolor": "white",
           "zerolinewidth": 2
          }
         }
        },
        "title": {
         "font": {
          "color": "#4D5663"
         }
        },
        "xaxis": {
         "anchor": "y",
         "domain": [
          0,
          0.2125
         ],
         "gridcolor": "#E1E5ED",
         "showgrid": false,
         "tickfont": {
          "color": "#4D5663"
         },
         "title": {
          "font": {
           "color": "#4D5663"
          },
          "text": ""
         },
         "zerolinecolor": "#E1E5ED"
        },
        "xaxis10": {
         "anchor": "y10",
         "domain": [
          0.2625,
          0.475
         ],
         "gridcolor": "#E1E5ED",
         "showgrid": false,
         "tickfont": {
          "color": "#4D5663"
         },
         "title": {
          "font": {
           "color": "#4D5663"
          },
          "text": ""
         },
         "zerolinecolor": "#E1E5ED"
        },
        "xaxis11": {
         "anchor": "y11",
         "domain": [
          0.525,
          0.7375
         ],
         "gridcolor": "#E1E5ED",
         "showgrid": false,
         "tickfont": {
          "color": "#4D5663"
         },
         "title": {
          "font": {
           "color": "#4D5663"
          },
          "text": ""
         },
         "zerolinecolor": "#E1E5ED"
        },
        "xaxis12": {
         "anchor": "y12",
         "domain": [
          0.7875,
          1
         ],
         "gridcolor": "#E1E5ED",
         "showgrid": false,
         "tickfont": {
          "color": "#4D5663"
         },
         "title": {
          "font": {
           "color": "#4D5663"
          },
          "text": ""
         },
         "zerolinecolor": "#E1E5ED"
        },
        "xaxis13": {
         "anchor": "y13",
         "domain": [
          0,
          0.2125
         ],
         "gridcolor": "#E1E5ED",
         "showgrid": false,
         "tickfont": {
          "color": "#4D5663"
         },
         "title": {
          "font": {
           "color": "#4D5663"
          },
          "text": ""
         },
         "zerolinecolor": "#E1E5ED"
        },
        "xaxis14": {
         "anchor": "y14",
         "domain": [
          0.2625,
          0.475
         ],
         "gridcolor": "#E1E5ED",
         "showgrid": false,
         "tickfont": {
          "color": "#4D5663"
         },
         "title": {
          "font": {
           "color": "#4D5663"
          },
          "text": ""
         },
         "zerolinecolor": "#E1E5ED"
        },
        "xaxis15": {
         "anchor": "y15",
         "domain": [
          0.525,
          0.7375
         ],
         "gridcolor": "#E1E5ED",
         "showgrid": false,
         "tickfont": {
          "color": "#4D5663"
         },
         "title": {
          "font": {
           "color": "#4D5663"
          },
          "text": ""
         },
         "zerolinecolor": "#E1E5ED"
        },
        "xaxis16": {
         "anchor": "y16",
         "domain": [
          0.7875,
          1
         ],
         "gridcolor": "#E1E5ED",
         "showgrid": false,
         "tickfont": {
          "color": "#4D5663"
         },
         "title": {
          "font": {
           "color": "#4D5663"
          },
          "text": ""
         },
         "zerolinecolor": "#E1E5ED"
        },
        "xaxis2": {
         "anchor": "y2",
         "domain": [
          0.2625,
          0.475
         ],
         "gridcolor": "#E1E5ED",
         "showgrid": false,
         "tickfont": {
          "color": "#4D5663"
         },
         "title": {
          "font": {
           "color": "#4D5663"
          },
          "text": ""
         },
         "zerolinecolor": "#E1E5ED"
        },
        "xaxis3": {
         "anchor": "y3",
         "domain": [
          0.525,
          0.7375
         ],
         "gridcolor": "#E1E5ED",
         "showgrid": false,
         "tickfont": {
          "color": "#4D5663"
         },
         "title": {
          "font": {
           "color": "#4D5663"
          },
          "text": ""
         },
         "zerolinecolor": "#E1E5ED"
        },
        "xaxis4": {
         "anchor": "y4",
         "domain": [
          0.7875,
          1
         ],
         "gridcolor": "#E1E5ED",
         "showgrid": false,
         "tickfont": {
          "color": "#4D5663"
         },
         "title": {
          "font": {
           "color": "#4D5663"
          },
          "text": ""
         },
         "zerolinecolor": "#E1E5ED"
        },
        "xaxis5": {
         "anchor": "y5",
         "domain": [
          0,
          0.2125
         ],
         "gridcolor": "#E1E5ED",
         "showgrid": false,
         "tickfont": {
          "color": "#4D5663"
         },
         "title": {
          "font": {
           "color": "#4D5663"
          },
          "text": ""
         },
         "zerolinecolor": "#E1E5ED"
        },
        "xaxis6": {
         "anchor": "y6",
         "domain": [
          0.2625,
          0.475
         ],
         "gridcolor": "#E1E5ED",
         "showgrid": false,
         "tickfont": {
          "color": "#4D5663"
         },
         "title": {
          "font": {
           "color": "#4D5663"
          },
          "text": ""
         },
         "zerolinecolor": "#E1E5ED"
        },
        "xaxis7": {
         "anchor": "y7",
         "domain": [
          0.525,
          0.7375
         ],
         "gridcolor": "#E1E5ED",
         "showgrid": false,
         "tickfont": {
          "color": "#4D5663"
         },
         "title": {
          "font": {
           "color": "#4D5663"
          },
          "text": ""
         },
         "zerolinecolor": "#E1E5ED"
        },
        "xaxis8": {
         "anchor": "y8",
         "domain": [
          0.7875,
          1
         ],
         "gridcolor": "#E1E5ED",
         "showgrid": false,
         "tickfont": {
          "color": "#4D5663"
         },
         "title": {
          "font": {
           "color": "#4D5663"
          },
          "text": ""
         },
         "zerolinecolor": "#E1E5ED"
        },
        "xaxis9": {
         "anchor": "y9",
         "domain": [
          0,
          0.2125
         ],
         "gridcolor": "#E1E5ED",
         "showgrid": false,
         "tickfont": {
          "color": "#4D5663"
         },
         "title": {
          "font": {
           "color": "#4D5663"
          },
          "text": ""
         },
         "zerolinecolor": "#E1E5ED"
        },
        "yaxis": {
         "anchor": "x",
         "domain": [
          0.8025,
          1
         ],
         "gridcolor": "#E1E5ED",
         "showgrid": false,
         "tickfont": {
          "color": "#4D5663"
         },
         "title": {
          "font": {
           "color": "#4D5663"
          },
          "text": ""
         },
         "zerolinecolor": "#E1E5ED"
        },
        "yaxis10": {
         "anchor": "x10",
         "domain": [
          0.2675,
          0.465
         ],
         "gridcolor": "#E1E5ED",
         "showgrid": false,
         "tickfont": {
          "color": "#4D5663"
         },
         "title": {
          "font": {
           "color": "#4D5663"
          },
          "text": ""
         },
         "zerolinecolor": "#E1E5ED"
        },
        "yaxis11": {
         "anchor": "x11",
         "domain": [
          0.2675,
          0.465
         ],
         "gridcolor": "#E1E5ED",
         "showgrid": false,
         "tickfont": {
          "color": "#4D5663"
         },
         "title": {
          "font": {
           "color": "#4D5663"
          },
          "text": ""
         },
         "zerolinecolor": "#E1E5ED"
        },
        "yaxis12": {
         "anchor": "x12",
         "domain": [
          0.2675,
          0.465
         ],
         "gridcolor": "#E1E5ED",
         "showgrid": false,
         "tickfont": {
          "color": "#4D5663"
         },
         "title": {
          "font": {
           "color": "#4D5663"
          },
          "text": ""
         },
         "zerolinecolor": "#E1E5ED"
        },
        "yaxis13": {
         "anchor": "x13",
         "domain": [
          0,
          0.1975
         ],
         "gridcolor": "#E1E5ED",
         "showgrid": false,
         "tickfont": {
          "color": "#4D5663"
         },
         "title": {
          "font": {
           "color": "#4D5663"
          },
          "text": ""
         },
         "zerolinecolor": "#E1E5ED"
        },
        "yaxis14": {
         "anchor": "x14",
         "domain": [
          0,
          0.1975
         ],
         "gridcolor": "#E1E5ED",
         "showgrid": false,
         "tickfont": {
          "color": "#4D5663"
         },
         "title": {
          "font": {
           "color": "#4D5663"
          },
          "text": ""
         },
         "zerolinecolor": "#E1E5ED"
        },
        "yaxis15": {
         "anchor": "x15",
         "domain": [
          0,
          0.1975
         ],
         "gridcolor": "#E1E5ED",
         "showgrid": false,
         "tickfont": {
          "color": "#4D5663"
         },
         "title": {
          "font": {
           "color": "#4D5663"
          },
          "text": ""
         },
         "zerolinecolor": "#E1E5ED"
        },
        "yaxis16": {
         "anchor": "x16",
         "domain": [
          0,
          0.1975
         ],
         "gridcolor": "#E1E5ED",
         "showgrid": false,
         "tickfont": {
          "color": "#4D5663"
         },
         "title": {
          "font": {
           "color": "#4D5663"
          },
          "text": ""
         },
         "zerolinecolor": "#E1E5ED"
        },
        "yaxis2": {
         "anchor": "x2",
         "domain": [
          0.8025,
          1
         ],
         "gridcolor": "#E1E5ED",
         "showgrid": false,
         "tickfont": {
          "color": "#4D5663"
         },
         "title": {
          "font": {
           "color": "#4D5663"
          },
          "text": ""
         },
         "zerolinecolor": "#E1E5ED"
        },
        "yaxis3": {
         "anchor": "x3",
         "domain": [
          0.8025,
          1
         ],
         "gridcolor": "#E1E5ED",
         "showgrid": false,
         "tickfont": {
          "color": "#4D5663"
         },
         "title": {
          "font": {
           "color": "#4D5663"
          },
          "text": ""
         },
         "zerolinecolor": "#E1E5ED"
        },
        "yaxis4": {
         "anchor": "x4",
         "domain": [
          0.8025,
          1
         ],
         "gridcolor": "#E1E5ED",
         "showgrid": false,
         "tickfont": {
          "color": "#4D5663"
         },
         "title": {
          "font": {
           "color": "#4D5663"
          },
          "text": ""
         },
         "zerolinecolor": "#E1E5ED"
        },
        "yaxis5": {
         "anchor": "x5",
         "domain": [
          0.535,
          0.7325
         ],
         "gridcolor": "#E1E5ED",
         "showgrid": false,
         "tickfont": {
          "color": "#4D5663"
         },
         "title": {
          "font": {
           "color": "#4D5663"
          },
          "text": ""
         },
         "zerolinecolor": "#E1E5ED"
        },
        "yaxis6": {
         "anchor": "x6",
         "domain": [
          0.535,
          0.7325
         ],
         "gridcolor": "#E1E5ED",
         "showgrid": false,
         "tickfont": {
          "color": "#4D5663"
         },
         "title": {
          "font": {
           "color": "#4D5663"
          },
          "text": ""
         },
         "zerolinecolor": "#E1E5ED"
        },
        "yaxis7": {
         "anchor": "x7",
         "domain": [
          0.535,
          0.7325
         ],
         "gridcolor": "#E1E5ED",
         "showgrid": false,
         "tickfont": {
          "color": "#4D5663"
         },
         "title": {
          "font": {
           "color": "#4D5663"
          },
          "text": ""
         },
         "zerolinecolor": "#E1E5ED"
        },
        "yaxis8": {
         "anchor": "x8",
         "domain": [
          0.535,
          0.7325
         ],
         "gridcolor": "#E1E5ED",
         "showgrid": false,
         "tickfont": {
          "color": "#4D5663"
         },
         "title": {
          "font": {
           "color": "#4D5663"
          },
          "text": ""
         },
         "zerolinecolor": "#E1E5ED"
        },
        "yaxis9": {
         "anchor": "x9",
         "domain": [
          0.2675,
          0.465
         ],
         "gridcolor": "#E1E5ED",
         "showgrid": false,
         "tickfont": {
          "color": "#4D5663"
         },
         "title": {
          "font": {
           "color": "#4D5663"
          },
          "text": ""
         },
         "zerolinecolor": "#E1E5ED"
        }
       }
      },
      "text/html": [
       "<div>                            <div id=\"b3281cee-04c6-441d-96e6-8102418a5b00\" class=\"plotly-graph-div\" style=\"height:525px; width:100%;\"></div>            <script type=\"text/javascript\">                require([\"plotly\"], function(Plotly) {                    window.PLOTLYENV=window.PLOTLYENV || {};\n",
       "                    window.PLOTLYENV.BASE_URL='https://plot.ly';                                    if (document.getElementById(\"b3281cee-04c6-441d-96e6-8102418a5b00\")) {                    Plotly.newPlot(                        \"b3281cee-04c6-441d-96e6-8102418a5b00\",                        [{\"histfunc\": \"count\", \"histnorm\": \"\", \"marker\": {\"color\": \"rgba(255, 153, 51, 1.0)\", \"line\": {\"color\": \"#4D5663\", \"width\": 1.3}}, \"name\": \"A\", \"nbinsx\": 10, \"opacity\": 0.8, \"orientation\": \"v\", \"type\": \"histogram\", \"x\": [-1.3065340728440185, -0.4228569613907754, 0.45161595055524156, 1.7602492264490932, -0.7778588266274128, -0.22876582887016242, 2.054624102518116, 0.017164726374088564, 0.8408615581411037, 0.46664326722884075, 0.4512840160401709, -0.3312831699326283, -0.38483224883279044, 0.6743961048208689, -0.8224671889042517, -0.3439007092103924, -0.06932869669048287, 0.8709698025322423, -0.19899818380372442, -1.9521052872452325, 0.515413801783241, 1.460892380463078, 1.0400891531540952, -0.4148469012882354, 0.528879745585174, -1.719394474619523, -0.25898285340053234, -0.6011568006493835, 0.1698692553475717, -0.8088471964721285, 1.4428769284963092, 0.9665392502290573, 0.6365834094146309, -0.2516742076314244, 0.684001328181953, -0.4244927905709274, -2.2271126318500145, 1.3097059056826534, 1.0112070637749084, -0.22241402852990858, 0.8532821858237332, -1.6374495930083417, -1.3988128186664763, 0.37167029121186534, 0.3724568515114425, 0.7800271353386294, 1.1614399816743937, 0.14164053766580517, 0.5109377744920892, 0.6616810764659825, -1.072964278711645, -1.4614036047221062, -1.3477649412536636, 0.7852269196346882, 1.2251558492732308, 0.3931092448539835, 0.8858257989659072, 0.7433565435138623, -0.039178256209496685, -0.593343754242419, 0.9849516717192109, -1.039182322034903, -0.5089722778228615, 1.5754679085723808, 1.0689716222012626, -0.10646012155553987, 0.6925743475393558, -1.0490677451686161, 0.41026574539684446, 0.31815419967868935, 0.39788042488185116, 1.9197922864280879, 0.7513372351604846, -0.49112513779081807, 1.018552474767882, -0.7907999537751678, -0.4775808546567209, -0.36261208757725877, -0.03181717269879145, -0.30097615395533844, -2.076802021923554, -1.2704607763854796, -0.13479312929572362, 3.3210787561703645, 0.43598619629640983, 0.07225189915588459, -0.13935180545092124, 0.3212659144838316, 1.2935496206633084, -0.9509092510507696, 1.5392070096550627, 0.6087836589081088, -2.1444440467284505, 0.9544956665476875, -0.857496824739772, 0.6778075711198115, 1.2179409008013473, -0.596086334587662, 0.425920176502816, 1.108616757989675], \"xaxis\": \"x\", \"yaxis\": \"y\"}, {\"line\": {\"color\": \"rgba(128, 128, 128, 1.0)\", \"dash\": \"solid\", \"shape\": \"linear\", \"width\": 1.3}, \"marker\": {\"size\": 2, \"symbol\": \"circle\"}, \"mode\": \"markers\", \"name\": \"A\", \"text\": \"\", \"type\": \"scatter\", \"x\": [0.076380480159592, 0.08646440652428741, 1.1041743263032135, -0.06065249177480989, 1.1158411079241686, 1.6133613745631155, 0.05340953679834792, -0.42914227823509377, -0.1028872175735376, 1.033686867939501, -1.6840599858682372, 0.3865391451330911, 1.4581082386095199, -0.7223919054141509, 0.7217112921126926, -1.0001691898725158, -0.10839206717353982, -0.5084571342754007, 1.8664713751521251, -1.4023291454531368, -1.1148710523659369, 0.5924728014240198, -0.918440038300026, 0.45194603732122307, -2.2370865111124707, 0.057120996082092076, 0.1892931975586576, 0.5560735100773853, -1.1640079711612021, 0.5574394528580334, -0.5396815622024924, 0.7130490503032691, 1.4092533893640082, 0.3827151737243639, -0.35340998286701436, -0.7315309817303334, -1.6993336047222958, -1.1549826349293644, -1.4765626605201803, 1.4701603438257402, -0.13971173044107246, 3.9586027040379634, 0.08176781880561644, 1.853009485069379, -0.14848980305939366, -0.62944160405378, -0.027529386267978004, -2.516303860965749, 1.7106618386711354, 0.9863521802120643, 0.49515861120031657, -0.5163479086460222, 1.470739856691369, -0.6648677669672133, -1.053546073700315, -1.8239198526251938, 0.18986164938309566, -1.5095726842240433, -0.22875417122021255, 0.5103075967452559, 1.0712524278458908, 0.7330232317190783, -0.16648595488595935, 1.2066078980355681, 0.040371431022839264, -2.7909964066938464, -0.4786723564156615, 0.31665889515665435, 0.8598709717969121, -0.01923163409763723, -0.9960108890883996, -1.3916938760540336, 0.14039543644735017, 0.1343731160397544, 1.2305581999547246, 1.2237222119601092, 0.025999994185658175, -1.4851564513254543, 0.11248774241419583, 0.8074559170052702, 0.9475011673456759, 0.2829955338110016, 1.0492182907525678, -0.6002253303773148, -0.6874873930601744, 1.0097873349475586, -0.7285374894247015, -0.7252149257453662, -0.43899766366627757, -0.7043503315234588, -1.1487042296369459, -1.8814108671660597, -0.3695624253374333, 0.09574677111013467, -0.934181843147949, -1.1065730673918852, -1.9406809643648932, 0.8616231013412039, 0.049080397141630476, -0.7029204029101687], \"xaxis\": \"x2\", \"y\": [-1.3065340728440185, -0.4228569613907754, 0.45161595055524156, 1.7602492264490932, -0.7778588266274128, -0.22876582887016242, 2.054624102518116, 0.017164726374088564, 0.8408615581411037, 0.46664326722884075, 0.4512840160401709, -0.3312831699326283, -0.38483224883279044, 0.6743961048208689, -0.8224671889042517, -0.3439007092103924, -0.06932869669048287, 0.8709698025322423, -0.19899818380372442, -1.9521052872452325, 0.515413801783241, 1.460892380463078, 1.0400891531540952, -0.4148469012882354, 0.528879745585174, -1.719394474619523, -0.25898285340053234, -0.6011568006493835, 0.1698692553475717, -0.8088471964721285, 1.4428769284963092, 0.9665392502290573, 0.6365834094146309, -0.2516742076314244, 0.684001328181953, -0.4244927905709274, -2.2271126318500145, 1.3097059056826534, 1.0112070637749084, -0.22241402852990858, 0.8532821858237332, -1.6374495930083417, -1.3988128186664763, 0.37167029121186534, 0.3724568515114425, 0.7800271353386294, 1.1614399816743937, 0.14164053766580517, 0.5109377744920892, 0.6616810764659825, -1.072964278711645, -1.4614036047221062, -1.3477649412536636, 0.7852269196346882, 1.2251558492732308, 0.3931092448539835, 0.8858257989659072, 0.7433565435138623, -0.039178256209496685, -0.593343754242419, 0.9849516717192109, -1.039182322034903, -0.5089722778228615, 1.5754679085723808, 1.0689716222012626, -0.10646012155553987, 0.6925743475393558, -1.0490677451686161, 0.41026574539684446, 0.31815419967868935, 0.39788042488185116, 1.9197922864280879, 0.7513372351604846, -0.49112513779081807, 1.018552474767882, -0.7907999537751678, -0.4775808546567209, -0.36261208757725877, -0.03181717269879145, -0.30097615395533844, -2.076802021923554, -1.2704607763854796, -0.13479312929572362, 3.3210787561703645, 0.43598619629640983, 0.07225189915588459, -0.13935180545092124, 0.3212659144838316, 1.2935496206633084, -0.9509092510507696, 1.5392070096550627, 0.6087836589081088, -2.1444440467284505, 0.9544956665476875, -0.857496824739772, 0.6778075711198115, 1.2179409008013473, -0.596086334587662, 0.425920176502816, 1.108616757989675], \"yaxis\": \"y2\"}, {\"line\": {\"color\": \"rgba(128, 128, 128, 1.0)\", \"dash\": \"solid\", \"shape\": \"linear\", \"width\": 1.3}, \"marker\": {\"size\": 2, \"symbol\": \"circle\"}, \"mode\": \"markers\", \"name\": \"A\", \"text\": \"\", \"type\": \"scatter\", \"x\": [0.3672318138838647, -2.1424667290773685, -0.28173626906561283, -2.4135030011737877, 0.3102722877837673, -0.3748046873026527, -0.4791570987860799, 1.208456328551963, 1.146900376399483, 0.8088443602656821, -1.1601701049822761, -0.8514556565308268, -0.5322340208981775, 1.0989963327471792, -0.625342001465988, 1.0449944096738975, 0.45015551276717897, 0.7774192052488628, -0.41893789767812306, 0.4511229387345986, -0.7673098263317347, 1.197830841721251, -0.10534471250754213, -1.5791562853944654, -1.1077125022845524, -0.7995474906917599, -0.5637887345823027, 1.693809113288081, 0.6933662256603845, 0.18103874435787085, 0.12837699015594436, 1.3062060651354486, 1.6209122856217475, -0.2889973430098159, -1.7879128911997157, -1.5657381506559054, -0.27584606256114336, -0.17763219598355098, -0.14319574500723764, -0.870008223190852, 1.3863142642463189, 0.6486436440906672, -0.45994283084068716, 0.14225137252631778, -0.1834001973200239, -1.1134361029729902, 1.7464350892279725, -0.5956678809102903, 0.03494358936374005, -0.466154856825928, -0.952062100706259, 0.35111689651096534, 0.33722093830845856, -1.9450469586120391, 0.8160436843240609, 1.167075165999964, 0.7980637952989431, -1.0807106924455065, -0.17961229465135792, -0.9157918490686792, -1.0971543602553622, -1.8988120593192948, 1.4236144293489872, -0.2828635516348445, -0.15699367249331792, -0.45611755514868535, -0.3290515493410809, -1.895266947476466, -0.8986831933186461, 0.15001627872780374, -1.1958615103244818, 0.4502177420378455, -0.9268719392086243, -0.26837130412057664, -1.181103172771823, -0.05936790254849916, -1.3486964467972422, -0.5924612851532695, 0.28807816700515054, 0.3122386890129999, -0.5039739491423175, 0.10803081731234535, 0.9662208625783415, -0.37951751553387963, -2.698361741666047, -1.5569415578650314, 0.5311637934562251, 1.5365363280210986, 0.5900394641608302, -0.04586668606976747, -1.0903383324548148, 0.4972690986459772, -0.017454951836177974, 1.0334508032642373, 0.542645294566316, -0.3592240957107388, -0.806178211953457, -2.0863905654565262, 1.1022367325853422, 0.7255505180787332], \"xaxis\": \"x3\", \"y\": [-1.3065340728440185, -0.4228569613907754, 0.45161595055524156, 1.7602492264490932, -0.7778588266274128, -0.22876582887016242, 2.054624102518116, 0.017164726374088564, 0.8408615581411037, 0.46664326722884075, 0.4512840160401709, -0.3312831699326283, -0.38483224883279044, 0.6743961048208689, -0.8224671889042517, -0.3439007092103924, -0.06932869669048287, 0.8709698025322423, -0.19899818380372442, -1.9521052872452325, 0.515413801783241, 1.460892380463078, 1.0400891531540952, -0.4148469012882354, 0.528879745585174, -1.719394474619523, -0.25898285340053234, -0.6011568006493835, 0.1698692553475717, -0.8088471964721285, 1.4428769284963092, 0.9665392502290573, 0.6365834094146309, -0.2516742076314244, 0.684001328181953, -0.4244927905709274, -2.2271126318500145, 1.3097059056826534, 1.0112070637749084, -0.22241402852990858, 0.8532821858237332, -1.6374495930083417, -1.3988128186664763, 0.37167029121186534, 0.3724568515114425, 0.7800271353386294, 1.1614399816743937, 0.14164053766580517, 0.5109377744920892, 0.6616810764659825, -1.072964278711645, -1.4614036047221062, -1.3477649412536636, 0.7852269196346882, 1.2251558492732308, 0.3931092448539835, 0.8858257989659072, 0.7433565435138623, -0.039178256209496685, -0.593343754242419, 0.9849516717192109, -1.039182322034903, -0.5089722778228615, 1.5754679085723808, 1.0689716222012626, -0.10646012155553987, 0.6925743475393558, -1.0490677451686161, 0.41026574539684446, 0.31815419967868935, 0.39788042488185116, 1.9197922864280879, 0.7513372351604846, -0.49112513779081807, 1.018552474767882, -0.7907999537751678, -0.4775808546567209, -0.36261208757725877, -0.03181717269879145, -0.30097615395533844, -2.076802021923554, -1.2704607763854796, -0.13479312929572362, 3.3210787561703645, 0.43598619629640983, 0.07225189915588459, -0.13935180545092124, 0.3212659144838316, 1.2935496206633084, -0.9509092510507696, 1.5392070096550627, 0.6087836589081088, -2.1444440467284505, 0.9544956665476875, -0.857496824739772, 0.6778075711198115, 1.2179409008013473, -0.596086334587662, 0.425920176502816, 1.108616757989675], \"yaxis\": \"y3\"}, {\"line\": {\"color\": \"rgba(128, 128, 128, 1.0)\", \"dash\": \"solid\", \"shape\": \"linear\", \"width\": 1.3}, \"marker\": {\"size\": 2, \"symbol\": \"circle\"}, \"mode\": \"markers\", \"name\": \"A\", \"text\": \"\", \"type\": \"scatter\", \"x\": [1.2328991923762371, -0.830168864022708, 2.0563555231982935, -1.7775663758059874, -2.094247816222812, -0.7499696172756662, 0.3501671588282789, 1.1157018027844863, -0.04970257915867584, 1.7897546832062712, 1.350106818681726, 1.000881423680301, 1.1181333967176956, -0.901634490475998, -0.5938430672545096, 0.6085146984848496, 1.7653351005190716, -0.11877117210308928, -0.47918491512740585, -0.6949209011852391, 0.6745707069560037, 1.7045941713724069, 0.630195670684911, -0.8286279788564058, -0.01771831791014226, -0.2915945955008327, 0.08968640732259017, 0.19686977925029145, -0.7580673285562323, 1.1071754509490623, 1.7604151835753223, -0.604602969164376, -0.8061848173822241, -0.3918162398080484, 0.36184731583956825, 1.0138224669717055, 1.2289555856506973, -1.5104563750875688, 1.0329837789497511, 0.36919046954687373, 0.5481295846881931, 0.10734329382358966, 0.6443536660303223, 0.5135054799885475, 1.1010002026684818, -0.06741002494685439, -0.7750702870734348, -0.30912131864186215, 1.4539175816088175, 1.3849913436486387, -0.5181455523987548, -0.06877046307863847, 1.0080654330757632, -0.9154243682317061, -0.6124069731288238, -0.03966870009048212, -0.10193203926360005, 0.7254740044815357, 0.5017251093451655, -0.40725204301996576, 0.8386347472283774, -1.1171106924391125, 0.9039991740035269, -0.2663268843187201, -1.3352027230151915, -0.9798902516618007, 1.3471054646704976, 0.08972911744465112, 0.3196569419445935, 0.4635343217316655, 2.505980285318673, 0.6274370827531105, -0.18242040636309756, -0.13167562628701832, -0.45993010443458127, 1.4489894041582356, 1.3025355364861801, -2.304907937770138, 1.498108183577034, -0.1933216404740039, 0.017955891650826426, 0.02941761897076564, 0.7259168525208212, -1.014803690858671, -1.2133381258287046, -0.6124421282843443, 0.004000841975375483, -0.00037500875835609604, -0.6793837829972343, -0.21873345896770915, 1.700188146645526, 0.23733269933959658, 0.7314025171250657, -0.1462732746113538, -1.9581690855990108, 0.5053819027529176, 0.04906169237310281, 0.3618016405710469, -1.229574253546429, -0.32420421948521105], \"xaxis\": \"x4\", \"y\": [-1.3065340728440185, -0.4228569613907754, 0.45161595055524156, 1.7602492264490932, -0.7778588266274128, -0.22876582887016242, 2.054624102518116, 0.017164726374088564, 0.8408615581411037, 0.46664326722884075, 0.4512840160401709, -0.3312831699326283, -0.38483224883279044, 0.6743961048208689, -0.8224671889042517, -0.3439007092103924, -0.06932869669048287, 0.8709698025322423, -0.19899818380372442, -1.9521052872452325, 0.515413801783241, 1.460892380463078, 1.0400891531540952, -0.4148469012882354, 0.528879745585174, -1.719394474619523, -0.25898285340053234, -0.6011568006493835, 0.1698692553475717, -0.8088471964721285, 1.4428769284963092, 0.9665392502290573, 0.6365834094146309, -0.2516742076314244, 0.684001328181953, -0.4244927905709274, -2.2271126318500145, 1.3097059056826534, 1.0112070637749084, -0.22241402852990858, 0.8532821858237332, -1.6374495930083417, -1.3988128186664763, 0.37167029121186534, 0.3724568515114425, 0.7800271353386294, 1.1614399816743937, 0.14164053766580517, 0.5109377744920892, 0.6616810764659825, -1.072964278711645, -1.4614036047221062, -1.3477649412536636, 0.7852269196346882, 1.2251558492732308, 0.3931092448539835, 0.8858257989659072, 0.7433565435138623, -0.039178256209496685, -0.593343754242419, 0.9849516717192109, -1.039182322034903, -0.5089722778228615, 1.5754679085723808, 1.0689716222012626, -0.10646012155553987, 0.6925743475393558, -1.0490677451686161, 0.41026574539684446, 0.31815419967868935, 0.39788042488185116, 1.9197922864280879, 0.7513372351604846, -0.49112513779081807, 1.018552474767882, -0.7907999537751678, -0.4775808546567209, -0.36261208757725877, -0.03181717269879145, -0.30097615395533844, -2.076802021923554, -1.2704607763854796, -0.13479312929572362, 3.3210787561703645, 0.43598619629640983, 0.07225189915588459, -0.13935180545092124, 0.3212659144838316, 1.2935496206633084, -0.9509092510507696, 1.5392070096550627, 0.6087836589081088, -2.1444440467284505, 0.9544956665476875, -0.857496824739772, 0.6778075711198115, 1.2179409008013473, -0.596086334587662, 0.425920176502816, 1.108616757989675], \"yaxis\": \"y4\"}, {\"line\": {\"color\": \"rgba(128, 128, 128, 1.0)\", \"dash\": \"solid\", \"shape\": \"linear\", \"width\": 1.3}, \"marker\": {\"size\": 2, \"symbol\": \"circle\"}, \"mode\": \"markers\", \"name\": \"B\", \"text\": \"\", \"type\": \"scatter\", \"x\": [-1.3065340728440185, -0.4228569613907754, 0.45161595055524156, 1.7602492264490932, -0.7778588266274128, -0.22876582887016242, 2.054624102518116, 0.017164726374088564, 0.8408615581411037, 0.46664326722884075, 0.4512840160401709, -0.3312831699326283, -0.38483224883279044, 0.6743961048208689, -0.8224671889042517, -0.3439007092103924, -0.06932869669048287, 0.8709698025322423, -0.19899818380372442, -1.9521052872452325, 0.515413801783241, 1.460892380463078, 1.0400891531540952, -0.4148469012882354, 0.528879745585174, -1.719394474619523, -0.25898285340053234, -0.6011568006493835, 0.1698692553475717, -0.8088471964721285, 1.4428769284963092, 0.9665392502290573, 0.6365834094146309, -0.2516742076314244, 0.684001328181953, -0.4244927905709274, -2.2271126318500145, 1.3097059056826534, 1.0112070637749084, -0.22241402852990858, 0.8532821858237332, -1.6374495930083417, -1.3988128186664763, 0.37167029121186534, 0.3724568515114425, 0.7800271353386294, 1.1614399816743937, 0.14164053766580517, 0.5109377744920892, 0.6616810764659825, -1.072964278711645, -1.4614036047221062, -1.3477649412536636, 0.7852269196346882, 1.2251558492732308, 0.3931092448539835, 0.8858257989659072, 0.7433565435138623, -0.039178256209496685, -0.593343754242419, 0.9849516717192109, -1.039182322034903, -0.5089722778228615, 1.5754679085723808, 1.0689716222012626, -0.10646012155553987, 0.6925743475393558, -1.0490677451686161, 0.41026574539684446, 0.31815419967868935, 0.39788042488185116, 1.9197922864280879, 0.7513372351604846, -0.49112513779081807, 1.018552474767882, -0.7907999537751678, -0.4775808546567209, -0.36261208757725877, -0.03181717269879145, -0.30097615395533844, -2.076802021923554, -1.2704607763854796, -0.13479312929572362, 3.3210787561703645, 0.43598619629640983, 0.07225189915588459, -0.13935180545092124, 0.3212659144838316, 1.2935496206633084, -0.9509092510507696, 1.5392070096550627, 0.6087836589081088, -2.1444440467284505, 0.9544956665476875, -0.857496824739772, 0.6778075711198115, 1.2179409008013473, -0.596086334587662, 0.425920176502816, 1.108616757989675], \"xaxis\": \"x5\", \"y\": [0.076380480159592, 0.08646440652428741, 1.1041743263032135, -0.06065249177480989, 1.1158411079241686, 1.6133613745631155, 0.05340953679834792, -0.42914227823509377, -0.1028872175735376, 1.033686867939501, -1.6840599858682372, 0.3865391451330911, 1.4581082386095199, -0.7223919054141509, 0.7217112921126926, -1.0001691898725158, -0.10839206717353982, -0.5084571342754007, 1.8664713751521251, -1.4023291454531368, -1.1148710523659369, 0.5924728014240198, -0.918440038300026, 0.45194603732122307, -2.2370865111124707, 0.057120996082092076, 0.1892931975586576, 0.5560735100773853, -1.1640079711612021, 0.5574394528580334, -0.5396815622024924, 0.7130490503032691, 1.4092533893640082, 0.3827151737243639, -0.35340998286701436, -0.7315309817303334, -1.6993336047222958, -1.1549826349293644, -1.4765626605201803, 1.4701603438257402, -0.13971173044107246, 3.9586027040379634, 0.08176781880561644, 1.853009485069379, -0.14848980305939366, -0.62944160405378, -0.027529386267978004, -2.516303860965749, 1.7106618386711354, 0.9863521802120643, 0.49515861120031657, -0.5163479086460222, 1.470739856691369, -0.6648677669672133, -1.053546073700315, -1.8239198526251938, 0.18986164938309566, -1.5095726842240433, -0.22875417122021255, 0.5103075967452559, 1.0712524278458908, 0.7330232317190783, -0.16648595488595935, 1.2066078980355681, 0.040371431022839264, -2.7909964066938464, -0.4786723564156615, 0.31665889515665435, 0.8598709717969121, -0.01923163409763723, -0.9960108890883996, -1.3916938760540336, 0.14039543644735017, 0.1343731160397544, 1.2305581999547246, 1.2237222119601092, 0.025999994185658175, -1.4851564513254543, 0.11248774241419583, 0.8074559170052702, 0.9475011673456759, 0.2829955338110016, 1.0492182907525678, -0.6002253303773148, -0.6874873930601744, 1.0097873349475586, -0.7285374894247015, -0.7252149257453662, -0.43899766366627757, -0.7043503315234588, -1.1487042296369459, -1.8814108671660597, -0.3695624253374333, 0.09574677111013467, -0.934181843147949, -1.1065730673918852, -1.9406809643648932, 0.8616231013412039, 0.049080397141630476, -0.7029204029101687], \"yaxis\": \"y5\"}, {\"histfunc\": \"count\", \"histnorm\": \"\", \"marker\": {\"color\": \"rgba(55, 128, 191, 1.0)\", \"line\": {\"color\": \"#4D5663\", \"width\": 1.3}}, \"name\": \"B\", \"nbinsx\": 10, \"opacity\": 0.8, \"orientation\": \"v\", \"type\": \"histogram\", \"x\": [0.076380480159592, 0.08646440652428741, 1.1041743263032135, -0.06065249177480989, 1.1158411079241686, 1.6133613745631155, 0.05340953679834792, -0.42914227823509377, -0.1028872175735376, 1.033686867939501, -1.6840599858682372, 0.3865391451330911, 1.4581082386095199, -0.7223919054141509, 0.7217112921126926, -1.0001691898725158, -0.10839206717353982, -0.5084571342754007, 1.8664713751521251, -1.4023291454531368, -1.1148710523659369, 0.5924728014240198, -0.918440038300026, 0.45194603732122307, -2.2370865111124707, 0.057120996082092076, 0.1892931975586576, 0.5560735100773853, -1.1640079711612021, 0.5574394528580334, -0.5396815622024924, 0.7130490503032691, 1.4092533893640082, 0.3827151737243639, -0.35340998286701436, -0.7315309817303334, -1.6993336047222958, -1.1549826349293644, -1.4765626605201803, 1.4701603438257402, -0.13971173044107246, 3.9586027040379634, 0.08176781880561644, 1.853009485069379, -0.14848980305939366, -0.62944160405378, -0.027529386267978004, -2.516303860965749, 1.7106618386711354, 0.9863521802120643, 0.49515861120031657, -0.5163479086460222, 1.470739856691369, -0.6648677669672133, -1.053546073700315, -1.8239198526251938, 0.18986164938309566, -1.5095726842240433, -0.22875417122021255, 0.5103075967452559, 1.0712524278458908, 0.7330232317190783, -0.16648595488595935, 1.2066078980355681, 0.040371431022839264, -2.7909964066938464, -0.4786723564156615, 0.31665889515665435, 0.8598709717969121, -0.01923163409763723, -0.9960108890883996, -1.3916938760540336, 0.14039543644735017, 0.1343731160397544, 1.2305581999547246, 1.2237222119601092, 0.025999994185658175, -1.4851564513254543, 0.11248774241419583, 0.8074559170052702, 0.9475011673456759, 0.2829955338110016, 1.0492182907525678, -0.6002253303773148, -0.6874873930601744, 1.0097873349475586, -0.7285374894247015, -0.7252149257453662, -0.43899766366627757, -0.7043503315234588, -1.1487042296369459, -1.8814108671660597, -0.3695624253374333, 0.09574677111013467, -0.934181843147949, -1.1065730673918852, -1.9406809643648932, 0.8616231013412039, 0.049080397141630476, -0.7029204029101687], \"xaxis\": \"x6\", \"yaxis\": \"y6\"}, {\"line\": {\"color\": \"rgba(128, 128, 128, 1.0)\", \"dash\": \"solid\", \"shape\": \"linear\", \"width\": 1.3}, \"marker\": {\"size\": 2, \"symbol\": \"circle\"}, \"mode\": \"markers\", \"name\": \"B\", \"text\": \"\", \"type\": \"scatter\", \"x\": [0.3672318138838647, -2.1424667290773685, -0.28173626906561283, -2.4135030011737877, 0.3102722877837673, -0.3748046873026527, -0.4791570987860799, 1.208456328551963, 1.146900376399483, 0.8088443602656821, -1.1601701049822761, -0.8514556565308268, -0.5322340208981775, 1.0989963327471792, -0.625342001465988, 1.0449944096738975, 0.45015551276717897, 0.7774192052488628, -0.41893789767812306, 0.4511229387345986, -0.7673098263317347, 1.197830841721251, -0.10534471250754213, -1.5791562853944654, -1.1077125022845524, -0.7995474906917599, -0.5637887345823027, 1.693809113288081, 0.6933662256603845, 0.18103874435787085, 0.12837699015594436, 1.3062060651354486, 1.6209122856217475, -0.2889973430098159, -1.7879128911997157, -1.5657381506559054, -0.27584606256114336, -0.17763219598355098, -0.14319574500723764, -0.870008223190852, 1.3863142642463189, 0.6486436440906672, -0.45994283084068716, 0.14225137252631778, -0.1834001973200239, -1.1134361029729902, 1.7464350892279725, -0.5956678809102903, 0.03494358936374005, -0.466154856825928, -0.952062100706259, 0.35111689651096534, 0.33722093830845856, -1.9450469586120391, 0.8160436843240609, 1.167075165999964, 0.7980637952989431, -1.0807106924455065, -0.17961229465135792, -0.9157918490686792, -1.0971543602553622, -1.8988120593192948, 1.4236144293489872, -0.2828635516348445, -0.15699367249331792, -0.45611755514868535, -0.3290515493410809, -1.895266947476466, -0.8986831933186461, 0.15001627872780374, -1.1958615103244818, 0.4502177420378455, -0.9268719392086243, -0.26837130412057664, -1.181103172771823, -0.05936790254849916, -1.3486964467972422, -0.5924612851532695, 0.28807816700515054, 0.3122386890129999, -0.5039739491423175, 0.10803081731234535, 0.9662208625783415, -0.37951751553387963, -2.698361741666047, -1.5569415578650314, 0.5311637934562251, 1.5365363280210986, 0.5900394641608302, -0.04586668606976747, -1.0903383324548148, 0.4972690986459772, -0.017454951836177974, 1.0334508032642373, 0.542645294566316, -0.3592240957107388, -0.806178211953457, -2.0863905654565262, 1.1022367325853422, 0.7255505180787332], \"xaxis\": \"x7\", \"y\": [0.076380480159592, 0.08646440652428741, 1.1041743263032135, -0.06065249177480989, 1.1158411079241686, 1.6133613745631155, 0.05340953679834792, -0.42914227823509377, -0.1028872175735376, 1.033686867939501, -1.6840599858682372, 0.3865391451330911, 1.4581082386095199, -0.7223919054141509, 0.7217112921126926, -1.0001691898725158, -0.10839206717353982, -0.5084571342754007, 1.8664713751521251, -1.4023291454531368, -1.1148710523659369, 0.5924728014240198, -0.918440038300026, 0.45194603732122307, -2.2370865111124707, 0.057120996082092076, 0.1892931975586576, 0.5560735100773853, -1.1640079711612021, 0.5574394528580334, -0.5396815622024924, 0.7130490503032691, 1.4092533893640082, 0.3827151737243639, -0.35340998286701436, -0.7315309817303334, -1.6993336047222958, -1.1549826349293644, -1.4765626605201803, 1.4701603438257402, -0.13971173044107246, 3.9586027040379634, 0.08176781880561644, 1.853009485069379, -0.14848980305939366, -0.62944160405378, -0.027529386267978004, -2.516303860965749, 1.7106618386711354, 0.9863521802120643, 0.49515861120031657, -0.5163479086460222, 1.470739856691369, -0.6648677669672133, -1.053546073700315, -1.8239198526251938, 0.18986164938309566, -1.5095726842240433, -0.22875417122021255, 0.5103075967452559, 1.0712524278458908, 0.7330232317190783, -0.16648595488595935, 1.2066078980355681, 0.040371431022839264, -2.7909964066938464, -0.4786723564156615, 0.31665889515665435, 0.8598709717969121, -0.01923163409763723, -0.9960108890883996, -1.3916938760540336, 0.14039543644735017, 0.1343731160397544, 1.2305581999547246, 1.2237222119601092, 0.025999994185658175, -1.4851564513254543, 0.11248774241419583, 0.8074559170052702, 0.9475011673456759, 0.2829955338110016, 1.0492182907525678, -0.6002253303773148, -0.6874873930601744, 1.0097873349475586, -0.7285374894247015, -0.7252149257453662, -0.43899766366627757, -0.7043503315234588, -1.1487042296369459, -1.8814108671660597, -0.3695624253374333, 0.09574677111013467, -0.934181843147949, -1.1065730673918852, -1.9406809643648932, 0.8616231013412039, 0.049080397141630476, -0.7029204029101687], \"yaxis\": \"y7\"}, {\"line\": {\"color\": \"rgba(128, 128, 128, 1.0)\", \"dash\": \"solid\", \"shape\": \"linear\", \"width\": 1.3}, \"marker\": {\"size\": 2, \"symbol\": \"circle\"}, \"mode\": \"markers\", \"name\": \"B\", \"text\": \"\", \"type\": \"scatter\", \"x\": [1.2328991923762371, -0.830168864022708, 2.0563555231982935, -1.7775663758059874, -2.094247816222812, -0.7499696172756662, 0.3501671588282789, 1.1157018027844863, -0.04970257915867584, 1.7897546832062712, 1.350106818681726, 1.000881423680301, 1.1181333967176956, -0.901634490475998, -0.5938430672545096, 0.6085146984848496, 1.7653351005190716, -0.11877117210308928, -0.47918491512740585, -0.6949209011852391, 0.6745707069560037, 1.7045941713724069, 0.630195670684911, -0.8286279788564058, -0.01771831791014226, -0.2915945955008327, 0.08968640732259017, 0.19686977925029145, -0.7580673285562323, 1.1071754509490623, 1.7604151835753223, -0.604602969164376, -0.8061848173822241, -0.3918162398080484, 0.36184731583956825, 1.0138224669717055, 1.2289555856506973, -1.5104563750875688, 1.0329837789497511, 0.36919046954687373, 0.5481295846881931, 0.10734329382358966, 0.6443536660303223, 0.5135054799885475, 1.1010002026684818, -0.06741002494685439, -0.7750702870734348, -0.30912131864186215, 1.4539175816088175, 1.3849913436486387, -0.5181455523987548, -0.06877046307863847, 1.0080654330757632, -0.9154243682317061, -0.6124069731288238, -0.03966870009048212, -0.10193203926360005, 0.7254740044815357, 0.5017251093451655, -0.40725204301996576, 0.8386347472283774, -1.1171106924391125, 0.9039991740035269, -0.2663268843187201, -1.3352027230151915, -0.9798902516618007, 1.3471054646704976, 0.08972911744465112, 0.3196569419445935, 0.4635343217316655, 2.505980285318673, 0.6274370827531105, -0.18242040636309756, -0.13167562628701832, -0.45993010443458127, 1.4489894041582356, 1.3025355364861801, -2.304907937770138, 1.498108183577034, -0.1933216404740039, 0.017955891650826426, 0.02941761897076564, 0.7259168525208212, -1.014803690858671, -1.2133381258287046, -0.6124421282843443, 0.004000841975375483, -0.00037500875835609604, -0.6793837829972343, -0.21873345896770915, 1.700188146645526, 0.23733269933959658, 0.7314025171250657, -0.1462732746113538, -1.9581690855990108, 0.5053819027529176, 0.04906169237310281, 0.3618016405710469, -1.229574253546429, -0.32420421948521105], \"xaxis\": \"x8\", \"y\": [0.076380480159592, 0.08646440652428741, 1.1041743263032135, -0.06065249177480989, 1.1158411079241686, 1.6133613745631155, 0.05340953679834792, -0.42914227823509377, -0.1028872175735376, 1.033686867939501, -1.6840599858682372, 0.3865391451330911, 1.4581082386095199, -0.7223919054141509, 0.7217112921126926, -1.0001691898725158, -0.10839206717353982, -0.5084571342754007, 1.8664713751521251, -1.4023291454531368, -1.1148710523659369, 0.5924728014240198, -0.918440038300026, 0.45194603732122307, -2.2370865111124707, 0.057120996082092076, 0.1892931975586576, 0.5560735100773853, -1.1640079711612021, 0.5574394528580334, -0.5396815622024924, 0.7130490503032691, 1.4092533893640082, 0.3827151737243639, -0.35340998286701436, -0.7315309817303334, -1.6993336047222958, -1.1549826349293644, -1.4765626605201803, 1.4701603438257402, -0.13971173044107246, 3.9586027040379634, 0.08176781880561644, 1.853009485069379, -0.14848980305939366, -0.62944160405378, -0.027529386267978004, -2.516303860965749, 1.7106618386711354, 0.9863521802120643, 0.49515861120031657, -0.5163479086460222, 1.470739856691369, -0.6648677669672133, -1.053546073700315, -1.8239198526251938, 0.18986164938309566, -1.5095726842240433, -0.22875417122021255, 0.5103075967452559, 1.0712524278458908, 0.7330232317190783, -0.16648595488595935, 1.2066078980355681, 0.040371431022839264, -2.7909964066938464, -0.4786723564156615, 0.31665889515665435, 0.8598709717969121, -0.01923163409763723, -0.9960108890883996, -1.3916938760540336, 0.14039543644735017, 0.1343731160397544, 1.2305581999547246, 1.2237222119601092, 0.025999994185658175, -1.4851564513254543, 0.11248774241419583, 0.8074559170052702, 0.9475011673456759, 0.2829955338110016, 1.0492182907525678, -0.6002253303773148, -0.6874873930601744, 1.0097873349475586, -0.7285374894247015, -0.7252149257453662, -0.43899766366627757, -0.7043503315234588, -1.1487042296369459, -1.8814108671660597, -0.3695624253374333, 0.09574677111013467, -0.934181843147949, -1.1065730673918852, -1.9406809643648932, 0.8616231013412039, 0.049080397141630476, -0.7029204029101687], \"yaxis\": \"y8\"}, {\"line\": {\"color\": \"rgba(128, 128, 128, 1.0)\", \"dash\": \"solid\", \"shape\": \"linear\", \"width\": 1.3}, \"marker\": {\"size\": 2, \"symbol\": \"circle\"}, \"mode\": \"markers\", \"name\": \"C\", \"text\": \"\", \"type\": \"scatter\", \"x\": [-1.3065340728440185, -0.4228569613907754, 0.45161595055524156, 1.7602492264490932, -0.7778588266274128, -0.22876582887016242, 2.054624102518116, 0.017164726374088564, 0.8408615581411037, 0.46664326722884075, 0.4512840160401709, -0.3312831699326283, -0.38483224883279044, 0.6743961048208689, -0.8224671889042517, -0.3439007092103924, -0.06932869669048287, 0.8709698025322423, -0.19899818380372442, -1.9521052872452325, 0.515413801783241, 1.460892380463078, 1.0400891531540952, -0.4148469012882354, 0.528879745585174, -1.719394474619523, -0.25898285340053234, -0.6011568006493835, 0.1698692553475717, -0.8088471964721285, 1.4428769284963092, 0.9665392502290573, 0.6365834094146309, -0.2516742076314244, 0.684001328181953, -0.4244927905709274, -2.2271126318500145, 1.3097059056826534, 1.0112070637749084, -0.22241402852990858, 0.8532821858237332, -1.6374495930083417, -1.3988128186664763, 0.37167029121186534, 0.3724568515114425, 0.7800271353386294, 1.1614399816743937, 0.14164053766580517, 0.5109377744920892, 0.6616810764659825, -1.072964278711645, -1.4614036047221062, -1.3477649412536636, 0.7852269196346882, 1.2251558492732308, 0.3931092448539835, 0.8858257989659072, 0.7433565435138623, -0.039178256209496685, -0.593343754242419, 0.9849516717192109, -1.039182322034903, -0.5089722778228615, 1.5754679085723808, 1.0689716222012626, -0.10646012155553987, 0.6925743475393558, -1.0490677451686161, 0.41026574539684446, 0.31815419967868935, 0.39788042488185116, 1.9197922864280879, 0.7513372351604846, -0.49112513779081807, 1.018552474767882, -0.7907999537751678, -0.4775808546567209, -0.36261208757725877, -0.03181717269879145, -0.30097615395533844, -2.076802021923554, -1.2704607763854796, -0.13479312929572362, 3.3210787561703645, 0.43598619629640983, 0.07225189915588459, -0.13935180545092124, 0.3212659144838316, 1.2935496206633084, -0.9509092510507696, 1.5392070096550627, 0.6087836589081088, -2.1444440467284505, 0.9544956665476875, -0.857496824739772, 0.6778075711198115, 1.2179409008013473, -0.596086334587662, 0.425920176502816, 1.108616757989675], \"xaxis\": \"x9\", \"y\": [0.3672318138838647, -2.1424667290773685, -0.28173626906561283, -2.4135030011737877, 0.3102722877837673, -0.3748046873026527, -0.4791570987860799, 1.208456328551963, 1.146900376399483, 0.8088443602656821, -1.1601701049822761, -0.8514556565308268, -0.5322340208981775, 1.0989963327471792, -0.625342001465988, 1.0449944096738975, 0.45015551276717897, 0.7774192052488628, -0.41893789767812306, 0.4511229387345986, -0.7673098263317347, 1.197830841721251, -0.10534471250754213, -1.5791562853944654, -1.1077125022845524, -0.7995474906917599, -0.5637887345823027, 1.693809113288081, 0.6933662256603845, 0.18103874435787085, 0.12837699015594436, 1.3062060651354486, 1.6209122856217475, -0.2889973430098159, -1.7879128911997157, -1.5657381506559054, -0.27584606256114336, -0.17763219598355098, -0.14319574500723764, -0.870008223190852, 1.3863142642463189, 0.6486436440906672, -0.45994283084068716, 0.14225137252631778, -0.1834001973200239, -1.1134361029729902, 1.7464350892279725, -0.5956678809102903, 0.03494358936374005, -0.466154856825928, -0.952062100706259, 0.35111689651096534, 0.33722093830845856, -1.9450469586120391, 0.8160436843240609, 1.167075165999964, 0.7980637952989431, -1.0807106924455065, -0.17961229465135792, -0.9157918490686792, -1.0971543602553622, -1.8988120593192948, 1.4236144293489872, -0.2828635516348445, -0.15699367249331792, -0.45611755514868535, -0.3290515493410809, -1.895266947476466, -0.8986831933186461, 0.15001627872780374, -1.1958615103244818, 0.4502177420378455, -0.9268719392086243, -0.26837130412057664, -1.181103172771823, -0.05936790254849916, -1.3486964467972422, -0.5924612851532695, 0.28807816700515054, 0.3122386890129999, -0.5039739491423175, 0.10803081731234535, 0.9662208625783415, -0.37951751553387963, -2.698361741666047, -1.5569415578650314, 0.5311637934562251, 1.5365363280210986, 0.5900394641608302, -0.04586668606976747, -1.0903383324548148, 0.4972690986459772, -0.017454951836177974, 1.0334508032642373, 0.542645294566316, -0.3592240957107388, -0.806178211953457, -2.0863905654565262, 1.1022367325853422, 0.7255505180787332], \"yaxis\": \"y9\"}, {\"line\": {\"color\": \"rgba(128, 128, 128, 1.0)\", \"dash\": \"solid\", \"shape\": \"linear\", \"width\": 1.3}, \"marker\": {\"size\": 2, \"symbol\": \"circle\"}, \"mode\": \"markers\", \"name\": \"C\", \"text\": \"\", \"type\": \"scatter\", \"x\": [0.076380480159592, 0.08646440652428741, 1.1041743263032135, -0.06065249177480989, 1.1158411079241686, 1.6133613745631155, 0.05340953679834792, -0.42914227823509377, -0.1028872175735376, 1.033686867939501, -1.6840599858682372, 0.3865391451330911, 1.4581082386095199, -0.7223919054141509, 0.7217112921126926, -1.0001691898725158, -0.10839206717353982, -0.5084571342754007, 1.8664713751521251, -1.4023291454531368, -1.1148710523659369, 0.5924728014240198, -0.918440038300026, 0.45194603732122307, -2.2370865111124707, 0.057120996082092076, 0.1892931975586576, 0.5560735100773853, -1.1640079711612021, 0.5574394528580334, -0.5396815622024924, 0.7130490503032691, 1.4092533893640082, 0.3827151737243639, -0.35340998286701436, -0.7315309817303334, -1.6993336047222958, -1.1549826349293644, -1.4765626605201803, 1.4701603438257402, -0.13971173044107246, 3.9586027040379634, 0.08176781880561644, 1.853009485069379, -0.14848980305939366, -0.62944160405378, -0.027529386267978004, -2.516303860965749, 1.7106618386711354, 0.9863521802120643, 0.49515861120031657, -0.5163479086460222, 1.470739856691369, -0.6648677669672133, -1.053546073700315, -1.8239198526251938, 0.18986164938309566, -1.5095726842240433, -0.22875417122021255, 0.5103075967452559, 1.0712524278458908, 0.7330232317190783, -0.16648595488595935, 1.2066078980355681, 0.040371431022839264, -2.7909964066938464, -0.4786723564156615, 0.31665889515665435, 0.8598709717969121, -0.01923163409763723, -0.9960108890883996, -1.3916938760540336, 0.14039543644735017, 0.1343731160397544, 1.2305581999547246, 1.2237222119601092, 0.025999994185658175, -1.4851564513254543, 0.11248774241419583, 0.8074559170052702, 0.9475011673456759, 0.2829955338110016, 1.0492182907525678, -0.6002253303773148, -0.6874873930601744, 1.0097873349475586, -0.7285374894247015, -0.7252149257453662, -0.43899766366627757, -0.7043503315234588, -1.1487042296369459, -1.8814108671660597, -0.3695624253374333, 0.09574677111013467, -0.934181843147949, -1.1065730673918852, -1.9406809643648932, 0.8616231013412039, 0.049080397141630476, -0.7029204029101687], \"xaxis\": \"x10\", \"y\": [0.3672318138838647, -2.1424667290773685, -0.28173626906561283, -2.4135030011737877, 0.3102722877837673, -0.3748046873026527, -0.4791570987860799, 1.208456328551963, 1.146900376399483, 0.8088443602656821, -1.1601701049822761, -0.8514556565308268, -0.5322340208981775, 1.0989963327471792, -0.625342001465988, 1.0449944096738975, 0.45015551276717897, 0.7774192052488628, -0.41893789767812306, 0.4511229387345986, -0.7673098263317347, 1.197830841721251, -0.10534471250754213, -1.5791562853944654, -1.1077125022845524, -0.7995474906917599, -0.5637887345823027, 1.693809113288081, 0.6933662256603845, 0.18103874435787085, 0.12837699015594436, 1.3062060651354486, 1.6209122856217475, -0.2889973430098159, -1.7879128911997157, -1.5657381506559054, -0.27584606256114336, -0.17763219598355098, -0.14319574500723764, -0.870008223190852, 1.3863142642463189, 0.6486436440906672, -0.45994283084068716, 0.14225137252631778, -0.1834001973200239, -1.1134361029729902, 1.7464350892279725, -0.5956678809102903, 0.03494358936374005, -0.466154856825928, -0.952062100706259, 0.35111689651096534, 0.33722093830845856, -1.9450469586120391, 0.8160436843240609, 1.167075165999964, 0.7980637952989431, -1.0807106924455065, -0.17961229465135792, -0.9157918490686792, -1.0971543602553622, -1.8988120593192948, 1.4236144293489872, -0.2828635516348445, -0.15699367249331792, -0.45611755514868535, -0.3290515493410809, -1.895266947476466, -0.8986831933186461, 0.15001627872780374, -1.1958615103244818, 0.4502177420378455, -0.9268719392086243, -0.26837130412057664, -1.181103172771823, -0.05936790254849916, -1.3486964467972422, -0.5924612851532695, 0.28807816700515054, 0.3122386890129999, -0.5039739491423175, 0.10803081731234535, 0.9662208625783415, -0.37951751553387963, -2.698361741666047, -1.5569415578650314, 0.5311637934562251, 1.5365363280210986, 0.5900394641608302, -0.04586668606976747, -1.0903383324548148, 0.4972690986459772, -0.017454951836177974, 1.0334508032642373, 0.542645294566316, -0.3592240957107388, -0.806178211953457, -2.0863905654565262, 1.1022367325853422, 0.7255505180787332], \"yaxis\": \"y10\"}, {\"histfunc\": \"count\", \"histnorm\": \"\", \"marker\": {\"color\": \"rgba(50, 171, 96, 1.0)\", \"line\": {\"color\": \"#4D5663\", \"width\": 1.3}}, \"name\": \"C\", \"nbinsx\": 10, \"opacity\": 0.8, \"orientation\": \"v\", \"type\": \"histogram\", \"x\": [0.3672318138838647, -2.1424667290773685, -0.28173626906561283, -2.4135030011737877, 0.3102722877837673, -0.3748046873026527, -0.4791570987860799, 1.208456328551963, 1.146900376399483, 0.8088443602656821, -1.1601701049822761, -0.8514556565308268, -0.5322340208981775, 1.0989963327471792, -0.625342001465988, 1.0449944096738975, 0.45015551276717897, 0.7774192052488628, -0.41893789767812306, 0.4511229387345986, -0.7673098263317347, 1.197830841721251, -0.10534471250754213, -1.5791562853944654, -1.1077125022845524, -0.7995474906917599, -0.5637887345823027, 1.693809113288081, 0.6933662256603845, 0.18103874435787085, 0.12837699015594436, 1.3062060651354486, 1.6209122856217475, -0.2889973430098159, -1.7879128911997157, -1.5657381506559054, -0.27584606256114336, -0.17763219598355098, -0.14319574500723764, -0.870008223190852, 1.3863142642463189, 0.6486436440906672, -0.45994283084068716, 0.14225137252631778, -0.1834001973200239, -1.1134361029729902, 1.7464350892279725, -0.5956678809102903, 0.03494358936374005, -0.466154856825928, -0.952062100706259, 0.35111689651096534, 0.33722093830845856, -1.9450469586120391, 0.8160436843240609, 1.167075165999964, 0.7980637952989431, -1.0807106924455065, -0.17961229465135792, -0.9157918490686792, -1.0971543602553622, -1.8988120593192948, 1.4236144293489872, -0.2828635516348445, -0.15699367249331792, -0.45611755514868535, -0.3290515493410809, -1.895266947476466, -0.8986831933186461, 0.15001627872780374, -1.1958615103244818, 0.4502177420378455, -0.9268719392086243, -0.26837130412057664, -1.181103172771823, -0.05936790254849916, -1.3486964467972422, -0.5924612851532695, 0.28807816700515054, 0.3122386890129999, -0.5039739491423175, 0.10803081731234535, 0.9662208625783415, -0.37951751553387963, -2.698361741666047, -1.5569415578650314, 0.5311637934562251, 1.5365363280210986, 0.5900394641608302, -0.04586668606976747, -1.0903383324548148, 0.4972690986459772, -0.017454951836177974, 1.0334508032642373, 0.542645294566316, -0.3592240957107388, -0.806178211953457, -2.0863905654565262, 1.1022367325853422, 0.7255505180787332], \"xaxis\": \"x11\", \"yaxis\": \"y11\"}, {\"line\": {\"color\": \"rgba(128, 128, 128, 1.0)\", \"dash\": \"solid\", \"shape\": \"linear\", \"width\": 1.3}, \"marker\": {\"size\": 2, \"symbol\": \"circle\"}, \"mode\": \"markers\", \"name\": \"C\", \"text\": \"\", \"type\": \"scatter\", \"x\": [1.2328991923762371, -0.830168864022708, 2.0563555231982935, -1.7775663758059874, -2.094247816222812, -0.7499696172756662, 0.3501671588282789, 1.1157018027844863, -0.04970257915867584, 1.7897546832062712, 1.350106818681726, 1.000881423680301, 1.1181333967176956, -0.901634490475998, -0.5938430672545096, 0.6085146984848496, 1.7653351005190716, -0.11877117210308928, -0.47918491512740585, -0.6949209011852391, 0.6745707069560037, 1.7045941713724069, 0.630195670684911, -0.8286279788564058, -0.01771831791014226, -0.2915945955008327, 0.08968640732259017, 0.19686977925029145, -0.7580673285562323, 1.1071754509490623, 1.7604151835753223, -0.604602969164376, -0.8061848173822241, -0.3918162398080484, 0.36184731583956825, 1.0138224669717055, 1.2289555856506973, -1.5104563750875688, 1.0329837789497511, 0.36919046954687373, 0.5481295846881931, 0.10734329382358966, 0.6443536660303223, 0.5135054799885475, 1.1010002026684818, -0.06741002494685439, -0.7750702870734348, -0.30912131864186215, 1.4539175816088175, 1.3849913436486387, -0.5181455523987548, -0.06877046307863847, 1.0080654330757632, -0.9154243682317061, -0.6124069731288238, -0.03966870009048212, -0.10193203926360005, 0.7254740044815357, 0.5017251093451655, -0.40725204301996576, 0.8386347472283774, -1.1171106924391125, 0.9039991740035269, -0.2663268843187201, -1.3352027230151915, -0.9798902516618007, 1.3471054646704976, 0.08972911744465112, 0.3196569419445935, 0.4635343217316655, 2.505980285318673, 0.6274370827531105, -0.18242040636309756, -0.13167562628701832, -0.45993010443458127, 1.4489894041582356, 1.3025355364861801, -2.304907937770138, 1.498108183577034, -0.1933216404740039, 0.017955891650826426, 0.02941761897076564, 0.7259168525208212, -1.014803690858671, -1.2133381258287046, -0.6124421282843443, 0.004000841975375483, -0.00037500875835609604, -0.6793837829972343, -0.21873345896770915, 1.700188146645526, 0.23733269933959658, 0.7314025171250657, -0.1462732746113538, -1.9581690855990108, 0.5053819027529176, 0.04906169237310281, 0.3618016405710469, -1.229574253546429, -0.32420421948521105], \"xaxis\": \"x12\", \"y\": [0.3672318138838647, -2.1424667290773685, -0.28173626906561283, -2.4135030011737877, 0.3102722877837673, -0.3748046873026527, -0.4791570987860799, 1.208456328551963, 1.146900376399483, 0.8088443602656821, -1.1601701049822761, -0.8514556565308268, -0.5322340208981775, 1.0989963327471792, -0.625342001465988, 1.0449944096738975, 0.45015551276717897, 0.7774192052488628, -0.41893789767812306, 0.4511229387345986, -0.7673098263317347, 1.197830841721251, -0.10534471250754213, -1.5791562853944654, -1.1077125022845524, -0.7995474906917599, -0.5637887345823027, 1.693809113288081, 0.6933662256603845, 0.18103874435787085, 0.12837699015594436, 1.3062060651354486, 1.6209122856217475, -0.2889973430098159, -1.7879128911997157, -1.5657381506559054, -0.27584606256114336, -0.17763219598355098, -0.14319574500723764, -0.870008223190852, 1.3863142642463189, 0.6486436440906672, -0.45994283084068716, 0.14225137252631778, -0.1834001973200239, -1.1134361029729902, 1.7464350892279725, -0.5956678809102903, 0.03494358936374005, -0.466154856825928, -0.952062100706259, 0.35111689651096534, 0.33722093830845856, -1.9450469586120391, 0.8160436843240609, 1.167075165999964, 0.7980637952989431, -1.0807106924455065, -0.17961229465135792, -0.9157918490686792, -1.0971543602553622, -1.8988120593192948, 1.4236144293489872, -0.2828635516348445, -0.15699367249331792, -0.45611755514868535, -0.3290515493410809, -1.895266947476466, -0.8986831933186461, 0.15001627872780374, -1.1958615103244818, 0.4502177420378455, -0.9268719392086243, -0.26837130412057664, -1.181103172771823, -0.05936790254849916, -1.3486964467972422, -0.5924612851532695, 0.28807816700515054, 0.3122386890129999, -0.5039739491423175, 0.10803081731234535, 0.9662208625783415, -0.37951751553387963, -2.698361741666047, -1.5569415578650314, 0.5311637934562251, 1.5365363280210986, 0.5900394641608302, -0.04586668606976747, -1.0903383324548148, 0.4972690986459772, -0.017454951836177974, 1.0334508032642373, 0.542645294566316, -0.3592240957107388, -0.806178211953457, -2.0863905654565262, 1.1022367325853422, 0.7255505180787332], \"yaxis\": \"y12\"}, {\"line\": {\"color\": \"rgba(128, 128, 128, 1.0)\", \"dash\": \"solid\", \"shape\": \"linear\", \"width\": 1.3}, \"marker\": {\"size\": 2, \"symbol\": \"circle\"}, \"mode\": \"markers\", \"name\": \"D\", \"text\": \"\", \"type\": \"scatter\", \"x\": [-1.3065340728440185, -0.4228569613907754, 0.45161595055524156, 1.7602492264490932, -0.7778588266274128, -0.22876582887016242, 2.054624102518116, 0.017164726374088564, 0.8408615581411037, 0.46664326722884075, 0.4512840160401709, -0.3312831699326283, -0.38483224883279044, 0.6743961048208689, -0.8224671889042517, -0.3439007092103924, -0.06932869669048287, 0.8709698025322423, -0.19899818380372442, -1.9521052872452325, 0.515413801783241, 1.460892380463078, 1.0400891531540952, -0.4148469012882354, 0.528879745585174, -1.719394474619523, -0.25898285340053234, -0.6011568006493835, 0.1698692553475717, -0.8088471964721285, 1.4428769284963092, 0.9665392502290573, 0.6365834094146309, -0.2516742076314244, 0.684001328181953, -0.4244927905709274, -2.2271126318500145, 1.3097059056826534, 1.0112070637749084, -0.22241402852990858, 0.8532821858237332, -1.6374495930083417, -1.3988128186664763, 0.37167029121186534, 0.3724568515114425, 0.7800271353386294, 1.1614399816743937, 0.14164053766580517, 0.5109377744920892, 0.6616810764659825, -1.072964278711645, -1.4614036047221062, -1.3477649412536636, 0.7852269196346882, 1.2251558492732308, 0.3931092448539835, 0.8858257989659072, 0.7433565435138623, -0.039178256209496685, -0.593343754242419, 0.9849516717192109, -1.039182322034903, -0.5089722778228615, 1.5754679085723808, 1.0689716222012626, -0.10646012155553987, 0.6925743475393558, -1.0490677451686161, 0.41026574539684446, 0.31815419967868935, 0.39788042488185116, 1.9197922864280879, 0.7513372351604846, -0.49112513779081807, 1.018552474767882, -0.7907999537751678, -0.4775808546567209, -0.36261208757725877, -0.03181717269879145, -0.30097615395533844, -2.076802021923554, -1.2704607763854796, -0.13479312929572362, 3.3210787561703645, 0.43598619629640983, 0.07225189915588459, -0.13935180545092124, 0.3212659144838316, 1.2935496206633084, -0.9509092510507696, 1.5392070096550627, 0.6087836589081088, -2.1444440467284505, 0.9544956665476875, -0.857496824739772, 0.6778075711198115, 1.2179409008013473, -0.596086334587662, 0.425920176502816, 1.108616757989675], \"xaxis\": \"x13\", \"y\": [1.2328991923762371, -0.830168864022708, 2.0563555231982935, -1.7775663758059874, -2.094247816222812, -0.7499696172756662, 0.3501671588282789, 1.1157018027844863, -0.04970257915867584, 1.7897546832062712, 1.350106818681726, 1.000881423680301, 1.1181333967176956, -0.901634490475998, -0.5938430672545096, 0.6085146984848496, 1.7653351005190716, -0.11877117210308928, -0.47918491512740585, -0.6949209011852391, 0.6745707069560037, 1.7045941713724069, 0.630195670684911, -0.8286279788564058, -0.01771831791014226, -0.2915945955008327, 0.08968640732259017, 0.19686977925029145, -0.7580673285562323, 1.1071754509490623, 1.7604151835753223, -0.604602969164376, -0.8061848173822241, -0.3918162398080484, 0.36184731583956825, 1.0138224669717055, 1.2289555856506973, -1.5104563750875688, 1.0329837789497511, 0.36919046954687373, 0.5481295846881931, 0.10734329382358966, 0.6443536660303223, 0.5135054799885475, 1.1010002026684818, -0.06741002494685439, -0.7750702870734348, -0.30912131864186215, 1.4539175816088175, 1.3849913436486387, -0.5181455523987548, -0.06877046307863847, 1.0080654330757632, -0.9154243682317061, -0.6124069731288238, -0.03966870009048212, -0.10193203926360005, 0.7254740044815357, 0.5017251093451655, -0.40725204301996576, 0.8386347472283774, -1.1171106924391125, 0.9039991740035269, -0.2663268843187201, -1.3352027230151915, -0.9798902516618007, 1.3471054646704976, 0.08972911744465112, 0.3196569419445935, 0.4635343217316655, 2.505980285318673, 0.6274370827531105, -0.18242040636309756, -0.13167562628701832, -0.45993010443458127, 1.4489894041582356, 1.3025355364861801, -2.304907937770138, 1.498108183577034, -0.1933216404740039, 0.017955891650826426, 0.02941761897076564, 0.7259168525208212, -1.014803690858671, -1.2133381258287046, -0.6124421282843443, 0.004000841975375483, -0.00037500875835609604, -0.6793837829972343, -0.21873345896770915, 1.700188146645526, 0.23733269933959658, 0.7314025171250657, -0.1462732746113538, -1.9581690855990108, 0.5053819027529176, 0.04906169237310281, 0.3618016405710469, -1.229574253546429, -0.32420421948521105], \"yaxis\": \"y13\"}, {\"line\": {\"color\": \"rgba(128, 128, 128, 1.0)\", \"dash\": \"solid\", \"shape\": \"linear\", \"width\": 1.3}, \"marker\": {\"size\": 2, \"symbol\": \"circle\"}, \"mode\": \"markers\", \"name\": \"D\", \"text\": \"\", \"type\": \"scatter\", \"x\": [0.076380480159592, 0.08646440652428741, 1.1041743263032135, -0.06065249177480989, 1.1158411079241686, 1.6133613745631155, 0.05340953679834792, -0.42914227823509377, -0.1028872175735376, 1.033686867939501, -1.6840599858682372, 0.3865391451330911, 1.4581082386095199, -0.7223919054141509, 0.7217112921126926, -1.0001691898725158, -0.10839206717353982, -0.5084571342754007, 1.8664713751521251, -1.4023291454531368, -1.1148710523659369, 0.5924728014240198, -0.918440038300026, 0.45194603732122307, -2.2370865111124707, 0.057120996082092076, 0.1892931975586576, 0.5560735100773853, -1.1640079711612021, 0.5574394528580334, -0.5396815622024924, 0.7130490503032691, 1.4092533893640082, 0.3827151737243639, -0.35340998286701436, -0.7315309817303334, -1.6993336047222958, -1.1549826349293644, -1.4765626605201803, 1.4701603438257402, -0.13971173044107246, 3.9586027040379634, 0.08176781880561644, 1.853009485069379, -0.14848980305939366, -0.62944160405378, -0.027529386267978004, -2.516303860965749, 1.7106618386711354, 0.9863521802120643, 0.49515861120031657, -0.5163479086460222, 1.470739856691369, -0.6648677669672133, -1.053546073700315, -1.8239198526251938, 0.18986164938309566, -1.5095726842240433, -0.22875417122021255, 0.5103075967452559, 1.0712524278458908, 0.7330232317190783, -0.16648595488595935, 1.2066078980355681, 0.040371431022839264, -2.7909964066938464, -0.4786723564156615, 0.31665889515665435, 0.8598709717969121, -0.01923163409763723, -0.9960108890883996, -1.3916938760540336, 0.14039543644735017, 0.1343731160397544, 1.2305581999547246, 1.2237222119601092, 0.025999994185658175, -1.4851564513254543, 0.11248774241419583, 0.8074559170052702, 0.9475011673456759, 0.2829955338110016, 1.0492182907525678, -0.6002253303773148, -0.6874873930601744, 1.0097873349475586, -0.7285374894247015, -0.7252149257453662, -0.43899766366627757, -0.7043503315234588, -1.1487042296369459, -1.8814108671660597, -0.3695624253374333, 0.09574677111013467, -0.934181843147949, -1.1065730673918852, -1.9406809643648932, 0.8616231013412039, 0.049080397141630476, -0.7029204029101687], \"xaxis\": \"x14\", \"y\": [1.2328991923762371, -0.830168864022708, 2.0563555231982935, -1.7775663758059874, -2.094247816222812, -0.7499696172756662, 0.3501671588282789, 1.1157018027844863, -0.04970257915867584, 1.7897546832062712, 1.350106818681726, 1.000881423680301, 1.1181333967176956, -0.901634490475998, -0.5938430672545096, 0.6085146984848496, 1.7653351005190716, -0.11877117210308928, -0.47918491512740585, -0.6949209011852391, 0.6745707069560037, 1.7045941713724069, 0.630195670684911, -0.8286279788564058, -0.01771831791014226, -0.2915945955008327, 0.08968640732259017, 0.19686977925029145, -0.7580673285562323, 1.1071754509490623, 1.7604151835753223, -0.604602969164376, -0.8061848173822241, -0.3918162398080484, 0.36184731583956825, 1.0138224669717055, 1.2289555856506973, -1.5104563750875688, 1.0329837789497511, 0.36919046954687373, 0.5481295846881931, 0.10734329382358966, 0.6443536660303223, 0.5135054799885475, 1.1010002026684818, -0.06741002494685439, -0.7750702870734348, -0.30912131864186215, 1.4539175816088175, 1.3849913436486387, -0.5181455523987548, -0.06877046307863847, 1.0080654330757632, -0.9154243682317061, -0.6124069731288238, -0.03966870009048212, -0.10193203926360005, 0.7254740044815357, 0.5017251093451655, -0.40725204301996576, 0.8386347472283774, -1.1171106924391125, 0.9039991740035269, -0.2663268843187201, -1.3352027230151915, -0.9798902516618007, 1.3471054646704976, 0.08972911744465112, 0.3196569419445935, 0.4635343217316655, 2.505980285318673, 0.6274370827531105, -0.18242040636309756, -0.13167562628701832, -0.45993010443458127, 1.4489894041582356, 1.3025355364861801, -2.304907937770138, 1.498108183577034, -0.1933216404740039, 0.017955891650826426, 0.02941761897076564, 0.7259168525208212, -1.014803690858671, -1.2133381258287046, -0.6124421282843443, 0.004000841975375483, -0.00037500875835609604, -0.6793837829972343, -0.21873345896770915, 1.700188146645526, 0.23733269933959658, 0.7314025171250657, -0.1462732746113538, -1.9581690855990108, 0.5053819027529176, 0.04906169237310281, 0.3618016405710469, -1.229574253546429, -0.32420421948521105], \"yaxis\": \"y14\"}, {\"line\": {\"color\": \"rgba(128, 128, 128, 1.0)\", \"dash\": \"solid\", \"shape\": \"linear\", \"width\": 1.3}, \"marker\": {\"size\": 2, \"symbol\": \"circle\"}, \"mode\": \"markers\", \"name\": \"D\", \"text\": \"\", \"type\": \"scatter\", \"x\": [0.3672318138838647, -2.1424667290773685, -0.28173626906561283, -2.4135030011737877, 0.3102722877837673, -0.3748046873026527, -0.4791570987860799, 1.208456328551963, 1.146900376399483, 0.8088443602656821, -1.1601701049822761, -0.8514556565308268, -0.5322340208981775, 1.0989963327471792, -0.625342001465988, 1.0449944096738975, 0.45015551276717897, 0.7774192052488628, -0.41893789767812306, 0.4511229387345986, -0.7673098263317347, 1.197830841721251, -0.10534471250754213, -1.5791562853944654, -1.1077125022845524, -0.7995474906917599, -0.5637887345823027, 1.693809113288081, 0.6933662256603845, 0.18103874435787085, 0.12837699015594436, 1.3062060651354486, 1.6209122856217475, -0.2889973430098159, -1.7879128911997157, -1.5657381506559054, -0.27584606256114336, -0.17763219598355098, -0.14319574500723764, -0.870008223190852, 1.3863142642463189, 0.6486436440906672, -0.45994283084068716, 0.14225137252631778, -0.1834001973200239, -1.1134361029729902, 1.7464350892279725, -0.5956678809102903, 0.03494358936374005, -0.466154856825928, -0.952062100706259, 0.35111689651096534, 0.33722093830845856, -1.9450469586120391, 0.8160436843240609, 1.167075165999964, 0.7980637952989431, -1.0807106924455065, -0.17961229465135792, -0.9157918490686792, -1.0971543602553622, -1.8988120593192948, 1.4236144293489872, -0.2828635516348445, -0.15699367249331792, -0.45611755514868535, -0.3290515493410809, -1.895266947476466, -0.8986831933186461, 0.15001627872780374, -1.1958615103244818, 0.4502177420378455, -0.9268719392086243, -0.26837130412057664, -1.181103172771823, -0.05936790254849916, -1.3486964467972422, -0.5924612851532695, 0.28807816700515054, 0.3122386890129999, -0.5039739491423175, 0.10803081731234535, 0.9662208625783415, -0.37951751553387963, -2.698361741666047, -1.5569415578650314, 0.5311637934562251, 1.5365363280210986, 0.5900394641608302, -0.04586668606976747, -1.0903383324548148, 0.4972690986459772, -0.017454951836177974, 1.0334508032642373, 0.542645294566316, -0.3592240957107388, -0.806178211953457, -2.0863905654565262, 1.1022367325853422, 0.7255505180787332], \"xaxis\": \"x15\", \"y\": [1.2328991923762371, -0.830168864022708, 2.0563555231982935, -1.7775663758059874, -2.094247816222812, -0.7499696172756662, 0.3501671588282789, 1.1157018027844863, -0.04970257915867584, 1.7897546832062712, 1.350106818681726, 1.000881423680301, 1.1181333967176956, -0.901634490475998, -0.5938430672545096, 0.6085146984848496, 1.7653351005190716, -0.11877117210308928, -0.47918491512740585, -0.6949209011852391, 0.6745707069560037, 1.7045941713724069, 0.630195670684911, -0.8286279788564058, -0.01771831791014226, -0.2915945955008327, 0.08968640732259017, 0.19686977925029145, -0.7580673285562323, 1.1071754509490623, 1.7604151835753223, -0.604602969164376, -0.8061848173822241, -0.3918162398080484, 0.36184731583956825, 1.0138224669717055, 1.2289555856506973, -1.5104563750875688, 1.0329837789497511, 0.36919046954687373, 0.5481295846881931, 0.10734329382358966, 0.6443536660303223, 0.5135054799885475, 1.1010002026684818, -0.06741002494685439, -0.7750702870734348, -0.30912131864186215, 1.4539175816088175, 1.3849913436486387, -0.5181455523987548, -0.06877046307863847, 1.0080654330757632, -0.9154243682317061, -0.6124069731288238, -0.03966870009048212, -0.10193203926360005, 0.7254740044815357, 0.5017251093451655, -0.40725204301996576, 0.8386347472283774, -1.1171106924391125, 0.9039991740035269, -0.2663268843187201, -1.3352027230151915, -0.9798902516618007, 1.3471054646704976, 0.08972911744465112, 0.3196569419445935, 0.4635343217316655, 2.505980285318673, 0.6274370827531105, -0.18242040636309756, -0.13167562628701832, -0.45993010443458127, 1.4489894041582356, 1.3025355364861801, -2.304907937770138, 1.498108183577034, -0.1933216404740039, 0.017955891650826426, 0.02941761897076564, 0.7259168525208212, -1.014803690858671, -1.2133381258287046, -0.6124421282843443, 0.004000841975375483, -0.00037500875835609604, -0.6793837829972343, -0.21873345896770915, 1.700188146645526, 0.23733269933959658, 0.7314025171250657, -0.1462732746113538, -1.9581690855990108, 0.5053819027529176, 0.04906169237310281, 0.3618016405710469, -1.229574253546429, -0.32420421948521105], \"yaxis\": \"y15\"}, {\"histfunc\": \"count\", \"histnorm\": \"\", \"marker\": {\"color\": \"rgba(128, 0, 128, 1.0)\", \"line\": {\"color\": \"#4D5663\", \"width\": 1.3}}, \"name\": \"D\", \"nbinsx\": 10, \"opacity\": 0.8, \"orientation\": \"v\", \"type\": \"histogram\", \"x\": [1.2328991923762371, -0.830168864022708, 2.0563555231982935, -1.7775663758059874, -2.094247816222812, -0.7499696172756662, 0.3501671588282789, 1.1157018027844863, -0.04970257915867584, 1.7897546832062712, 1.350106818681726, 1.000881423680301, 1.1181333967176956, -0.901634490475998, -0.5938430672545096, 0.6085146984848496, 1.7653351005190716, -0.11877117210308928, -0.47918491512740585, -0.6949209011852391, 0.6745707069560037, 1.7045941713724069, 0.630195670684911, -0.8286279788564058, -0.01771831791014226, -0.2915945955008327, 0.08968640732259017, 0.19686977925029145, -0.7580673285562323, 1.1071754509490623, 1.7604151835753223, -0.604602969164376, -0.8061848173822241, -0.3918162398080484, 0.36184731583956825, 1.0138224669717055, 1.2289555856506973, -1.5104563750875688, 1.0329837789497511, 0.36919046954687373, 0.5481295846881931, 0.10734329382358966, 0.6443536660303223, 0.5135054799885475, 1.1010002026684818, -0.06741002494685439, -0.7750702870734348, -0.30912131864186215, 1.4539175816088175, 1.3849913436486387, -0.5181455523987548, -0.06877046307863847, 1.0080654330757632, -0.9154243682317061, -0.6124069731288238, -0.03966870009048212, -0.10193203926360005, 0.7254740044815357, 0.5017251093451655, -0.40725204301996576, 0.8386347472283774, -1.1171106924391125, 0.9039991740035269, -0.2663268843187201, -1.3352027230151915, -0.9798902516618007, 1.3471054646704976, 0.08972911744465112, 0.3196569419445935, 0.4635343217316655, 2.505980285318673, 0.6274370827531105, -0.18242040636309756, -0.13167562628701832, -0.45993010443458127, 1.4489894041582356, 1.3025355364861801, -2.304907937770138, 1.498108183577034, -0.1933216404740039, 0.017955891650826426, 0.02941761897076564, 0.7259168525208212, -1.014803690858671, -1.2133381258287046, -0.6124421282843443, 0.004000841975375483, -0.00037500875835609604, -0.6793837829972343, -0.21873345896770915, 1.700188146645526, 0.23733269933959658, 0.7314025171250657, -0.1462732746113538, -1.9581690855990108, 0.5053819027529176, 0.04906169237310281, 0.3618016405710469, -1.229574253546429, -0.32420421948521105], \"xaxis\": \"x16\", \"yaxis\": \"y16\"}],                        {\"bargap\": 0.02, \"legend\": {\"bgcolor\": \"#F5F6F9\", \"font\": {\"color\": \"#4D5663\"}}, \"paper_bgcolor\": \"#F5F6F9\", \"plot_bgcolor\": \"#F5F6F9\", \"showlegend\": false, \"template\": {\"data\": {\"bar\": [{\"error_x\": {\"color\": \"#2a3f5f\"}, \"error_y\": {\"color\": \"#2a3f5f\"}, \"marker\": {\"line\": {\"color\": \"#E5ECF6\", \"width\": 0.5}}, \"type\": \"bar\"}], \"barpolar\": [{\"marker\": {\"line\": {\"color\": \"#E5ECF6\", \"width\": 0.5}}, \"type\": \"barpolar\"}], \"carpet\": [{\"aaxis\": {\"endlinecolor\": \"#2a3f5f\", \"gridcolor\": \"white\", \"linecolor\": \"white\", \"minorgridcolor\": \"white\", \"startlinecolor\": \"#2a3f5f\"}, \"baxis\": {\"endlinecolor\": \"#2a3f5f\", \"gridcolor\": \"white\", \"linecolor\": \"white\", \"minorgridcolor\": \"white\", \"startlinecolor\": \"#2a3f5f\"}, \"type\": \"carpet\"}], \"choropleth\": [{\"colorbar\": {\"outlinewidth\": 0, \"ticks\": \"\"}, \"type\": \"choropleth\"}], \"contour\": [{\"colorbar\": {\"outlinewidth\": 0, \"ticks\": \"\"}, \"colorscale\": [[0.0, \"#0d0887\"], [0.1111111111111111, \"#46039f\"], [0.2222222222222222, \"#7201a8\"], [0.3333333333333333, \"#9c179e\"], [0.4444444444444444, \"#bd3786\"], [0.5555555555555556, \"#d8576b\"], [0.6666666666666666, \"#ed7953\"], [0.7777777777777778, \"#fb9f3a\"], [0.8888888888888888, \"#fdca26\"], [1.0, \"#f0f921\"]], \"type\": \"contour\"}], \"contourcarpet\": [{\"colorbar\": {\"outlinewidth\": 0, \"ticks\": \"\"}, \"type\": \"contourcarpet\"}], \"heatmap\": [{\"colorbar\": {\"outlinewidth\": 0, \"ticks\": \"\"}, \"colorscale\": [[0.0, \"#0d0887\"], [0.1111111111111111, \"#46039f\"], [0.2222222222222222, \"#7201a8\"], [0.3333333333333333, \"#9c179e\"], [0.4444444444444444, \"#bd3786\"], [0.5555555555555556, \"#d8576b\"], [0.6666666666666666, \"#ed7953\"], [0.7777777777777778, \"#fb9f3a\"], [0.8888888888888888, \"#fdca26\"], [1.0, \"#f0f921\"]], \"type\": \"heatmap\"}], \"heatmapgl\": [{\"colorbar\": {\"outlinewidth\": 0, \"ticks\": \"\"}, \"colorscale\": [[0.0, \"#0d0887\"], [0.1111111111111111, \"#46039f\"], [0.2222222222222222, \"#7201a8\"], [0.3333333333333333, \"#9c179e\"], [0.4444444444444444, \"#bd3786\"], [0.5555555555555556, \"#d8576b\"], [0.6666666666666666, \"#ed7953\"], [0.7777777777777778, \"#fb9f3a\"], [0.8888888888888888, \"#fdca26\"], [1.0, \"#f0f921\"]], \"type\": \"heatmapgl\"}], \"histogram\": [{\"marker\": {\"colorbar\": {\"outlinewidth\": 0, \"ticks\": \"\"}}, \"type\": \"histogram\"}], \"histogram2d\": [{\"colorbar\": {\"outlinewidth\": 0, \"ticks\": \"\"}, \"colorscale\": [[0.0, \"#0d0887\"], [0.1111111111111111, \"#46039f\"], [0.2222222222222222, \"#7201a8\"], [0.3333333333333333, \"#9c179e\"], [0.4444444444444444, \"#bd3786\"], [0.5555555555555556, \"#d8576b\"], [0.6666666666666666, \"#ed7953\"], [0.7777777777777778, \"#fb9f3a\"], [0.8888888888888888, \"#fdca26\"], [1.0, \"#f0f921\"]], \"type\": \"histogram2d\"}], \"histogram2dcontour\": [{\"colorbar\": {\"outlinewidth\": 0, \"ticks\": \"\"}, \"colorscale\": [[0.0, \"#0d0887\"], [0.1111111111111111, \"#46039f\"], [0.2222222222222222, \"#7201a8\"], [0.3333333333333333, \"#9c179e\"], [0.4444444444444444, \"#bd3786\"], [0.5555555555555556, \"#d8576b\"], [0.6666666666666666, \"#ed7953\"], [0.7777777777777778, \"#fb9f3a\"], [0.8888888888888888, \"#fdca26\"], [1.0, \"#f0f921\"]], \"type\": \"histogram2dcontour\"}], \"mesh3d\": [{\"colorbar\": {\"outlinewidth\": 0, \"ticks\": \"\"}, \"type\": \"mesh3d\"}], \"parcoords\": [{\"line\": {\"colorbar\": {\"outlinewidth\": 0, \"ticks\": \"\"}}, \"type\": \"parcoords\"}], \"pie\": [{\"automargin\": true, \"type\": \"pie\"}], \"scatter\": [{\"marker\": {\"colorbar\": {\"outlinewidth\": 0, \"ticks\": \"\"}}, \"type\": \"scatter\"}], \"scatter3d\": [{\"line\": {\"colorbar\": {\"outlinewidth\": 0, \"ticks\": \"\"}}, \"marker\": {\"colorbar\": {\"outlinewidth\": 0, \"ticks\": \"\"}}, \"type\": \"scatter3d\"}], \"scattercarpet\": [{\"marker\": {\"colorbar\": {\"outlinewidth\": 0, \"ticks\": \"\"}}, \"type\": \"scattercarpet\"}], \"scattergeo\": [{\"marker\": {\"colorbar\": {\"outlinewidth\": 0, \"ticks\": \"\"}}, \"type\": \"scattergeo\"}], \"scattergl\": [{\"marker\": {\"colorbar\": {\"outlinewidth\": 0, \"ticks\": \"\"}}, \"type\": \"scattergl\"}], \"scattermapbox\": [{\"marker\": {\"colorbar\": {\"outlinewidth\": 0, \"ticks\": \"\"}}, \"type\": \"scattermapbox\"}], \"scatterpolar\": [{\"marker\": {\"colorbar\": {\"outlinewidth\": 0, \"ticks\": \"\"}}, \"type\": \"scatterpolar\"}], \"scatterpolargl\": [{\"marker\": {\"colorbar\": {\"outlinewidth\": 0, \"ticks\": \"\"}}, \"type\": \"scatterpolargl\"}], \"scatterternary\": [{\"marker\": {\"colorbar\": {\"outlinewidth\": 0, \"ticks\": \"\"}}, \"type\": \"scatterternary\"}], \"surface\": [{\"colorbar\": {\"outlinewidth\": 0, \"ticks\": \"\"}, \"colorscale\": [[0.0, \"#0d0887\"], [0.1111111111111111, \"#46039f\"], [0.2222222222222222, \"#7201a8\"], [0.3333333333333333, \"#9c179e\"], [0.4444444444444444, \"#bd3786\"], [0.5555555555555556, \"#d8576b\"], [0.6666666666666666, \"#ed7953\"], [0.7777777777777778, \"#fb9f3a\"], [0.8888888888888888, \"#fdca26\"], [1.0, \"#f0f921\"]], \"type\": \"surface\"}], \"table\": [{\"cells\": {\"fill\": {\"color\": \"#EBF0F8\"}, \"line\": {\"color\": \"white\"}}, \"header\": {\"fill\": {\"color\": \"#C8D4E3\"}, \"line\": {\"color\": \"white\"}}, \"type\": \"table\"}]}, \"layout\": {\"annotationdefaults\": {\"arrowcolor\": \"#2a3f5f\", \"arrowhead\": 0, \"arrowwidth\": 1}, \"autotypenumbers\": \"strict\", \"coloraxis\": {\"colorbar\": {\"outlinewidth\": 0, \"ticks\": \"\"}}, \"colorscale\": {\"diverging\": [[0, \"#8e0152\"], [0.1, \"#c51b7d\"], [0.2, \"#de77ae\"], [0.3, \"#f1b6da\"], [0.4, \"#fde0ef\"], [0.5, \"#f7f7f7\"], [0.6, \"#e6f5d0\"], [0.7, \"#b8e186\"], [0.8, \"#7fbc41\"], [0.9, \"#4d9221\"], [1, \"#276419\"]], \"sequential\": [[0.0, \"#0d0887\"], [0.1111111111111111, \"#46039f\"], [0.2222222222222222, \"#7201a8\"], [0.3333333333333333, \"#9c179e\"], [0.4444444444444444, \"#bd3786\"], [0.5555555555555556, \"#d8576b\"], [0.6666666666666666, \"#ed7953\"], [0.7777777777777778, \"#fb9f3a\"], [0.8888888888888888, \"#fdca26\"], [1.0, \"#f0f921\"]], \"sequentialminus\": [[0.0, \"#0d0887\"], [0.1111111111111111, \"#46039f\"], [0.2222222222222222, \"#7201a8\"], [0.3333333333333333, \"#9c179e\"], [0.4444444444444444, \"#bd3786\"], [0.5555555555555556, \"#d8576b\"], [0.6666666666666666, \"#ed7953\"], [0.7777777777777778, \"#fb9f3a\"], [0.8888888888888888, \"#fdca26\"], [1.0, \"#f0f921\"]]}, \"colorway\": [\"#636efa\", \"#EF553B\", \"#00cc96\", \"#ab63fa\", \"#FFA15A\", \"#19d3f3\", \"#FF6692\", \"#B6E880\", \"#FF97FF\", \"#FECB52\"], \"font\": {\"color\": \"#2a3f5f\"}, \"geo\": {\"bgcolor\": \"white\", \"lakecolor\": \"white\", \"landcolor\": \"#E5ECF6\", \"showlakes\": true, \"showland\": true, \"subunitcolor\": \"white\"}, \"hoverlabel\": {\"align\": \"left\"}, \"hovermode\": \"closest\", \"mapbox\": {\"style\": \"light\"}, \"paper_bgcolor\": \"white\", \"plot_bgcolor\": \"#E5ECF6\", \"polar\": {\"angularaxis\": {\"gridcolor\": \"white\", \"linecolor\": \"white\", \"ticks\": \"\"}, \"bgcolor\": \"#E5ECF6\", \"radialaxis\": {\"gridcolor\": \"white\", \"linecolor\": \"white\", \"ticks\": \"\"}}, \"scene\": {\"xaxis\": {\"backgroundcolor\": \"#E5ECF6\", \"gridcolor\": \"white\", \"gridwidth\": 2, \"linecolor\": \"white\", \"showbackground\": true, \"ticks\": \"\", \"zerolinecolor\": \"white\"}, \"yaxis\": {\"backgroundcolor\": \"#E5ECF6\", \"gridcolor\": \"white\", \"gridwidth\": 2, \"linecolor\": \"white\", \"showbackground\": true, \"ticks\": \"\", \"zerolinecolor\": \"white\"}, \"zaxis\": {\"backgroundcolor\": \"#E5ECF6\", \"gridcolor\": \"white\", \"gridwidth\": 2, \"linecolor\": \"white\", \"showbackground\": true, \"ticks\": \"\", \"zerolinecolor\": \"white\"}}, \"shapedefaults\": {\"line\": {\"color\": \"#2a3f5f\"}}, \"ternary\": {\"aaxis\": {\"gridcolor\": \"white\", \"linecolor\": \"white\", \"ticks\": \"\"}, \"baxis\": {\"gridcolor\": \"white\", \"linecolor\": \"white\", \"ticks\": \"\"}, \"bgcolor\": \"#E5ECF6\", \"caxis\": {\"gridcolor\": \"white\", \"linecolor\": \"white\", \"ticks\": \"\"}}, \"title\": {\"x\": 0.05}, \"xaxis\": {\"automargin\": true, \"gridcolor\": \"white\", \"linecolor\": \"white\", \"ticks\": \"\", \"title\": {\"standoff\": 15}, \"zerolinecolor\": \"white\", \"zerolinewidth\": 2}, \"yaxis\": {\"automargin\": true, \"gridcolor\": \"white\", \"linecolor\": \"white\", \"ticks\": \"\", \"title\": {\"standoff\": 15}, \"zerolinecolor\": \"white\", \"zerolinewidth\": 2}}}, \"title\": {\"font\": {\"color\": \"#4D5663\"}}, \"xaxis\": {\"anchor\": \"y\", \"domain\": [0.0, 0.2125], \"gridcolor\": \"#E1E5ED\", \"showgrid\": false, \"tickfont\": {\"color\": \"#4D5663\"}, \"title\": {\"font\": {\"color\": \"#4D5663\"}, \"text\": \"\"}, \"zerolinecolor\": \"#E1E5ED\"}, \"xaxis10\": {\"anchor\": \"y10\", \"domain\": [0.2625, 0.475], \"gridcolor\": \"#E1E5ED\", \"showgrid\": false, \"tickfont\": {\"color\": \"#4D5663\"}, \"title\": {\"font\": {\"color\": \"#4D5663\"}, \"text\": \"\"}, \"zerolinecolor\": \"#E1E5ED\"}, \"xaxis11\": {\"anchor\": \"y11\", \"domain\": [0.525, 0.7375], \"gridcolor\": \"#E1E5ED\", \"showgrid\": false, \"tickfont\": {\"color\": \"#4D5663\"}, \"title\": {\"font\": {\"color\": \"#4D5663\"}, \"text\": \"\"}, \"zerolinecolor\": \"#E1E5ED\"}, \"xaxis12\": {\"anchor\": \"y12\", \"domain\": [0.7875, 1.0], \"gridcolor\": \"#E1E5ED\", \"showgrid\": false, \"tickfont\": {\"color\": \"#4D5663\"}, \"title\": {\"font\": {\"color\": \"#4D5663\"}, \"text\": \"\"}, \"zerolinecolor\": \"#E1E5ED\"}, \"xaxis13\": {\"anchor\": \"y13\", \"domain\": [0.0, 0.2125], \"gridcolor\": \"#E1E5ED\", \"showgrid\": false, \"tickfont\": {\"color\": \"#4D5663\"}, \"title\": {\"font\": {\"color\": \"#4D5663\"}, \"text\": \"\"}, \"zerolinecolor\": \"#E1E5ED\"}, \"xaxis14\": {\"anchor\": \"y14\", \"domain\": [0.2625, 0.475], \"gridcolor\": \"#E1E5ED\", \"showgrid\": false, \"tickfont\": {\"color\": \"#4D5663\"}, \"title\": {\"font\": {\"color\": \"#4D5663\"}, \"text\": \"\"}, \"zerolinecolor\": \"#E1E5ED\"}, \"xaxis15\": {\"anchor\": \"y15\", \"domain\": [0.525, 0.7375], \"gridcolor\": \"#E1E5ED\", \"showgrid\": false, \"tickfont\": {\"color\": \"#4D5663\"}, \"title\": {\"font\": {\"color\": \"#4D5663\"}, \"text\": \"\"}, \"zerolinecolor\": \"#E1E5ED\"}, \"xaxis16\": {\"anchor\": \"y16\", \"domain\": [0.7875, 1.0], \"gridcolor\": \"#E1E5ED\", \"showgrid\": false, \"tickfont\": {\"color\": \"#4D5663\"}, \"title\": {\"font\": {\"color\": \"#4D5663\"}, \"text\": \"\"}, \"zerolinecolor\": \"#E1E5ED\"}, \"xaxis2\": {\"anchor\": \"y2\", \"domain\": [0.2625, 0.475], \"gridcolor\": \"#E1E5ED\", \"showgrid\": false, \"tickfont\": {\"color\": \"#4D5663\"}, \"title\": {\"font\": {\"color\": \"#4D5663\"}, \"text\": \"\"}, \"zerolinecolor\": \"#E1E5ED\"}, \"xaxis3\": {\"anchor\": \"y3\", \"domain\": [0.525, 0.7375], \"gridcolor\": \"#E1E5ED\", \"showgrid\": false, \"tickfont\": {\"color\": \"#4D5663\"}, \"title\": {\"font\": {\"color\": \"#4D5663\"}, \"text\": \"\"}, \"zerolinecolor\": \"#E1E5ED\"}, \"xaxis4\": {\"anchor\": \"y4\", \"domain\": [0.7875, 1.0], \"gridcolor\": \"#E1E5ED\", \"showgrid\": false, \"tickfont\": {\"color\": \"#4D5663\"}, \"title\": {\"font\": {\"color\": \"#4D5663\"}, \"text\": \"\"}, \"zerolinecolor\": \"#E1E5ED\"}, \"xaxis5\": {\"anchor\": \"y5\", \"domain\": [0.0, 0.2125], \"gridcolor\": \"#E1E5ED\", \"showgrid\": false, \"tickfont\": {\"color\": \"#4D5663\"}, \"title\": {\"font\": {\"color\": \"#4D5663\"}, \"text\": \"\"}, \"zerolinecolor\": \"#E1E5ED\"}, \"xaxis6\": {\"anchor\": \"y6\", \"domain\": [0.2625, 0.475], \"gridcolor\": \"#E1E5ED\", \"showgrid\": false, \"tickfont\": {\"color\": \"#4D5663\"}, \"title\": {\"font\": {\"color\": \"#4D5663\"}, \"text\": \"\"}, \"zerolinecolor\": \"#E1E5ED\"}, \"xaxis7\": {\"anchor\": \"y7\", \"domain\": [0.525, 0.7375], \"gridcolor\": \"#E1E5ED\", \"showgrid\": false, \"tickfont\": {\"color\": \"#4D5663\"}, \"title\": {\"font\": {\"color\": \"#4D5663\"}, \"text\": \"\"}, \"zerolinecolor\": \"#E1E5ED\"}, \"xaxis8\": {\"anchor\": \"y8\", \"domain\": [0.7875, 1.0], \"gridcolor\": \"#E1E5ED\", \"showgrid\": false, \"tickfont\": {\"color\": \"#4D5663\"}, \"title\": {\"font\": {\"color\": \"#4D5663\"}, \"text\": \"\"}, \"zerolinecolor\": \"#E1E5ED\"}, \"xaxis9\": {\"anchor\": \"y9\", \"domain\": [0.0, 0.2125], \"gridcolor\": \"#E1E5ED\", \"showgrid\": false, \"tickfont\": {\"color\": \"#4D5663\"}, \"title\": {\"font\": {\"color\": \"#4D5663\"}, \"text\": \"\"}, \"zerolinecolor\": \"#E1E5ED\"}, \"yaxis\": {\"anchor\": \"x\", \"domain\": [0.8025, 1.0], \"gridcolor\": \"#E1E5ED\", \"showgrid\": false, \"tickfont\": {\"color\": \"#4D5663\"}, \"title\": {\"font\": {\"color\": \"#4D5663\"}, \"text\": \"\"}, \"zerolinecolor\": \"#E1E5ED\"}, \"yaxis10\": {\"anchor\": \"x10\", \"domain\": [0.2675, 0.465], \"gridcolor\": \"#E1E5ED\", \"showgrid\": false, \"tickfont\": {\"color\": \"#4D5663\"}, \"title\": {\"font\": {\"color\": \"#4D5663\"}, \"text\": \"\"}, \"zerolinecolor\": \"#E1E5ED\"}, \"yaxis11\": {\"anchor\": \"x11\", \"domain\": [0.2675, 0.465], \"gridcolor\": \"#E1E5ED\", \"showgrid\": false, \"tickfont\": {\"color\": \"#4D5663\"}, \"title\": {\"font\": {\"color\": \"#4D5663\"}, \"text\": \"\"}, \"zerolinecolor\": \"#E1E5ED\"}, \"yaxis12\": {\"anchor\": \"x12\", \"domain\": [0.2675, 0.465], \"gridcolor\": \"#E1E5ED\", \"showgrid\": false, \"tickfont\": {\"color\": \"#4D5663\"}, \"title\": {\"font\": {\"color\": \"#4D5663\"}, \"text\": \"\"}, \"zerolinecolor\": \"#E1E5ED\"}, \"yaxis13\": {\"anchor\": \"x13\", \"domain\": [0.0, 0.1975], \"gridcolor\": \"#E1E5ED\", \"showgrid\": false, \"tickfont\": {\"color\": \"#4D5663\"}, \"title\": {\"font\": {\"color\": \"#4D5663\"}, \"text\": \"\"}, \"zerolinecolor\": \"#E1E5ED\"}, \"yaxis14\": {\"anchor\": \"x14\", \"domain\": [0.0, 0.1975], \"gridcolor\": \"#E1E5ED\", \"showgrid\": false, \"tickfont\": {\"color\": \"#4D5663\"}, \"title\": {\"font\": {\"color\": \"#4D5663\"}, \"text\": \"\"}, \"zerolinecolor\": \"#E1E5ED\"}, \"yaxis15\": {\"anchor\": \"x15\", \"domain\": [0.0, 0.1975], \"gridcolor\": \"#E1E5ED\", \"showgrid\": false, \"tickfont\": {\"color\": \"#4D5663\"}, \"title\": {\"font\": {\"color\": \"#4D5663\"}, \"text\": \"\"}, \"zerolinecolor\": \"#E1E5ED\"}, \"yaxis16\": {\"anchor\": \"x16\", \"domain\": [0.0, 0.1975], \"gridcolor\": \"#E1E5ED\", \"showgrid\": false, \"tickfont\": {\"color\": \"#4D5663\"}, \"title\": {\"font\": {\"color\": \"#4D5663\"}, \"text\": \"\"}, \"zerolinecolor\": \"#E1E5ED\"}, \"yaxis2\": {\"anchor\": \"x2\", \"domain\": [0.8025, 1.0], \"gridcolor\": \"#E1E5ED\", \"showgrid\": false, \"tickfont\": {\"color\": \"#4D5663\"}, \"title\": {\"font\": {\"color\": \"#4D5663\"}, \"text\": \"\"}, \"zerolinecolor\": \"#E1E5ED\"}, \"yaxis3\": {\"anchor\": \"x3\", \"domain\": [0.8025, 1.0], \"gridcolor\": \"#E1E5ED\", \"showgrid\": false, \"tickfont\": {\"color\": \"#4D5663\"}, \"title\": {\"font\": {\"color\": \"#4D5663\"}, \"text\": \"\"}, \"zerolinecolor\": \"#E1E5ED\"}, \"yaxis4\": {\"anchor\": \"x4\", \"domain\": [0.8025, 1.0], \"gridcolor\": \"#E1E5ED\", \"showgrid\": false, \"tickfont\": {\"color\": \"#4D5663\"}, \"title\": {\"font\": {\"color\": \"#4D5663\"}, \"text\": \"\"}, \"zerolinecolor\": \"#E1E5ED\"}, \"yaxis5\": {\"anchor\": \"x5\", \"domain\": [0.535, 0.7325], \"gridcolor\": \"#E1E5ED\", \"showgrid\": false, \"tickfont\": {\"color\": \"#4D5663\"}, \"title\": {\"font\": {\"color\": \"#4D5663\"}, \"text\": \"\"}, \"zerolinecolor\": \"#E1E5ED\"}, \"yaxis6\": {\"anchor\": \"x6\", \"domain\": [0.535, 0.7325], \"gridcolor\": \"#E1E5ED\", \"showgrid\": false, \"tickfont\": {\"color\": \"#4D5663\"}, \"title\": {\"font\": {\"color\": \"#4D5663\"}, \"text\": \"\"}, \"zerolinecolor\": \"#E1E5ED\"}, \"yaxis7\": {\"anchor\": \"x7\", \"domain\": [0.535, 0.7325], \"gridcolor\": \"#E1E5ED\", \"showgrid\": false, \"tickfont\": {\"color\": \"#4D5663\"}, \"title\": {\"font\": {\"color\": \"#4D5663\"}, \"text\": \"\"}, \"zerolinecolor\": \"#E1E5ED\"}, \"yaxis8\": {\"anchor\": \"x8\", \"domain\": [0.535, 0.7325], \"gridcolor\": \"#E1E5ED\", \"showgrid\": false, \"tickfont\": {\"color\": \"#4D5663\"}, \"title\": {\"font\": {\"color\": \"#4D5663\"}, \"text\": \"\"}, \"zerolinecolor\": \"#E1E5ED\"}, \"yaxis9\": {\"anchor\": \"x9\", \"domain\": [0.2675, 0.465], \"gridcolor\": \"#E1E5ED\", \"showgrid\": false, \"tickfont\": {\"color\": \"#4D5663\"}, \"title\": {\"font\": {\"color\": \"#4D5663\"}, \"text\": \"\"}, \"zerolinecolor\": \"#E1E5ED\"}},                        {\"showLink\": true, \"linkText\": \"Export to plot.ly\", \"plotlyServerURL\": \"https://plot.ly\", \"responsive\": true}                    ).then(function(){\n",
       "                            \n",
       "var gd = document.getElementById('b3281cee-04c6-441d-96e6-8102418a5b00');\n",
       "var x = new MutationObserver(function (mutations, observer) {{\n",
       "        var display = window.getComputedStyle(gd).display;\n",
       "        if (!display || display === 'none') {{\n",
       "            console.log([gd, 'removed!']);\n",
       "            Plotly.purge(gd);\n",
       "            observer.disconnect();\n",
       "        }}\n",
       "}});\n",
       "\n",
       "// Listen for the removal of the full notebook cells\n",
       "var notebookContainer = gd.closest('#notebook-container');\n",
       "if (notebookContainer) {{\n",
       "    x.observe(notebookContainer, {childList: true});\n",
       "}}\n",
       "\n",
       "// Listen for the clearing of the current output cell\n",
       "var outputEl = gd.closest('.output');\n",
       "if (outputEl) {{\n",
       "    x.observe(outputEl, {childList: true});\n",
       "}}\n",
       "\n",
       "                        })                };                });            </script>        </div>"
      ]
     },
     "metadata": {},
     "output_type": "display_data"
    }
   ],
   "source": [
    "df.scatter_matrix()"
   ]
  },
  {
   "cell_type": "markdown",
   "metadata": {
    "collapsed": true
   },
   "source": [
    "# Great Job!"
   ]
  }
 ],
 "metadata": {
  "kernelspec": {
   "display_name": "Python [conda env:fastai20] *",
   "language": "python",
   "name": "conda-env-fastai20-py"
  },
  "language_info": {
   "codemirror_mode": {
    "name": "ipython",
    "version": 3
   },
   "file_extension": ".py",
   "mimetype": "text/x-python",
   "name": "python",
   "nbconvert_exporter": "python",
   "pygments_lexer": "ipython3",
   "version": "3.6.10"
  }
 },
 "nbformat": 4,
 "nbformat_minor": 1
}
