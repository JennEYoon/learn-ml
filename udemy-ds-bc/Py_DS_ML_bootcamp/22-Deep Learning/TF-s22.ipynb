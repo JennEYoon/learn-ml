{
 "cells": [
  {
   "cell_type": "markdown",
   "metadata": {},
   "source": [
    "### Tensorflow practice, Udemy-ds, section 25  \n",
    "Feb 25, 2021, with Janelia WCC  \n",
    "Jennifer Yoon "
   ]
  },
  {
   "cell_type": "code",
   "execution_count": 1,
   "metadata": {},
   "outputs": [
    {
     "name": "stdout",
     "output_type": "stream",
     "text": [
      "\r\n",
      "     active environment : dlpy\r\n",
      "    active env location : /home/jyoon/conda3/envs/dlpy\r\n",
      "            shell level : 2\r\n",
      "       user config file : /home/jyoon/.condarc\r\n",
      " populated config files : \r\n",
      "          conda version : 4.9.2\r\n",
      "    conda-build version : not installed\r\n",
      "         python version : 3.7.3.final.0\r\n",
      "       virtual packages : __glibc=2.27=0\r\n",
      "                          __unix=0=0\r\n",
      "                          __archspec=1=x86_64\r\n",
      "       base environment : /home/jyoon/conda3  (writable)\r\n",
      "           channel URLs : https://repo.anaconda.com/pkgs/main/linux-64\r\n",
      "                          https://repo.anaconda.com/pkgs/main/noarch\r\n",
      "                          https://repo.anaconda.com/pkgs/r/linux-64\r\n",
      "                          https://repo.anaconda.com/pkgs/r/noarch\r\n",
      "          package cache : /home/jyoon/conda3/pkgs\r\n",
      "                          /home/jyoon/.conda/pkgs\r\n",
      "       envs directories : /home/jyoon/conda3/envs\r\n",
      "                          /home/jyoon/.conda/envs\r\n",
      "               platform : linux-64\r\n",
      "             user-agent : conda/4.9.2 requests/2.25.1 CPython/3.7.3 Linux/4.4.0-18362-Microsoft ubuntu/18.04.1 glibc/2.27\r\n",
      "                UID:GID : 1000:1000\r\n",
      "             netrc file : None\r\n",
      "           offline mode : False\r\n",
      "\r\n"
     ]
    }
   ],
   "source": [
    "!conda info\n",
    "# Uses conda env dlpy (Ubuntu)"
   ]
  },
  {
   "cell_type": "code",
   "execution_count": 2,
   "metadata": {},
   "outputs": [
    {
     "name": "stdout",
     "output_type": "stream",
     "text": [
      "2.2.0\n"
     ]
    }
   ],
   "source": [
    "import tensorflow as tf\n",
    "print(tf.__version__)"
   ]
  },
  {
   "cell_type": "code",
   "execution_count": 3,
   "metadata": {},
   "outputs": [
    {
     "name": "stdout",
     "output_type": "stream",
     "text": [
      "2.3.1\n"
     ]
    },
    {
     "name": "stderr",
     "output_type": "stream",
     "text": [
      "Using TensorFlow backend.\n"
     ]
    }
   ],
   "source": [
    "import keras \n",
    "print(keras.__version__)"
   ]
  },
  {
   "cell_type": "markdown",
   "metadata": {},
   "source": [
    "### 1. 134 TF Syntax Basics  \n"
   ]
  },
  {
   "cell_type": "code",
   "execution_count": 4,
   "metadata": {},
   "outputs": [
    {
     "name": "stdout",
     "output_type": "stream",
     "text": [
      "<module 'pandas' from '/home/jyoon/conda3/envs/dlpy/lib/python3.8/site-packages/pandas/__init__.py'> <module 'numpy' from '/home/jyoon/conda3/envs/dlpy/lib/python3.8/site-packages/numpy/__init__.py'> <module 'seaborn' from '/home/jyoon/conda3/envs/dlpy/lib/python3.8/site-packages/seaborn/__init__.py'>\n"
     ]
    }
   ],
   "source": [
    "import pandas as pd\n",
    "import numpy as np \n",
    "import seaborn as sns\n",
    "print(pd, np, sns)"
   ]
  },
  {
   "cell_type": "code",
   "execution_count": 5,
   "metadata": {},
   "outputs": [],
   "source": [
    "# Change folder to new download, TF section.\n"
   ]
  },
  {
   "cell_type": "code",
   "execution_count": null,
   "metadata": {},
   "outputs": [],
   "source": []
  }
 ],
 "metadata": {
  "kernelspec": {
   "display_name": "Python 3.8.2 64-bit ('dlpy': conda)",
   "language": "python",
   "name": "python38264bitdlpycondaee83557e2f484524a67e008c475209c4"
  },
  "language_info": {
   "codemirror_mode": {
    "name": "ipython",
    "version": 3
   },
   "file_extension": ".py",
   "mimetype": "text/x-python",
   "name": "python",
   "nbconvert_exporter": "python",
   "pygments_lexer": "ipython3",
   "version": "3.8.2"
  }
 },
 "nbformat": 4,
 "nbformat_minor": 4
}
