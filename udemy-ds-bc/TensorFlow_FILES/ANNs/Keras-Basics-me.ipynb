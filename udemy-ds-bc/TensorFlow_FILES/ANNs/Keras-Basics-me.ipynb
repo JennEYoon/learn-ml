{
 "cells": [
  {
   "cell_type": "code",
   "execution_count": 2,
   "metadata": {},
   "outputs": [
    {
     "name": "stdout",
     "output_type": "stream",
     "text": [
      "# conda environments:\r\n",
      "#\r\n",
      "base                     /home/jyoon/conda3\r\n",
      "dlpy                  *  /home/jyoon/conda3/envs/dlpy\r\n",
      "fastai20                 /home/jyoon/conda3/envs/fastai20\r\n",
      "fluentpy                 /home/jyoon/conda3/envs/fluentpy\r\n",
      "pysal                    /home/jyoon/conda3/envs/pysal\r\n",
      "pysal2                   /home/jyoon/conda3/envs/pysal2\r\n",
      "\r\n"
     ]
    }
   ],
   "source": [
    "!conda env list"
   ]
  },
  {
   "cell_type": "code",
   "execution_count": 3,
   "metadata": {},
   "outputs": [
    {
     "name": "stdout",
     "output_type": "stream",
     "text": [
      "Python 3.8.2\r\n"
     ]
    }
   ],
   "source": [
    "!python --version"
   ]
  },
  {
   "cell_type": "code",
   "execution_count": 5,
   "metadata": {},
   "outputs": [
    {
     "name": "stdout",
     "output_type": "stream",
     "text": [
      "<module 'seaborn' from '/home/jyoon/conda3/envs/dlpy/lib/python3.8/site-packages/seaborn/__init__.py'> <module 'tensorflow' from '/home/jyoon/conda3/envs/dlpy/lib/python3.8/site-packages/tensorflow/__init__.py'> <module 'keras' from '/home/jyoon/conda3/envs/dlpy/lib/python3.8/site-packages/keras/__init__.py'>\n"
     ]
    }
   ],
   "source": [
    "# import libraries for project \n",
    "import matplotlib.pyplot as plt \n",
    "import numpy as np\n",
    "import pandas as pd\n",
    "import seaborn as sns \n",
    "import tensorflow as tf\n",
    "import keras as k \n",
    "print(sns, tf, k)"
   ]
  },
  {
   "cell_type": "code",
   "execution_count": 18,
   "metadata": {},
   "outputs": [
    {
     "name": "stdout",
     "output_type": "stream",
     "text": [
      "['/mnt/c/python/repos/learn-coding/udemy-ds/TensorFlow_FILES/ANNs']\n",
      "/mnt/c/python/repos/learn-coding/udemy-ds/TensorFlow_FILES/ANNs\n"
     ]
    }
   ],
   "source": [
    "path = !pwd   \n",
    "#!pwd is on right-side, value is assigned to left-side variable.  \n",
    "print(path)\n",
    "print(*path)\n",
    "# * inside ( ) performs unpacking, remove list wrapper"
   ]
  },
  {
   "cell_type": "code",
   "execution_count": 22,
   "metadata": {},
   "outputs": [
    {
     "data": {
      "text/html": [
       "<div>\n",
       "<style scoped>\n",
       "    .dataframe tbody tr th:only-of-type {\n",
       "        vertical-align: middle;\n",
       "    }\n",
       "\n",
       "    .dataframe tbody tr th {\n",
       "        vertical-align: top;\n",
       "    }\n",
       "\n",
       "    .dataframe thead th {\n",
       "        text-align: right;\n",
       "    }\n",
       "</style>\n",
       "<table border=\"1\" class=\"dataframe\">\n",
       "  <thead>\n",
       "    <tr style=\"text-align: right;\">\n",
       "      <th></th>\n",
       "      <th>price</th>\n",
       "      <th>feature1</th>\n",
       "      <th>feature2</th>\n",
       "    </tr>\n",
       "  </thead>\n",
       "  <tbody>\n",
       "    <tr>\n",
       "      <th>0</th>\n",
       "      <td>461.527929</td>\n",
       "      <td>999.787558</td>\n",
       "      <td>999.766096</td>\n",
       "    </tr>\n",
       "    <tr>\n",
       "      <th>1</th>\n",
       "      <td>548.130011</td>\n",
       "      <td>998.861615</td>\n",
       "      <td>1001.042403</td>\n",
       "    </tr>\n",
       "    <tr>\n",
       "      <th>2</th>\n",
       "      <td>410.297162</td>\n",
       "      <td>1000.070267</td>\n",
       "      <td>998.844015</td>\n",
       "    </tr>\n",
       "    <tr>\n",
       "      <th>3</th>\n",
       "      <td>540.382220</td>\n",
       "      <td>999.952251</td>\n",
       "      <td>1000.440940</td>\n",
       "    </tr>\n",
       "    <tr>\n",
       "      <th>4</th>\n",
       "      <td>546.024553</td>\n",
       "      <td>1000.446011</td>\n",
       "      <td>1000.338531</td>\n",
       "    </tr>\n",
       "  </tbody>\n",
       "</table>\n",
       "</div>"
      ],
      "text/plain": [
       "        price     feature1     feature2\n",
       "0  461.527929   999.787558   999.766096\n",
       "1  548.130011   998.861615  1001.042403\n",
       "2  410.297162  1000.070267   998.844015\n",
       "3  540.382220   999.952251  1000.440940\n",
       "4  546.024553  1000.446011  1000.338531"
      ]
     },
     "execution_count": 22,
     "metadata": {},
     "output_type": "execute_result"
    }
   ],
   "source": [
    "# read fake re date, parent, DATA folder \n",
    "root = '/mnt/c/python/repos/learn-coding/udemy-ds/TensorFlow_FILES/DATA/'\n",
    "fn = 'fake_reg.csv'\n",
    "readfn = root + fn\n",
    "# print(readfn)\n",
    "# type(readfn)  ## string type \n",
    "df = pd.read_csv(readfn)\n",
    "df.head(5)"
   ]
  },
  {
   "cell_type": "code",
   "execution_count": 35,
   "metadata": {},
   "outputs": [
    {
     "name": "stdout",
     "output_type": "stream",
     "text": [
      "/mnt/c/python/repos/learn-coding/udemy-ds/TensorFlow_FILES\n",
      "/mnt/c/python/repos/learn-coding/udemy-ds/TensorFlow_FILES\n",
      "Hello testing!\n",
      "\n"
     ]
    }
   ],
   "source": [
    "#%cd ..  ## relative .. addr no good, when cell is run twice, goes up 2 levels!  \n",
    "%cd '/mnt/c/python/repos/learn-coding/udemy-ds/TensorFlow_FILES/'\n",
    "!pwd\n",
    "!echo \"Hello testing!\" > test1.txt\n",
    "with open('test1.txt', 'r') as f: \n",
    "    print(f.read())"
   ]
  },
  {
   "cell_type": "code",
   "execution_count": 36,
   "metadata": {},
   "outputs": [
    {
     "name": "stdout",
     "output_type": "stream",
     "text": [
      "/mnt/c/python/repos/learn-coding/udemy-ds/TensorFlow_FILES\n",
      "/mnt/c/python/repos/learn-coding/udemy-ds/TensorFlow_FILES\n",
      "Hello local dir\n",
      "\n"
     ]
    }
   ],
   "source": [
    "%cd '/mnt/c/python/repos/learn-coding/udemy-ds/TensorFlow_FILES/'\n",
    "!pwd\n",
    "!echo \"Hello local dir\" > \"test2.txt\"\n",
    "with open('test2.txt', 'r') as f: \n",
    "    print(f.read())"
   ]
  },
  {
   "cell_type": "code",
   "execution_count": 37,
   "metadata": {},
   "outputs": [
    {
     "name": "stdout",
     "output_type": "stream",
     "text": [
      "05-ANN-Artificial-Neural-Networks.pdf  DATA\t\t      test1.txt\r\n",
      "ANNs\t\t\t\t       Pierian_Data_Logo.png  test2.txt\r\n"
     ]
    }
   ],
   "source": [
    "!dir"
   ]
  },
  {
   "cell_type": "code",
   "execution_count": null,
   "metadata": {},
   "outputs": [],
   "source": []
  }
 ],
 "metadata": {
  "kernelspec": {
   "display_name": "Python 3.8.2 64-bit ('dlpy': conda)",
   "language": "python",
   "name": "python38264bitdlpycondaee83557e2f484524a67e008c475209c4"
  },
  "language_info": {
   "codemirror_mode": {
    "name": "ipython",
    "version": 3
   },
   "file_extension": ".py",
   "mimetype": "text/x-python",
   "name": "python",
   "nbconvert_exporter": "python",
   "pygments_lexer": "ipython3",
   "version": "3.8.2"
  }
 },
 "nbformat": 4,
 "nbformat_minor": 4
}
